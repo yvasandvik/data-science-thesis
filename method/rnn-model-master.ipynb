{
 "cells": [
  {
   "cell_type": "markdown",
   "id": "b8ed2dec",
   "metadata": {
    "papermill": {
     "duration": 0.025583,
     "end_time": "2022-04-26T14:32:58.645721",
     "exception": false,
     "start_time": "2022-04-26T14:32:58.620138",
     "status": "completed"
    },
    "tags": []
   },
   "source": [
    "# Best RNN model - amino acid sequences"
   ]
  },
  {
   "cell_type": "code",
   "execution_count": 1,
   "id": "2f25e32c",
   "metadata": {
    "execution": {
     "iopub.execute_input": "2022-04-26T14:32:58.700187Z",
     "iopub.status.busy": "2022-04-26T14:32:58.698708Z",
     "iopub.status.idle": "2022-04-26T14:33:03.576444Z",
     "shell.execute_reply": "2022-04-26T14:33:03.577676Z"
    },
    "papermill": {
     "duration": 4.907346,
     "end_time": "2022-04-26T14:33:03.578016",
     "exception": false,
     "start_time": "2022-04-26T14:32:58.670670",
     "status": "completed"
    },
    "tags": []
   },
   "outputs": [],
   "source": [
    "# Preprocessing and encoding variables\n",
    "import pandas as pd\n",
    "import numpy as np\n",
    "\n",
    "# Using Skicit-learn to split data into training and testing sets\n",
    "from sklearn import preprocessing\n",
    "from sklearn.preprocessing import LabelEncoder\n",
    "from sklearn.preprocessing import OneHotEncoder\n",
    "from sklearn.model_selection import train_test_split\n",
    "\n",
    "# For characterlevel one hot encoding or label encoding \n",
    "from tensorflow.keras.preprocessing.text import Tokenizer\n",
    "from tensorflow.keras.preprocessing import sequence\n",
    "\n",
    "# For creating the RNN model\n",
    "from tensorflow.keras.models import Sequential\n",
    "from tensorflow.keras.layers import Dense, Embedding, LSTM, Dropout, Activation\n",
    "import tensorflow.keras.utils as utils\n",
    "\n",
    "# For plotting\n",
    "import matplotlib.pyplot as plt\n",
    "import seaborn as sn\n",
    "\n",
    "# Tuning with keras tuner\n",
    "import tensorflow as tf\n",
    "from tensorflow import keras\n",
    "import keras_tuner as kt\n",
    "from keras_tuner import HyperModel\n",
    "from keras_tuner import HyperParameters\n",
    "\n",
    "# Confusion matrix\n",
    "from sklearn.metrics import confusion_matrix\n",
    "from sklearn.metrics import ConfusionMatrixDisplay"
   ]
  },
  {
   "cell_type": "code",
   "execution_count": 2,
   "id": "8ddfb30c",
   "metadata": {
    "execution": {
     "iopub.execute_input": "2022-04-26T14:33:03.671254Z",
     "iopub.status.busy": "2022-04-26T14:33:03.670434Z",
     "iopub.status.idle": "2022-04-26T14:33:03.736578Z",
     "shell.execute_reply": "2022-04-26T14:33:03.736978Z"
    },
    "papermill": {
     "duration": 0.114877,
     "end_time": "2022-04-26T14:33:03.737120",
     "exception": false,
     "start_time": "2022-04-26T14:33:03.622243",
     "status": "completed"
    },
    "tags": []
   },
   "outputs": [],
   "source": [
    "G = pd.read_csv('../input/genomes/G5_translated.csv').iloc[:, 1:]"
   ]
  },
  {
   "cell_type": "code",
   "execution_count": 3,
   "id": "ce17ab78",
   "metadata": {
    "execution": {
     "iopub.execute_input": "2022-04-26T14:33:03.793470Z",
     "iopub.status.busy": "2022-04-26T14:33:03.791818Z",
     "iopub.status.idle": "2022-04-26T14:33:03.795983Z",
     "shell.execute_reply": "2022-04-26T14:33:03.796337Z"
    },
    "papermill": {
     "duration": 0.034463,
     "end_time": "2022-04-26T14:33:03.796491",
     "exception": false,
     "start_time": "2022-04-26T14:33:03.762028",
     "status": "completed"
    },
    "tags": []
   },
   "outputs": [],
   "source": [
    "G = G.dropna()"
   ]
  },
  {
   "cell_type": "code",
   "execution_count": 4,
   "id": "e1258f15",
   "metadata": {
    "execution": {
     "iopub.execute_input": "2022-04-26T14:33:03.850243Z",
     "iopub.status.busy": "2022-04-26T14:33:03.848745Z",
     "iopub.status.idle": "2022-04-26T14:33:03.850881Z",
     "shell.execute_reply": "2022-04-26T14:33:03.851266Z"
    },
    "papermill": {
     "duration": 0.030304,
     "end_time": "2022-04-26T14:33:03.851379",
     "exception": false,
     "start_time": "2022-04-26T14:33:03.821075",
     "status": "completed"
    },
    "tags": []
   },
   "outputs": [],
   "source": [
    "#G.shape"
   ]
  },
  {
   "cell_type": "code",
   "execution_count": 5,
   "id": "3924a15c",
   "metadata": {
    "execution": {
     "iopub.execute_input": "2022-04-26T14:33:03.907513Z",
     "iopub.status.busy": "2022-04-26T14:33:03.906799Z",
     "iopub.status.idle": "2022-04-26T14:33:03.918210Z",
     "shell.execute_reply": "2022-04-26T14:33:03.918639Z"
    },
    "papermill": {
     "duration": 0.042478,
     "end_time": "2022-04-26T14:33:03.918758",
     "exception": false,
     "start_time": "2022-04-26T14:33:03.876280",
     "status": "completed"
    },
    "tags": []
   },
   "outputs": [
    {
     "data": {
      "text/html": [
       "<div>\n",
       "<style scoped>\n",
       "    .dataframe tbody tr th:only-of-type {\n",
       "        vertical-align: middle;\n",
       "    }\n",
       "\n",
       "    .dataframe tbody tr th {\n",
       "        vertical-align: top;\n",
       "    }\n",
       "\n",
       "    .dataframe thead th {\n",
       "        text-align: right;\n",
       "    }\n",
       "</style>\n",
       "<table border=\"1\" class=\"dataframe\">\n",
       "  <thead>\n",
       "    <tr style=\"text-align: right;\">\n",
       "      <th></th>\n",
       "      <th>Type</th>\n",
       "      <th>Sequence</th>\n",
       "      <th>Translated</th>\n",
       "    </tr>\n",
       "  </thead>\n",
       "  <tbody>\n",
       "    <tr>\n",
       "      <th>3656</th>\n",
       "      <td>CDS</td>\n",
       "      <td>TTGATTAAAGTTGAAATGACTCCGATAAGCCCTTTACAACCTCCCA...</td>\n",
       "      <td>LIKVEMTPISPLQPPIPRSIDNRLQWGNLKGDSVSLAISTLAEKNQ...</td>\n",
       "    </tr>\n",
       "    <tr>\n",
       "      <th>3657</th>\n",
       "      <td>CDS</td>\n",
       "      <td>ATGTATCTAAAGACCATCAAACTTGCTGGATTCAAATCATTTGTTG...</td>\n",
       "      <td>MYLKTIKLAGFKSFVDPTLIPIRGSMNAIVGPNGCGKSNVVDAVRW...</td>\n",
       "    </tr>\n",
       "    <tr>\n",
       "      <th>3658</th>\n",
       "      <td>CDS</td>\n",
       "      <td>ATGGACGCCATGACTAGTTCTTCACTTTCCCTTAAAGGGTTCAGCT...</td>\n",
       "      <td>MDAMTSSSLSLKGFSFSELFTVDGLSKLDSTFLEFLKAANAVLHAR...</td>\n",
       "    </tr>\n",
       "    <tr>\n",
       "      <th>3659</th>\n",
       "      <td>CDS</td>\n",
       "      <td>TTGTACAGTATTATTTCCTGTATTCCGCTTCGCTCCATACGGGCTA...</td>\n",
       "      <td>LYSIISCIPLRSIRATPILLKHDDLGSRMLFLQGSHVYTPFRHQQI...</td>\n",
       "    </tr>\n",
       "    <tr>\n",
       "      <th>3660</th>\n",
       "      <td>CDS</td>\n",
       "      <td>GTGTACATGGCGCAAGCGAATAGTAGAAGTAGGAATTCAGCTACGA...</td>\n",
       "      <td>VYMAQANSRSRNSATISYPEKRRARVNLGKREVEILKTPYLLETQI...</td>\n",
       "    </tr>\n",
       "    <tr>\n",
       "      <th>3661</th>\n",
       "      <td>CDS</td>\n",
       "      <td>ATGAGATCATGGTTGTCGTTACAAGCTATTGAGAAACTGGATAAAA...</td>\n",
       "      <td>MRSWLSLQAIEKLDKKQAGEVVFSGIIEQLKKLEEFSGTKVIRFED...</td>\n",
       "    </tr>\n",
       "    <tr>\n",
       "      <th>3662</th>\n",
       "      <td>CDS</td>\n",
       "      <td>TTGAGAGACTTAGTAAAACAGCTAAAAAGTGAAAAACACACGGCTG...</td>\n",
       "      <td>LRDLVKQLKSEKHTAEFDALRIKLASPEEVRSWSYGEVKKPETINY...</td>\n",
       "    </tr>\n",
       "    <tr>\n",
       "      <th>3663</th>\n",
       "      <td>CDS</td>\n",
       "      <td>ATGCTGAGTGAACAGCGCGATGTTATTCGCGATATTATCGCCGTAC...</td>\n",
       "      <td>MLSEQRDVIRDIIAVLRKHVEVDDININHSFASLGITSLRAVQLVN...</td>\n",
       "    </tr>\n",
       "    <tr>\n",
       "      <th>3664</th>\n",
       "      <td>CDS</td>\n",
       "      <td>TTGAATACAGGGGTATCCATTGTGTCACATGATCATTTGACTTCGG...</td>\n",
       "      <td>LNTGVSIVSHDHLTSVDRIVEKVVTYAEKQLPKEKIALIIKFIRLY...</td>\n",
       "    </tr>\n",
       "    <tr>\n",
       "      <th>3665</th>\n",
       "      <td>LORF</td>\n",
       "      <td>ATGCGCAGACAACGAGATCCACAGCAGCGATTATCACTGTTTAAGC...</td>\n",
       "      <td>MRRQRDPQQRLSLFKRHEVKITDVLFLSHCIALLPREASVLLEQHK...</td>\n",
       "    </tr>\n",
       "  </tbody>\n",
       "</table>\n",
       "</div>"
      ],
      "text/plain": [
       "      Type                                           Sequence  \\\n",
       "3656   CDS  TTGATTAAAGTTGAAATGACTCCGATAAGCCCTTTACAACCTCCCA...   \n",
       "3657   CDS  ATGTATCTAAAGACCATCAAACTTGCTGGATTCAAATCATTTGTTG...   \n",
       "3658   CDS  ATGGACGCCATGACTAGTTCTTCACTTTCCCTTAAAGGGTTCAGCT...   \n",
       "3659   CDS  TTGTACAGTATTATTTCCTGTATTCCGCTTCGCTCCATACGGGCTA...   \n",
       "3660   CDS  GTGTACATGGCGCAAGCGAATAGTAGAAGTAGGAATTCAGCTACGA...   \n",
       "3661   CDS  ATGAGATCATGGTTGTCGTTACAAGCTATTGAGAAACTGGATAAAA...   \n",
       "3662   CDS  TTGAGAGACTTAGTAAAACAGCTAAAAAGTGAAAAACACACGGCTG...   \n",
       "3663   CDS  ATGCTGAGTGAACAGCGCGATGTTATTCGCGATATTATCGCCGTAC...   \n",
       "3664   CDS  TTGAATACAGGGGTATCCATTGTGTCACATGATCATTTGACTTCGG...   \n",
       "3665  LORF  ATGCGCAGACAACGAGATCCACAGCAGCGATTATCACTGTTTAAGC...   \n",
       "\n",
       "                                             Translated  \n",
       "3656  LIKVEMTPISPLQPPIPRSIDNRLQWGNLKGDSVSLAISTLAEKNQ...  \n",
       "3657  MYLKTIKLAGFKSFVDPTLIPIRGSMNAIVGPNGCGKSNVVDAVRW...  \n",
       "3658  MDAMTSSSLSLKGFSFSELFTVDGLSKLDSTFLEFLKAANAVLHAR...  \n",
       "3659  LYSIISCIPLRSIRATPILLKHDDLGSRMLFLQGSHVYTPFRHQQI...  \n",
       "3660  VYMAQANSRSRNSATISYPEKRRARVNLGKREVEILKTPYLLETQI...  \n",
       "3661  MRSWLSLQAIEKLDKKQAGEVVFSGIIEQLKKLEEFSGTKVIRFED...  \n",
       "3662  LRDLVKQLKSEKHTAEFDALRIKLASPEEVRSWSYGEVKKPETINY...  \n",
       "3663  MLSEQRDVIRDIIAVLRKHVEVDDININHSFASLGITSLRAVQLVN...  \n",
       "3664  LNTGVSIVSHDHLTSVDRIVEKVVTYAEKQLPKEKIALIIKFIRLY...  \n",
       "3665  MRRQRDPQQRLSLFKRHEVKITDVLFLSHCIALLPREASVLLEQHK...  "
      ]
     },
     "execution_count": 5,
     "metadata": {},
     "output_type": "execute_result"
    }
   ],
   "source": [
    "G.tail(10)"
   ]
  },
  {
   "cell_type": "code",
   "execution_count": 6,
   "id": "bf16aee8",
   "metadata": {
    "execution": {
     "iopub.execute_input": "2022-04-26T14:33:03.980142Z",
     "iopub.status.busy": "2022-04-26T14:33:03.979614Z",
     "iopub.status.idle": "2022-04-26T14:33:03.983176Z",
     "shell.execute_reply": "2022-04-26T14:33:03.982792Z"
    },
    "papermill": {
     "duration": 0.037028,
     "end_time": "2022-04-26T14:33:03.983278",
     "exception": false,
     "start_time": "2022-04-26T14:33:03.946250",
     "status": "completed"
    },
    "tags": []
   },
   "outputs": [],
   "source": [
    "#G = G.loc[G['Dataset'] == 1]"
   ]
  },
  {
   "cell_type": "code",
   "execution_count": 7,
   "id": "c833bc7f",
   "metadata": {
    "execution": {
     "iopub.execute_input": "2022-04-26T14:33:04.041196Z",
     "iopub.status.busy": "2022-04-26T14:33:04.040067Z",
     "iopub.status.idle": "2022-04-26T14:33:04.042769Z",
     "shell.execute_reply": "2022-04-26T14:33:04.042299Z"
    },
    "papermill": {
     "duration": 0.032864,
     "end_time": "2022-04-26T14:33:04.042873",
     "exception": false,
     "start_time": "2022-04-26T14:33:04.010009",
     "status": "completed"
    },
    "tags": []
   },
   "outputs": [],
   "source": [
    "#G.shape"
   ]
  },
  {
   "cell_type": "code",
   "execution_count": 8,
   "id": "d6d0f184",
   "metadata": {
    "execution": {
     "iopub.execute_input": "2022-04-26T14:33:04.099168Z",
     "iopub.status.busy": "2022-04-26T14:33:04.097646Z",
     "iopub.status.idle": "2022-04-26T14:33:04.099810Z",
     "shell.execute_reply": "2022-04-26T14:33:04.100195Z"
    },
    "papermill": {
     "duration": 0.03164,
     "end_time": "2022-04-26T14:33:04.100306",
     "exception": false,
     "start_time": "2022-04-26T14:33:04.068666",
     "status": "completed"
    },
    "tags": []
   },
   "outputs": [],
   "source": [
    "#G.tail(10)"
   ]
  },
  {
   "cell_type": "code",
   "execution_count": 9,
   "id": "fd3bfd6a",
   "metadata": {
    "execution": {
     "iopub.execute_input": "2022-04-26T14:33:04.155873Z",
     "iopub.status.busy": "2022-04-26T14:33:04.155156Z",
     "iopub.status.idle": "2022-04-26T14:33:04.161950Z",
     "shell.execute_reply": "2022-04-26T14:33:04.161381Z"
    },
    "papermill": {
     "duration": 0.036016,
     "end_time": "2022-04-26T14:33:04.162086",
     "exception": false,
     "start_time": "2022-04-26T14:33:04.126070",
     "status": "completed"
    },
    "tags": []
   },
   "outputs": [
    {
     "name": "stdout",
     "output_type": "stream",
     "text": [
      "The shape of our dataframe is: (3666, 3)\n",
      "Rows: 3666\n",
      "Columns: 3\n"
     ]
    }
   ],
   "source": [
    "print('The shape of our dataframe is:', G.shape)\n",
    "print('Rows:', G.shape[0])\n",
    "print('Columns:', G.shape[1])"
   ]
  },
  {
   "cell_type": "code",
   "execution_count": 10,
   "id": "83211116",
   "metadata": {
    "execution": {
     "iopub.execute_input": "2022-04-26T14:33:04.222561Z",
     "iopub.status.busy": "2022-04-26T14:33:04.221996Z",
     "iopub.status.idle": "2022-04-26T14:33:04.224828Z",
     "shell.execute_reply": "2022-04-26T14:33:04.224366Z"
    },
    "papermill": {
     "duration": 0.035815,
     "end_time": "2022-04-26T14:33:04.224927",
     "exception": false,
     "start_time": "2022-04-26T14:33:04.189112",
     "status": "completed"
    },
    "tags": []
   },
   "outputs": [],
   "source": [
    "Test = G.loc[G['Type'] == 'CDS']"
   ]
  },
  {
   "cell_type": "markdown",
   "id": "dafe8b40",
   "metadata": {
    "papermill": {
     "duration": 0.026389,
     "end_time": "2022-04-26T14:33:04.278238",
     "exception": false,
     "start_time": "2022-04-26T14:33:04.251849",
     "status": "completed"
    },
    "tags": []
   },
   "source": [
    "### Encoding data\n",
    "\n",
    "Using sklearn OneHotEncoder and LabelEncoder"
   ]
  },
  {
   "cell_type": "markdown",
   "id": "7731c360",
   "metadata": {
    "papermill": {
     "duration": 0.026665,
     "end_time": "2022-04-26T14:33:04.331627",
     "exception": false,
     "start_time": "2022-04-26T14:33:04.304962",
     "status": "completed"
    },
    "tags": []
   },
   "source": [
    "#### Labels"
   ]
  },
  {
   "cell_type": "code",
   "execution_count": 11,
   "id": "14a53dc2",
   "metadata": {
    "execution": {
     "iopub.execute_input": "2022-04-26T14:33:04.391837Z",
     "iopub.status.busy": "2022-04-26T14:33:04.390195Z",
     "iopub.status.idle": "2022-04-26T14:33:04.392536Z",
     "shell.execute_reply": "2022-04-26T14:33:04.392936Z"
    },
    "papermill": {
     "duration": 0.034236,
     "end_time": "2022-04-26T14:33:04.393058",
     "exception": false,
     "start_time": "2022-04-26T14:33:04.358822",
     "status": "completed"
    },
    "tags": []
   },
   "outputs": [],
   "source": [
    "def encode_feature(array):\n",
    "    \"\"\" Encode a categorical array into a number array\n",
    "    \n",
    "    :param array: array to be encoded\n",
    "    :return: numerical array\n",
    "    \"\"\"\n",
    "  \n",
    "    encoder = preprocessing.LabelEncoder()\n",
    "    encoder.fit(array)\n",
    "    return encoder.transform(array)"
   ]
  },
  {
   "cell_type": "code",
   "execution_count": 12,
   "id": "ab559b20",
   "metadata": {
    "execution": {
     "iopub.execute_input": "2022-04-26T14:33:04.453288Z",
     "iopub.status.busy": "2022-04-26T14:33:04.451659Z",
     "iopub.status.idle": "2022-04-26T14:33:04.455720Z",
     "shell.execute_reply": "2022-04-26T14:33:04.455093Z"
    },
    "papermill": {
     "duration": 0.036117,
     "end_time": "2022-04-26T14:33:04.455854",
     "exception": false,
     "start_time": "2022-04-26T14:33:04.419737",
     "status": "completed"
    },
    "tags": []
   },
   "outputs": [
    {
     "name": "stdout",
     "output_type": "stream",
     "text": [
      "['LORF' 'LORF' 'LORF' ... 'CDS' 'CDS' 'LORF']\n"
     ]
    }
   ],
   "source": [
    "class_names = ['CDS', 'LORF']\n",
    "labels = G[\"Type\"].values\n",
    "print(labels)"
   ]
  },
  {
   "cell_type": "code",
   "execution_count": 13,
   "id": "67d085bb",
   "metadata": {
    "execution": {
     "iopub.execute_input": "2022-04-26T14:33:04.518668Z",
     "iopub.status.busy": "2022-04-26T14:33:04.517563Z",
     "iopub.status.idle": "2022-04-26T14:33:04.520644Z",
     "shell.execute_reply": "2022-04-26T14:33:04.521033Z"
    },
    "papermill": {
     "duration": 0.03642,
     "end_time": "2022-04-26T14:33:04.521153",
     "exception": false,
     "start_time": "2022-04-26T14:33:04.484733",
     "status": "completed"
    },
    "tags": []
   },
   "outputs": [
    {
     "data": {
      "text/plain": [
       "array([1, 1, 1, ..., 0, 0, 1])"
      ]
     },
     "execution_count": 13,
     "metadata": {},
     "output_type": "execute_result"
    }
   ],
   "source": [
    "labels = encode_feature(labels)\n",
    "labels"
   ]
  },
  {
   "cell_type": "markdown",
   "id": "16dfa5e1",
   "metadata": {
    "papermill": {
     "duration": 0.027495,
     "end_time": "2022-04-26T14:33:04.576460",
     "exception": false,
     "start_time": "2022-04-26T14:33:04.548965",
     "status": "completed"
    },
    "tags": []
   },
   "source": [
    "#### Sequences\n",
    "\n",
    "The sequenes are are tokenized using keras tokenizer, then padded and finally one hot encoded."
   ]
  },
  {
   "cell_type": "code",
   "execution_count": 14,
   "id": "ef795691",
   "metadata": {
    "execution": {
     "iopub.execute_input": "2022-04-26T14:33:04.637121Z",
     "iopub.status.busy": "2022-04-26T14:33:04.636633Z",
     "iopub.status.idle": "2022-04-26T14:33:04.641286Z",
     "shell.execute_reply": "2022-04-26T14:33:04.640875Z"
    },
    "papermill": {
     "duration": 0.037393,
     "end_time": "2022-04-26T14:33:04.641382",
     "exception": false,
     "start_time": "2022-04-26T14:33:04.603989",
     "status": "completed"
    },
    "tags": []
   },
   "outputs": [
    {
     "data": {
      "text/plain": [
       "['MSIVRFQHTTQVFS*',\n",
       " 'LLTRSPIPQRPLLK*',\n",
       " 'LLLHQILVSPLLHRLNLKVLSKNQ*',\n",
       " 'LELFFPTTSQLSFTLHLFKVLRSMKAKYPLDNLIRHKTFALSHYHYHYRFLPSWMLKRGCLKADFLLKVSLLKSPFEQCLQNLSLTNTK*',\n",
       " 'VNAVIIGLPFSITL*']"
      ]
     },
     "execution_count": 14,
     "metadata": {},
     "output_type": "execute_result"
    }
   ],
   "source": [
    "# Extract sequences\n",
    "samples = G['Translated'].values\n",
    "samples = list(samples)\n",
    "samples[0:5]"
   ]
  },
  {
   "cell_type": "code",
   "execution_count": 15,
   "id": "321ebc76",
   "metadata": {
    "execution": {
     "iopub.execute_input": "2022-04-26T14:33:04.701718Z",
     "iopub.status.busy": "2022-04-26T14:33:04.700881Z",
     "iopub.status.idle": "2022-04-26T14:33:04.703068Z",
     "shell.execute_reply": "2022-04-26T14:33:04.702580Z"
    },
    "papermill": {
     "duration": 0.033685,
     "end_time": "2022-04-26T14:33:04.703175",
     "exception": false,
     "start_time": "2022-04-26T14:33:04.669490",
     "status": "completed"
    },
    "tags": []
   },
   "outputs": [],
   "source": [
    "max_len = len(max(samples, key = len))"
   ]
  },
  {
   "cell_type": "code",
   "execution_count": 16,
   "id": "9e89a2cb",
   "metadata": {
    "execution": {
     "iopub.execute_input": "2022-04-26T14:33:04.807909Z",
     "iopub.status.busy": "2022-04-26T14:33:04.792550Z",
     "iopub.status.idle": "2022-04-26T14:33:05.084467Z",
     "shell.execute_reply": "2022-04-26T14:33:05.084034Z"
    },
    "papermill": {
     "duration": 0.35289,
     "end_time": "2022-04-26T14:33:05.084587",
     "exception": false,
     "start_time": "2022-04-26T14:33:04.731697",
     "status": "completed"
    },
    "tags": []
   },
   "outputs": [],
   "source": [
    "# Tokenizer configured to only take into account the top-4 most common words\n",
    "tokenizer = Tokenizer(char_level=True)\n",
    "\n",
    "# This builds the word index\n",
    "tokenizer.fit_on_texts(samples)\n",
    "\n",
    "# This turns strings into lists of integer indices.\n",
    "seq_of_int = tokenizer.texts_to_sequences(samples)"
   ]
  },
  {
   "cell_type": "code",
   "execution_count": 17,
   "id": "2a796a6c",
   "metadata": {
    "execution": {
     "iopub.execute_input": "2022-04-26T14:33:05.147418Z",
     "iopub.status.busy": "2022-04-26T14:33:05.146273Z",
     "iopub.status.idle": "2022-04-26T14:33:05.149331Z",
     "shell.execute_reply": "2022-04-26T14:33:05.149767Z"
    },
    "papermill": {
     "duration": 0.036808,
     "end_time": "2022-04-26T14:33:05.149893",
     "exception": false,
     "start_time": "2022-04-26T14:33:05.113085",
     "status": "completed"
    },
    "tags": []
   },
   "outputs": [
    {
     "data": {
      "text/plain": [
       "[18, 4, 3, 6, 9, 11, 15, 17, 10, 10, 15, 6, 11, 4, 21]"
      ]
     },
     "execution_count": 17,
     "metadata": {},
     "output_type": "execute_result"
    }
   ],
   "source": [
    "seq_of_int[0]"
   ]
  },
  {
   "cell_type": "code",
   "execution_count": 18,
   "id": "e4df9e3e",
   "metadata": {
    "execution": {
     "iopub.execute_input": "2022-04-26T14:33:05.211714Z",
     "iopub.status.busy": "2022-04-26T14:33:05.211080Z",
     "iopub.status.idle": "2022-04-26T14:33:05.213927Z",
     "shell.execute_reply": "2022-04-26T14:33:05.214507Z"
    },
    "papermill": {
     "duration": 0.036089,
     "end_time": "2022-04-26T14:33:05.214669",
     "exception": false,
     "start_time": "2022-04-26T14:33:05.178580",
     "status": "completed"
    },
    "tags": []
   },
   "outputs": [
    {
     "name": "stdout",
     "output_type": "stream",
     "text": [
      "Longest amino acid sequence is: 1735\n"
     ]
    }
   ],
   "source": [
    "print('Longest amino acid sequence is:', max_len)"
   ]
  },
  {
   "cell_type": "code",
   "execution_count": 19,
   "id": "56f82958",
   "metadata": {
    "execution": {
     "iopub.execute_input": "2022-04-26T14:33:05.279819Z",
     "iopub.status.busy": "2022-04-26T14:33:05.279251Z",
     "iopub.status.idle": "2022-04-26T14:33:05.351333Z",
     "shell.execute_reply": "2022-04-26T14:33:05.351889Z"
    },
    "papermill": {
     "duration": 0.106706,
     "end_time": "2022-04-26T14:33:05.352047",
     "exception": false,
     "start_time": "2022-04-26T14:33:05.245341",
     "status": "completed"
    },
    "tags": []
   },
   "outputs": [],
   "source": [
    "seq_padded = sequence.pad_sequences(seq_of_int, maxlen=max_len, dtype='int32', value=0.0) # if maxlen=None then the maximum lenght is the longest sequence in genome"
   ]
  },
  {
   "cell_type": "code",
   "execution_count": 20,
   "id": "00c8c577",
   "metadata": {
    "execution": {
     "iopub.execute_input": "2022-04-26T14:33:05.416374Z",
     "iopub.status.busy": "2022-04-26T14:33:05.415699Z",
     "iopub.status.idle": "2022-04-26T14:33:05.418410Z",
     "shell.execute_reply": "2022-04-26T14:33:05.418807Z"
    },
    "papermill": {
     "duration": 0.036836,
     "end_time": "2022-04-26T14:33:05.418927",
     "exception": false,
     "start_time": "2022-04-26T14:33:05.382091",
     "status": "completed"
    },
    "tags": []
   },
   "outputs": [
    {
     "data": {
      "text/plain": [
       "(3666, 1735)"
      ]
     },
     "execution_count": 20,
     "metadata": {},
     "output_type": "execute_result"
    }
   ],
   "source": [
    "np.shape(seq_padded)"
   ]
  },
  {
   "cell_type": "markdown",
   "id": "b2049748",
   "metadata": {
    "papermill": {
     "duration": 0.033795,
     "end_time": "2022-04-26T14:33:05.483265",
     "exception": false,
     "start_time": "2022-04-26T14:33:05.449470",
     "status": "completed"
    },
    "tags": []
   },
   "source": [
    "### Create training and test data"
   ]
  },
  {
   "cell_type": "code",
   "execution_count": 21,
   "id": "2efea1e6",
   "metadata": {
    "execution": {
     "iopub.execute_input": "2022-04-26T14:33:05.557936Z",
     "iopub.status.busy": "2022-04-26T14:33:05.557092Z",
     "iopub.status.idle": "2022-04-26T14:33:05.569384Z",
     "shell.execute_reply": "2022-04-26T14:33:05.568952Z"
    },
    "papermill": {
     "duration": 0.052638,
     "end_time": "2022-04-26T14:33:05.569534",
     "exception": false,
     "start_time": "2022-04-26T14:33:05.516896",
     "status": "completed"
    },
    "tags": []
   },
   "outputs": [],
   "source": [
    "# Split the data into training and testing sets -> x = features and y = labels/targets\n",
    "train_x, test_x, train_y, test_y = train_test_split(seq_padded, labels, test_size = 0.25, random_state = 42)"
   ]
  },
  {
   "cell_type": "code",
   "execution_count": 22,
   "id": "3dcecf06",
   "metadata": {
    "execution": {
     "iopub.execute_input": "2022-04-26T14:33:05.642972Z",
     "iopub.status.busy": "2022-04-26T14:33:05.641341Z",
     "iopub.status.idle": "2022-04-26T14:33:05.645299Z",
     "shell.execute_reply": "2022-04-26T14:33:05.644831Z"
    },
    "papermill": {
     "duration": 0.042366,
     "end_time": "2022-04-26T14:33:05.645425",
     "exception": false,
     "start_time": "2022-04-26T14:33:05.603059",
     "status": "completed"
    },
    "tags": []
   },
   "outputs": [
    {
     "name": "stdout",
     "output_type": "stream",
     "text": [
      "Input data:\n",
      "2749 train sequences\n",
      "917 test sequences\n"
     ]
    }
   ],
   "source": [
    "print('Input data:')\n",
    "print(len(train_x), 'train sequences')\n",
    "print(len(test_x), 'test sequences')"
   ]
  },
  {
   "cell_type": "markdown",
   "id": "36ee5826",
   "metadata": {
    "papermill": {
     "duration": 0.032756,
     "end_time": "2022-04-26T14:33:05.710424",
     "exception": false,
     "start_time": "2022-04-26T14:33:05.677668",
     "status": "completed"
    },
    "tags": []
   },
   "source": [
    "### Simple LSTM model"
   ]
  },
  {
   "cell_type": "code",
   "execution_count": 23,
   "id": "5223b74e",
   "metadata": {
    "execution": {
     "iopub.execute_input": "2022-04-26T14:33:05.781301Z",
     "iopub.status.busy": "2022-04-26T14:33:05.780487Z",
     "iopub.status.idle": "2022-04-26T14:33:05.782670Z",
     "shell.execute_reply": "2022-04-26T14:33:05.783074Z"
    },
    "papermill": {
     "duration": 0.039582,
     "end_time": "2022-04-26T14:33:05.783215",
     "exception": false,
     "start_time": "2022-04-26T14:33:05.743633",
     "status": "completed"
    },
    "tags": []
   },
   "outputs": [],
   "source": [
    "input_dim = 22 # input dimension: 21 amino acids + padding\n",
    "\n",
    "embedding_size = min(np.ceil((input_dim)/2), 50)\n",
    "embedding_size = int(embedding_size)\n",
    "\n",
    "output_dim = embedding_size\n",
    "input_length = max_len"
   ]
  },
  {
   "cell_type": "code",
   "execution_count": 24,
   "id": "e49f813b",
   "metadata": {
    "execution": {
     "iopub.execute_input": "2022-04-26T14:33:05.852950Z",
     "iopub.status.busy": "2022-04-26T14:33:05.852197Z",
     "iopub.status.idle": "2022-04-26T14:33:05.854994Z",
     "shell.execute_reply": "2022-04-26T14:33:05.855456Z"
    },
    "papermill": {
     "duration": 0.039478,
     "end_time": "2022-04-26T14:33:05.855581",
     "exception": false,
     "start_time": "2022-04-26T14:33:05.816103",
     "status": "completed"
    },
    "tags": []
   },
   "outputs": [
    {
     "data": {
      "text/plain": [
       "11"
      ]
     },
     "execution_count": 24,
     "metadata": {},
     "output_type": "execute_result"
    }
   ],
   "source": [
    "embedding_size"
   ]
  },
  {
   "cell_type": "code",
   "execution_count": 25,
   "id": "e5a892b0",
   "metadata": {
    "execution": {
     "iopub.execute_input": "2022-04-26T14:33:05.926957Z",
     "iopub.status.busy": "2022-04-26T14:33:05.926241Z",
     "iopub.status.idle": "2022-04-26T14:36:31.450861Z",
     "shell.execute_reply": "2022-04-26T14:36:31.449954Z"
    },
    "papermill": {
     "duration": 205.563086,
     "end_time": "2022-04-26T14:36:31.451014",
     "exception": false,
     "start_time": "2022-04-26T14:33:05.887928",
     "status": "completed"
    },
    "tags": []
   },
   "outputs": [
    {
     "name": "stderr",
     "output_type": "stream",
     "text": [
      "2022-04-26 14:33:05.995220: I tensorflow/stream_executor/cuda/cuda_gpu_executor.cc:937] successful NUMA node read from SysFS had negative value (-1), but there must be at least one NUMA node, so returning NUMA node zero\n",
      "2022-04-26 14:33:06.057868: I tensorflow/stream_executor/cuda/cuda_gpu_executor.cc:937] successful NUMA node read from SysFS had negative value (-1), but there must be at least one NUMA node, so returning NUMA node zero\n",
      "2022-04-26 14:33:06.058615: I tensorflow/stream_executor/cuda/cuda_gpu_executor.cc:937] successful NUMA node read from SysFS had negative value (-1), but there must be at least one NUMA node, so returning NUMA node zero\n",
      "2022-04-26 14:33:06.059721: I tensorflow/core/platform/cpu_feature_guard.cc:142] This TensorFlow binary is optimized with oneAPI Deep Neural Network Library (oneDNN) to use the following CPU instructions in performance-critical operations:  AVX2 AVX512F FMA\n",
      "To enable them in other operations, rebuild TensorFlow with the appropriate compiler flags.\n",
      "2022-04-26 14:33:06.060366: I tensorflow/stream_executor/cuda/cuda_gpu_executor.cc:937] successful NUMA node read from SysFS had negative value (-1), but there must be at least one NUMA node, so returning NUMA node zero\n",
      "2022-04-26 14:33:06.061051: I tensorflow/stream_executor/cuda/cuda_gpu_executor.cc:937] successful NUMA node read from SysFS had negative value (-1), but there must be at least one NUMA node, so returning NUMA node zero\n",
      "2022-04-26 14:33:06.061685: I tensorflow/stream_executor/cuda/cuda_gpu_executor.cc:937] successful NUMA node read from SysFS had negative value (-1), but there must be at least one NUMA node, so returning NUMA node zero\n",
      "2022-04-26 14:33:07.454792: I tensorflow/stream_executor/cuda/cuda_gpu_executor.cc:937] successful NUMA node read from SysFS had negative value (-1), but there must be at least one NUMA node, so returning NUMA node zero\n",
      "2022-04-26 14:33:07.455666: I tensorflow/stream_executor/cuda/cuda_gpu_executor.cc:937] successful NUMA node read from SysFS had negative value (-1), but there must be at least one NUMA node, so returning NUMA node zero\n",
      "2022-04-26 14:33:07.456332: I tensorflow/stream_executor/cuda/cuda_gpu_executor.cc:937] successful NUMA node read from SysFS had negative value (-1), but there must be at least one NUMA node, so returning NUMA node zero\n",
      "2022-04-26 14:33:07.456955: I tensorflow/core/common_runtime/gpu/gpu_device.cc:1510] Created device /job:localhost/replica:0/task:0/device:GPU:0 with 15403 MB memory:  -> device: 0, name: Tesla P100-PCIE-16GB, pci bus id: 0000:00:04.0, compute capability: 6.0\n",
      "2022-04-26 14:33:08.100365: I tensorflow/compiler/mlir/mlir_graph_optimization_pass.cc:185] None of the MLIR Optimization Passes are enabled (registered 2)\n"
     ]
    },
    {
     "name": "stdout",
     "output_type": "stream",
     "text": [
      "Epoch 1/20\n"
     ]
    },
    {
     "name": "stderr",
     "output_type": "stream",
     "text": [
      "2022-04-26 14:33:10.176064: I tensorflow/stream_executor/cuda/cuda_dnn.cc:369] Loaded cuDNN version 8005\n"
     ]
    },
    {
     "name": "stdout",
     "output_type": "stream",
     "text": [
      "69/69 [==============================] - 13s 141ms/step - loss: 0.6530 - acc: 0.6403 - val_loss: 0.5695 - val_acc: 0.7545\n",
      "Epoch 2/20\n",
      "69/69 [==============================] - 9s 134ms/step - loss: 0.5210 - acc: 0.7713 - val_loss: 0.5085 - val_acc: 0.7655\n",
      "Epoch 3/20\n",
      "69/69 [==============================] - 9s 133ms/step - loss: 0.4929 - acc: 0.7744 - val_loss: 0.5302 - val_acc: 0.7455\n",
      "Epoch 4/20\n",
      "69/69 [==============================] - 9s 134ms/step - loss: 0.4900 - acc: 0.7754 - val_loss: 0.5014 - val_acc: 0.7709\n",
      "Epoch 5/20\n",
      "69/69 [==============================] - 9s 134ms/step - loss: 0.4748 - acc: 0.7799 - val_loss: 0.4980 - val_acc: 0.7636\n",
      "Epoch 6/20\n",
      "69/69 [==============================] - 9s 136ms/step - loss: 0.4680 - acc: 0.7885 - val_loss: 0.5132 - val_acc: 0.7455\n",
      "Epoch 7/20\n",
      "69/69 [==============================] - 9s 135ms/step - loss: 0.4745 - acc: 0.7790 - val_loss: 0.4929 - val_acc: 0.7618\n",
      "Epoch 8/20\n",
      "69/69 [==============================] - 9s 135ms/step - loss: 0.4533 - acc: 0.7931 - val_loss: 0.4930 - val_acc: 0.7691\n",
      "Epoch 9/20\n",
      "69/69 [==============================] - 9s 136ms/step - loss: 0.4566 - acc: 0.7926 - val_loss: 0.4936 - val_acc: 0.7545\n",
      "Epoch 10/20\n",
      "69/69 [==============================] - 9s 135ms/step - loss: 0.4655 - acc: 0.7913 - val_loss: 0.4760 - val_acc: 0.7709\n",
      "Epoch 11/20\n",
      "69/69 [==============================] - 9s 135ms/step - loss: 0.4489 - acc: 0.7940 - val_loss: 0.4882 - val_acc: 0.7745\n",
      "Epoch 12/20\n",
      "69/69 [==============================] - 9s 135ms/step - loss: 0.4446 - acc: 0.7999 - val_loss: 0.4751 - val_acc: 0.7745\n",
      "Epoch 13/20\n",
      "69/69 [==============================] - 9s 136ms/step - loss: 0.4424 - acc: 0.7954 - val_loss: 0.5198 - val_acc: 0.7509\n",
      "Epoch 14/20\n",
      "69/69 [==============================] - 9s 135ms/step - loss: 0.4371 - acc: 0.8081 - val_loss: 0.4757 - val_acc: 0.7709\n",
      "Epoch 15/20\n",
      "69/69 [==============================] - 9s 135ms/step - loss: 0.4358 - acc: 0.8040 - val_loss: 0.4669 - val_acc: 0.7709\n",
      "Epoch 16/20\n",
      "69/69 [==============================] - 9s 138ms/step - loss: 0.4368 - acc: 0.8049 - val_loss: 0.4645 - val_acc: 0.7745\n",
      "Epoch 17/20\n",
      "69/69 [==============================] - 9s 135ms/step - loss: 0.4289 - acc: 0.8090 - val_loss: 0.4645 - val_acc: 0.7745\n",
      "Epoch 18/20\n",
      "69/69 [==============================] - 9s 135ms/step - loss: 0.4327 - acc: 0.8113 - val_loss: 0.4687 - val_acc: 0.7745\n",
      "Epoch 19/20\n",
      "69/69 [==============================] - 9s 135ms/step - loss: 0.4278 - acc: 0.8067 - val_loss: 0.4612 - val_acc: 0.7745\n",
      "Epoch 20/20\n",
      "69/69 [==============================] - 9s 136ms/step - loss: 0.4489 - acc: 0.8140 - val_loss: 0.4643 - val_acc: 0.7764\n"
     ]
    }
   ],
   "source": [
    "model = Sequential()\n",
    "model.add(Embedding(input_dim, output_dim)) # parameter input_length not required, because no flattening needed (using RNN layer now, not Dense layer)\n",
    "model.add(LSTM(288))\n",
    "model.add(Dropout(0.4))\n",
    "model.add(Dense(1, activation='sigmoid'))\n",
    "\n",
    "opt = keras.optimizers.RMSprop(learning_rate=0.0001)\n",
    "\n",
    "model.compile(optimizer=opt,\n",
    "              loss='binary_crossentropy',\n",
    "              metrics=['acc'])\n",
    "\n",
    "history = model.fit(train_x, train_y,\n",
    "                    epochs=20,\n",
    "                    batch_size=32,\n",
    "                    validation_split=0.2)"
   ]
  },
  {
   "cell_type": "code",
   "execution_count": 26,
   "id": "c77e08cd",
   "metadata": {
    "execution": {
     "iopub.execute_input": "2022-04-26T14:36:32.535993Z",
     "iopub.status.busy": "2022-04-26T14:36:32.535103Z",
     "iopub.status.idle": "2022-04-26T14:36:32.538318Z",
     "shell.execute_reply": "2022-04-26T14:36:32.539092Z"
    },
    "papermill": {
     "duration": 0.617557,
     "end_time": "2022-04-26T14:36:32.539287",
     "exception": false,
     "start_time": "2022-04-26T14:36:31.921730",
     "status": "completed"
    },
    "tags": []
   },
   "outputs": [
    {
     "name": "stdout",
     "output_type": "stream",
     "text": [
      "Model: \"sequential\"\n",
      "_________________________________________________________________\n",
      "Layer (type)                 Output Shape              Param #   \n",
      "=================================================================\n",
      "embedding (Embedding)        (None, None, 11)          242       \n",
      "_________________________________________________________________\n",
      "lstm (LSTM)                  (None, 288)               345600    \n",
      "_________________________________________________________________\n",
      "dropout (Dropout)            (None, 288)               0         \n",
      "_________________________________________________________________\n",
      "dense (Dense)                (None, 1)                 289       \n",
      "=================================================================\n",
      "Total params: 346,131\n",
      "Trainable params: 346,131\n",
      "Non-trainable params: 0\n",
      "_________________________________________________________________\n"
     ]
    }
   ],
   "source": [
    "model.summary()"
   ]
  },
  {
   "cell_type": "code",
   "execution_count": 27,
   "id": "97b3f67b",
   "metadata": {
    "execution": {
     "iopub.execute_input": "2022-04-26T14:36:33.559378Z",
     "iopub.status.busy": "2022-04-26T14:36:33.558545Z",
     "iopub.status.idle": "2022-04-26T14:36:34.504517Z",
     "shell.execute_reply": "2022-04-26T14:36:34.505013Z"
    },
    "papermill": {
     "duration": 1.417852,
     "end_time": "2022-04-26T14:36:34.505174",
     "exception": false,
     "start_time": "2022-04-26T14:36:33.087322",
     "status": "completed"
    },
    "tags": []
   },
   "outputs": [
    {
     "data": {
      "image/png": "[encoded data removed]",
      "text/plain": [
       "<Figure size 432x288 with 1 Axes>"
      ]
     },
     "metadata": {
      "needs_background": "light"
     },
     "output_type": "display_data"
    },
    {
     "data": {
      "image/png": "[encoded data removed]",
      "text/plain": [
       "<Figure size 432x288 with 1 Axes>"
      ]
     },
     "metadata": {
      "needs_background": "light"
     },
     "output_type": "display_data"
    }
   ],
   "source": [
    "acc = history.history['acc']\n",
    "val_acc = history.history['val_acc']\n",
    "loss = history.history['loss']\n",
    "val_loss = history.history['val_loss']\n",
    "\n",
    "epochs = range(len(acc))\n",
    "\n",
    "plt.plot(epochs, acc, 'bo', label='Training acc')\n",
    "plt.plot(epochs, val_acc, 'b', label='Validation acc')\n",
    "plt.title('Training and validation accuracy')\n",
    "plt.legend()\n",
    "\n",
    "plt.savefig('tuned_acc_5_comb.png', dpi=300, bbox_inches='tight')\n",
    "\n",
    "plt.figure()\n",
    "\n",
    "plt.plot(epochs, loss, 'bo', label='Training loss')\n",
    "plt.plot(epochs, val_loss, 'b', label='Validation loss')\n",
    "plt.title('Training and validation loss')\n",
    "plt.legend()\n",
    "\n",
    "plt.savefig('tuned_loss_5_comb.png', dpi=300, bbox_inches='tight')\n",
    "\n",
    "plt.show()"
   ]
  },
  {
   "cell_type": "code",
   "execution_count": 28,
   "id": "41896354",
   "metadata": {
    "execution": {
     "iopub.execute_input": "2022-04-26T14:36:35.444340Z",
     "iopub.status.busy": "2022-04-26T14:36:35.443373Z",
     "iopub.status.idle": "2022-04-26T14:36:36.689707Z",
     "shell.execute_reply": "2022-04-26T14:36:36.688902Z"
    },
    "papermill": {
     "duration": 1.718317,
     "end_time": "2022-04-26T14:36:36.689870",
     "exception": false,
     "start_time": "2022-04-26T14:36:34.971553",
     "status": "completed"
    },
    "tags": []
   },
   "outputs": [
    {
     "name": "stdout",
     "output_type": "stream",
     "text": [
      "Test accuracy: 0.8167939186096191\n"
     ]
    }
   ],
   "source": [
    "scores = model.evaluate(test_x, test_y, verbose=0)\n",
    "print('Test accuracy:', scores[1])"
   ]
  },
  {
   "cell_type": "markdown",
   "id": "86464607",
   "metadata": {
    "papermill": {
     "duration": 0.480896,
     "end_time": "2022-04-26T14:36:37.645887",
     "exception": false,
     "start_time": "2022-04-26T14:36:37.164991",
     "status": "completed"
    },
    "tags": []
   },
   "source": [
    "#### Confusion matrix"
   ]
  },
  {
   "cell_type": "code",
   "execution_count": 29,
   "id": "630de3bb",
   "metadata": {
    "execution": {
     "iopub.execute_input": "2022-04-26T14:36:38.577629Z",
     "iopub.status.busy": "2022-04-26T14:36:38.576711Z",
     "iopub.status.idle": "2022-04-26T14:36:40.142932Z",
     "shell.execute_reply": "2022-04-26T14:36:40.143338Z"
    },
    "papermill": {
     "duration": 2.033015,
     "end_time": "2022-04-26T14:36:40.143510",
     "exception": false,
     "start_time": "2022-04-26T14:36:38.110495",
     "status": "completed"
    },
    "tags": []
   },
   "outputs": [
    {
     "name": "stderr",
     "output_type": "stream",
     "text": [
      "/opt/conda/lib/python3.7/site-packages/ipykernel_launcher.py:2: DeprecationWarning: `np.int` is a deprecated alias for the builtin `int`. To silence this warning, use `int` by itself. Doing this will not modify any behavior and is safe. When replacing `np.int`, you may wish to use e.g. `np.int64` or `np.int32` to specify the precision. If you wish to review your current use, check the release note link for additional information.\n",
      "Deprecated in NumPy 1.20; for more details and guidance: https://numpy.org/devdocs/release/1.20.0-notes.html#deprecations\n",
      "  \n"
     ]
    }
   ],
   "source": [
    "probas = model.predict(test_x)\n",
    "pred_y = (probas > 0.5).astype(np.int)"
   ]
  },
  {
   "cell_type": "code",
   "execution_count": 30,
   "id": "217325cc",
   "metadata": {
    "execution": {
     "iopub.execute_input": "2022-04-26T14:36:41.098455Z",
     "iopub.status.busy": "2022-04-26T14:36:41.097561Z",
     "iopub.status.idle": "2022-04-26T14:36:41.103195Z",
     "shell.execute_reply": "2022-04-26T14:36:41.102771Z"
    },
    "papermill": {
     "duration": 0.483225,
     "end_time": "2022-04-26T14:36:41.103304",
     "exception": false,
     "start_time": "2022-04-26T14:36:40.620079",
     "status": "completed"
    },
    "tags": []
   },
   "outputs": [
    {
     "data": {
      "text/plain": [
       "array([[381,  79],\n",
       "       [ 89, 368]])"
      ]
     },
     "execution_count": 30,
     "metadata": {},
     "output_type": "execute_result"
    }
   ],
   "source": [
    "confusion_matrix(test_y, pred_y)"
   ]
  },
  {
   "cell_type": "code",
   "execution_count": 31,
   "id": "cebeadd1",
   "metadata": {
    "execution": {
     "iopub.execute_input": "2022-04-26T14:36:42.061990Z",
     "iopub.status.busy": "2022-04-26T14:36:42.061172Z",
     "iopub.status.idle": "2022-04-26T14:36:42.268385Z",
     "shell.execute_reply": "2022-04-26T14:36:42.269155Z"
    },
    "papermill": {
     "duration": 0.687256,
     "end_time": "2022-04-26T14:36:42.269300",
     "exception": false,
     "start_time": "2022-04-26T14:36:41.582044",
     "status": "completed"
    },
    "tags": []
   },
   "outputs": [
    {
     "data": {
      "text/plain": [
       "<sklearn.metrics._plot.confusion_matrix.ConfusionMatrixDisplay at 0x7fc0a54b81d0>"
      ]
     },
     "execution_count": 31,
     "metadata": {},
     "output_type": "execute_result"
    },
    {
     "data": {
      "image/png": "[encoded data removed]",
      "text/plain": [
       "<Figure size 432x288 with 2 Axes>"
      ]
     },
     "metadata": {
      "needs_background": "light"
     },
     "output_type": "display_data"
    }
   ],
   "source": [
    "ConfusionMatrixDisplay.from_predictions(test_y, pred_y)"
   ]
  }
 ],
 "metadata": {
  "kernelspec": {
   "display_name": "Python 3",
   "language": "python",
   "name": "python3"
  },
  "language_info": {
   "codemirror_mode": {
    "name": "ipython",
    "version": 3
   },
   "file_extension": ".py",
   "mimetype": "text/x-python",
   "name": "python",
   "nbconvert_exporter": "python",
   "pygments_lexer": "ipython3",
   "version": "3.7.12"
  },
  "papermill": {
   "default_parameters": {},
   "duration": 235.330923,
   "end_time": "2022-04-26T14:36:45.816706",
   "environment_variables": {},
   "exception": null,
   "input_path": "__notebook__.ipynb",
   "output_path": "__notebook__.ipynb",
   "parameters": {},
   "start_time": "2022-04-26T14:32:50.485783",
   "version": "2.3.3"
  }
 },
 "nbformat": 4,
 "nbformat_minor": 5
}
