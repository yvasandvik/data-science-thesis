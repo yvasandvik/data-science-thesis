{
 "cells": [
  {
   "cell_type": "markdown",
   "id": "3fb7a3ba",
   "metadata": {
    "papermill": {
     "duration": 0.026187,
     "end_time": "2022-03-24T13:57:03.490928",
     "exception": false,
     "start_time": "2022-03-24T13:57:03.464741",
     "status": "completed"
    },
    "tags": []
   },
   "source": [
    "# Tuning RNN model - amino acid sequences"
   ]
  },
  {
   "cell_type": "code",
   "execution_count": 1,
   "id": "2a0a99c0",
   "metadata": {
    "execution": {
     "iopub.execute_input": "2022-03-24T13:57:03.555517Z",
     "iopub.status.busy": "2022-03-24T13:57:03.554840Z",
     "iopub.status.idle": "2022-03-24T13:57:09.232599Z",
     "shell.execute_reply": "2022-03-24T13:57:09.233241Z",
     "shell.execute_reply.started": "2022-03-24T11:05:08.899512Z"
    },
    "papermill": {
     "duration": 5.715316,
     "end_time": "2022-03-24T13:57:09.233536",
     "exception": false,
     "start_time": "2022-03-24T13:57:03.518220",
     "status": "completed"
    },
    "tags": []
   },
   "outputs": [],
   "source": [
    "# Preprocessing and encoding variables\n",
    "import pandas as pd\n",
    "import numpy as np\n",
    "\n",
    "# Using Skicit-learn to split data into training and testing sets\n",
    "from sklearn import preprocessing\n",
    "from sklearn.preprocessing import LabelEncoder\n",
    "from sklearn.preprocessing import OneHotEncoder\n",
    "from sklearn.model_selection import train_test_split\n",
    "\n",
    "# For characterlevel one hot encoding or label encoding \n",
    "from tensorflow.keras.preprocessing.text import Tokenizer\n",
    "from tensorflow.keras.preprocessing import sequence\n",
    "\n",
    "# For creating the RNN model\n",
    "from tensorflow.keras.models import Sequential\n",
    "from tensorflow.keras.layers import Dense, Embedding, LSTM, Dropout, Activation\n",
    "import tensorflow.keras.utils as utils\n",
    "\n",
    "# For plotting\n",
    "import matplotlib.pyplot as plt\n",
    "import seaborn as sn\n",
    "\n",
    "# Tuning with keras tuner\n",
    "import tensorflow as tf\n",
    "from tensorflow import keras\n",
    "import keras_tuner as kt\n",
    "from keras_tuner import HyperModel\n",
    "from keras_tuner import HyperParameters"
   ]
  },
  {
   "cell_type": "markdown",
   "id": "50c1b0de",
   "metadata": {
    "papermill": {
     "duration": 0.024642,
     "end_time": "2022-03-24T13:57:09.284374",
     "exception": false,
     "start_time": "2022-03-24T13:57:09.259732",
     "status": "completed"
    },
    "tags": []
   },
   "source": [
    "### Uploading genomes"
   ]
  },
  {
   "cell_type": "code",
   "execution_count": 2,
   "id": "c14d65f1",
   "metadata": {
    "execution": {
     "iopub.execute_input": "2022-03-24T13:57:09.337226Z",
     "iopub.status.busy": "2022-03-24T13:57:09.336458Z",
     "iopub.status.idle": "2022-03-24T13:57:09.503717Z",
     "shell.execute_reply": "2022-03-24T13:57:09.502985Z",
     "shell.execute_reply.started": "2022-03-24T11:07:48.454393Z"
    },
    "papermill": {
     "duration": 0.194652,
     "end_time": "2022-03-24T13:57:09.503862",
     "exception": false,
     "start_time": "2022-03-24T13:57:09.309210",
     "status": "completed"
    },
    "tags": []
   },
   "outputs": [],
   "source": [
    "G = pd.read_csv('../input/genomes/G3_translated.csv').iloc[:, 1:]"
   ]
  },
  {
   "cell_type": "code",
   "execution_count": 3,
   "id": "3245114a",
   "metadata": {
    "execution": {
     "iopub.execute_input": "2022-03-24T13:57:09.562835Z",
     "iopub.status.busy": "2022-03-24T13:57:09.561995Z",
     "iopub.status.idle": "2022-03-24T13:57:09.566697Z",
     "shell.execute_reply": "2022-03-24T13:57:09.566286Z",
     "shell.execute_reply.started": "2022-03-24T11:07:48.73107Z"
    },
    "papermill": {
     "duration": 0.037493,
     "end_time": "2022-03-24T13:57:09.566807",
     "exception": false,
     "start_time": "2022-03-24T13:57:09.529314",
     "status": "completed"
    },
    "tags": []
   },
   "outputs": [],
   "source": [
    "G = G.dropna()"
   ]
  },
  {
   "cell_type": "code",
   "execution_count": 4,
   "id": "505abe6b",
   "metadata": {
    "execution": {
     "iopub.execute_input": "2022-03-24T13:57:09.625984Z",
     "iopub.status.busy": "2022-03-24T13:57:09.625490Z",
     "iopub.status.idle": "2022-03-24T13:57:09.636738Z",
     "shell.execute_reply": "2022-03-24T13:57:09.637127Z",
     "shell.execute_reply.started": "2022-03-24T11:07:48.955866Z"
    },
    "papermill": {
     "duration": 0.045419,
     "end_time": "2022-03-24T13:57:09.637271",
     "exception": false,
     "start_time": "2022-03-24T13:57:09.591852",
     "status": "completed"
    },
    "tags": []
   },
   "outputs": [
    {
     "data": {
      "text/html": [
       "<div>\n",
       "<style scoped>\n",
       "    .dataframe tbody tr th:only-of-type {\n",
       "        vertical-align: middle;\n",
       "    }\n",
       "\n",
       "    .dataframe tbody tr th {\n",
       "        vertical-align: top;\n",
       "    }\n",
       "\n",
       "    .dataframe thead th {\n",
       "        text-align: right;\n",
       "    }\n",
       "</style>\n",
       "<table border=\"1\" class=\"dataframe\">\n",
       "  <thead>\n",
       "    <tr style=\"text-align: right;\">\n",
       "      <th></th>\n",
       "      <th>Type</th>\n",
       "      <th>Sequence</th>\n",
       "      <th>Translated</th>\n",
       "    </tr>\n",
       "  </thead>\n",
       "  <tbody>\n",
       "    <tr>\n",
       "      <th>8617</th>\n",
       "      <td>CDS</td>\n",
       "      <td>ATGCTGCGCGACAGACTGCGTTTTTCTCGCCGTCTGCATTGTGTTA...</td>\n",
       "      <td>MLRDRLRFSRRLHCVKKVKNPDAQQAIFQEMAKEIDQAAGKVLLRE...</td>\n",
       "    </tr>\n",
       "    <tr>\n",
       "      <th>8618</th>\n",
       "      <td>CDS</td>\n",
       "      <td>ATGAATAAAATTTATTCACTGAAATATAGTCATATTACAGGTGGAT...</td>\n",
       "      <td>MNKIYSLKYSHITGGLVAVSELTRKVSVGTSRKKVILGIILSSIYG...</td>\n",
       "    </tr>\n",
       "    <tr>\n",
       "      <th>8619</th>\n",
       "      <td>CDS</td>\n",
       "      <td>ATGATGGAAATTCTGCGTGGTTCGCCTGCACTGTCGGCATTCCGAA...</td>\n",
       "      <td>MMEILRGSPALSAFRINKLLARFQAARLPVHNIYAEYVHFADLNAP...</td>\n",
       "    </tr>\n",
       "    <tr>\n",
       "      <th>8620</th>\n",
       "      <td>CDS</td>\n",
       "      <td>TTGAGCCAGGAATACACTGAAGACAAAGAAGTCACATTGACAAAGT...</td>\n",
       "      <td>LSQEYTEDKEVTLTKLSSGRRLLEALLILIVLFAVWLMAALLSFNP...</td>\n",
       "    </tr>\n",
       "    <tr>\n",
       "      <th>8621</th>\n",
       "      <td>CDS</td>\n",
       "      <td>ATGGTTTACTCCTATACCGAGAAAAAACGTATTCGTAAGGATTTTG...</td>\n",
       "      <td>MVYSYTEKKRIRKDFGKRPQVLDVPYLLSIQLDSFQKFIEQDPEGQ...</td>\n",
       "    </tr>\n",
       "    <tr>\n",
       "      <th>8622</th>\n",
       "      <td>CDS</td>\n",
       "      <td>ATGAACAAAATATATTATCTTAAGTATTGCCATATAACCAAAAGCC...</td>\n",
       "      <td>MNKIYYLKYCHITKSLIAVSELARRVTCKSHRRLSRRVILTSVAAL...</td>\n",
       "    </tr>\n",
       "    <tr>\n",
       "      <th>8623</th>\n",
       "      <td>CDS</td>\n",
       "      <td>GTGAATAAAGTTTATTCTCTTAAATATTGCCCCGTCACCGGGGGGC...</td>\n",
       "      <td>VNKVYSLKYCPVTGGLIAVSELARRVIKKTCRRLTHILLAGIPAIC...</td>\n",
       "    </tr>\n",
       "    <tr>\n",
       "      <th>8624</th>\n",
       "      <td>CDS</td>\n",
       "      <td>GTGAAAGATTTATTAAAGTTTCTGAAAGCGCAGACTAAAACCGAAG...</td>\n",
       "      <td>VKDLLKFLKAQTKTEEFDAIKIALASPDMIRSWSFGEVKKPETINY...</td>\n",
       "    </tr>\n",
       "    <tr>\n",
       "      <th>8625</th>\n",
       "      <td>CDS</td>\n",
       "      <td>ATGATTGAACGCGGTAAATTTCGCTCACTGACGCTGATTAACTGGA...</td>\n",
       "      <td>MIERGKFRSLTLINWNGFFARTFDLDELVTTLSGGNGAGKSTTMAA...</td>\n",
       "    </tr>\n",
       "    <tr>\n",
       "      <th>8626</th>\n",
       "      <td>CDS</td>\n",
       "      <td>ATGCGAGGCGCGCGTATGACACGCAAACCCCGTCGCCACGCTCTTT...</td>\n",
       "      <td>MRGARMTRKPRRHALSVPVRSGSEVGFPQSLGEVHDMLYDKSLERD...</td>\n",
       "    </tr>\n",
       "  </tbody>\n",
       "</table>\n",
       "</div>"
      ],
      "text/plain": [
       "     Type                                           Sequence  \\\n",
       "8617  CDS  ATGCTGCGCGACAGACTGCGTTTTTCTCGCCGTCTGCATTGTGTTA...   \n",
       "8618  CDS  ATGAATAAAATTTATTCACTGAAATATAGTCATATTACAGGTGGAT...   \n",
       "8619  CDS  ATGATGGAAATTCTGCGTGGTTCGCCTGCACTGTCGGCATTCCGAA...   \n",
       "8620  CDS  TTGAGCCAGGAATACACTGAAGACAAAGAAGTCACATTGACAAAGT...   \n",
       "8621  CDS  ATGGTTTACTCCTATACCGAGAAAAAACGTATTCGTAAGGATTTTG...   \n",
       "8622  CDS  ATGAACAAAATATATTATCTTAAGTATTGCCATATAACCAAAAGCC...   \n",
       "8623  CDS  GTGAATAAAGTTTATTCTCTTAAATATTGCCCCGTCACCGGGGGGC...   \n",
       "8624  CDS  GTGAAAGATTTATTAAAGTTTCTGAAAGCGCAGACTAAAACCGAAG...   \n",
       "8625  CDS  ATGATTGAACGCGGTAAATTTCGCTCACTGACGCTGATTAACTGGA...   \n",
       "8626  CDS  ATGCGAGGCGCGCGTATGACACGCAAACCCCGTCGCCACGCTCTTT...   \n",
       "\n",
       "                                             Translated  \n",
       "8617  MLRDRLRFSRRLHCVKKVKNPDAQQAIFQEMAKEIDQAAGKVLLRE...  \n",
       "8618  MNKIYSLKYSHITGGLVAVSELTRKVSVGTSRKKVILGIILSSIYG...  \n",
       "8619  MMEILRGSPALSAFRINKLLARFQAARLPVHNIYAEYVHFADLNAP...  \n",
       "8620  LSQEYTEDKEVTLTKLSSGRRLLEALLILIVLFAVWLMAALLSFNP...  \n",
       "8621  MVYSYTEKKRIRKDFGKRPQVLDVPYLLSIQLDSFQKFIEQDPEGQ...  \n",
       "8622  MNKIYYLKYCHITKSLIAVSELARRVTCKSHRRLSRRVILTSVAAL...  \n",
       "8623  VNKVYSLKYCPVTGGLIAVSELARRVIKKTCRRLTHILLAGIPAIC...  \n",
       "8624  VKDLLKFLKAQTKTEEFDAIKIALASPDMIRSWSFGEVKKPETINY...  \n",
       "8625  MIERGKFRSLTLINWNGFFARTFDLDELVTTLSGGNGAGKSTTMAA...  \n",
       "8626  MRGARMTRKPRRHALSVPVRSGSEVGFPQSLGEVHDMLYDKSLERD...  "
      ]
     },
     "execution_count": 4,
     "metadata": {},
     "output_type": "execute_result"
    }
   ],
   "source": [
    "G.tail(10)"
   ]
  },
  {
   "cell_type": "code",
   "execution_count": 5,
   "id": "1852903c",
   "metadata": {
    "execution": {
     "iopub.execute_input": "2022-03-24T13:57:09.693985Z",
     "iopub.status.busy": "2022-03-24T13:57:09.693418Z",
     "iopub.status.idle": "2022-03-24T13:57:09.696419Z",
     "shell.execute_reply": "2022-03-24T13:57:09.696973Z",
     "shell.execute_reply.started": "2022-03-24T11:07:49.026502Z"
    },
    "papermill": {
     "duration": 0.03385,
     "end_time": "2022-03-24T13:57:09.697136",
     "exception": false,
     "start_time": "2022-03-24T13:57:09.663286",
     "status": "completed"
    },
    "tags": []
   },
   "outputs": [
    {
     "name": "stdout",
     "output_type": "stream",
     "text": [
      "The shape of our dataframe is: (8627, 3)\n",
      "Rows: 8627\n",
      "Columns: 3\n"
     ]
    }
   ],
   "source": [
    "print('The shape of our dataframe is:', G.shape)\n",
    "print('Rows:', G.shape[0])\n",
    "print('Columns:', G.shape[1])"
   ]
  },
  {
   "cell_type": "markdown",
   "id": "eedf9703",
   "metadata": {
    "papermill": {
     "duration": 0.025737,
     "end_time": "2022-03-24T13:57:09.750482",
     "exception": false,
     "start_time": "2022-03-24T13:57:09.724745",
     "status": "completed"
    },
    "tags": []
   },
   "source": [
    "### Encoding data\n",
    "\n",
    "Using sklearn OneHotEncoder and LabelEncoder"
   ]
  },
  {
   "cell_type": "markdown",
   "id": "bc59b562",
   "metadata": {
    "papermill": {
     "duration": 0.025727,
     "end_time": "2022-03-24T13:57:09.801976",
     "exception": false,
     "start_time": "2022-03-24T13:57:09.776249",
     "status": "completed"
    },
    "tags": []
   },
   "source": [
    "#### Labels"
   ]
  },
  {
   "cell_type": "code",
   "execution_count": 6,
   "id": "05d2319b",
   "metadata": {
    "execution": {
     "iopub.execute_input": "2022-03-24T13:57:09.861117Z",
     "iopub.status.busy": "2022-03-24T13:57:09.860402Z",
     "iopub.status.idle": "2022-03-24T13:57:09.862639Z",
     "shell.execute_reply": "2022-03-24T13:57:09.863050Z",
     "shell.execute_reply.started": "2022-03-24T11:07:49.506752Z"
    },
    "papermill": {
     "duration": 0.034084,
     "end_time": "2022-03-24T13:57:09.863204",
     "exception": false,
     "start_time": "2022-03-24T13:57:09.829120",
     "status": "completed"
    },
    "tags": []
   },
   "outputs": [],
   "source": [
    "def encode_feature(array):\n",
    "    \"\"\" Encode a categorical array into a number array\n",
    "    \n",
    "    :param array: array to be encoded\n",
    "    :return: numerical array\n",
    "    \"\"\"\n",
    "  \n",
    "    encoder = preprocessing.LabelEncoder()\n",
    "    encoder.fit(array)\n",
    "    return encoder.transform(array)"
   ]
  },
  {
   "cell_type": "code",
   "execution_count": 7,
   "id": "f7e8e043",
   "metadata": {
    "execution": {
     "iopub.execute_input": "2022-03-24T13:57:09.922221Z",
     "iopub.status.busy": "2022-03-24T13:57:09.921497Z",
     "iopub.status.idle": "2022-03-24T13:57:09.925006Z",
     "shell.execute_reply": "2022-03-24T13:57:09.925618Z",
     "shell.execute_reply.started": "2022-03-24T11:07:49.698997Z"
    },
    "papermill": {
     "duration": 0.036563,
     "end_time": "2022-03-24T13:57:09.925786",
     "exception": false,
     "start_time": "2022-03-24T13:57:09.889223",
     "status": "completed"
    },
    "tags": []
   },
   "outputs": [
    {
     "name": "stdout",
     "output_type": "stream",
     "text": [
      "['LORF' 'LORF' 'LORF' ... 'CDS' 'CDS' 'CDS']\n"
     ]
    }
   ],
   "source": [
    "class_names = ['CDS', 'LORF']\n",
    "labels = G[\"Type\"].values\n",
    "print(labels)"
   ]
  },
  {
   "cell_type": "code",
   "execution_count": 8,
   "id": "ce5f2144",
   "metadata": {
    "execution": {
     "iopub.execute_input": "2022-03-24T13:57:09.988253Z",
     "iopub.status.busy": "2022-03-24T13:57:09.987517Z",
     "iopub.status.idle": "2022-03-24T13:57:09.990251Z",
     "shell.execute_reply": "2022-03-24T13:57:09.990722Z",
     "shell.execute_reply.started": "2022-03-24T11:07:49.925831Z"
    },
    "papermill": {
     "duration": 0.038038,
     "end_time": "2022-03-24T13:57:09.990896",
     "exception": false,
     "start_time": "2022-03-24T13:57:09.952858",
     "status": "completed"
    },
    "tags": []
   },
   "outputs": [
    {
     "data": {
      "text/plain": [
       "array([1, 1, 1, ..., 0, 0, 0])"
      ]
     },
     "execution_count": 8,
     "metadata": {},
     "output_type": "execute_result"
    }
   ],
   "source": [
    "labels = encode_feature(labels)\n",
    "labels"
   ]
  },
  {
   "cell_type": "markdown",
   "id": "3777c1a1",
   "metadata": {
    "papermill": {
     "duration": 0.027241,
     "end_time": "2022-03-24T13:57:10.046352",
     "exception": false,
     "start_time": "2022-03-24T13:57:10.019111",
     "status": "completed"
    },
    "tags": []
   },
   "source": [
    "#### Sequences\n",
    "\n",
    "The sequenes are are tokenized using keras tokenizer, then padded and finally one hot encoded."
   ]
  },
  {
   "cell_type": "code",
   "execution_count": 9,
   "id": "14f5d841",
   "metadata": {
    "execution": {
     "iopub.execute_input": "2022-03-24T13:57:10.105056Z",
     "iopub.status.busy": "2022-03-24T13:57:10.104242Z",
     "iopub.status.idle": "2022-03-24T13:57:10.111195Z",
     "shell.execute_reply": "2022-03-24T13:57:10.110734Z",
     "shell.execute_reply.started": "2022-03-24T11:07:50.353302Z"
    },
    "papermill": {
     "duration": 0.037522,
     "end_time": "2022-03-24T13:57:10.111323",
     "exception": false,
     "start_time": "2022-03-24T13:57:10.073801",
     "status": "completed"
    },
    "tags": []
   },
   "outputs": [
    {
     "data": {
      "text/plain": [
       "['LRAGGRLRRPAAFLDPVPALLHPAFAPVPSACAQCTSPPSVPEYDAALSSVAGHDRYHQRSL*',\n",
       " 'MAIINIKCTSIATRIRLRQTFFFFYDLFIIE*',\n",
       " 'MPEPRQPGGCKSGCGRI*',\n",
       " 'MPTVTNDCIGLKTMNYSE*',\n",
       " 'VIKSRMTRECHVRFREQPESETLSGGVPIAVANMRRCCTR*']"
      ]
     },
     "execution_count": 9,
     "metadata": {},
     "output_type": "execute_result"
    }
   ],
   "source": [
    "# Extract sequences\n",
    "samples = G['Translated'].values\n",
    "samples = list(samples)\n",
    "samples[0:5]"
   ]
  },
  {
   "cell_type": "code",
   "execution_count": 10,
   "id": "6bf5acc1",
   "metadata": {
    "execution": {
     "iopub.execute_input": "2022-03-24T13:57:10.193605Z",
     "iopub.status.busy": "2022-03-24T13:57:10.188422Z",
     "iopub.status.idle": "2022-03-24T13:57:10.977047Z",
     "shell.execute_reply": "2022-03-24T13:57:10.976244Z",
     "shell.execute_reply.started": "2022-03-24T11:07:50.594023Z"
    },
    "papermill": {
     "duration": 0.838761,
     "end_time": "2022-03-24T13:57:10.977195",
     "exception": false,
     "start_time": "2022-03-24T13:57:10.138434",
     "status": "completed"
    },
    "tags": []
   },
   "outputs": [],
   "source": [
    "# Tokenizer configured to only take into account the top-4 most common words\n",
    "tokenizer = Tokenizer(char_level=True)\n",
    "\n",
    "# This builds the word index\n",
    "tokenizer.fit_on_texts(samples)\n",
    "\n",
    "# This turns strings into lists of integer indices.\n",
    "seq_of_int = tokenizer.texts_to_sequences(samples)"
   ]
  },
  {
   "cell_type": "code",
   "execution_count": 11,
   "id": "e456f624",
   "metadata": {
    "execution": {
     "iopub.execute_input": "2022-03-24T13:57:11.041308Z",
     "iopub.status.busy": "2022-03-24T13:57:11.040676Z",
     "iopub.status.idle": "2022-03-24T13:57:11.043408Z",
     "shell.execute_reply": "2022-03-24T13:57:11.043798Z",
     "shell.execute_reply.started": "2022-03-24T11:07:52.222849Z"
    },
    "papermill": {
     "duration": 0.039054,
     "end_time": "2022-03-24T13:57:11.043939",
     "exception": false,
     "start_time": "2022-03-24T13:57:11.004885",
     "status": "completed"
    },
    "tags": []
   },
   "outputs": [
    {
     "data": {
      "text/plain": [
       "[1,\n",
       " 5,\n",
       " 2,\n",
       " 4,\n",
       " 4,\n",
       " 5,\n",
       " 1,\n",
       " 5,\n",
       " 5,\n",
       " 11,\n",
       " 2,\n",
       " 2,\n",
       " 14,\n",
       " 1,\n",
       " 10,\n",
       " 11,\n",
       " 3,\n",
       " 11,\n",
       " 2,\n",
       " 1,\n",
       " 1,\n",
       " 18,\n",
       " 11,\n",
       " 2,\n",
       " 14,\n",
       " 2,\n",
       " 11,\n",
       " 3,\n",
       " 11,\n",
       " 6,\n",
       " 2,\n",
       " 20,\n",
       " 2,\n",
       " 12,\n",
       " 20,\n",
       " 8,\n",
       " 6,\n",
       " 11,\n",
       " 11,\n",
       " 6,\n",
       " 3,\n",
       " 11,\n",
       " 9,\n",
       " 16,\n",
       " 10,\n",
       " 2,\n",
       " 2,\n",
       " 1,\n",
       " 6,\n",
       " 6,\n",
       " 3,\n",
       " 2,\n",
       " 4,\n",
       " 18,\n",
       " 10,\n",
       " 5,\n",
       " 16,\n",
       " 18,\n",
       " 12,\n",
       " 5,\n",
       " 6,\n",
       " 1,\n",
       " 21]"
      ]
     },
     "execution_count": 11,
     "metadata": {},
     "output_type": "execute_result"
    }
   ],
   "source": [
    "seq_of_int[0]"
   ]
  },
  {
   "cell_type": "code",
   "execution_count": 12,
   "id": "7fe654ff",
   "metadata": {
    "execution": {
     "iopub.execute_input": "2022-03-24T13:57:11.108877Z",
     "iopub.status.busy": "2022-03-24T13:57:11.108060Z",
     "iopub.status.idle": "2022-03-24T13:57:11.111332Z",
     "shell.execute_reply": "2022-03-24T13:57:11.111896Z",
     "shell.execute_reply.started": "2022-03-24T11:07:52.231948Z"
    },
    "papermill": {
     "duration": 0.038828,
     "end_time": "2022-03-24T13:57:11.112071",
     "exception": false,
     "start_time": "2022-03-24T13:57:11.073243",
     "status": "completed"
    },
    "tags": []
   },
   "outputs": [
    {
     "name": "stdout",
     "output_type": "stream",
     "text": [
      "Longest amino acid sequence is: 1523\n"
     ]
    }
   ],
   "source": [
    "print('Longest amino acid sequence is:', len(samples[len(G)-1]))"
   ]
  },
  {
   "cell_type": "code",
   "execution_count": 13,
   "id": "f7f317b3",
   "metadata": {
    "execution": {
     "iopub.execute_input": "2022-03-24T13:57:11.183414Z",
     "iopub.status.busy": "2022-03-24T13:57:11.181941Z",
     "iopub.status.idle": "2022-03-24T13:57:11.384500Z",
     "shell.execute_reply": "2022-03-24T13:57:11.383623Z",
     "shell.execute_reply.started": "2022-03-24T11:07:52.2416Z"
    },
    "papermill": {
     "duration": 0.240388,
     "end_time": "2022-03-24T13:57:11.384643",
     "exception": false,
     "start_time": "2022-03-24T13:57:11.144255",
     "status": "completed"
    },
    "tags": []
   },
   "outputs": [],
   "source": [
    "max_len = len(samples[len(G)-1])\n",
    "#max_len = 1600\n",
    "seq_padded = sequence.pad_sequences(seq_of_int, maxlen=max_len, dtype='int32', value=0.0) # if maxlen=None then the maximum lenght is the longest sequence in genome"
   ]
  },
  {
   "cell_type": "code",
   "execution_count": 14,
   "id": "bdf6f9ce",
   "metadata": {
    "execution": {
     "iopub.execute_input": "2022-03-24T13:57:11.446403Z",
     "iopub.status.busy": "2022-03-24T13:57:11.445274Z",
     "iopub.status.idle": "2022-03-24T13:57:11.448379Z",
     "shell.execute_reply": "2022-03-24T13:57:11.448745Z",
     "shell.execute_reply.started": "2022-03-24T11:07:52.618368Z"
    },
    "papermill": {
     "duration": 0.036223,
     "end_time": "2022-03-24T13:57:11.448877",
     "exception": false,
     "start_time": "2022-03-24T13:57:11.412654",
     "status": "completed"
    },
    "tags": []
   },
   "outputs": [
    {
     "data": {
      "text/plain": [
       "(8627, 1523)"
      ]
     },
     "execution_count": 14,
     "metadata": {},
     "output_type": "execute_result"
    }
   ],
   "source": [
    "np.shape(seq_padded)"
   ]
  },
  {
   "cell_type": "markdown",
   "id": "bf35cf31",
   "metadata": {
    "papermill": {
     "duration": 0.027961,
     "end_time": "2022-03-24T13:57:11.504634",
     "exception": false,
     "start_time": "2022-03-24T13:57:11.476673",
     "status": "completed"
    },
    "tags": []
   },
   "source": [
    "### Create training and test data"
   ]
  },
  {
   "cell_type": "code",
   "execution_count": 15,
   "id": "9915cf24",
   "metadata": {
    "execution": {
     "iopub.execute_input": "2022-03-24T13:57:11.565472Z",
     "iopub.status.busy": "2022-03-24T13:57:11.564601Z",
     "iopub.status.idle": "2022-03-24T13:57:11.586772Z",
     "shell.execute_reply": "2022-03-24T13:57:11.586319Z"
    },
    "papermill": {
     "duration": 0.054442,
     "end_time": "2022-03-24T13:57:11.586895",
     "exception": false,
     "start_time": "2022-03-24T13:57:11.532453",
     "status": "completed"
    },
    "tags": []
   },
   "outputs": [],
   "source": [
    "# Split the data into training and testing sets -> x = features and y = labels/targets\n",
    "train_x, test_x, train_y, test_y = train_test_split(seq_padded, labels, test_size = 0.2, random_state = 42)"
   ]
  },
  {
   "cell_type": "code",
   "execution_count": 16,
   "id": "68cdacfa",
   "metadata": {
    "execution": {
     "iopub.execute_input": "2022-03-24T13:57:11.648337Z",
     "iopub.status.busy": "2022-03-24T13:57:11.647642Z",
     "iopub.status.idle": "2022-03-24T13:57:11.651400Z",
     "shell.execute_reply": "2022-03-24T13:57:11.651766Z"
    },
    "papermill": {
     "duration": 0.036786,
     "end_time": "2022-03-24T13:57:11.651902",
     "exception": false,
     "start_time": "2022-03-24T13:57:11.615116",
     "status": "completed"
    },
    "tags": []
   },
   "outputs": [
    {
     "name": "stdout",
     "output_type": "stream",
     "text": [
      "Input data:\n",
      "6901 train sequences\n",
      "1726 test sequences\n"
     ]
    }
   ],
   "source": [
    "print('Input data:')\n",
    "print(len(train_x), 'train sequences')\n",
    "print(len(test_x), 'test sequences')"
   ]
  },
  {
   "cell_type": "code",
   "execution_count": 17,
   "id": "e3e4b6c8",
   "metadata": {
    "execution": {
     "iopub.execute_input": "2022-03-24T13:57:11.713133Z",
     "iopub.status.busy": "2022-03-24T13:57:11.712649Z",
     "iopub.status.idle": "2022-03-24T13:57:11.716131Z",
     "shell.execute_reply": "2022-03-24T13:57:11.715735Z"
    },
    "papermill": {
     "duration": 0.035776,
     "end_time": "2022-03-24T13:57:11.716267",
     "exception": false,
     "start_time": "2022-03-24T13:57:11.680491",
     "status": "completed"
    },
    "tags": []
   },
   "outputs": [],
   "source": [
    "input_dim = 22 # input dimension: 21 amino acids + padding\n",
    "\n",
    "embedding_size = min(np.ceil((input_dim)/2), 50)\n",
    "embedding_size = int(embedding_size)\n",
    "\n",
    "output_dim = embedding_size\n",
    "input_length = max_len"
   ]
  },
  {
   "cell_type": "markdown",
   "id": "aed4d6cd",
   "metadata": {
    "papermill": {
     "duration": 0.028307,
     "end_time": "2022-03-24T13:57:11.773371",
     "exception": false,
     "start_time": "2022-03-24T13:57:11.745064",
     "status": "completed"
    },
    "tags": []
   },
   "source": [
    "### Tuning"
   ]
  },
  {
   "cell_type": "markdown",
   "id": "a7063d47",
   "metadata": {
    "papermill": {
     "duration": 0.028224,
     "end_time": "2022-03-24T13:57:11.830466",
     "exception": false,
     "start_time": "2022-03-24T13:57:11.802242",
     "status": "completed"
    },
    "tags": []
   },
   "source": [
    "#### Keras tuner"
   ]
  },
  {
   "cell_type": "code",
   "execution_count": 18,
   "id": "0c06bbd9",
   "metadata": {
    "execution": {
     "iopub.execute_input": "2022-03-24T13:57:11.908582Z",
     "iopub.status.busy": "2022-03-24T13:57:11.907895Z",
     "iopub.status.idle": "2022-03-24T13:57:11.911197Z",
     "shell.execute_reply": "2022-03-24T13:57:11.910748Z"
    },
    "papermill": {
     "duration": 0.050788,
     "end_time": "2022-03-24T13:57:11.911375",
     "exception": false,
     "start_time": "2022-03-24T13:57:11.860587",
     "status": "completed"
    },
    "tags": []
   },
   "outputs": [],
   "source": [
    "def model_builder(hp):\n",
    "    \n",
    "    # Tune the number of units in the first LSTM layer - value between 32-512\n",
    "    hp_units = hp.Int('units', min_value=32, max_value=512, step=32)\n",
    "    \n",
    "    # Tune the learning rate for the optimizer -value from 0.01, 0.001 or 0.0001\n",
    "    hp_learning_rate = hp.Choice('learning_rate', values=[1e-1,1e-2, 1e-3, 1e-4, 1e-5])\n",
    "    \n",
    "    # Optimizer\n",
    "    #opt_adam = keras.optimizers.Adam(learning_rate = hp_learning_rate)\n",
    "    opt_rmsprop = keras.optimizers.RMSprop(learning_rate = hp_learning_rate)\n",
    "    \n",
    "    # Different loss functions\n",
    "    loss = hp.Choice('loss', values = ['binary_crossentropy', 'hinge', 'squared_hinge'])\n",
    "    \n",
    "    # Different drop values\n",
    "    drop = hp.Choice('dropout', values = list(np.linspace(0,0.9, num=10)))\n",
    "    \n",
    "    model = keras.Sequential()\n",
    "    model.add(Embedding(input_dim, output_dim))\n",
    "    model.add(LSTM(units = hp_units))\n",
    "    model.add(Dropout(rate = drop))\n",
    "    \n",
    "    # Test different amount of layers for the model\n",
    "    #for i in range(hp.Int('n_layers', 1,6)):\n",
    "    #    hp_unit = hp.Int(f'units {i}', min_value = 32, max_value =1024 , step = 32)\n",
    "    #    model.add(LSTM(units = hp_unit, activation = hp_activation))\n",
    "    \n",
    "    model.add(Dense(1, activation = 'sigmoid'))\n",
    "    \n",
    "    model.compile(optimizer = opt_rmsprop,\n",
    "                  loss = loss,\n",
    "                  metrics = ['accuracy'])\n",
    "    \n",
    "    return model"
   ]
  },
  {
   "cell_type": "code",
   "execution_count": 19,
   "id": "1b77d775",
   "metadata": {
    "execution": {
     "iopub.execute_input": "2022-03-24T13:57:11.974183Z",
     "iopub.status.busy": "2022-03-24T13:57:11.973503Z",
     "iopub.status.idle": "2022-03-24T13:57:14.527216Z",
     "shell.execute_reply": "2022-03-24T13:57:14.526708Z"
    },
    "papermill": {
     "duration": 2.585803,
     "end_time": "2022-03-24T13:57:14.527354",
     "exception": false,
     "start_time": "2022-03-24T13:57:11.941551",
     "status": "completed"
    },
    "tags": []
   },
   "outputs": [
    {
     "name": "stderr",
     "output_type": "stream",
     "text": [
      "2022-03-24 13:57:12.043670: I tensorflow/stream_executor/cuda/cuda_gpu_executor.cc:937] successful NUMA node read from SysFS had negative value (-1), but there must be at least one NUMA node, so returning NUMA node zero\n",
      "2022-03-24 13:57:12.131885: I tensorflow/stream_executor/cuda/cuda_gpu_executor.cc:937] successful NUMA node read from SysFS had negative value (-1), but there must be at least one NUMA node, so returning NUMA node zero\n",
      "2022-03-24 13:57:12.132603: I tensorflow/stream_executor/cuda/cuda_gpu_executor.cc:937] successful NUMA node read from SysFS had negative value (-1), but there must be at least one NUMA node, so returning NUMA node zero\n",
      "2022-03-24 13:57:12.133697: I tensorflow/core/platform/cpu_feature_guard.cc:142] This TensorFlow binary is optimized with oneAPI Deep Neural Network Library (oneDNN) to use the following CPU instructions in performance-critical operations:  AVX2 AVX512F FMA\n",
      "To enable them in other operations, rebuild TensorFlow with the appropriate compiler flags.\n",
      "2022-03-24 13:57:12.134687: I tensorflow/stream_executor/cuda/cuda_gpu_executor.cc:937] successful NUMA node read from SysFS had negative value (-1), but there must be at least one NUMA node, so returning NUMA node zero\n",
      "2022-03-24 13:57:12.135359: I tensorflow/stream_executor/cuda/cuda_gpu_executor.cc:937] successful NUMA node read from SysFS had negative value (-1), but there must be at least one NUMA node, so returning NUMA node zero\n",
      "2022-03-24 13:57:12.135953: I tensorflow/stream_executor/cuda/cuda_gpu_executor.cc:937] successful NUMA node read from SysFS had negative value (-1), but there must be at least one NUMA node, so returning NUMA node zero\n",
      "2022-03-24 13:57:13.927975: I tensorflow/stream_executor/cuda/cuda_gpu_executor.cc:937] successful NUMA node read from SysFS had negative value (-1), but there must be at least one NUMA node, so returning NUMA node zero\n",
      "2022-03-24 13:57:13.928794: I tensorflow/stream_executor/cuda/cuda_gpu_executor.cc:937] successful NUMA node read from SysFS had negative value (-1), but there must be at least one NUMA node, so returning NUMA node zero\n",
      "2022-03-24 13:57:13.929652: I tensorflow/stream_executor/cuda/cuda_gpu_executor.cc:937] successful NUMA node read from SysFS had negative value (-1), but there must be at least one NUMA node, so returning NUMA node zero\n",
      "2022-03-24 13:57:13.930278: I tensorflow/core/common_runtime/gpu/gpu_device.cc:1510] Created device /job:localhost/replica:0/task:0/device:GPU:0 with 15403 MB memory:  -> device: 0, name: Tesla P100-PCIE-16GB, pci bus id: 0000:00:04.0, compute capability: 6.0\n"
     ]
    }
   ],
   "source": [
    "tuner = kt.Hyperband(model_builder,\n",
    "                     objective='val_accuracy',\n",
    "                     max_epochs=10,\n",
    "                     factor=3)"
   ]
  },
  {
   "cell_type": "code",
   "execution_count": 20,
   "id": "82fb60ab",
   "metadata": {
    "execution": {
     "iopub.execute_input": "2022-03-24T13:57:14.595945Z",
     "iopub.status.busy": "2022-03-24T13:57:14.595004Z",
     "iopub.status.idle": "2022-03-24T13:57:14.597964Z",
     "shell.execute_reply": "2022-03-24T13:57:14.599199Z"
    },
    "papermill": {
     "duration": 0.042131,
     "end_time": "2022-03-24T13:57:14.599412",
     "exception": false,
     "start_time": "2022-03-24T13:57:14.557281",
     "status": "completed"
    },
    "tags": []
   },
   "outputs": [],
   "source": [
    "stop_early = tf.keras.callbacks.EarlyStopping(monitor='val_loss', patience=8)"
   ]
  },
  {
   "cell_type": "code",
   "execution_count": 21,
   "id": "1af66ee4",
   "metadata": {
    "execution": {
     "iopub.execute_input": "2022-03-24T13:57:14.670556Z",
     "iopub.status.busy": "2022-03-24T13:57:14.669449Z",
     "iopub.status.idle": "2022-03-24T14:34:38.411768Z",
     "shell.execute_reply": "2022-03-24T14:34:38.412129Z"
    },
    "papermill": {
     "duration": 2243.778821,
     "end_time": "2022-03-24T14:34:38.412345",
     "exception": false,
     "start_time": "2022-03-24T13:57:14.633524",
     "status": "completed"
    },
    "tags": []
   },
   "outputs": [
    {
     "name": "stdout",
     "output_type": "stream",
     "text": [
      "Trial 30 Complete [00h 02m 24s]\n",
      "val_accuracy: 0.49456915259361267\n",
      "\n",
      "Best val_accuracy So Far: 0.8218682408332825\n",
      "Total elapsed time: 00h 37m 23s\n"
     ]
    }
   ],
   "source": [
    "tuner.search(train_x, train_y, epochs=20, validation_split=0.2, callbacks=[stop_early])"
   ]
  },
  {
   "cell_type": "code",
   "execution_count": 22,
   "id": "ecc5b60f",
   "metadata": {
    "execution": {
     "iopub.execute_input": "2022-03-24T14:34:38.476684Z",
     "iopub.status.busy": "2022-03-24T14:34:38.476132Z",
     "iopub.status.idle": "2022-03-24T14:34:38.480008Z",
     "shell.execute_reply": "2022-03-24T14:34:38.480791Z"
    },
    "papermill": {
     "duration": 0.038801,
     "end_time": "2022-03-24T14:34:38.480916",
     "exception": false,
     "start_time": "2022-03-24T14:34:38.442115",
     "status": "completed"
    },
    "tags": []
   },
   "outputs": [
    {
     "name": "stdout",
     "output_type": "stream",
     "text": [
      "The hyperparameter search is complete!\n",
      " \n",
      "The optimal number of units in the first LSTM layer is: 128.\n",
      " \n",
      "The optimal learning rate for the optimizer is: 0.001.\n",
      " \n",
      "The optimal dropout rate is: 0.2.\n",
      " \n",
      "The optimal loss function is: binary_crossentropy.\n",
      "\n"
     ]
    }
   ],
   "source": [
    "# Get the optimal hyperparameters\n",
    "tuner.get_best_hyperparameters(num_trials = 1)[0]\n",
    "best_hps = tuner.get_best_hyperparameters(num_trials = 1)[0]\n",
    "\n",
    "print(f\"\"\"The hyperparameter search is complete!\\n \n",
    "The optimal number of units in the first LSTM layer is: {best_hps.get('units')}.\\n \n",
    "The optimal learning rate for the optimizer is: {best_hps.get('learning_rate')}.\\n \n",
    "The optimal dropout rate is: {best_hps.get('dropout')}.\\n \n",
    "The optimal loss function is: {best_hps.get('loss')}.\\n\"\"\")"
   ]
  },
  {
   "cell_type": "markdown",
   "id": "23c124ac",
   "metadata": {
    "papermill": {
     "duration": 0.029849,
     "end_time": "2022-03-24T14:34:38.540519",
     "exception": false,
     "start_time": "2022-03-24T14:34:38.510670",
     "status": "completed"
    },
    "tags": []
   },
   "source": [
    "#### Tune number of epochs"
   ]
  },
  {
   "cell_type": "code",
   "execution_count": 23,
   "id": "0c152821",
   "metadata": {
    "execution": {
     "iopub.execute_input": "2022-03-24T14:34:38.608722Z",
     "iopub.status.busy": "2022-03-24T14:34:38.606134Z",
     "iopub.status.idle": "2022-03-24T14:42:11.455661Z",
     "shell.execute_reply": "2022-03-24T14:42:11.455237Z"
    },
    "papermill": {
     "duration": 452.88551,
     "end_time": "2022-03-24T14:42:11.455800",
     "exception": false,
     "start_time": "2022-03-24T14:34:38.570290",
     "status": "completed"
    },
    "tags": []
   },
   "outputs": [
    {
     "name": "stdout",
     "output_type": "stream",
     "text": [
      "Epoch 1/30\n",
      "173/173 [==============================] - 15s 76ms/step - loss: 0.6565 - accuracy: 0.6281 - val_loss: 0.5425 - val_accuracy: 0.7545\n",
      "Epoch 2/30\n",
      "173/173 [==============================] - 13s 75ms/step - loss: 0.5025 - accuracy: 0.7947 - val_loss: 0.4549 - val_accuracy: 0.8081\n",
      "Epoch 3/30\n",
      "173/173 [==============================] - 13s 76ms/step - loss: 0.4699 - accuracy: 0.8134 - val_loss: 0.4383 - val_accuracy: 0.8132\n",
      "Epoch 4/30\n",
      "173/173 [==============================] - 13s 75ms/step - loss: 0.4389 - accuracy: 0.8176 - val_loss: 0.4707 - val_accuracy: 0.7820\n",
      "Epoch 5/30\n",
      "173/173 [==============================] - 13s 75ms/step - loss: 0.4312 - accuracy: 0.8205 - val_loss: 0.4269 - val_accuracy: 0.8117\n",
      "Epoch 6/30\n",
      "173/173 [==============================] - 13s 74ms/step - loss: 0.4219 - accuracy: 0.8239 - val_loss: 0.5082 - val_accuracy: 0.7994\n",
      "Epoch 7/30\n",
      "173/173 [==============================] - 13s 75ms/step - loss: 0.4172 - accuracy: 0.8277 - val_loss: 0.4464 - val_accuracy: 0.8096\n",
      "Epoch 8/30\n",
      "173/173 [==============================] - 13s 76ms/step - loss: 0.4167 - accuracy: 0.8293 - val_loss: 0.4315 - val_accuracy: 0.8154\n",
      "Epoch 9/30\n",
      "173/173 [==============================] - 13s 75ms/step - loss: 0.4119 - accuracy: 0.8322 - val_loss: 0.4373 - val_accuracy: 0.8161\n",
      "Epoch 10/30\n",
      "173/173 [==============================] - 13s 77ms/step - loss: 0.4100 - accuracy: 0.8341 - val_loss: 0.4256 - val_accuracy: 0.8204\n",
      "Epoch 11/30\n",
      "173/173 [==============================] - 13s 74ms/step - loss: 0.4087 - accuracy: 0.8283 - val_loss: 0.4195 - val_accuracy: 0.8219\n",
      "Epoch 12/30\n",
      "173/173 [==============================] - 13s 75ms/step - loss: 0.4096 - accuracy: 0.8319 - val_loss: 0.4434 - val_accuracy: 0.8117\n",
      "Epoch 13/30\n",
      "173/173 [==============================] - 13s 76ms/step - loss: 0.4031 - accuracy: 0.8322 - val_loss: 0.4119 - val_accuracy: 0.8284\n",
      "Epoch 14/30\n",
      "173/173 [==============================] - 13s 75ms/step - loss: 0.4097 - accuracy: 0.8292 - val_loss: 0.4149 - val_accuracy: 0.8255\n",
      "Epoch 15/30\n",
      "173/173 [==============================] - 13s 78ms/step - loss: 0.4025 - accuracy: 0.8364 - val_loss: 0.4436 - val_accuracy: 0.8125\n",
      "Epoch 16/30\n",
      "173/173 [==============================] - 13s 74ms/step - loss: 0.4007 - accuracy: 0.8371 - val_loss: 0.4207 - val_accuracy: 0.8284\n",
      "Epoch 17/30\n",
      "173/173 [==============================] - 13s 75ms/step - loss: 0.4022 - accuracy: 0.8348 - val_loss: 0.4356 - val_accuracy: 0.8248\n",
      "Epoch 18/30\n",
      "173/173 [==============================] - 13s 76ms/step - loss: 0.4005 - accuracy: 0.8361 - val_loss: 0.4254 - val_accuracy: 0.8269\n",
      "Epoch 19/30\n",
      "173/173 [==============================] - 13s 75ms/step - loss: 0.3964 - accuracy: 0.8380 - val_loss: 0.4079 - val_accuracy: 0.8269\n",
      "Epoch 20/30\n",
      "173/173 [==============================] - 13s 75ms/step - loss: 0.3931 - accuracy: 0.8391 - val_loss: 0.4143 - val_accuracy: 0.8277\n",
      "Epoch 21/30\n",
      "173/173 [==============================] - 13s 76ms/step - loss: 0.3905 - accuracy: 0.8382 - val_loss: 0.4345 - val_accuracy: 0.8154\n",
      "Epoch 22/30\n",
      "173/173 [==============================] - 13s 75ms/step - loss: 0.3960 - accuracy: 0.8393 - val_loss: 0.4173 - val_accuracy: 0.8233\n",
      "Epoch 23/30\n",
      "173/173 [==============================] - 13s 77ms/step - loss: 0.3960 - accuracy: 0.8368 - val_loss: 0.4151 - val_accuracy: 0.8240\n",
      "Epoch 24/30\n",
      "173/173 [==============================] - 13s 75ms/step - loss: 0.3864 - accuracy: 0.8409 - val_loss: 0.4398 - val_accuracy: 0.8088\n",
      "Epoch 25/30\n",
      "173/173 [==============================] - 13s 75ms/step - loss: 0.3922 - accuracy: 0.8380 - val_loss: 0.4189 - val_accuracy: 0.8277\n",
      "Epoch 26/30\n",
      "173/173 [==============================] - 13s 76ms/step - loss: 0.3945 - accuracy: 0.8397 - val_loss: 0.4343 - val_accuracy: 0.8161\n",
      "Epoch 27/30\n",
      "173/173 [==============================] - 13s 75ms/step - loss: 0.3927 - accuracy: 0.8426 - val_loss: 0.4311 - val_accuracy: 0.8240\n",
      "Epoch 28/30\n",
      "173/173 [==============================] - 13s 76ms/step - loss: 0.3920 - accuracy: 0.8400 - val_loss: 0.4214 - val_accuracy: 0.8197\n",
      "Epoch 29/30\n",
      "173/173 [==============================] - 13s 75ms/step - loss: 0.3888 - accuracy: 0.8408 - val_loss: 0.4225 - val_accuracy: 0.8262\n",
      "Epoch 30/30\n",
      "173/173 [==============================] - 13s 74ms/step - loss: 0.4154 - accuracy: 0.8277 - val_loss: 0.4241 - val_accuracy: 0.8204\n",
      "Best epoch: 13\n"
     ]
    }
   ],
   "source": [
    "# Build the model with the optimal hyperparameters and train it on the data for 30 epochs\n",
    "model = tuner.hypermodel.build(best_hps)\n",
    "history = model.fit(train_x, train_y, epochs=30, validation_split=0.2)\n",
    "\n",
    "val_acc_per_epoch = history.history['val_accuracy']\n",
    "best_epoch = val_acc_per_epoch.index(max(val_acc_per_epoch)) + 1\n",
    "print('Best epoch: %d' % (best_epoch,))"
   ]
  },
  {
   "cell_type": "markdown",
   "id": "c60e4de8",
   "metadata": {
    "papermill": {
     "duration": 1.748746,
     "end_time": "2022-03-24T14:42:15.501653",
     "exception": false,
     "start_time": "2022-03-24T14:42:13.752907",
     "status": "completed"
    },
    "tags": []
   },
   "source": [
    "#### Train model again with best number of epochs:"
   ]
  },
  {
   "cell_type": "code",
   "execution_count": 24,
   "id": "22a1f3e7",
   "metadata": {
    "execution": {
     "iopub.execute_input": "2022-03-24T14:42:18.735485Z",
     "iopub.status.busy": "2022-03-24T14:42:18.734668Z",
     "iopub.status.idle": "2022-03-24T14:45:44.654778Z",
     "shell.execute_reply": "2022-03-24T14:45:44.655254Z"
    },
    "papermill": {
     "duration": 207.535204,
     "end_time": "2022-03-24T14:45:44.655409",
     "exception": false,
     "start_time": "2022-03-24T14:42:17.120205",
     "status": "completed"
    },
    "tags": []
   },
   "outputs": [
    {
     "name": "stdout",
     "output_type": "stream",
     "text": [
      "Epoch 1/13\n",
      "173/173 [==============================] - 15s 76ms/step - loss: 0.6952 - accuracy: 0.5433 - val_loss: 0.6965 - val_accuracy: 0.5054\n",
      "Epoch 2/13\n",
      "173/173 [==============================] - 13s 77ms/step - loss: 0.5684 - accuracy: 0.7147 - val_loss: 0.5312 - val_accuracy: 0.7545\n",
      "Epoch 3/13\n",
      "173/173 [==============================] - 13s 76ms/step - loss: 0.4651 - accuracy: 0.8101 - val_loss: 0.4698 - val_accuracy: 0.7965\n",
      "Epoch 4/13\n",
      "173/173 [==============================] - 13s 75ms/step - loss: 0.4503 - accuracy: 0.8120 - val_loss: 0.4568 - val_accuracy: 0.8103\n",
      "Epoch 5/13\n",
      "173/173 [==============================] - 13s 77ms/step - loss: 0.4368 - accuracy: 0.8179 - val_loss: 0.4483 - val_accuracy: 0.8110\n",
      "Epoch 6/13\n",
      "173/173 [==============================] - 13s 74ms/step - loss: 0.4285 - accuracy: 0.8225 - val_loss: 0.4265 - val_accuracy: 0.8146\n",
      "Epoch 7/13\n",
      "173/173 [==============================] - 13s 76ms/step - loss: 0.4257 - accuracy: 0.8254 - val_loss: 0.4447 - val_accuracy: 0.7972\n",
      "Epoch 8/13\n",
      "173/173 [==============================] - 13s 76ms/step - loss: 0.4237 - accuracy: 0.8236 - val_loss: 0.4269 - val_accuracy: 0.8096\n",
      "Epoch 9/13\n",
      "173/173 [==============================] - 13s 75ms/step - loss: 0.4143 - accuracy: 0.8304 - val_loss: 0.4421 - val_accuracy: 0.8096\n",
      "Epoch 10/13\n",
      "173/173 [==============================] - 13s 78ms/step - loss: 0.4133 - accuracy: 0.8321 - val_loss: 0.4281 - val_accuracy: 0.8168\n",
      "Epoch 11/13\n",
      "173/173 [==============================] - 13s 75ms/step - loss: 0.4078 - accuracy: 0.8304 - val_loss: 0.4205 - val_accuracy: 0.8226\n",
      "Epoch 12/13\n",
      "173/173 [==============================] - 13s 75ms/step - loss: 0.4101 - accuracy: 0.8328 - val_loss: 0.4183 - val_accuracy: 0.8240\n",
      "Epoch 13/13\n",
      "173/173 [==============================] - 13s 77ms/step - loss: 0.4082 - accuracy: 0.8350 - val_loss: 0.4228 - val_accuracy: 0.8211\n"
     ]
    },
    {
     "data": {
      "text/plain": [
       "<keras.callbacks.History at 0x7f8a68f82b50>"
      ]
     },
     "execution_count": 24,
     "metadata": {},
     "output_type": "execute_result"
    }
   ],
   "source": [
    "hypermodel = tuner.hypermodel.build(best_hps)\n",
    "\n",
    "# Retrain the model\n",
    "hypermodel.fit(train_x, train_y, epochs=best_epoch, validation_split=0.2)"
   ]
  },
  {
   "cell_type": "markdown",
   "id": "b66f3d6e",
   "metadata": {
    "papermill": {
     "duration": 2.31416,
     "end_time": "2022-03-24T14:45:49.368320",
     "exception": false,
     "start_time": "2022-03-24T14:45:47.054160",
     "status": "completed"
    },
    "tags": []
   },
   "source": [
    "#### Evaluate the model on the test data:"
   ]
  },
  {
   "cell_type": "code",
   "execution_count": 25,
   "id": "153e524c",
   "metadata": {
    "execution": {
     "iopub.execute_input": "2022-03-24T14:45:54.227205Z",
     "iopub.status.busy": "2022-03-24T14:45:54.226279Z",
     "iopub.status.idle": "2022-03-24T14:45:55.776409Z",
     "shell.execute_reply": "2022-03-24T14:45:55.776952Z"
    },
    "papermill": {
     "duration": 4.102339,
     "end_time": "2022-03-24T14:45:55.777160",
     "exception": false,
     "start_time": "2022-03-24T14:45:51.674821",
     "status": "completed"
    },
    "tags": []
   },
   "outputs": [
    {
     "name": "stdout",
     "output_type": "stream",
     "text": [
      "54/54 [==============================] - 2s 28ms/step - loss: 0.4201 - accuracy: 0.8204\n",
      "[test loss, test accuracy]: [0.4201381504535675, 0.820393979549408]\n"
     ]
    }
   ],
   "source": [
    "eval_result = hypermodel.evaluate(test_x, test_y)\n",
    "print(\"[test loss, test accuracy]:\", eval_result)"
   ]
  },
  {
   "cell_type": "markdown",
   "id": "443e6e9c",
   "metadata": {
    "papermill": {
     "duration": 2.292522,
     "end_time": "2022-03-24T14:46:00.429166",
     "exception": false,
     "start_time": "2022-03-24T14:45:58.136644",
     "status": "completed"
    },
    "tags": []
   },
   "source": [
    "**Next:**\n",
    "- Check the results of the hypertuning. Are there paramters that are at the maximum or minima? - If so tune these again.\n",
    "- Try rmsprop optimizer instead of adam\n",
    "- Try tuning number of layers \n",
    "- Try early stopping\n",
    "- Tune bach size and number of epochs"
   ]
  }
 ],
 "metadata": {
  "kernelspec": {
   "display_name": "Python 3",
   "language": "python",
   "name": "python3"
  },
  "language_info": {
   "codemirror_mode": {
    "name": "ipython",
    "version": 3
   },
   "file_extension": ".py",
   "mimetype": "text/x-python",
   "name": "python",
   "nbconvert_exporter": "python",
   "pygments_lexer": "ipython3",
   "version": "3.7.12"
  },
  "papermill": {
   "default_parameters": {},
   "duration": 2951.056905,
   "end_time": "2022-03-24T14:46:06.600941",
   "environment_variables": {},
   "exception": null,
   "input_path": "__notebook__.ipynb",
   "output_path": "__notebook__.ipynb",
   "parameters": {},
   "start_time": "2022-03-24T13:56:55.544036",
   "version": "2.3.3"
  }
 },
 "nbformat": 4,
 "nbformat_minor": 5
}
