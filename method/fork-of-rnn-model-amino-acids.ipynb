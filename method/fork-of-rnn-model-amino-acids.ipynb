{
 "cells": [
  {
   "cell_type": "markdown",
   "id": "e4719cf2",
   "metadata": {
    "papermill": {
     "duration": 0.025687,
     "end_time": "2022-04-25T08:12:31.012884",
     "exception": false,
     "start_time": "2022-04-25T08:12:30.987197",
     "status": "completed"
    },
    "tags": []
   },
   "source": [
    "# Simple RNN model - amino acid sequences"
   ]
  },
  {
   "cell_type": "code",
   "execution_count": 1,
   "id": "bfd6580c",
   "metadata": {
    "execution": {
     "iopub.execute_input": "2022-04-25T08:12:31.070375Z",
     "iopub.status.busy": "2022-04-25T08:12:31.068737Z",
     "iopub.status.idle": "2022-04-25T08:12:37.052169Z",
     "shell.execute_reply": "2022-04-25T08:12:37.051615Z",
     "shell.execute_reply.started": "2022-03-22T10:10:34.407906Z"
    },
    "papermill": {
     "duration": 6.013303,
     "end_time": "2022-04-25T08:12:37.052354",
     "exception": false,
     "start_time": "2022-04-25T08:12:31.039051",
     "status": "completed"
    },
    "tags": []
   },
   "outputs": [],
   "source": [
    "# Preprocessing and encoding variables\n",
    "import pandas as pd\n",
    "import numpy as np\n",
    "\n",
    "# Using Skicit-learn to split data into training and testing sets\n",
    "from sklearn import preprocessing\n",
    "from sklearn.preprocessing import LabelEncoder\n",
    "from sklearn.preprocessing import OneHotEncoder\n",
    "from sklearn.model_selection import train_test_split\n",
    "\n",
    "# For characterlevel one hot encoding or label encoding \n",
    "from tensorflow.keras.preprocessing.text import Tokenizer\n",
    "from tensorflow.keras.preprocessing import sequence\n",
    "\n",
    "# For creating the RNN model\n",
    "from tensorflow.keras.models import Sequential\n",
    "from tensorflow.keras.layers import Dense, Embedding, LSTM, Dropout, Activation\n",
    "import tensorflow.keras.utils as utils\n",
    "\n",
    "# For plotting\n",
    "import matplotlib.pyplot as plt\n",
    "import seaborn as sn\n",
    "\n",
    "# Tuning with keras tuner\n",
    "import tensorflow as tf\n",
    "from tensorflow import keras\n",
    "import keras_tuner as kt\n",
    "from keras_tuner import HyperModel\n",
    "from keras_tuner import HyperParameters"
   ]
  },
  {
   "cell_type": "markdown",
   "id": "5f7db781",
   "metadata": {
    "papermill": {
     "duration": 0.023895,
     "end_time": "2022-04-25T08:12:37.100959",
     "exception": false,
     "start_time": "2022-04-25T08:12:37.077064",
     "status": "completed"
    },
    "tags": []
   },
   "source": [
    "### Uploading genomes"
   ]
  },
  {
   "cell_type": "code",
   "execution_count": 2,
   "id": "8752e949",
   "metadata": {
    "execution": {
     "iopub.execute_input": "2022-04-25T08:12:37.155539Z",
     "iopub.status.busy": "2022-04-25T08:12:37.154874Z",
     "iopub.status.idle": "2022-04-25T08:12:37.302438Z",
     "shell.execute_reply": "2022-04-25T08:12:37.301920Z",
     "shell.execute_reply.started": "2022-03-22T08:10:06.220211Z"
    },
    "papermill": {
     "duration": 0.176613,
     "end_time": "2022-04-25T08:12:37.302576",
     "exception": false,
     "start_time": "2022-04-25T08:12:37.125963",
     "status": "completed"
    },
    "tags": []
   },
   "outputs": [],
   "source": [
    "G = pd.read_csv('../input/genomes/G1_translated.csv').iloc[:, 1:]"
   ]
  },
  {
   "cell_type": "code",
   "execution_count": 3,
   "id": "1f5cc16c",
   "metadata": {
    "execution": {
     "iopub.execute_input": "2022-04-25T08:12:37.362320Z",
     "iopub.status.busy": "2022-04-25T08:12:37.361487Z",
     "iopub.status.idle": "2022-04-25T08:12:37.365647Z",
     "shell.execute_reply": "2022-04-25T08:12:37.365200Z",
     "shell.execute_reply.started": "2022-03-22T08:10:06.374278Z"
    },
    "papermill": {
     "duration": 0.035779,
     "end_time": "2022-04-25T08:12:37.365761",
     "exception": false,
     "start_time": "2022-04-25T08:12:37.329982",
     "status": "completed"
    },
    "tags": []
   },
   "outputs": [],
   "source": [
    "G = G.dropna()"
   ]
  },
  {
   "cell_type": "code",
   "execution_count": 4,
   "id": "59c77d07",
   "metadata": {
    "execution": {
     "iopub.execute_input": "2022-04-25T08:12:37.422000Z",
     "iopub.status.busy": "2022-04-25T08:12:37.421497Z",
     "iopub.status.idle": "2022-04-25T08:12:37.432975Z",
     "shell.execute_reply": "2022-04-25T08:12:37.433392Z",
     "shell.execute_reply.started": "2022-03-22T08:10:06.566613Z"
    },
    "papermill": {
     "duration": 0.04346,
     "end_time": "2022-04-25T08:12:37.433513",
     "exception": false,
     "start_time": "2022-04-25T08:12:37.390053",
     "status": "completed"
    },
    "tags": []
   },
   "outputs": [
    {
     "data": {
      "text/html": [
       "<div>\n",
       "<style scoped>\n",
       "    .dataframe tbody tr th:only-of-type {\n",
       "        vertical-align: middle;\n",
       "    }\n",
       "\n",
       "    .dataframe tbody tr th {\n",
       "        vertical-align: top;\n",
       "    }\n",
       "\n",
       "    .dataframe thead th {\n",
       "        text-align: right;\n",
       "    }\n",
       "</style>\n",
       "<table border=\"1\" class=\"dataframe\">\n",
       "  <thead>\n",
       "    <tr style=\"text-align: right;\">\n",
       "      <th></th>\n",
       "      <th>Type</th>\n",
       "      <th>Sequence</th>\n",
       "      <th>Translated</th>\n",
       "    </tr>\n",
       "  </thead>\n",
       "  <tbody>\n",
       "    <tr>\n",
       "      <th>8639</th>\n",
       "      <td>CDS</td>\n",
       "      <td>GTGAAAGATTTATTAAAGTTTCTGAAAGCGCAGACTAAAACCGAAG...</td>\n",
       "      <td>VKDLLKFLKAQTKTEEFDAIKIALASPDMIRSWSFGEVKKPETINY...</td>\n",
       "    </tr>\n",
       "    <tr>\n",
       "      <th>8640</th>\n",
       "      <td>CDS</td>\n",
       "      <td>ATGAGCGGAAAACCGGCGGCGCGTCAGGGTGACATGACGCAGTATG...</td>\n",
       "      <td>MSGKPAARQGDMTQYGGSIVQGSAGVRIGAPTGVACSVCPGGVTSG...</td>\n",
       "    </tr>\n",
       "    <tr>\n",
       "      <th>8641</th>\n",
       "      <td>CDS</td>\n",
       "      <td>ATGAGCGGAAAACCAGCGGCGCGTCAGGGAGATATGACTCAGTATG...</td>\n",
       "      <td>MSGKPAARQGDMTQYGGPIVQGSAGVRIGAPTGVACSVCPGGMTSG...</td>\n",
       "    </tr>\n",
       "    <tr>\n",
       "      <th>8642</th>\n",
       "      <td>CDS</td>\n",
       "      <td>ATGATTGAACGCGGTAAATTTCGCTCACTGACGCTGATTAACTGGA...</td>\n",
       "      <td>MIERGKFRSLTLINWNGFFARTFDLDELVTTLSGGNGAGKSTTMAA...</td>\n",
       "    </tr>\n",
       "    <tr>\n",
       "      <th>8643</th>\n",
       "      <td>CDS</td>\n",
       "      <td>ATGTTGTACGATAAATCCCTTGAGAGGGATAACTGTGGTTTCGGCC...</td>\n",
       "      <td>MLYDKSLERDNCGFGLIAHIEGEPSHKVVRTAIHALARMQHRGAIL...</td>\n",
       "    </tr>\n",
       "    <tr>\n",
       "      <th>8644</th>\n",
       "      <td>CDS</td>\n",
       "      <td>ATGAATAAGAAATTTAAATATAAGAAATCGCTTTTAGCGGCTATTT...</td>\n",
       "      <td>MNKKFKYKKSLLAAILSATLLAGCDGGGSGSSSDTPPVDSGTGSLP...</td>\n",
       "    </tr>\n",
       "    <tr>\n",
       "      <th>8645</th>\n",
       "      <td>CDS</td>\n",
       "      <td>ATGAACAGGACCAGTCCCTATTATTGTCGCCGCTCAGTACTTTCCT...</td>\n",
       "      <td>MNRTSPYYCRRSVLSLLISALIYAPPGMAAFTTNVIGVVNDETVDG...</td>\n",
       "    </tr>\n",
       "    <tr>\n",
       "      <th>8646</th>\n",
       "      <td>CDS</td>\n",
       "      <td>ATGGCAGATAATCCAGACCCTTCATCGCTCCTGCCGGACGTGTTTT...</td>\n",
       "      <td>MADNPDPSSLLPDVFSPATRDWFLRAFKQPTAVQPQTWHVAARSEH...</td>\n",
       "    </tr>\n",
       "    <tr>\n",
       "      <th>8647</th>\n",
       "      <td>CDS</td>\n",
       "      <td>ATGAAAAAGTTACGCGTAGCCGCCTGCATGCTAATGCTGGCGCTGG...</td>\n",
       "      <td>MKKLRVAACMLMLALAGCDNNDNAPTAVKKDAPSEVTKAASSENAS...</td>\n",
       "    </tr>\n",
       "    <tr>\n",
       "      <th>8648</th>\n",
       "      <td>CDS</td>\n",
       "      <td>ATGGCTACGAAGAAGAGAAGTGGAGAAGAAATAAATGACCGACAAA...</td>\n",
       "      <td>MATKKRSGEEINDRQILCGMGIKLRRLTAGICLITQLAFPMAAAAQ...</td>\n",
       "    </tr>\n",
       "  </tbody>\n",
       "</table>\n",
       "</div>"
      ],
      "text/plain": [
       "     Type                                           Sequence  \\\n",
       "8639  CDS  GTGAAAGATTTATTAAAGTTTCTGAAAGCGCAGACTAAAACCGAAG...   \n",
       "8640  CDS  ATGAGCGGAAAACCGGCGGCGCGTCAGGGTGACATGACGCAGTATG...   \n",
       "8641  CDS  ATGAGCGGAAAACCAGCGGCGCGTCAGGGAGATATGACTCAGTATG...   \n",
       "8642  CDS  ATGATTGAACGCGGTAAATTTCGCTCACTGACGCTGATTAACTGGA...   \n",
       "8643  CDS  ATGTTGTACGATAAATCCCTTGAGAGGGATAACTGTGGTTTCGGCC...   \n",
       "8644  CDS  ATGAATAAGAAATTTAAATATAAGAAATCGCTTTTAGCGGCTATTT...   \n",
       "8645  CDS  ATGAACAGGACCAGTCCCTATTATTGTCGCCGCTCAGTACTTTCCT...   \n",
       "8646  CDS  ATGGCAGATAATCCAGACCCTTCATCGCTCCTGCCGGACGTGTTTT...   \n",
       "8647  CDS  ATGAAAAAGTTACGCGTAGCCGCCTGCATGCTAATGCTGGCGCTGG...   \n",
       "8648  CDS  ATGGCTACGAAGAAGAGAAGTGGAGAAGAAATAAATGACCGACAAA...   \n",
       "\n",
       "                                             Translated  \n",
       "8639  VKDLLKFLKAQTKTEEFDAIKIALASPDMIRSWSFGEVKKPETINY...  \n",
       "8640  MSGKPAARQGDMTQYGGSIVQGSAGVRIGAPTGVACSVCPGGVTSG...  \n",
       "8641  MSGKPAARQGDMTQYGGPIVQGSAGVRIGAPTGVACSVCPGGMTSG...  \n",
       "8642  MIERGKFRSLTLINWNGFFARTFDLDELVTTLSGGNGAGKSTTMAA...  \n",
       "8643  MLYDKSLERDNCGFGLIAHIEGEPSHKVVRTAIHALARMQHRGAIL...  \n",
       "8644  MNKKFKYKKSLLAAILSATLLAGCDGGGSGSSSDTPPVDSGTGSLP...  \n",
       "8645  MNRTSPYYCRRSVLSLLISALIYAPPGMAAFTTNVIGVVNDETVDG...  \n",
       "8646  MADNPDPSSLLPDVFSPATRDWFLRAFKQPTAVQPQTWHVAARSEH...  \n",
       "8647  MKKLRVAACMLMLALAGCDNNDNAPTAVKKDAPSEVTKAASSENAS...  \n",
       "8648  MATKKRSGEEINDRQILCGMGIKLRRLTAGICLITQLAFPMAAAAQ...  "
      ]
     },
     "execution_count": 4,
     "metadata": {},
     "output_type": "execute_result"
    }
   ],
   "source": [
    "G.tail(10)"
   ]
  },
  {
   "cell_type": "code",
   "execution_count": 5,
   "id": "d42bd7f6",
   "metadata": {
    "execution": {
     "iopub.execute_input": "2022-04-25T08:12:37.489977Z",
     "iopub.status.busy": "2022-04-25T08:12:37.488439Z",
     "iopub.status.idle": "2022-04-25T08:12:37.492674Z",
     "shell.execute_reply": "2022-04-25T08:12:37.492050Z",
     "shell.execute_reply.started": "2022-03-22T08:10:06.75341Z"
    },
    "papermill": {
     "duration": 0.034078,
     "end_time": "2022-04-25T08:12:37.492813",
     "exception": false,
     "start_time": "2022-04-25T08:12:37.458735",
     "status": "completed"
    },
    "tags": []
   },
   "outputs": [
    {
     "name": "stdout",
     "output_type": "stream",
     "text": [
      "The shape of our dataframe is: (8649, 3)\n",
      "Rows: 8649\n",
      "Columns: 3\n"
     ]
    }
   ],
   "source": [
    "print('The shape of our dataframe is:', G.shape)\n",
    "print('Rows:', G.shape[0])\n",
    "print('Columns:', G.shape[1])"
   ]
  },
  {
   "cell_type": "markdown",
   "id": "7ba9e47f",
   "metadata": {
    "papermill": {
     "duration": 0.02474,
     "end_time": "2022-04-25T08:12:37.543830",
     "exception": false,
     "start_time": "2022-04-25T08:12:37.519090",
     "status": "completed"
    },
    "tags": []
   },
   "source": [
    "### Encoding data\n",
    "\n",
    "Using sklearn OneHotEncoder and LabelEncoder"
   ]
  },
  {
   "cell_type": "markdown",
   "id": "a1514f7c",
   "metadata": {
    "papermill": {
     "duration": 0.02495,
     "end_time": "2022-04-25T08:12:37.593630",
     "exception": false,
     "start_time": "2022-04-25T08:12:37.568680",
     "status": "completed"
    },
    "tags": []
   },
   "source": [
    "#### Labels"
   ]
  },
  {
   "cell_type": "code",
   "execution_count": 6,
   "id": "485fc657",
   "metadata": {
    "execution": {
     "iopub.execute_input": "2022-04-25T08:12:37.648017Z",
     "iopub.status.busy": "2022-04-25T08:12:37.647515Z",
     "iopub.status.idle": "2022-04-25T08:12:37.651320Z",
     "shell.execute_reply": "2022-04-25T08:12:37.650848Z",
     "shell.execute_reply.started": "2022-03-22T08:10:09.396591Z"
    },
    "papermill": {
     "duration": 0.032918,
     "end_time": "2022-04-25T08:12:37.651431",
     "exception": false,
     "start_time": "2022-04-25T08:12:37.618513",
     "status": "completed"
    },
    "tags": []
   },
   "outputs": [],
   "source": [
    "def encode_feature(array):\n",
    "    \"\"\" Encode a categorical array into a number array\n",
    "    \n",
    "    :param array: array to be encoded\n",
    "    :return: numerical array\n",
    "    \"\"\"\n",
    "  \n",
    "    encoder = preprocessing.LabelEncoder()\n",
    "    encoder.fit(array)\n",
    "    return encoder.transform(array)"
   ]
  },
  {
   "cell_type": "code",
   "execution_count": 7,
   "id": "8be87c0d",
   "metadata": {
    "execution": {
     "iopub.execute_input": "2022-04-25T08:12:37.707913Z",
     "iopub.status.busy": "2022-04-25T08:12:37.707271Z",
     "iopub.status.idle": "2022-04-25T08:12:37.709983Z",
     "shell.execute_reply": "2022-04-25T08:12:37.710547Z",
     "shell.execute_reply.started": "2022-03-22T08:10:09.515279Z"
    },
    "papermill": {
     "duration": 0.034356,
     "end_time": "2022-04-25T08:12:37.710679",
     "exception": false,
     "start_time": "2022-04-25T08:12:37.676323",
     "status": "completed"
    },
    "tags": []
   },
   "outputs": [
    {
     "name": "stdout",
     "output_type": "stream",
     "text": [
      "['CDS' 'CDS' 'CDS' ... 'CDS' 'CDS' 'CDS']\n"
     ]
    }
   ],
   "source": [
    "class_names = ['CDS', 'LORF']\n",
    "labels = G[\"Type\"].values\n",
    "print(labels)"
   ]
  },
  {
   "cell_type": "code",
   "execution_count": 8,
   "id": "68689c89",
   "metadata": {
    "execution": {
     "iopub.execute_input": "2022-04-25T08:12:37.763878Z",
     "iopub.status.busy": "2022-04-25T08:12:37.763123Z",
     "iopub.status.idle": "2022-04-25T08:12:37.770689Z",
     "shell.execute_reply": "2022-04-25T08:12:37.770229Z",
     "shell.execute_reply.started": "2022-03-22T08:10:09.654269Z"
    },
    "papermill": {
     "duration": 0.035019,
     "end_time": "2022-04-25T08:12:37.770801",
     "exception": false,
     "start_time": "2022-04-25T08:12:37.735782",
     "status": "completed"
    },
    "tags": []
   },
   "outputs": [
    {
     "data": {
      "text/plain": [
       "array([0, 0, 0, ..., 0, 0, 0])"
      ]
     },
     "execution_count": 8,
     "metadata": {},
     "output_type": "execute_result"
    }
   ],
   "source": [
    "labels = encode_feature(labels)\n",
    "labels"
   ]
  },
  {
   "cell_type": "markdown",
   "id": "138f34d6",
   "metadata": {
    "papermill": {
     "duration": 0.025636,
     "end_time": "2022-04-25T08:12:37.822238",
     "exception": false,
     "start_time": "2022-04-25T08:12:37.796602",
     "status": "completed"
    },
    "tags": []
   },
   "source": [
    "#### Sequences\n",
    "\n",
    "The sequenes are are tokenized using keras tokenizer, then padded and finally one hot encoded."
   ]
  },
  {
   "cell_type": "code",
   "execution_count": 9,
   "id": "0193a12f",
   "metadata": {
    "execution": {
     "iopub.execute_input": "2022-04-25T08:12:37.878566Z",
     "iopub.status.busy": "2022-04-25T08:12:37.877873Z",
     "iopub.status.idle": "2022-04-25T08:12:37.880445Z",
     "shell.execute_reply": "2022-04-25T08:12:37.880939Z",
     "shell.execute_reply.started": "2022-03-22T08:10:09.947214Z"
    },
    "papermill": {
     "duration": 0.033188,
     "end_time": "2022-04-25T08:12:37.881052",
     "exception": false,
     "start_time": "2022-04-25T08:12:37.847864",
     "status": "completed"
    },
    "tags": []
   },
   "outputs": [
    {
     "data": {
      "text/plain": [
       "['KG*', 'KKE*', 'MKNSVAEH*', 'MIKSDQET*', 'MLHCKGNNL*']"
      ]
     },
     "execution_count": 9,
     "metadata": {},
     "output_type": "execute_result"
    }
   ],
   "source": [
    "# Extract sequences\n",
    "samples = G['Translated'].values\n",
    "samples = list(samples)\n",
    "samples[0:5]"
   ]
  },
  {
   "cell_type": "code",
   "execution_count": 10,
   "id": "91bb5539",
   "metadata": {
    "execution": {
     "iopub.execute_input": "2022-04-25T08:12:37.960806Z",
     "iopub.status.busy": "2022-04-25T08:12:37.951046Z",
     "iopub.status.idle": "2022-04-25T08:12:38.775809Z",
     "shell.execute_reply": "2022-04-25T08:12:38.774812Z",
     "shell.execute_reply.started": "2022-03-22T08:10:10.051594Z"
    },
    "papermill": {
     "duration": 0.869054,
     "end_time": "2022-04-25T08:12:38.775952",
     "exception": false,
     "start_time": "2022-04-25T08:12:37.906898",
     "status": "completed"
    },
    "tags": []
   },
   "outputs": [],
   "source": [
    "# Tokenizer configured to only take into account the top-4 most common words\n",
    "tokenizer = Tokenizer(char_level=True)\n",
    "\n",
    "# This builds the word index\n",
    "tokenizer.fit_on_texts(samples)\n",
    "\n",
    "# This turns strings into lists of integer indices.\n",
    "seq_of_int = tokenizer.texts_to_sequences(samples)"
   ]
  },
  {
   "cell_type": "code",
   "execution_count": 11,
   "id": "004e379d",
   "metadata": {
    "execution": {
     "iopub.execute_input": "2022-04-25T08:12:38.834785Z",
     "iopub.status.busy": "2022-04-25T08:12:38.833951Z",
     "iopub.status.idle": "2022-04-25T08:12:38.836795Z",
     "shell.execute_reply": "2022-04-25T08:12:38.837193Z",
     "shell.execute_reply.started": "2022-03-22T08:10:11.072829Z"
    },
    "papermill": {
     "duration": 0.034621,
     "end_time": "2022-04-25T08:12:38.837334",
     "exception": false,
     "start_time": "2022-04-25T08:12:38.802713",
     "status": "completed"
    },
    "tags": []
   },
   "outputs": [
    {
     "data": {
      "text/plain": [
       "[14, 4, 21]"
      ]
     },
     "execution_count": 11,
     "metadata": {},
     "output_type": "execute_result"
    }
   ],
   "source": [
    "seq_of_int[0]"
   ]
  },
  {
   "cell_type": "code",
   "execution_count": 12,
   "id": "426bd518",
   "metadata": {
    "execution": {
     "iopub.execute_input": "2022-04-25T08:12:38.893958Z",
     "iopub.status.busy": "2022-04-25T08:12:38.893096Z",
     "iopub.status.idle": "2022-04-25T08:12:38.897307Z",
     "shell.execute_reply": "2022-04-25T08:12:38.897977Z",
     "shell.execute_reply.started": "2022-03-22T08:10:11.849458Z"
    },
    "papermill": {
     "duration": 0.034169,
     "end_time": "2022-04-25T08:12:38.898140",
     "exception": false,
     "start_time": "2022-04-25T08:12:38.863971",
     "status": "completed"
    },
    "tags": []
   },
   "outputs": [
    {
     "name": "stdout",
     "output_type": "stream",
     "text": [
      "Longest amino acid sequence is: 2359\n"
     ]
    }
   ],
   "source": [
    "print('Longest amino acid sequence is:', len(samples[len(G)-1]))"
   ]
  },
  {
   "cell_type": "code",
   "execution_count": 13,
   "id": "829ca4b8",
   "metadata": {
    "execution": {
     "iopub.execute_input": "2022-04-25T08:12:38.957689Z",
     "iopub.status.busy": "2022-04-25T08:12:38.956642Z",
     "iopub.status.idle": "2022-04-25T08:12:39.129432Z",
     "shell.execute_reply": "2022-04-25T08:12:39.128903Z",
     "shell.execute_reply.started": "2022-03-22T08:10:12.015842Z"
    },
    "papermill": {
     "duration": 0.204234,
     "end_time": "2022-04-25T08:12:39.129572",
     "exception": false,
     "start_time": "2022-04-25T08:12:38.925338",
     "status": "completed"
    },
    "tags": []
   },
   "outputs": [],
   "source": [
    "#max_len = len(samples[len(G)-1])\n",
    "max_len = 1000\n",
    "seq_padded = sequence.pad_sequences(seq_of_int, maxlen=max_len, dtype='int32', value=0.0) # if maxlen=None then the maximum lenght is the longest sequence in genome"
   ]
  },
  {
   "cell_type": "code",
   "execution_count": 14,
   "id": "4fc7ed9f",
   "metadata": {
    "execution": {
     "iopub.execute_input": "2022-04-25T08:12:39.191114Z",
     "iopub.status.busy": "2022-04-25T08:12:39.190444Z",
     "iopub.status.idle": "2022-04-25T08:12:39.193237Z",
     "shell.execute_reply": "2022-04-25T08:12:39.193691Z",
     "shell.execute_reply.started": "2022-03-22T08:10:14.402646Z"
    },
    "papermill": {
     "duration": 0.035844,
     "end_time": "2022-04-25T08:12:39.193820",
     "exception": false,
     "start_time": "2022-04-25T08:12:39.157976",
     "status": "completed"
    },
    "tags": []
   },
   "outputs": [
    {
     "data": {
      "text/plain": [
       "(8649, 1000)"
      ]
     },
     "execution_count": 14,
     "metadata": {},
     "output_type": "execute_result"
    }
   ],
   "source": [
    "np.shape(seq_padded)"
   ]
  },
  {
   "cell_type": "markdown",
   "id": "bc473f58",
   "metadata": {
    "papermill": {
     "duration": 0.027176,
     "end_time": "2022-04-25T08:12:39.248601",
     "exception": false,
     "start_time": "2022-04-25T08:12:39.221425",
     "status": "completed"
    },
    "tags": []
   },
   "source": [
    "#### OneHotEncode padded integer sequences\n",
    "\n",
    "The reason why we can not simply convert every character to its position in the alphabet, e.g. a — 1, b — 2 etc.) is that this would lead the network to assume that the characters are on an ordinal scale, instead of a categorical - the letter Z not is “worth more” than an A."
   ]
  },
  {
   "cell_type": "code",
   "execution_count": 15,
   "id": "9feb2c30",
   "metadata": {
    "execution": {
     "iopub.execute_input": "2022-04-25T08:12:39.306610Z",
     "iopub.status.busy": "2022-04-25T08:12:39.305572Z",
     "iopub.status.idle": "2022-04-25T08:12:39.773781Z",
     "shell.execute_reply": "2022-04-25T08:12:39.773231Z",
     "shell.execute_reply.started": "2022-03-22T08:10:14.906047Z"
    },
    "papermill": {
     "duration": 0.498449,
     "end_time": "2022-04-25T08:12:39.773903",
     "exception": false,
     "start_time": "2022-04-25T08:12:39.275454",
     "status": "completed"
    },
    "tags": []
   },
   "outputs": [],
   "source": [
    "seq_one_hot = utils.to_categorical(seq_padded)"
   ]
  },
  {
   "cell_type": "code",
   "execution_count": 16,
   "id": "6509a1a8",
   "metadata": {
    "execution": {
     "iopub.execute_input": "2022-04-25T08:12:39.833532Z",
     "iopub.status.busy": "2022-04-25T08:12:39.832110Z",
     "iopub.status.idle": "2022-04-25T08:12:39.837463Z",
     "shell.execute_reply": "2022-04-25T08:12:39.836981Z"
    },
    "papermill": {
     "duration": 0.035811,
     "end_time": "2022-04-25T08:12:39.837574",
     "exception": false,
     "start_time": "2022-04-25T08:12:39.801763",
     "status": "completed"
    },
    "tags": []
   },
   "outputs": [
    {
     "data": {
      "text/plain": [
       "(8649, 1000, 22)"
      ]
     },
     "execution_count": 16,
     "metadata": {},
     "output_type": "execute_result"
    }
   ],
   "source": [
    "np.shape(seq_one_hot)"
   ]
  },
  {
   "cell_type": "markdown",
   "id": "147d656a",
   "metadata": {
    "papermill": {
     "duration": 0.027284,
     "end_time": "2022-04-25T08:12:39.892537",
     "exception": false,
     "start_time": "2022-04-25T08:12:39.865253",
     "status": "completed"
    },
    "tags": []
   },
   "source": [
    "### Create training and test data"
   ]
  },
  {
   "cell_type": "code",
   "execution_count": 17,
   "id": "e648b03c",
   "metadata": {
    "execution": {
     "iopub.execute_input": "2022-04-25T08:12:39.951915Z",
     "iopub.status.busy": "2022-04-25T08:12:39.950908Z",
     "iopub.status.idle": "2022-04-25T08:12:39.967126Z",
     "shell.execute_reply": "2022-04-25T08:12:39.966678Z"
    },
    "papermill": {
     "duration": 0.047658,
     "end_time": "2022-04-25T08:12:39.967251",
     "exception": false,
     "start_time": "2022-04-25T08:12:39.919593",
     "status": "completed"
    },
    "tags": []
   },
   "outputs": [],
   "source": [
    "# Split the data into training and testing sets -> x = features and y = labels/targets\n",
    "train_x, test_x, train_y, test_y = train_test_split(seq_padded, labels, test_size = 0.2, random_state = 42)"
   ]
  },
  {
   "cell_type": "code",
   "execution_count": 18,
   "id": "657f5765",
   "metadata": {
    "execution": {
     "iopub.execute_input": "2022-04-25T08:12:40.028909Z",
     "iopub.status.busy": "2022-04-25T08:12:40.028296Z",
     "iopub.status.idle": "2022-04-25T08:12:40.031162Z",
     "shell.execute_reply": "2022-04-25T08:12:40.031572Z"
    },
    "papermill": {
     "duration": 0.036709,
     "end_time": "2022-04-25T08:12:40.031698",
     "exception": false,
     "start_time": "2022-04-25T08:12:39.994989",
     "status": "completed"
    },
    "tags": []
   },
   "outputs": [
    {
     "name": "stdout",
     "output_type": "stream",
     "text": [
      "Input data:\n",
      "6919 train sequences\n",
      "1730 test sequences\n"
     ]
    }
   ],
   "source": [
    "print('Input data:')\n",
    "print(len(train_x), 'train sequences')\n",
    "print(len(test_x), 'test sequences')"
   ]
  },
  {
   "cell_type": "markdown",
   "id": "43cb3a8c",
   "metadata": {
    "papermill": {
     "duration": 0.027585,
     "end_time": "2022-04-25T08:12:40.087010",
     "exception": false,
     "start_time": "2022-04-25T08:12:40.059425",
     "status": "completed"
    },
    "tags": []
   },
   "source": [
    "### LSTM model"
   ]
  },
  {
   "cell_type": "markdown",
   "id": "3ca82f63",
   "metadata": {
    "papermill": {
     "duration": 0.027713,
     "end_time": "2022-04-25T08:12:40.142679",
     "exception": false,
     "start_time": "2022-04-25T08:12:40.114966",
     "status": "completed"
    },
    "tags": []
   },
   "source": [
    "#### Choosing number of nodes and layers\n",
    "There is no final, definite, rule of thumb on how many nodes (or hidden neurons) or how many layers one should choose, and very often a trial and error approach will give you the best results for your individual problem.\n",
    "\n",
    "Generally, 2 layers have shown to be enough to detect more complex features. More layers can be better but also harder to train. As a general rule of thumb — 1 hidden layer work with simple problems, like this, and two are enough to find reasonably complex features."
   ]
  },
  {
   "cell_type": "markdown",
   "id": "ffe8749b",
   "metadata": {
    "papermill": {
     "duration": 0.03077,
     "end_time": "2022-04-25T08:12:40.202552",
     "exception": false,
     "start_time": "2022-04-25T08:12:40.171782",
     "status": "completed"
    },
    "tags": []
   },
   "source": [
    "#### Choosing additional hyperparameters\n",
    "\n",
    "- **Dropout**: Every LSTM layer should be accompanied by a Dropout layer. This layer will help to prevent overfitting by ignoring randomly selected neurons during training, and hence reduces the sensitivity to the specific weights of individual neurons. 20% is often used as a good compromise between retaining model accuracy and preventing overfitting.\n",
    "- **Activation layer**: Technically, this can be included into the density layer, but there is a reason to split this apart. While not relevant here, splitting the density layer and the activation layer makes it possible to retrieve the reduced output of the density layer of the model. Which activation function to use is, again, depending on the application. Sigmoid function is used for binary classification problems. \n",
    "- **Loss function**: Loss function and activation function are often chosen together. Cross-entropy or more precise the binary cross-entropy, is the preferred loss function since we are faced with a binary classification problem. \n",
    "- **Optimizer**: For choosing the optimizer, adaptive moment estimation, short _Adam_, has been shown to work well in most practical applications and works well with only little changes in the hyperparameters. \n",
    "- **Metric**: In many cases, judging the models’ performance from an overall _accuracy_ point of view will be the option easiest to interpret as well as sufficient in resulting model performance.\n"
   ]
  },
  {
   "cell_type": "markdown",
   "id": "69f367d6",
   "metadata": {
    "papermill": {
     "duration": 0.029668,
     "end_time": "2022-04-25T08:12:40.261739",
     "exception": false,
     "start_time": "2022-04-25T08:12:40.232071",
     "status": "completed"
    },
    "tags": []
   },
   "source": [
    "#### Simple LSTM with embedding layer:\n",
    "\n",
    "Embedding layer allows for higher dimensionality and much richer relationships between fatures."
   ]
  },
  {
   "cell_type": "markdown",
   "id": "e3e913c6",
   "metadata": {
    "papermill": {
     "duration": 0.03165,
     "end_time": "2022-04-25T08:12:40.326356",
     "exception": false,
     "start_time": "2022-04-25T08:12:40.294706",
     "status": "completed"
    },
    "tags": []
   },
   "source": [
    "There are three parameters to the embedding layer:\n",
    "- **input_dim** : Size of the vocabulary\n",
    "- **output_dim** : Embedding size. Output length of the vector for each word\n",
    "- **input_length** : Maximum length of a sequence"
   ]
  },
  {
   "cell_type": "code",
   "execution_count": 19,
   "id": "0d0801ee",
   "metadata": {
    "execution": {
     "iopub.execute_input": "2022-04-25T08:12:40.392376Z",
     "iopub.status.busy": "2022-04-25T08:12:40.391639Z",
     "iopub.status.idle": "2022-04-25T08:12:40.394071Z",
     "shell.execute_reply": "2022-04-25T08:12:40.393677Z"
    },
    "papermill": {
     "duration": 0.03644,
     "end_time": "2022-04-25T08:12:40.394175",
     "exception": false,
     "start_time": "2022-04-25T08:12:40.357735",
     "status": "completed"
    },
    "tags": []
   },
   "outputs": [],
   "source": [
    "input_dim = 22 # input dimension: 21 amino acids + padding\n",
    "\n",
    "embedding_size = min(np.ceil((input_dim)/2), 50)\n",
    "embedding_size = int(embedding_size)\n",
    "\n",
    "output_dim = embedding_size\n",
    "input_length = max_len"
   ]
  },
  {
   "cell_type": "code",
   "execution_count": 20,
   "id": "ff0d6de9",
   "metadata": {
    "execution": {
     "iopub.execute_input": "2022-04-25T08:12:40.458176Z",
     "iopub.status.busy": "2022-04-25T08:12:40.457631Z",
     "iopub.status.idle": "2022-04-25T08:16:06.724101Z",
     "shell.execute_reply": "2022-04-25T08:16:06.723615Z"
    },
    "papermill": {
     "duration": 206.300929,
     "end_time": "2022-04-25T08:16:06.724250",
     "exception": false,
     "start_time": "2022-04-25T08:12:40.423321",
     "status": "completed"
    },
    "tags": []
   },
   "outputs": [
    {
     "name": "stderr",
     "output_type": "stream",
     "text": [
      "2022-04-25 08:12:40.551366: I tensorflow/stream_executor/cuda/cuda_gpu_executor.cc:937] successful NUMA node read from SysFS had negative value (-1), but there must be at least one NUMA node, so returning NUMA node zero\n",
      "2022-04-25 08:12:40.649936: I tensorflow/stream_executor/cuda/cuda_gpu_executor.cc:937] successful NUMA node read from SysFS had negative value (-1), but there must be at least one NUMA node, so returning NUMA node zero\n",
      "2022-04-25 08:12:40.650711: I tensorflow/stream_executor/cuda/cuda_gpu_executor.cc:937] successful NUMA node read from SysFS had negative value (-1), but there must be at least one NUMA node, so returning NUMA node zero\n",
      "2022-04-25 08:12:40.651766: I tensorflow/core/platform/cpu_feature_guard.cc:142] This TensorFlow binary is optimized with oneAPI Deep Neural Network Library (oneDNN) to use the following CPU instructions in performance-critical operations:  AVX2 AVX512F FMA\n",
      "To enable them in other operations, rebuild TensorFlow with the appropriate compiler flags.\n",
      "2022-04-25 08:12:40.652802: I tensorflow/stream_executor/cuda/cuda_gpu_executor.cc:937] successful NUMA node read from SysFS had negative value (-1), but there must be at least one NUMA node, so returning NUMA node zero\n",
      "2022-04-25 08:12:40.653480: I tensorflow/stream_executor/cuda/cuda_gpu_executor.cc:937] successful NUMA node read from SysFS had negative value (-1), but there must be at least one NUMA node, so returning NUMA node zero\n",
      "2022-04-25 08:12:40.654096: I tensorflow/stream_executor/cuda/cuda_gpu_executor.cc:937] successful NUMA node read from SysFS had negative value (-1), but there must be at least one NUMA node, so returning NUMA node zero\n",
      "2022-04-25 08:12:42.461756: I tensorflow/stream_executor/cuda/cuda_gpu_executor.cc:937] successful NUMA node read from SysFS had negative value (-1), but there must be at least one NUMA node, so returning NUMA node zero\n",
      "2022-04-25 08:12:42.462611: I tensorflow/stream_executor/cuda/cuda_gpu_executor.cc:937] successful NUMA node read from SysFS had negative value (-1), but there must be at least one NUMA node, so returning NUMA node zero\n",
      "2022-04-25 08:12:42.463258: I tensorflow/stream_executor/cuda/cuda_gpu_executor.cc:937] successful NUMA node read from SysFS had negative value (-1), but there must be at least one NUMA node, so returning NUMA node zero\n",
      "2022-04-25 08:12:42.463847: I tensorflow/core/common_runtime/gpu/gpu_device.cc:1510] Created device /job:localhost/replica:0/task:0/device:GPU:0 with 15403 MB memory:  -> device: 0, name: Tesla P100-PCIE-16GB, pci bus id: 0000:00:04.0, compute capability: 6.0\n",
      "2022-04-25 08:12:43.098352: I tensorflow/compiler/mlir/mlir_graph_optimization_pass.cc:185] None of the MLIR Optimization Passes are enabled (registered 2)\n"
     ]
    },
    {
     "name": "stdout",
     "output_type": "stream",
     "text": [
      "Epoch 1/50\n"
     ]
    },
    {
     "name": "stderr",
     "output_type": "stream",
     "text": [
      "2022-04-25 08:12:45.686459: I tensorflow/stream_executor/cuda/cuda_dnn.cc:369] Loaded cuDNN version 8005\n"
     ]
    },
    {
     "name": "stdout",
     "output_type": "stream",
     "text": [
      "44/44 [==============================] - 8s 86ms/step - loss: 0.6273 - acc: 0.6894 - val_loss: 0.4747 - val_acc: 0.7775\n",
      "Epoch 2/50\n",
      "44/44 [==============================] - 3s 78ms/step - loss: 0.4622 - acc: 0.8336 - val_loss: 0.3272 - val_acc: 0.9025\n",
      "Epoch 3/50\n",
      "44/44 [==============================] - 3s 78ms/step - loss: 0.3265 - acc: 0.8994 - val_loss: 0.3888 - val_acc: 0.8150\n",
      "Epoch 4/50\n",
      "44/44 [==============================] - 3s 77ms/step - loss: 0.3161 - acc: 0.9005 - val_loss: 0.2278 - val_acc: 0.9249\n",
      "Epoch 5/50\n",
      "44/44 [==============================] - 3s 77ms/step - loss: 0.2418 - acc: 0.9252 - val_loss: 0.2086 - val_acc: 0.9256\n",
      "Epoch 6/50\n",
      "44/44 [==============================] - 3s 77ms/step - loss: 0.2396 - acc: 0.9192 - val_loss: 0.2098 - val_acc: 0.9342\n",
      "Epoch 7/50\n",
      "44/44 [==============================] - 3s 76ms/step - loss: 0.2274 - acc: 0.9205 - val_loss: 0.2472 - val_acc: 0.9133\n",
      "Epoch 8/50\n",
      "44/44 [==============================] - 3s 77ms/step - loss: 0.2206 - acc: 0.9294 - val_loss: 0.1904 - val_acc: 0.9379\n",
      "Epoch 9/50\n",
      "44/44 [==============================] - 3s 76ms/step - loss: 0.2489 - acc: 0.9225 - val_loss: 0.2814 - val_acc: 0.8967\n",
      "Epoch 10/50\n",
      "44/44 [==============================] - 3s 77ms/step - loss: 0.2050 - acc: 0.9344 - val_loss: 0.1898 - val_acc: 0.9386\n",
      "Epoch 11/50\n",
      "44/44 [==============================] - 3s 77ms/step - loss: 0.2533 - acc: 0.9129 - val_loss: 0.1947 - val_acc: 0.9342\n",
      "Epoch 12/50\n",
      "44/44 [==============================] - 3s 77ms/step - loss: 0.1937 - acc: 0.9380 - val_loss: 0.4605 - val_acc: 0.7746\n",
      "Epoch 13/50\n",
      "44/44 [==============================] - 3s 77ms/step - loss: 0.2137 - acc: 0.9279 - val_loss: 0.1975 - val_acc: 0.9364\n",
      "Epoch 14/50\n",
      "44/44 [==============================] - 3s 76ms/step - loss: 0.2040 - acc: 0.9357 - val_loss: 0.2232 - val_acc: 0.9350\n",
      "Epoch 15/50\n",
      "44/44 [==============================] - 3s 77ms/step - loss: 0.2547 - acc: 0.9153 - val_loss: 0.1927 - val_acc: 0.9350\n",
      "Epoch 16/50\n",
      "44/44 [==============================] - 3s 77ms/step - loss: 0.2101 - acc: 0.9288 - val_loss: 0.1990 - val_acc: 0.9371\n",
      "Epoch 17/50\n",
      "44/44 [==============================] - 3s 76ms/step - loss: 0.1962 - acc: 0.9373 - val_loss: 0.1858 - val_acc: 0.9400\n",
      "Epoch 18/50\n",
      "44/44 [==============================] - 3s 76ms/step - loss: 0.2104 - acc: 0.9321 - val_loss: 0.2580 - val_acc: 0.9191\n",
      "Epoch 19/50\n",
      "44/44 [==============================] - 3s 77ms/step - loss: 0.2421 - acc: 0.9198 - val_loss: 0.1931 - val_acc: 0.9350\n",
      "Epoch 20/50\n",
      "44/44 [==============================] - 3s 76ms/step - loss: 0.2027 - acc: 0.9330 - val_loss: 0.2069 - val_acc: 0.9350\n",
      "Epoch 21/50\n",
      "44/44 [==============================] - 3s 77ms/step - loss: 0.2645 - acc: 0.9245 - val_loss: 0.2682 - val_acc: 0.9097\n",
      "Epoch 22/50\n",
      "44/44 [==============================] - 3s 76ms/step - loss: 0.2210 - acc: 0.9312 - val_loss: 0.2381 - val_acc: 0.9277\n",
      "Epoch 23/50\n",
      "44/44 [==============================] - 3s 76ms/step - loss: 0.2291 - acc: 0.9248 - val_loss: 0.2349 - val_acc: 0.9285\n",
      "Epoch 24/50\n",
      "44/44 [==============================] - 3s 76ms/step - loss: 0.2104 - acc: 0.9321 - val_loss: 0.1966 - val_acc: 0.9357\n",
      "Epoch 25/50\n",
      "44/44 [==============================] - 3s 77ms/step - loss: 0.2023 - acc: 0.9360 - val_loss: 0.1893 - val_acc: 0.9379\n",
      "Epoch 26/50\n",
      "44/44 [==============================] - 3s 77ms/step - loss: 0.1991 - acc: 0.9368 - val_loss: 0.1887 - val_acc: 0.9292\n",
      "Epoch 27/50\n",
      "44/44 [==============================] - 3s 76ms/step - loss: 0.1914 - acc: 0.9373 - val_loss: 0.2020 - val_acc: 0.9342\n",
      "Epoch 28/50\n",
      "44/44 [==============================] - 3s 76ms/step - loss: 0.1922 - acc: 0.9377 - val_loss: 0.1868 - val_acc: 0.9357\n",
      "Epoch 29/50\n",
      "44/44 [==============================] - 3s 76ms/step - loss: 0.2266 - acc: 0.9266 - val_loss: 0.1970 - val_acc: 0.9342\n",
      "Epoch 30/50\n",
      "44/44 [==============================] - 3s 76ms/step - loss: 0.1916 - acc: 0.9397 - val_loss: 0.1933 - val_acc: 0.9350\n",
      "Epoch 31/50\n",
      "44/44 [==============================] - 3s 77ms/step - loss: 0.1908 - acc: 0.9402 - val_loss: 0.1856 - val_acc: 0.9393\n",
      "Epoch 32/50\n",
      "44/44 [==============================] - 3s 76ms/step - loss: 0.1841 - acc: 0.9404 - val_loss: 0.1886 - val_acc: 0.9371\n",
      "Epoch 33/50\n",
      "44/44 [==============================] - 3s 76ms/step - loss: 0.2987 - acc: 0.8977 - val_loss: 0.2246 - val_acc: 0.9306\n",
      "Epoch 34/50\n",
      "44/44 [==============================] - 3s 76ms/step - loss: 0.1882 - acc: 0.9380 - val_loss: 0.3424 - val_acc: 0.8569\n",
      "Epoch 35/50\n",
      "44/44 [==============================] - 3s 76ms/step - loss: 0.1878 - acc: 0.9393 - val_loss: 0.2347 - val_acc: 0.9184\n",
      "Epoch 36/50\n",
      "44/44 [==============================] - 3s 77ms/step - loss: 0.1985 - acc: 0.9326 - val_loss: 0.1744 - val_acc: 0.9415\n",
      "Epoch 37/50\n",
      "44/44 [==============================] - 3s 77ms/step - loss: 0.2326 - acc: 0.9303 - val_loss: 0.2120 - val_acc: 0.9263\n",
      "Epoch 38/50\n",
      "44/44 [==============================] - 3s 76ms/step - loss: 0.1859 - acc: 0.9382 - val_loss: 0.1955 - val_acc: 0.9350\n",
      "Epoch 39/50\n",
      "44/44 [==============================] - 3s 76ms/step - loss: 0.1811 - acc: 0.9409 - val_loss: 0.2048 - val_acc: 0.9321\n",
      "Epoch 40/50\n",
      "44/44 [==============================] - 3s 76ms/step - loss: 0.1950 - acc: 0.9344 - val_loss: 0.1939 - val_acc: 0.9350\n",
      "Epoch 41/50\n",
      "44/44 [==============================] - 3s 77ms/step - loss: 0.1826 - acc: 0.9418 - val_loss: 0.1893 - val_acc: 0.9364\n",
      "Epoch 42/50\n",
      "44/44 [==============================] - 3s 77ms/step - loss: 0.2086 - acc: 0.9330 - val_loss: 0.1785 - val_acc: 0.9350\n",
      "Epoch 43/50\n",
      "44/44 [==============================] - 3s 76ms/step - loss: 0.1806 - acc: 0.9409 - val_loss: 0.1915 - val_acc: 0.9386\n",
      "Epoch 44/50\n",
      "44/44 [==============================] - 3s 76ms/step - loss: 0.1813 - acc: 0.9386 - val_loss: 0.1709 - val_acc: 0.9393\n",
      "Epoch 45/50\n",
      "44/44 [==============================] - 3s 77ms/step - loss: 0.1886 - acc: 0.9384 - val_loss: 0.3022 - val_acc: 0.8866\n",
      "Epoch 46/50\n",
      "44/44 [==============================] - 3s 77ms/step - loss: 0.1799 - acc: 0.9407 - val_loss: 0.2008 - val_acc: 0.9263\n",
      "Epoch 47/50\n",
      "44/44 [==============================] - 3s 77ms/step - loss: 0.1770 - acc: 0.9420 - val_loss: 0.1869 - val_acc: 0.9335\n",
      "Epoch 48/50\n",
      "44/44 [==============================] - 3s 76ms/step - loss: 0.1792 - acc: 0.9427 - val_loss: 0.1660 - val_acc: 0.9393\n",
      "Epoch 49/50\n",
      "44/44 [==============================] - 3s 77ms/step - loss: 0.1718 - acc: 0.9435 - val_loss: 0.1787 - val_acc: 0.9415\n",
      "Epoch 50/50\n",
      "44/44 [==============================] - 3s 77ms/step - loss: 0.1801 - acc: 0.9397 - val_loss: 0.1760 - val_acc: 0.9371\n"
     ]
    }
   ],
   "source": [
    "model = Sequential()\n",
    "model.add(Embedding(input_dim, output_dim)) # parameter input_length not required, because no flattening needed (using RNN layer now, not Dense layer)\n",
    "model.add(LSTM(128))\n",
    "model.add(Dropout(0.2))\n",
    "model.add(Dense(1, activation='sigmoid'))\n",
    "\n",
    "model.compile(optimizer='rmsprop',\n",
    "              loss='binary_crossentropy',\n",
    "              metrics=['acc'])\n",
    "\n",
    "# simple early stopping\n",
    "#es = EarlyStopping(monitor='val_loss', mode='min', verbose=1)\n",
    "\n",
    "history = model.fit(train_x, train_y,\n",
    "                    epochs=50,\n",
    "                    batch_size=128,\n",
    "                    validation_split=0.2)\n",
    "                    #callbacks=[es]"
   ]
  },
  {
   "cell_type": "code",
   "execution_count": 21,
   "id": "8f58d123",
   "metadata": {
    "execution": {
     "iopub.execute_input": "2022-04-25T08:16:08.176882Z",
     "iopub.status.busy": "2022-04-25T08:16:08.176195Z",
     "iopub.status.idle": "2022-04-25T08:16:08.180180Z",
     "shell.execute_reply": "2022-04-25T08:16:08.180584Z"
    },
    "papermill": {
     "duration": 0.745687,
     "end_time": "2022-04-25T08:16:08.180738",
     "exception": false,
     "start_time": "2022-04-25T08:16:07.435051",
     "status": "completed"
    },
    "tags": []
   },
   "outputs": [
    {
     "name": "stdout",
     "output_type": "stream",
     "text": [
      "Model: \"sequential\"\n",
      "_________________________________________________________________\n",
      "Layer (type)                 Output Shape              Param #   \n",
      "=================================================================\n",
      "embedding (Embedding)        (None, None, 11)          242       \n",
      "_________________________________________________________________\n",
      "lstm (LSTM)                  (None, 128)               71680     \n",
      "_________________________________________________________________\n",
      "dropout (Dropout)            (None, 128)               0         \n",
      "_________________________________________________________________\n",
      "dense (Dense)                (None, 1)                 129       \n",
      "=================================================================\n",
      "Total params: 72,051\n",
      "Trainable params: 72,051\n",
      "Non-trainable params: 0\n",
      "_________________________________________________________________\n"
     ]
    }
   ],
   "source": [
    "model.summary()"
   ]
  },
  {
   "cell_type": "code",
   "execution_count": 22,
   "id": "452a6566",
   "metadata": {
    "execution": {
     "iopub.execute_input": "2022-04-25T08:16:10.195789Z",
     "iopub.status.busy": "2022-04-25T08:16:10.194863Z",
     "iopub.status.idle": "2022-04-25T08:16:10.857108Z",
     "shell.execute_reply": "2022-04-25T08:16:10.856497Z"
    },
    "papermill": {
     "duration": 1.837683,
     "end_time": "2022-04-25T08:16:10.857249",
     "exception": false,
     "start_time": "2022-04-25T08:16:09.019566",
     "status": "completed"
    },
    "tags": []
   },
   "outputs": [
    {
     "data": {
      "image/png": "[encoded data removed]",
      "text/plain": [
       "<Figure size 432x288 with 1 Axes>"
      ]
     },
     "metadata": {
      "needs_background": "light"
     },
     "output_type": "display_data"
    },
    {
     "data": {
      "image/png": "[encoded data removed]",
      "text/plain": [
       "<Figure size 432x288 with 1 Axes>"
      ]
     },
     "metadata": {
      "needs_background": "light"
     },
     "output_type": "display_data"
    }
   ],
   "source": [
    "acc = history.history['acc']\n",
    "val_acc = history.history['val_acc']\n",
    "loss = history.history['loss']\n",
    "val_loss = history.history['val_loss']\n",
    "\n",
    "epochs = range(len(acc))\n",
    "\n",
    "plt.plot(epochs, acc, 'bo', label='Training acc')\n",
    "plt.plot(epochs, val_acc, 'b', label='Validation acc')\n",
    "plt.title('Training and validation accuracy')\n",
    "plt.legend()\n",
    "\n",
    "plt.figure()\n",
    "\n",
    "plt.plot(epochs, loss, 'bo', label='Training loss')\n",
    "plt.plot(epochs, val_loss, 'b', label='Validation loss')\n",
    "plt.title('Training and validation loss')\n",
    "plt.legend()\n",
    "\n",
    "plt.savefig('aa_full_seq.png', dpi=300, bbox_inches='tight')\n",
    "\n",
    "plt.show()"
   ]
  },
  {
   "cell_type": "code",
   "execution_count": 23,
   "id": "b0c0b5b5",
   "metadata": {
    "execution": {
     "iopub.execute_input": "2022-04-25T08:16:12.418544Z",
     "iopub.status.busy": "2022-04-25T08:16:12.417468Z",
     "iopub.status.idle": "2022-04-25T08:16:13.393676Z",
     "shell.execute_reply": "2022-04-25T08:16:13.392949Z"
    },
    "papermill": {
     "duration": 1.747172,
     "end_time": "2022-04-25T08:16:13.393859",
     "exception": false,
     "start_time": "2022-04-25T08:16:11.646687",
     "status": "completed"
    },
    "tags": []
   },
   "outputs": [
    {
     "name": "stdout",
     "output_type": "stream",
     "text": [
      "Test accuracy: 0.9352601170539856\n"
     ]
    }
   ],
   "source": [
    "scores = model.evaluate(test_x, test_y, verbose=0)\n",
    "print('Test accuracy:', scores[1])"
   ]
  }
 ],
 "metadata": {
  "kernelspec": {
   "display_name": "Python 3",
   "language": "python",
   "name": "python3"
  },
  "language_info": {
   "codemirror_mode": {
    "name": "ipython",
    "version": 3
   },
   "file_extension": ".py",
   "mimetype": "text/x-python",
   "name": "python",
   "nbconvert_exporter": "python",
   "pygments_lexer": "ipython3",
   "version": "3.7.12"
  },
  "papermill": {
   "default_parameters": {},
   "duration": 234.643104,
   "end_time": "2022-04-25T08:16:17.517585",
   "environment_variables": {},
   "exception": null,
   "input_path": "__notebook__.ipynb",
   "output_path": "__notebook__.ipynb",
   "parameters": {},
   "start_time": "2022-04-25T08:12:22.874481",
   "version": "2.3.3"
  }
 },
 "nbformat": 4,
 "nbformat_minor": 5
}
