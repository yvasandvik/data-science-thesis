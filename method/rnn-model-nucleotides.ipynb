{
 "cells": [
  {
   "cell_type": "markdown",
   "id": "0bb1b738",
   "metadata": {
    "papermill": {
     "duration": 0.026963,
     "end_time": "2022-05-07T10:21:07.891938",
     "exception": false,
     "start_time": "2022-05-07T10:21:07.864975",
     "status": "completed"
    },
    "tags": []
   },
   "source": [
    "# Simple RNN model - raw sequences"
   ]
  },
  {
   "cell_type": "code",
   "execution_count": 1,
   "id": "b2c41126",
   "metadata": {
    "execution": {
     "iopub.execute_input": "2022-05-07T10:21:07.955643Z",
     "iopub.status.busy": "2022-05-07T10:21:07.954834Z",
     "iopub.status.idle": "2022-05-07T10:21:14.236828Z",
     "shell.execute_reply": "2022-05-07T10:21:14.236211Z"
    },
    "papermill": {
     "duration": 6.319156,
     "end_time": "2022-05-07T10:21:14.236987",
     "exception": false,
     "start_time": "2022-05-07T10:21:07.917831",
     "status": "completed"
    },
    "tags": []
   },
   "outputs": [],
   "source": [
    "# Preprocessing and encoding variables\n",
    "import pandas as pd\n",
    "import numpy as np\n",
    "\n",
    "# Using Skicit-learn to split data into training and testing sets\n",
    "from sklearn import preprocessing\n",
    "from sklearn.preprocessing import LabelEncoder\n",
    "from sklearn.preprocessing import OneHotEncoder\n",
    "from sklearn.model_selection import train_test_split\n",
    "\n",
    "# For characterlevel one hot encoding or label encoding \n",
    "from tensorflow.keras.preprocessing.text import Tokenizer\n",
    "from tensorflow.keras.preprocessing import sequence\n",
    "from tensorflow.keras.models import Sequential\n",
    "from tensorflow.keras.layers import Dense, Embedding, LSTM, Dropout, Activation\n",
    "import tensorflow.keras.utils as utils\n",
    "from keras import optimizers\n",
    "\n",
    "# For RNN architecture\n",
    "from tensorflow.keras.layers import SimpleRNN\n",
    "\n",
    "# For plotting\n",
    "import matplotlib.pyplot as plt\n",
    "\n",
    "# Use scikit-learn to grid search the batch size and epochs\n",
    "from sklearn.model_selection import GridSearchCV\n",
    "from keras.wrappers.scikit_learn import KerasClassifier"
   ]
  },
  {
   "cell_type": "markdown",
   "id": "07bc38e1",
   "metadata": {
    "papermill": {
     "duration": 0.022239,
     "end_time": "2022-05-07T10:21:14.282329",
     "exception": false,
     "start_time": "2022-05-07T10:21:14.260090",
     "status": "completed"
    },
    "tags": []
   },
   "source": [
    "### Uploading genomes"
   ]
  },
  {
   "cell_type": "code",
   "execution_count": 2,
   "id": "42697fb4",
   "metadata": {
    "execution": {
     "iopub.execute_input": "2022-05-07T10:21:14.332903Z",
     "iopub.status.busy": "2022-05-07T10:21:14.332245Z",
     "iopub.status.idle": "2022-05-07T10:21:14.460084Z",
     "shell.execute_reply": "2022-05-07T10:21:14.458855Z"
    },
    "papermill": {
     "duration": 0.154823,
     "end_time": "2022-05-07T10:21:14.460241",
     "exception": false,
     "start_time": "2022-05-07T10:21:14.305418",
     "status": "completed"
    },
    "tags": []
   },
   "outputs": [],
   "source": [
    "G = pd.read_csv('../input/genomes/G1_translated.csv').iloc[:, 1:]"
   ]
  },
  {
   "cell_type": "code",
   "execution_count": 3,
   "id": "5c94d068",
   "metadata": {
    "execution": {
     "iopub.execute_input": "2022-05-07T10:21:14.522161Z",
     "iopub.status.busy": "2022-05-07T10:21:14.521217Z",
     "iopub.status.idle": "2022-05-07T10:21:14.525843Z",
     "shell.execute_reply": "2022-05-07T10:21:14.525328Z"
    },
    "papermill": {
     "duration": 0.039676,
     "end_time": "2022-05-07T10:21:14.525972",
     "exception": false,
     "start_time": "2022-05-07T10:21:14.486296",
     "status": "completed"
    },
    "tags": []
   },
   "outputs": [],
   "source": [
    "G = G.dropna()"
   ]
  },
  {
   "cell_type": "code",
   "execution_count": 4,
   "id": "d8f92325",
   "metadata": {
    "execution": {
     "iopub.execute_input": "2022-05-07T10:21:14.584597Z",
     "iopub.status.busy": "2022-05-07T10:21:14.583869Z",
     "iopub.status.idle": "2022-05-07T10:21:14.596959Z",
     "shell.execute_reply": "2022-05-07T10:21:14.596478Z"
    },
    "papermill": {
     "duration": 0.044211,
     "end_time": "2022-05-07T10:21:14.597081",
     "exception": false,
     "start_time": "2022-05-07T10:21:14.552870",
     "status": "completed"
    },
    "tags": []
   },
   "outputs": [
    {
     "data": {
      "text/html": [
       "<div>\n",
       "<style scoped>\n",
       "    .dataframe tbody tr th:only-of-type {\n",
       "        vertical-align: middle;\n",
       "    }\n",
       "\n",
       "    .dataframe tbody tr th {\n",
       "        vertical-align: top;\n",
       "    }\n",
       "\n",
       "    .dataframe thead th {\n",
       "        text-align: right;\n",
       "    }\n",
       "</style>\n",
       "<table border=\"1\" class=\"dataframe\">\n",
       "  <thead>\n",
       "    <tr style=\"text-align: right;\">\n",
       "      <th></th>\n",
       "      <th>Type</th>\n",
       "      <th>Sequence</th>\n",
       "      <th>Translated</th>\n",
       "    </tr>\n",
       "  </thead>\n",
       "  <tbody>\n",
       "    <tr>\n",
       "      <th>8639</th>\n",
       "      <td>CDS</td>\n",
       "      <td>GTGAAAGATTTATTAAAGTTTCTGAAAGCGCAGACTAAAACCGAAG...</td>\n",
       "      <td>VKDLLKFLKAQTKTEEFDAIKIALASPDMIRSWSFGEVKKPETINY...</td>\n",
       "    </tr>\n",
       "    <tr>\n",
       "      <th>8640</th>\n",
       "      <td>CDS</td>\n",
       "      <td>ATGAGCGGAAAACCGGCGGCGCGTCAGGGTGACATGACGCAGTATG...</td>\n",
       "      <td>MSGKPAARQGDMTQYGGSIVQGSAGVRIGAPTGVACSVCPGGVTSG...</td>\n",
       "    </tr>\n",
       "    <tr>\n",
       "      <th>8641</th>\n",
       "      <td>CDS</td>\n",
       "      <td>ATGAGCGGAAAACCAGCGGCGCGTCAGGGAGATATGACTCAGTATG...</td>\n",
       "      <td>MSGKPAARQGDMTQYGGPIVQGSAGVRIGAPTGVACSVCPGGMTSG...</td>\n",
       "    </tr>\n",
       "    <tr>\n",
       "      <th>8642</th>\n",
       "      <td>CDS</td>\n",
       "      <td>ATGATTGAACGCGGTAAATTTCGCTCACTGACGCTGATTAACTGGA...</td>\n",
       "      <td>MIERGKFRSLTLINWNGFFARTFDLDELVTTLSGGNGAGKSTTMAA...</td>\n",
       "    </tr>\n",
       "    <tr>\n",
       "      <th>8643</th>\n",
       "      <td>CDS</td>\n",
       "      <td>ATGTTGTACGATAAATCCCTTGAGAGGGATAACTGTGGTTTCGGCC...</td>\n",
       "      <td>MLYDKSLERDNCGFGLIAHIEGEPSHKVVRTAIHALARMQHRGAIL...</td>\n",
       "    </tr>\n",
       "    <tr>\n",
       "      <th>8644</th>\n",
       "      <td>CDS</td>\n",
       "      <td>ATGAATAAGAAATTTAAATATAAGAAATCGCTTTTAGCGGCTATTT...</td>\n",
       "      <td>MNKKFKYKKSLLAAILSATLLAGCDGGGSGSSSDTPPVDSGTGSLP...</td>\n",
       "    </tr>\n",
       "    <tr>\n",
       "      <th>8645</th>\n",
       "      <td>CDS</td>\n",
       "      <td>ATGAACAGGACCAGTCCCTATTATTGTCGCCGCTCAGTACTTTCCT...</td>\n",
       "      <td>MNRTSPYYCRRSVLSLLISALIYAPPGMAAFTTNVIGVVNDETVDG...</td>\n",
       "    </tr>\n",
       "    <tr>\n",
       "      <th>8646</th>\n",
       "      <td>CDS</td>\n",
       "      <td>ATGGCAGATAATCCAGACCCTTCATCGCTCCTGCCGGACGTGTTTT...</td>\n",
       "      <td>MADNPDPSSLLPDVFSPATRDWFLRAFKQPTAVQPQTWHVAARSEH...</td>\n",
       "    </tr>\n",
       "    <tr>\n",
       "      <th>8647</th>\n",
       "      <td>CDS</td>\n",
       "      <td>ATGAAAAAGTTACGCGTAGCCGCCTGCATGCTAATGCTGGCGCTGG...</td>\n",
       "      <td>MKKLRVAACMLMLALAGCDNNDNAPTAVKKDAPSEVTKAASSENAS...</td>\n",
       "    </tr>\n",
       "    <tr>\n",
       "      <th>8648</th>\n",
       "      <td>CDS</td>\n",
       "      <td>ATGGCTACGAAGAAGAGAAGTGGAGAAGAAATAAATGACCGACAAA...</td>\n",
       "      <td>MATKKRSGEEINDRQILCGMGIKLRRLTAGICLITQLAFPMAAAAQ...</td>\n",
       "    </tr>\n",
       "  </tbody>\n",
       "</table>\n",
       "</div>"
      ],
      "text/plain": [
       "     Type                                           Sequence  \\\n",
       "8639  CDS  GTGAAAGATTTATTAAAGTTTCTGAAAGCGCAGACTAAAACCGAAG...   \n",
       "8640  CDS  ATGAGCGGAAAACCGGCGGCGCGTCAGGGTGACATGACGCAGTATG...   \n",
       "8641  CDS  ATGAGCGGAAAACCAGCGGCGCGTCAGGGAGATATGACTCAGTATG...   \n",
       "8642  CDS  ATGATTGAACGCGGTAAATTTCGCTCACTGACGCTGATTAACTGGA...   \n",
       "8643  CDS  ATGTTGTACGATAAATCCCTTGAGAGGGATAACTGTGGTTTCGGCC...   \n",
       "8644  CDS  ATGAATAAGAAATTTAAATATAAGAAATCGCTTTTAGCGGCTATTT...   \n",
       "8645  CDS  ATGAACAGGACCAGTCCCTATTATTGTCGCCGCTCAGTACTTTCCT...   \n",
       "8646  CDS  ATGGCAGATAATCCAGACCCTTCATCGCTCCTGCCGGACGTGTTTT...   \n",
       "8647  CDS  ATGAAAAAGTTACGCGTAGCCGCCTGCATGCTAATGCTGGCGCTGG...   \n",
       "8648  CDS  ATGGCTACGAAGAAGAGAAGTGGAGAAGAAATAAATGACCGACAAA...   \n",
       "\n",
       "                                             Translated  \n",
       "8639  VKDLLKFLKAQTKTEEFDAIKIALASPDMIRSWSFGEVKKPETINY...  \n",
       "8640  MSGKPAARQGDMTQYGGSIVQGSAGVRIGAPTGVACSVCPGGVTSG...  \n",
       "8641  MSGKPAARQGDMTQYGGPIVQGSAGVRIGAPTGVACSVCPGGMTSG...  \n",
       "8642  MIERGKFRSLTLINWNGFFARTFDLDELVTTLSGGNGAGKSTTMAA...  \n",
       "8643  MLYDKSLERDNCGFGLIAHIEGEPSHKVVRTAIHALARMQHRGAIL...  \n",
       "8644  MNKKFKYKKSLLAAILSATLLAGCDGGGSGSSSDTPPVDSGTGSLP...  \n",
       "8645  MNRTSPYYCRRSVLSLLISALIYAPPGMAAFTTNVIGVVNDETVDG...  \n",
       "8646  MADNPDPSSLLPDVFSPATRDWFLRAFKQPTAVQPQTWHVAARSEH...  \n",
       "8647  MKKLRVAACMLMLALAGCDNNDNAPTAVKKDAPSEVTKAASSENAS...  \n",
       "8648  MATKKRSGEEINDRQILCGMGIKLRRLTAGICLITQLAFPMAAAAQ...  "
      ]
     },
     "execution_count": 4,
     "metadata": {},
     "output_type": "execute_result"
    }
   ],
   "source": [
    "G.tail(10)"
   ]
  },
  {
   "cell_type": "code",
   "execution_count": 5,
   "id": "39fc7b81",
   "metadata": {
    "execution": {
     "iopub.execute_input": "2022-05-07T10:21:14.650157Z",
     "iopub.status.busy": "2022-05-07T10:21:14.649366Z",
     "iopub.status.idle": "2022-05-07T10:21:14.652639Z",
     "shell.execute_reply": "2022-05-07T10:21:14.653225Z"
    },
    "papermill": {
     "duration": 0.032181,
     "end_time": "2022-05-07T10:21:14.653395",
     "exception": false,
     "start_time": "2022-05-07T10:21:14.621214",
     "status": "completed"
    },
    "tags": []
   },
   "outputs": [
    {
     "name": "stdout",
     "output_type": "stream",
     "text": [
      "The shape of our dataframe is: (8649, 3)\n",
      "Rows: 8649\n",
      "Columns: 3\n"
     ]
    }
   ],
   "source": [
    "print('The shape of our dataframe is:', G.shape)\n",
    "print('Rows:', G.shape[0])\n",
    "print('Columns:', G.shape[1])"
   ]
  },
  {
   "cell_type": "markdown",
   "id": "c6349185",
   "metadata": {
    "papermill": {
     "duration": 0.02448,
     "end_time": "2022-05-07T10:21:14.702938",
     "exception": false,
     "start_time": "2022-05-07T10:21:14.678458",
     "status": "completed"
    },
    "tags": []
   },
   "source": [
    "### Encoding data\n",
    "\n",
    "Using sklearn OneHotEncoder and LabelEncoder"
   ]
  },
  {
   "cell_type": "markdown",
   "id": "ed2dfa58",
   "metadata": {
    "papermill": {
     "duration": 0.028876,
     "end_time": "2022-05-07T10:21:14.760888",
     "exception": false,
     "start_time": "2022-05-07T10:21:14.732012",
     "status": "completed"
    },
    "tags": []
   },
   "source": [
    "#### Labels"
   ]
  },
  {
   "cell_type": "code",
   "execution_count": 6,
   "id": "25dae8eb",
   "metadata": {
    "execution": {
     "iopub.execute_input": "2022-05-07T10:21:14.825251Z",
     "iopub.status.busy": "2022-05-07T10:21:14.823524Z",
     "iopub.status.idle": "2022-05-07T10:21:14.825841Z",
     "shell.execute_reply": "2022-05-07T10:21:14.826261Z"
    },
    "papermill": {
     "duration": 0.036942,
     "end_time": "2022-05-07T10:21:14.826392",
     "exception": false,
     "start_time": "2022-05-07T10:21:14.789450",
     "status": "completed"
    },
    "tags": []
   },
   "outputs": [],
   "source": [
    "def encode_feature(array):\n",
    "    \"\"\" Encode a categorical array into a number array\n",
    "    \n",
    "    :param array: array to be encoded\n",
    "    :return: numerical array\n",
    "    \"\"\"\n",
    "  \n",
    "    encoder = preprocessing.LabelEncoder()\n",
    "    encoder.fit(array)\n",
    "    return encoder.transform(array)"
   ]
  },
  {
   "cell_type": "code",
   "execution_count": 7,
   "id": "9446eaf3",
   "metadata": {
    "execution": {
     "iopub.execute_input": "2022-05-07T10:21:14.892088Z",
     "iopub.status.busy": "2022-05-07T10:21:14.891491Z",
     "iopub.status.idle": "2022-05-07T10:21:14.895523Z",
     "shell.execute_reply": "2022-05-07T10:21:14.894963Z"
    },
    "papermill": {
     "duration": 0.041448,
     "end_time": "2022-05-07T10:21:14.895673",
     "exception": false,
     "start_time": "2022-05-07T10:21:14.854225",
     "status": "completed"
    },
    "tags": []
   },
   "outputs": [
    {
     "name": "stdout",
     "output_type": "stream",
     "text": [
      "['CDS' 'CDS' 'CDS' ... 'CDS' 'CDS' 'CDS']\n"
     ]
    }
   ],
   "source": [
    "class_names = ['CDS', 'LORF']\n",
    "labels = G[\"Type\"].values\n",
    "print(labels)"
   ]
  },
  {
   "cell_type": "code",
   "execution_count": 8,
   "id": "7906caa6",
   "metadata": {
    "execution": {
     "iopub.execute_input": "2022-05-07T10:21:14.953714Z",
     "iopub.status.busy": "2022-05-07T10:21:14.952781Z",
     "iopub.status.idle": "2022-05-07T10:21:14.956962Z",
     "shell.execute_reply": "2022-05-07T10:21:14.956521Z"
    },
    "papermill": {
     "duration": 0.035765,
     "end_time": "2022-05-07T10:21:14.957082",
     "exception": false,
     "start_time": "2022-05-07T10:21:14.921317",
     "status": "completed"
    },
    "tags": []
   },
   "outputs": [
    {
     "data": {
      "text/plain": [
       "array([0, 0, 0, ..., 0, 0, 0])"
      ]
     },
     "execution_count": 8,
     "metadata": {},
     "output_type": "execute_result"
    }
   ],
   "source": [
    "labels = encode_feature(labels)\n",
    "labels"
   ]
  },
  {
   "cell_type": "markdown",
   "id": "2b781030",
   "metadata": {
    "papermill": {
     "duration": 0.026348,
     "end_time": "2022-05-07T10:21:15.008635",
     "exception": false,
     "start_time": "2022-05-07T10:21:14.982287",
     "status": "completed"
    },
    "tags": []
   },
   "source": [
    "#### Sequences\n",
    "\n",
    "The sequenes are are tokenized using keras tokenizer, then padded and finally one hot encoded."
   ]
  },
  {
   "cell_type": "code",
   "execution_count": 9,
   "id": "c18b18f3",
   "metadata": {
    "execution": {
     "iopub.execute_input": "2022-05-07T10:21:15.065409Z",
     "iopub.status.busy": "2022-05-07T10:21:15.064744Z",
     "iopub.status.idle": "2022-05-07T10:21:15.067412Z",
     "shell.execute_reply": "2022-05-07T10:21:15.067842Z"
    },
    "papermill": {
     "duration": 0.033836,
     "end_time": "2022-05-07T10:21:15.067989",
     "exception": false,
     "start_time": "2022-05-07T10:21:15.034153",
     "status": "completed"
    },
    "tags": []
   },
   "outputs": [
    {
     "data": {
      "text/plain": [
       "['AAAGGCTAA',\n",
       " 'AAAAAAGAGTGA',\n",
       " 'ATGAAAAATAGTGTCGCTGAGCACTAA',\n",
       " 'ATGATTAAATCCGACCAGGAGACCTGA',\n",
       " 'ATGCTTCATTGCAAAGGGAATAATCTATGA']"
      ]
     },
     "execution_count": 9,
     "metadata": {},
     "output_type": "execute_result"
    }
   ],
   "source": [
    "# Extract sequences\n",
    "samples = G['Sequence'].values\n",
    "samples = list(samples)\n",
    "samples[0:5]"
   ]
  },
  {
   "cell_type": "code",
   "execution_count": 10,
   "id": "2fdedd8f",
   "metadata": {
    "execution": {
     "iopub.execute_input": "2022-05-07T10:21:15.137483Z",
     "iopub.status.busy": "2022-05-07T10:21:15.136508Z",
     "iopub.status.idle": "2022-05-07T10:21:17.538828Z",
     "shell.execute_reply": "2022-05-07T10:21:17.538283Z"
    },
    "papermill": {
     "duration": 2.445752,
     "end_time": "2022-05-07T10:21:17.538965",
     "exception": false,
     "start_time": "2022-05-07T10:21:15.093213",
     "status": "completed"
    },
    "tags": []
   },
   "outputs": [],
   "source": [
    "# Tokenizer configured to only take into account the top-4 most common words\n",
    "tokenizer = Tokenizer(char_level=True)\n",
    "\n",
    "# This builds the word index\n",
    "tokenizer.fit_on_texts(samples)\n",
    "\n",
    "# This turns strings into lists of integer indices.\n",
    "seq_of_int = tokenizer.texts_to_sequences(samples)"
   ]
  },
  {
   "cell_type": "code",
   "execution_count": 11,
   "id": "17be37b0",
   "metadata": {
    "execution": {
     "iopub.execute_input": "2022-05-07T10:21:17.596416Z",
     "iopub.status.busy": "2022-05-07T10:21:17.595746Z",
     "iopub.status.idle": "2022-05-07T10:21:17.598420Z",
     "shell.execute_reply": "2022-05-07T10:21:17.598864Z"
    },
    "papermill": {
     "duration": 0.033854,
     "end_time": "2022-05-07T10:21:17.598998",
     "exception": false,
     "start_time": "2022-05-07T10:21:17.565144",
     "status": "completed"
    },
    "tags": []
   },
   "outputs": [
    {
     "data": {
      "text/plain": [
       "[4, 4, 4, 1, 1, 2, 3, 4, 4]"
      ]
     },
     "execution_count": 11,
     "metadata": {},
     "output_type": "execute_result"
    }
   ],
   "source": [
    "seq_of_int[0]"
   ]
  },
  {
   "cell_type": "code",
   "execution_count": 12,
   "id": "898e6e43",
   "metadata": {
    "execution": {
     "iopub.execute_input": "2022-05-07T10:21:17.655858Z",
     "iopub.status.busy": "2022-05-07T10:21:17.655260Z",
     "iopub.status.idle": "2022-05-07T10:21:17.658194Z",
     "shell.execute_reply": "2022-05-07T10:21:17.658595Z"
    },
    "papermill": {
     "duration": 0.033765,
     "end_time": "2022-05-07T10:21:17.658720",
     "exception": false,
     "start_time": "2022-05-07T10:21:17.624955",
     "status": "completed"
    },
    "tags": []
   },
   "outputs": [
    {
     "name": "stdout",
     "output_type": "stream",
     "text": [
      "Longest sequence is: 7077\n"
     ]
    }
   ],
   "source": [
    "print('Longest sequence is:', len(samples[len(G)-1]))"
   ]
  },
  {
   "cell_type": "code",
   "execution_count": 13,
   "id": "9ff93d07",
   "metadata": {
    "execution": {
     "iopub.execute_input": "2022-05-07T10:21:17.717863Z",
     "iopub.status.busy": "2022-05-07T10:21:17.716789Z",
     "iopub.status.idle": "2022-05-07T10:21:18.281506Z",
     "shell.execute_reply": "2022-05-07T10:21:18.281034Z"
    },
    "papermill": {
     "duration": 0.596495,
     "end_time": "2022-05-07T10:21:18.281638",
     "exception": false,
     "start_time": "2022-05-07T10:21:17.685143",
     "status": "completed"
    },
    "tags": []
   },
   "outputs": [],
   "source": [
    "#max_len = len(samples[len(G)-1])\n",
    "max_len = 4000\n",
    "seq_padded = sequence.pad_sequences(seq_of_int, maxlen=max_len, dtype='int32', value=0.0) # if maxlen=None then the maximum lenght is the longest sequence in genome"
   ]
  },
  {
   "cell_type": "code",
   "execution_count": 14,
   "id": "a656533c",
   "metadata": {
    "execution": {
     "iopub.execute_input": "2022-05-07T10:21:18.344833Z",
     "iopub.status.busy": "2022-05-07T10:21:18.344125Z",
     "iopub.status.idle": "2022-05-07T10:21:18.346973Z",
     "shell.execute_reply": "2022-05-07T10:21:18.347375Z"
    },
    "papermill": {
     "duration": 0.035546,
     "end_time": "2022-05-07T10:21:18.347504",
     "exception": false,
     "start_time": "2022-05-07T10:21:18.311958",
     "status": "completed"
    },
    "tags": []
   },
   "outputs": [
    {
     "data": {
      "text/plain": [
       "(8649, 4000)"
      ]
     },
     "execution_count": 14,
     "metadata": {},
     "output_type": "execute_result"
    }
   ],
   "source": [
    "np.shape(seq_padded)"
   ]
  },
  {
   "cell_type": "markdown",
   "id": "b3faad50",
   "metadata": {
    "papermill": {
     "duration": 0.02685,
     "end_time": "2022-05-07T10:21:18.401426",
     "exception": false,
     "start_time": "2022-05-07T10:21:18.374576",
     "status": "completed"
    },
    "tags": []
   },
   "source": [
    "#### OneHotEncode padded integer sequences\n",
    "\n",
    "The reason why we can not simply convert every character to its position in the alphabet, e.g. a — 1, b — 2 etc.) is that this would lead the network to assume that the characters are on an ordinal scale, instead of a categorical - the letter Z not is “worth more” than an A."
   ]
  },
  {
   "cell_type": "code",
   "execution_count": 15,
   "id": "c24eb6d6",
   "metadata": {
    "execution": {
     "iopub.execute_input": "2022-05-07T10:21:18.460792Z",
     "iopub.status.busy": "2022-05-07T10:21:18.459744Z",
     "iopub.status.idle": "2022-05-07T10:21:19.178415Z",
     "shell.execute_reply": "2022-05-07T10:21:19.177922Z"
    },
    "papermill": {
     "duration": 0.749724,
     "end_time": "2022-05-07T10:21:19.178544",
     "exception": false,
     "start_time": "2022-05-07T10:21:18.428820",
     "status": "completed"
    },
    "tags": []
   },
   "outputs": [],
   "source": [
    "seq_one_hot = utils.to_categorical(seq_padded)"
   ]
  },
  {
   "cell_type": "code",
   "execution_count": 16,
   "id": "1ae49bff",
   "metadata": {
    "execution": {
     "iopub.execute_input": "2022-05-07T10:21:19.240524Z",
     "iopub.status.busy": "2022-05-07T10:21:19.239339Z",
     "iopub.status.idle": "2022-05-07T10:21:19.244530Z",
     "shell.execute_reply": "2022-05-07T10:21:19.243777Z"
    },
    "papermill": {
     "duration": 0.03799,
     "end_time": "2022-05-07T10:21:19.244711",
     "exception": false,
     "start_time": "2022-05-07T10:21:19.206721",
     "status": "completed"
    },
    "tags": []
   },
   "outputs": [
    {
     "data": {
      "text/plain": [
       "(8649, 4000, 5)"
      ]
     },
     "execution_count": 16,
     "metadata": {},
     "output_type": "execute_result"
    }
   ],
   "source": [
    "np.shape(seq_one_hot)"
   ]
  },
  {
   "cell_type": "markdown",
   "id": "461771a1",
   "metadata": {
    "papermill": {
     "duration": 0.031792,
     "end_time": "2022-05-07T10:21:19.308375",
     "exception": false,
     "start_time": "2022-05-07T10:21:19.276583",
     "status": "completed"
    },
    "tags": []
   },
   "source": [
    "### Create training and test data"
   ]
  },
  {
   "cell_type": "code",
   "execution_count": 17,
   "id": "cdc7629a",
   "metadata": {
    "execution": {
     "iopub.execute_input": "2022-05-07T10:21:19.378049Z",
     "iopub.status.busy": "2022-05-07T10:21:19.376682Z",
     "iopub.status.idle": "2022-05-07T10:21:19.422145Z",
     "shell.execute_reply": "2022-05-07T10:21:19.422619Z"
    },
    "papermill": {
     "duration": 0.083443,
     "end_time": "2022-05-07T10:21:19.422787",
     "exception": false,
     "start_time": "2022-05-07T10:21:19.339344",
     "status": "completed"
    },
    "tags": []
   },
   "outputs": [],
   "source": [
    "# Split the data into training and testing sets -> x = features and y = labels/targets\n",
    "train_x, test_x, train_y, test_y = train_test_split(seq_padded, labels, test_size = 0.2, random_state = 42)"
   ]
  },
  {
   "cell_type": "code",
   "execution_count": 18,
   "id": "0bcd3b32",
   "metadata": {
    "execution": {
     "iopub.execute_input": "2022-05-07T10:21:19.484380Z",
     "iopub.status.busy": "2022-05-07T10:21:19.483820Z",
     "iopub.status.idle": "2022-05-07T10:21:19.487433Z",
     "shell.execute_reply": "2022-05-07T10:21:19.488268Z"
    },
    "papermill": {
     "duration": 0.037326,
     "end_time": "2022-05-07T10:21:19.488405",
     "exception": false,
     "start_time": "2022-05-07T10:21:19.451079",
     "status": "completed"
    },
    "tags": []
   },
   "outputs": [
    {
     "name": "stdout",
     "output_type": "stream",
     "text": [
      "Input data:\n",
      "6919 train sequences\n",
      "1730 test sequences\n"
     ]
    }
   ],
   "source": [
    "print('Input data:')\n",
    "print(len(train_x), 'train sequences')\n",
    "print(len(test_x), 'test sequences')"
   ]
  },
  {
   "cell_type": "code",
   "execution_count": 19,
   "id": "9946316c",
   "metadata": {
    "execution": {
     "iopub.execute_input": "2022-05-07T10:21:19.551845Z",
     "iopub.status.busy": "2022-05-07T10:21:19.550960Z",
     "iopub.status.idle": "2022-05-07T10:21:19.553943Z",
     "shell.execute_reply": "2022-05-07T10:21:19.554418Z"
    },
    "papermill": {
     "duration": 0.036879,
     "end_time": "2022-05-07T10:21:19.554563",
     "exception": false,
     "start_time": "2022-05-07T10:21:19.517684",
     "status": "completed"
    },
    "tags": []
   },
   "outputs": [
    {
     "data": {
      "text/plain": [
       "(6919, 4000)"
      ]
     },
     "execution_count": 19,
     "metadata": {},
     "output_type": "execute_result"
    }
   ],
   "source": [
    "np.shape(train_x)"
   ]
  },
  {
   "cell_type": "markdown",
   "id": "4c699ef6",
   "metadata": {
    "papermill": {
     "duration": 0.029446,
     "end_time": "2022-05-07T10:21:19.613067",
     "exception": false,
     "start_time": "2022-05-07T10:21:19.583621",
     "status": "completed"
    },
    "tags": []
   },
   "source": [
    "### LSTM model"
   ]
  },
  {
   "cell_type": "markdown",
   "id": "d77a0d6c",
   "metadata": {
    "papermill": {
     "duration": 0.02883,
     "end_time": "2022-05-07T10:21:19.670989",
     "exception": false,
     "start_time": "2022-05-07T10:21:19.642159",
     "status": "completed"
    },
    "tags": []
   },
   "source": [
    "#### Choosing number of nodes and layers\n",
    "There is no final, definite, rule of thumb on how many nodes (or hidden neurons) or how many layers one should choose, and very often a trial and error approach will give you the best results for your individual problem. Generally, 2 layers have shown to be enough to detect more complex features. More layers can be better but also harder to train. As a general rule of thumb — 1 hidden layer work with simple problems, like this, and two are enough to find reasonably complex features."
   ]
  },
  {
   "cell_type": "markdown",
   "id": "a7863df7",
   "metadata": {
    "papermill": {
     "duration": 0.029026,
     "end_time": "2022-05-07T10:21:19.729164",
     "exception": false,
     "start_time": "2022-05-07T10:21:19.700138",
     "status": "completed"
    },
    "tags": []
   },
   "source": [
    "#### Choosing additional hyperparameters\n",
    "\n",
    "- **Dropout**: Every LSTM layer should be accompanied by a Dropout layer. This layer will help to prevent overfitting by ignoring randomly selected neurons during training, and hence reduces the sensitivity to the specific weights of individual neurons. 20% is often used as a good compromise between retaining model accuracy and preventing overfitting.\n",
    "- **Activation layer**: Technically, this can be included into the density layer, but there is a reason to split this apart. While not relevant here, splitting the density layer and the activation layer makes it possible to retrieve the reduced output of the density layer of the model. Which activation function to use is, again, depending on the application. Sigmoid function is used for binary classification problems. \n",
    "- **Loss function**: Loss function and activation function are often chosen together. Cross-entropy or more precise the binary cross-entropy, is the preferred loss function since we are faced with a binary classification problem. \n",
    "- **Optimizer**: For choosing the optimizer, adaptive moment estimation, short _Adam_, has been shown to work well in most practical applications and works well with only little changes in the hyperparameters. \n",
    "- **Metric**: In many cases, judging the models’ performance from an overall _accuracy_ point of view will be the option easiest to interpret as well as sufficient in resulting model performance.\n"
   ]
  },
  {
   "cell_type": "markdown",
   "id": "b215b1cd",
   "metadata": {
    "papermill": {
     "duration": 0.028932,
     "end_time": "2022-05-07T10:21:19.787258",
     "exception": false,
     "start_time": "2022-05-07T10:21:19.758326",
     "status": "completed"
    },
    "tags": []
   },
   "source": [
    "#### Simple LSTM with embedding layer:\n",
    "\n",
    "https://mmuratarat.github.io/2019-06-12/embeddings-with-numeric-variables-Keras"
   ]
  },
  {
   "cell_type": "markdown",
   "id": "370ddc0c",
   "metadata": {
    "papermill": {
     "duration": 0.028733,
     "end_time": "2022-05-07T10:21:19.845077",
     "exception": false,
     "start_time": "2022-05-07T10:21:19.816344",
     "status": "completed"
    },
    "tags": []
   },
   "source": [
    "There are three parameters to the embedding layer:\n",
    "- **input_dim** : Size of the vocabulary\n",
    "- **output_dim** : Embedding size. Output length of the vector for each word\n",
    "- **input_length** : Maximum length of a sequence"
   ]
  },
  {
   "cell_type": "code",
   "execution_count": 20,
   "id": "f74359a1",
   "metadata": {
    "execution": {
     "iopub.execute_input": "2022-05-07T10:21:19.909500Z",
     "iopub.status.busy": "2022-05-07T10:21:19.908613Z",
     "iopub.status.idle": "2022-05-07T10:21:19.910697Z",
     "shell.execute_reply": "2022-05-07T10:21:19.911115Z"
    },
    "papermill": {
     "duration": 0.036214,
     "end_time": "2022-05-07T10:21:19.911254",
     "exception": false,
     "start_time": "2022-05-07T10:21:19.875040",
     "status": "completed"
    },
    "tags": []
   },
   "outputs": [],
   "source": [
    "input_dim = 5 # input dimension: 4 bases + padding \n",
    "\n",
    "embedding_size = min(np.ceil((input_dim)/2), 50)\n",
    "embedding_size = int(embedding_size)\n",
    "\n",
    "output_dim = embedding_size\n",
    "input_length = max_len"
   ]
  },
  {
   "cell_type": "code",
   "execution_count": 21,
   "id": "971280a6",
   "metadata": {
    "execution": {
     "iopub.execute_input": "2022-05-07T10:21:19.978438Z",
     "iopub.status.busy": "2022-05-07T10:21:19.977926Z",
     "iopub.status.idle": "2022-05-07T12:04:18.254816Z",
     "shell.execute_reply": "2022-05-07T12:04:18.255527Z"
    },
    "papermill": {
     "duration": 6178.315436,
     "end_time": "2022-05-07T12:04:18.255740",
     "exception": false,
     "start_time": "2022-05-07T10:21:19.940304",
     "status": "completed"
    },
    "tags": []
   },
   "outputs": [
    {
     "name": "stderr",
     "output_type": "stream",
     "text": [
      "2022-05-07 10:21:20.062169: I tensorflow/stream_executor/cuda/cuda_gpu_executor.cc:937] successful NUMA node read from SysFS had negative value (-1), but there must be at least one NUMA node, so returning NUMA node zero\n",
      "2022-05-07 10:21:20.172961: I tensorflow/stream_executor/cuda/cuda_gpu_executor.cc:937] successful NUMA node read from SysFS had negative value (-1), but there must be at least one NUMA node, so returning NUMA node zero\n",
      "2022-05-07 10:21:20.173715: I tensorflow/stream_executor/cuda/cuda_gpu_executor.cc:937] successful NUMA node read from SysFS had negative value (-1), but there must be at least one NUMA node, so returning NUMA node zero\n",
      "2022-05-07 10:21:20.174887: I tensorflow/core/platform/cpu_feature_guard.cc:142] This TensorFlow binary is optimized with oneAPI Deep Neural Network Library (oneDNN) to use the following CPU instructions in performance-critical operations:  AVX2 AVX512F FMA\n",
      "To enable them in other operations, rebuild TensorFlow with the appropriate compiler flags.\n",
      "2022-05-07 10:21:20.176212: I tensorflow/stream_executor/cuda/cuda_gpu_executor.cc:937] successful NUMA node read from SysFS had negative value (-1), but there must be at least one NUMA node, so returning NUMA node zero\n",
      "2022-05-07 10:21:20.176918: I tensorflow/stream_executor/cuda/cuda_gpu_executor.cc:937] successful NUMA node read from SysFS had negative value (-1), but there must be at least one NUMA node, so returning NUMA node zero\n",
      "2022-05-07 10:21:20.177562: I tensorflow/stream_executor/cuda/cuda_gpu_executor.cc:937] successful NUMA node read from SysFS had negative value (-1), but there must be at least one NUMA node, so returning NUMA node zero\n",
      "2022-05-07 10:21:22.103934: I tensorflow/stream_executor/cuda/cuda_gpu_executor.cc:937] successful NUMA node read from SysFS had negative value (-1), but there must be at least one NUMA node, so returning NUMA node zero\n",
      "2022-05-07 10:21:22.104732: I tensorflow/stream_executor/cuda/cuda_gpu_executor.cc:937] successful NUMA node read from SysFS had negative value (-1), but there must be at least one NUMA node, so returning NUMA node zero\n",
      "2022-05-07 10:21:22.105424: I tensorflow/stream_executor/cuda/cuda_gpu_executor.cc:937] successful NUMA node read from SysFS had negative value (-1), but there must be at least one NUMA node, so returning NUMA node zero\n",
      "2022-05-07 10:21:22.106017: I tensorflow/core/common_runtime/gpu/gpu_device.cc:1510] Created device /job:localhost/replica:0/task:0/device:GPU:0 with 15403 MB memory:  -> device: 0, name: Tesla P100-PCIE-16GB, pci bus id: 0000:00:04.0, compute capability: 6.0\n",
      "2022-05-07 10:21:22.809066: I tensorflow/compiler/mlir/mlir_graph_optimization_pass.cc:185] None of the MLIR Optimization Passes are enabled (registered 2)\n"
     ]
    },
    {
     "name": "stdout",
     "output_type": "stream",
     "text": [
      "Epoch 1/500\n"
     ]
    },
    {
     "name": "stderr",
     "output_type": "stream",
     "text": [
      "2022-05-07 10:21:25.239522: I tensorflow/stream_executor/cuda/cuda_dnn.cc:369] Loaded cuDNN version 8005\n"
     ]
    },
    {
     "name": "stdout",
     "output_type": "stream",
     "text": [
      "44/44 [==============================] - 16s 287ms/step - loss: 0.6966 - acc: 0.5424 - val_loss: 0.6903 - val_acc: 0.4884\n",
      "Epoch 2/500\n",
      "44/44 [==============================] - 12s 279ms/step - loss: 0.6861 - acc: 0.5380 - val_loss: 0.6828 - val_acc: 0.5455\n",
      "Epoch 3/500\n",
      "44/44 [==============================] - 12s 276ms/step - loss: 0.6852 - acc: 0.6126 - val_loss: 0.6568 - val_acc: 0.6163\n",
      "Epoch 4/500\n",
      "44/44 [==============================] - 12s 280ms/step - loss: 0.6552 - acc: 0.6343 - val_loss: 0.6740 - val_acc: 0.5506\n",
      "Epoch 5/500\n",
      "44/44 [==============================] - 12s 280ms/step - loss: 0.6540 - acc: 0.6226 - val_loss: 0.5932 - val_acc: 0.7030\n",
      "Epoch 6/500\n",
      "44/44 [==============================] - 12s 279ms/step - loss: 0.6373 - acc: 0.6482 - val_loss: 0.5824 - val_acc: 0.7355\n",
      "Epoch 7/500\n",
      "44/44 [==============================] - 12s 279ms/step - loss: 0.6251 - acc: 0.6690 - val_loss: 0.5650 - val_acc: 0.7645\n",
      "Epoch 8/500\n",
      "44/44 [==============================] - 12s 279ms/step - loss: 0.6337 - acc: 0.6508 - val_loss: 0.6410 - val_acc: 0.6293\n",
      "Epoch 9/500\n",
      "44/44 [==============================] - 12s 278ms/step - loss: 0.6243 - acc: 0.6264 - val_loss: 0.6609 - val_acc: 0.6293\n",
      "Epoch 10/500\n",
      "44/44 [==============================] - 12s 281ms/step - loss: 0.7286 - acc: 0.5982 - val_loss: 0.6926 - val_acc: 0.5224\n",
      "Epoch 11/500\n",
      "44/44 [==============================] - 12s 281ms/step - loss: 0.6880 - acc: 0.5310 - val_loss: 0.6955 - val_acc: 0.5145\n",
      "Epoch 12/500\n",
      "44/44 [==============================] - 12s 280ms/step - loss: 0.6710 - acc: 0.5928 - val_loss: 0.5969 - val_acc: 0.6980\n",
      "Epoch 13/500\n",
      "44/44 [==============================] - 12s 279ms/step - loss: 0.6754 - acc: 0.6020 - val_loss: 0.6240 - val_acc: 0.6640\n",
      "Epoch 14/500\n",
      "44/44 [==============================] - 12s 281ms/step - loss: 0.6239 - acc: 0.6802 - val_loss: 0.6098 - val_acc: 0.6662\n",
      "Epoch 15/500\n",
      "44/44 [==============================] - 12s 280ms/step - loss: 0.6006 - acc: 0.6972 - val_loss: 0.6317 - val_acc: 0.6734\n",
      "Epoch 16/500\n",
      "44/44 [==============================] - 12s 280ms/step - loss: 0.6131 - acc: 0.6717 - val_loss: 0.6398 - val_acc: 0.6120\n",
      "Epoch 17/500\n",
      "44/44 [==============================] - 12s 281ms/step - loss: 0.6571 - acc: 0.6829 - val_loss: 0.5789 - val_acc: 0.6893\n",
      "Epoch 18/500\n",
      "44/44 [==============================] - 12s 280ms/step - loss: 0.5816 - acc: 0.7154 - val_loss: 0.5376 - val_acc: 0.7746\n",
      "Epoch 19/500\n",
      "44/44 [==============================] - 12s 279ms/step - loss: 0.6043 - acc: 0.7014 - val_loss: 0.6669 - val_acc: 0.6091\n",
      "Epoch 20/500\n",
      "44/44 [==============================] - 12s 280ms/step - loss: 0.6383 - acc: 0.6591 - val_loss: 0.5631 - val_acc: 0.6929\n",
      "Epoch 21/500\n",
      "44/44 [==============================] - 12s 280ms/step - loss: 0.6001 - acc: 0.6869 - val_loss: 0.6195 - val_acc: 0.6835\n",
      "Epoch 22/500\n",
      "44/44 [==============================] - 12s 280ms/step - loss: 0.5779 - acc: 0.7055 - val_loss: 0.7092 - val_acc: 0.7168\n",
      "Epoch 23/500\n",
      "44/44 [==============================] - 12s 283ms/step - loss: 0.6369 - acc: 0.6790 - val_loss: 0.6898 - val_acc: 0.5116\n",
      "Epoch 24/500\n",
      "44/44 [==============================] - 12s 280ms/step - loss: 0.6962 - acc: 0.5229 - val_loss: 0.6853 - val_acc: 0.5173\n",
      "Epoch 25/500\n",
      "44/44 [==============================] - 12s 280ms/step - loss: 0.5960 - acc: 0.6835 - val_loss: 0.6832 - val_acc: 0.5094\n",
      "Epoch 26/500\n",
      "44/44 [==============================] - 12s 281ms/step - loss: 0.6811 - acc: 0.5794 - val_loss: 0.5452 - val_acc: 0.7666\n",
      "Epoch 27/500\n",
      "44/44 [==============================] - 12s 279ms/step - loss: 0.6108 - acc: 0.6847 - val_loss: 0.6277 - val_acc: 0.6662\n",
      "Epoch 28/500\n",
      "44/44 [==============================] - 12s 280ms/step - loss: 0.6440 - acc: 0.6137 - val_loss: 0.6777 - val_acc: 0.5990\n",
      "Epoch 29/500\n",
      "44/44 [==============================] - 12s 280ms/step - loss: 0.6666 - acc: 0.6188 - val_loss: 0.8007 - val_acc: 0.5137\n",
      "Epoch 30/500\n",
      "44/44 [==============================] - 12s 281ms/step - loss: 0.6386 - acc: 0.6302 - val_loss: 0.4972 - val_acc: 0.7623\n",
      "Epoch 31/500\n",
      "44/44 [==============================] - 12s 279ms/step - loss: 0.5758 - acc: 0.7191 - val_loss: 0.5192 - val_acc: 0.7731\n",
      "Epoch 32/500\n",
      "44/44 [==============================] - 12s 280ms/step - loss: 0.5870 - acc: 0.6941 - val_loss: 0.6248 - val_acc: 0.6727\n",
      "Epoch 33/500\n",
      "44/44 [==============================] - 12s 280ms/step - loss: 0.5845 - acc: 0.6995 - val_loss: 0.6311 - val_acc: 0.6221\n",
      "Epoch 34/500\n",
      "44/44 [==============================] - 12s 281ms/step - loss: 0.5749 - acc: 0.7033 - val_loss: 0.6165 - val_acc: 0.6575\n",
      "Epoch 35/500\n",
      "44/44 [==============================] - 12s 281ms/step - loss: 0.5430 - acc: 0.7536 - val_loss: 0.4753 - val_acc: 0.8143\n",
      "Epoch 36/500\n",
      "44/44 [==============================] - 12s 281ms/step - loss: 0.4921 - acc: 0.7845 - val_loss: 0.6117 - val_acc: 0.7399\n",
      "Epoch 37/500\n",
      "44/44 [==============================] - 12s 279ms/step - loss: 0.4905 - acc: 0.7908 - val_loss: 0.8030 - val_acc: 0.5166\n",
      "Epoch 38/500\n",
      "44/44 [==============================] - 12s 281ms/step - loss: 0.5262 - acc: 0.7442 - val_loss: 0.5160 - val_acc: 0.7601\n",
      "Epoch 39/500\n",
      "44/44 [==============================] - 12s 280ms/step - loss: 0.4877 - acc: 0.7933 - val_loss: 0.4902 - val_acc: 0.8071\n",
      "Epoch 40/500\n",
      "44/44 [==============================] - 12s 279ms/step - loss: 0.4627 - acc: 0.7946 - val_loss: 0.5724 - val_acc: 0.7103\n",
      "Epoch 41/500\n",
      "44/44 [==============================] - 12s 281ms/step - loss: 0.4764 - acc: 0.7904 - val_loss: 0.5457 - val_acc: 0.7594\n",
      "Epoch 42/500\n",
      "44/44 [==============================] - 12s 281ms/step - loss: 0.4951 - acc: 0.7803 - val_loss: 0.4651 - val_acc: 0.8165\n",
      "Epoch 43/500\n",
      "44/44 [==============================] - 12s 279ms/step - loss: 0.4810 - acc: 0.7911 - val_loss: 0.4547 - val_acc: 0.7999\n",
      "Epoch 44/500\n",
      "44/44 [==============================] - 12s 281ms/step - loss: 0.5895 - acc: 0.7001 - val_loss: 0.5172 - val_acc: 0.7847\n",
      "Epoch 45/500\n",
      "44/44 [==============================] - 12s 279ms/step - loss: 0.5314 - acc: 0.7588 - val_loss: 0.5197 - val_acc: 0.7738\n",
      "Epoch 46/500\n",
      "44/44 [==============================] - 12s 280ms/step - loss: 0.5238 - acc: 0.7613 - val_loss: 0.5235 - val_acc: 0.7760\n",
      "Epoch 47/500\n",
      "44/44 [==============================] - 12s 283ms/step - loss: 0.5127 - acc: 0.7642 - val_loss: 0.4599 - val_acc: 0.7897\n",
      "Epoch 48/500\n",
      "44/44 [==============================] - 12s 280ms/step - loss: 0.4857 - acc: 0.7879 - val_loss: 0.9381 - val_acc: 0.5217\n",
      "Epoch 49/500\n",
      "44/44 [==============================] - 12s 279ms/step - loss: 0.7636 - acc: 0.5205 - val_loss: 0.5924 - val_acc: 0.6012\n",
      "Epoch 50/500\n",
      "44/44 [==============================] - 12s 281ms/step - loss: 0.5002 - acc: 0.7510 - val_loss: 0.4912 - val_acc: 0.7897\n",
      "Epoch 51/500\n",
      "44/44 [==============================] - 12s 279ms/step - loss: 0.4788 - acc: 0.7758 - val_loss: 0.4817 - val_acc: 0.7970\n",
      "Epoch 52/500\n",
      "44/44 [==============================] - 12s 282ms/step - loss: 0.4636 - acc: 0.7942 - val_loss: 0.4695 - val_acc: 0.8201\n",
      "Epoch 53/500\n",
      "44/44 [==============================] - 12s 280ms/step - loss: 0.4546 - acc: 0.8090 - val_loss: 0.5054 - val_acc: 0.7659\n",
      "Epoch 54/500\n",
      "44/44 [==============================] - 12s 280ms/step - loss: 0.5295 - acc: 0.7456 - val_loss: 0.5961 - val_acc: 0.6647\n",
      "Epoch 55/500\n",
      "44/44 [==============================] - 12s 282ms/step - loss: 0.4568 - acc: 0.7937 - val_loss: 0.4633 - val_acc: 0.8150\n",
      "Epoch 56/500\n",
      "44/44 [==============================] - 12s 279ms/step - loss: 0.4687 - acc: 0.7893 - val_loss: 0.4424 - val_acc: 0.8042\n",
      "Epoch 57/500\n",
      "44/44 [==============================] - 12s 279ms/step - loss: 0.4411 - acc: 0.8123 - val_loss: 1.1960 - val_acc: 0.5137\n",
      "Epoch 58/500\n",
      "44/44 [==============================] - 12s 282ms/step - loss: 0.5922 - acc: 0.7133 - val_loss: 0.5831 - val_acc: 0.7218\n",
      "Epoch 59/500\n",
      "44/44 [==============================] - 12s 280ms/step - loss: 0.4885 - acc: 0.7662 - val_loss: 0.4303 - val_acc: 0.8042\n",
      "Epoch 60/500\n",
      "44/44 [==============================] - 12s 280ms/step - loss: 0.4537 - acc: 0.8020 - val_loss: 0.4750 - val_acc: 0.8020\n",
      "Epoch 61/500\n",
      "44/44 [==============================] - 12s 279ms/step - loss: 0.4947 - acc: 0.7635 - val_loss: 0.4458 - val_acc: 0.8194\n",
      "Epoch 62/500\n",
      "44/44 [==============================] - 12s 280ms/step - loss: 0.4367 - acc: 0.8090 - val_loss: 0.5239 - val_acc: 0.7645\n",
      "Epoch 63/500\n",
      "44/44 [==============================] - 12s 281ms/step - loss: 0.4323 - acc: 0.8186 - val_loss: 0.4099 - val_acc: 0.8223\n",
      "Epoch 64/500\n",
      "44/44 [==============================] - 12s 280ms/step - loss: 0.4565 - acc: 0.8074 - val_loss: 0.4798 - val_acc: 0.8179\n",
      "Epoch 65/500\n",
      "44/44 [==============================] - 12s 282ms/step - loss: 0.4416 - acc: 0.8143 - val_loss: 0.3822 - val_acc: 0.8439\n",
      "Epoch 66/500\n",
      "44/44 [==============================] - 12s 280ms/step - loss: 0.4569 - acc: 0.7953 - val_loss: 0.4746 - val_acc: 0.7962\n",
      "Epoch 67/500\n",
      "44/44 [==============================] - 12s 280ms/step - loss: 0.4528 - acc: 0.8034 - val_loss: 0.3878 - val_acc: 0.8461\n",
      "Epoch 68/500\n",
      "44/44 [==============================] - 12s 280ms/step - loss: 0.4527 - acc: 0.8023 - val_loss: 0.3824 - val_acc: 0.8454\n",
      "Epoch 69/500\n",
      "44/44 [==============================] - 12s 280ms/step - loss: 0.4549 - acc: 0.8043 - val_loss: 0.5169 - val_acc: 0.7905\n",
      "Epoch 70/500\n",
      "44/44 [==============================] - 12s 281ms/step - loss: 0.4299 - acc: 0.8128 - val_loss: 0.3912 - val_acc: 0.8316\n",
      "Epoch 71/500\n",
      "44/44 [==============================] - 13s 287ms/step - loss: 0.4500 - acc: 0.8002 - val_loss: 0.6720 - val_acc: 0.5636\n",
      "Epoch 72/500\n",
      "44/44 [==============================] - 12s 281ms/step - loss: 0.5199 - acc: 0.7389 - val_loss: 0.4181 - val_acc: 0.8273\n",
      "Epoch 73/500\n",
      "44/44 [==============================] - 12s 280ms/step - loss: 0.4362 - acc: 0.8215 - val_loss: 0.4605 - val_acc: 0.8165\n",
      "Epoch 74/500\n",
      "44/44 [==============================] - 12s 280ms/step - loss: 0.4592 - acc: 0.7951 - val_loss: 0.5228 - val_acc: 0.7601\n",
      "Epoch 75/500\n",
      "44/44 [==============================] - 12s 280ms/step - loss: 0.4384 - acc: 0.8126 - val_loss: 0.4187 - val_acc: 0.8403\n",
      "Epoch 76/500\n",
      "44/44 [==============================] - 12s 281ms/step - loss: 0.4344 - acc: 0.8192 - val_loss: 0.4877 - val_acc: 0.8056\n",
      "Epoch 77/500\n",
      "44/44 [==============================] - 12s 281ms/step - loss: 0.4255 - acc: 0.8161 - val_loss: 0.3902 - val_acc: 0.8468\n",
      "Epoch 78/500\n",
      "44/44 [==============================] - 12s 281ms/step - loss: 0.4149 - acc: 0.8217 - val_loss: 0.3801 - val_acc: 0.8461\n",
      "Epoch 79/500\n",
      "44/44 [==============================] - 12s 280ms/step - loss: 0.4024 - acc: 0.8354 - val_loss: 0.3710 - val_acc: 0.8483\n",
      "Epoch 80/500\n",
      "44/44 [==============================] - 12s 280ms/step - loss: 0.4250 - acc: 0.8222 - val_loss: 0.4017 - val_acc: 0.8512\n",
      "Epoch 81/500\n",
      "44/44 [==============================] - 12s 280ms/step - loss: 0.4058 - acc: 0.8320 - val_loss: 0.4517 - val_acc: 0.8006\n",
      "Epoch 82/500\n",
      "44/44 [==============================] - 12s 280ms/step - loss: 0.4133 - acc: 0.8237 - val_loss: 0.3742 - val_acc: 0.8555\n",
      "Epoch 83/500\n",
      "44/44 [==============================] - 12s 281ms/step - loss: 0.4225 - acc: 0.8235 - val_loss: 0.4790 - val_acc: 0.8027\n",
      "Epoch 84/500\n",
      "44/44 [==============================] - 12s 280ms/step - loss: 0.3984 - acc: 0.8332 - val_loss: 0.3703 - val_acc: 0.8569\n",
      "Epoch 85/500\n",
      "44/44 [==============================] - 12s 280ms/step - loss: 0.4108 - acc: 0.8278 - val_loss: 0.4995 - val_acc: 0.7825\n",
      "Epoch 86/500\n",
      "44/44 [==============================] - 12s 281ms/step - loss: 0.4017 - acc: 0.8336 - val_loss: 0.3854 - val_acc: 0.8454\n",
      "Epoch 87/500\n",
      "44/44 [==============================] - 12s 281ms/step - loss: 0.4204 - acc: 0.8269 - val_loss: 0.3983 - val_acc: 0.8454\n",
      "Epoch 88/500\n",
      "44/44 [==============================] - 12s 280ms/step - loss: 0.3990 - acc: 0.8360 - val_loss: 0.3793 - val_acc: 0.8605\n",
      "Epoch 89/500\n",
      "44/44 [==============================] - 12s 281ms/step - loss: 0.3966 - acc: 0.8374 - val_loss: 0.3777 - val_acc: 0.8454\n",
      "Epoch 90/500\n",
      "44/44 [==============================] - 12s 280ms/step - loss: 0.4076 - acc: 0.8246 - val_loss: 0.3851 - val_acc: 0.8490\n",
      "Epoch 91/500\n",
      "44/44 [==============================] - 12s 280ms/step - loss: 0.4045 - acc: 0.8327 - val_loss: 0.4373 - val_acc: 0.8186\n",
      "Epoch 92/500\n",
      "44/44 [==============================] - 12s 280ms/step - loss: 0.3896 - acc: 0.8399 - val_loss: 0.3895 - val_acc: 0.8374\n",
      "Epoch 93/500\n",
      "44/44 [==============================] - 12s 280ms/step - loss: 0.4065 - acc: 0.8287 - val_loss: 0.3856 - val_acc: 0.8273\n",
      "Epoch 94/500\n",
      "44/44 [==============================] - 12s 279ms/step - loss: 0.3784 - acc: 0.8396 - val_loss: 0.3851 - val_acc: 0.8338\n",
      "Epoch 95/500\n",
      "44/44 [==============================] - 12s 281ms/step - loss: 0.3797 - acc: 0.8394 - val_loss: 0.5526 - val_acc: 0.7803\n",
      "Epoch 96/500\n",
      "44/44 [==============================] - 12s 281ms/step - loss: 0.4147 - acc: 0.8305 - val_loss: 0.3747 - val_acc: 0.8569\n",
      "Epoch 97/500\n",
      "44/44 [==============================] - 12s 280ms/step - loss: 0.3810 - acc: 0.8450 - val_loss: 0.3717 - val_acc: 0.8324\n",
      "Epoch 98/500\n",
      "44/44 [==============================] - 12s 279ms/step - loss: 0.4906 - acc: 0.7678 - val_loss: 0.4591 - val_acc: 0.7840\n",
      "Epoch 99/500\n",
      "44/44 [==============================] - 12s 280ms/step - loss: 0.4290 - acc: 0.8181 - val_loss: 0.4004 - val_acc: 0.8324\n",
      "Epoch 100/500\n",
      "44/44 [==============================] - 12s 280ms/step - loss: 0.3852 - acc: 0.8439 - val_loss: 0.3728 - val_acc: 0.8461\n",
      "Epoch 101/500\n",
      "44/44 [==============================] - 12s 282ms/step - loss: 0.4000 - acc: 0.8327 - val_loss: 0.4812 - val_acc: 0.7608\n",
      "Epoch 102/500\n",
      "44/44 [==============================] - 12s 279ms/step - loss: 0.4449 - acc: 0.8128 - val_loss: 0.3850 - val_acc: 0.8324\n",
      "Epoch 103/500\n",
      "44/44 [==============================] - 12s 280ms/step - loss: 0.3810 - acc: 0.8416 - val_loss: 0.3713 - val_acc: 0.8447\n",
      "Epoch 104/500\n",
      "44/44 [==============================] - 12s 280ms/step - loss: 0.3913 - acc: 0.8392 - val_loss: 0.3786 - val_acc: 0.8439\n",
      "Epoch 105/500\n",
      "44/44 [==============================] - 12s 281ms/step - loss: 0.3947 - acc: 0.8349 - val_loss: 0.4120 - val_acc: 0.8410\n",
      "Epoch 106/500\n",
      "44/44 [==============================] - 12s 281ms/step - loss: 0.3961 - acc: 0.8356 - val_loss: 0.3807 - val_acc: 0.8519\n",
      "Epoch 107/500\n",
      "44/44 [==============================] - 12s 281ms/step - loss: 0.3940 - acc: 0.8332 - val_loss: 0.3748 - val_acc: 0.8533\n",
      "Epoch 108/500\n",
      "44/44 [==============================] - 12s 281ms/step - loss: 0.3837 - acc: 0.8410 - val_loss: 0.4189 - val_acc: 0.8403\n",
      "Epoch 109/500\n",
      "44/44 [==============================] - 12s 279ms/step - loss: 0.3873 - acc: 0.8428 - val_loss: 0.4976 - val_acc: 0.7652\n",
      "Epoch 110/500\n",
      "44/44 [==============================] - 12s 281ms/step - loss: 0.3819 - acc: 0.8444 - val_loss: 0.4303 - val_acc: 0.7912\n",
      "Epoch 111/500\n",
      "44/44 [==============================] - 12s 280ms/step - loss: 0.3865 - acc: 0.8376 - val_loss: 0.3676 - val_acc: 0.8461\n",
      "Epoch 112/500\n",
      "44/44 [==============================] - 12s 279ms/step - loss: 0.3779 - acc: 0.8426 - val_loss: 0.3649 - val_acc: 0.8627\n",
      "Epoch 113/500\n",
      "44/44 [==============================] - 12s 281ms/step - loss: 0.3749 - acc: 0.8396 - val_loss: 0.3463 - val_acc: 0.8548\n",
      "Epoch 114/500\n",
      "44/44 [==============================] - 12s 281ms/step - loss: 0.3664 - acc: 0.8481 - val_loss: 0.3429 - val_acc: 0.8656\n",
      "Epoch 115/500\n",
      "44/44 [==============================] - 12s 280ms/step - loss: 0.3670 - acc: 0.8434 - val_loss: 0.4623 - val_acc: 0.7789\n",
      "Epoch 116/500\n",
      "44/44 [==============================] - 12s 280ms/step - loss: 0.3711 - acc: 0.8477 - val_loss: 0.3846 - val_acc: 0.8382\n",
      "Epoch 117/500\n",
      "44/44 [==============================] - 12s 279ms/step - loss: 0.4404 - acc: 0.7922 - val_loss: 0.4150 - val_acc: 0.8418\n",
      "Epoch 118/500\n",
      "44/44 [==============================] - 12s 281ms/step - loss: 0.3691 - acc: 0.8537 - val_loss: 0.3598 - val_acc: 0.8490\n",
      "Epoch 119/500\n",
      "44/44 [==============================] - 12s 281ms/step - loss: 0.3547 - acc: 0.8580 - val_loss: 0.6751 - val_acc: 0.7001\n",
      "Epoch 120/500\n",
      "44/44 [==============================] - 12s 280ms/step - loss: 0.3639 - acc: 0.8493 - val_loss: 0.4214 - val_acc: 0.8056\n",
      "Epoch 121/500\n",
      "44/44 [==============================] - 12s 280ms/step - loss: 0.3907 - acc: 0.8361 - val_loss: 0.3877 - val_acc: 0.8490\n",
      "Epoch 122/500\n",
      "44/44 [==============================] - 12s 280ms/step - loss: 0.3460 - acc: 0.8598 - val_loss: 0.3980 - val_acc: 0.8432\n",
      "Epoch 123/500\n",
      "44/44 [==============================] - 12s 281ms/step - loss: 0.3490 - acc: 0.8575 - val_loss: 0.4991 - val_acc: 0.7630\n",
      "Epoch 124/500\n",
      "44/44 [==============================] - 12s 281ms/step - loss: 0.3660 - acc: 0.8526 - val_loss: 0.3368 - val_acc: 0.8577\n",
      "Epoch 125/500\n",
      "44/44 [==============================] - 12s 281ms/step - loss: 0.3401 - acc: 0.8661 - val_loss: 0.3291 - val_acc: 0.8605\n",
      "Epoch 126/500\n",
      "44/44 [==============================] - 12s 280ms/step - loss: 0.3657 - acc: 0.8473 - val_loss: 0.4008 - val_acc: 0.8223\n",
      "Epoch 127/500\n",
      "44/44 [==============================] - 12s 280ms/step - loss: 0.3436 - acc: 0.8594 - val_loss: 0.3182 - val_acc: 0.8714\n",
      "Epoch 128/500\n",
      "44/44 [==============================] - 12s 279ms/step - loss: 0.3363 - acc: 0.8600 - val_loss: 0.3339 - val_acc: 0.8685\n",
      "Epoch 129/500\n",
      "44/44 [==============================] - 12s 279ms/step - loss: 0.3324 - acc: 0.8683 - val_loss: 0.3260 - val_acc: 0.8699\n",
      "Epoch 130/500\n",
      "44/44 [==============================] - 12s 281ms/step - loss: 0.3276 - acc: 0.8699 - val_loss: 0.2937 - val_acc: 0.8764\n",
      "Epoch 131/500\n",
      "44/44 [==============================] - 12s 281ms/step - loss: 0.3284 - acc: 0.8623 - val_loss: 0.2963 - val_acc: 0.8743\n",
      "Epoch 132/500\n",
      "44/44 [==============================] - 12s 281ms/step - loss: 0.3196 - acc: 0.8679 - val_loss: 0.3653 - val_acc: 0.8490\n",
      "Epoch 133/500\n",
      "44/44 [==============================] - 12s 279ms/step - loss: 0.3111 - acc: 0.8746 - val_loss: 0.2700 - val_acc: 0.8981\n",
      "Epoch 134/500\n",
      "44/44 [==============================] - 12s 281ms/step - loss: 0.3184 - acc: 0.8743 - val_loss: 0.2760 - val_acc: 0.8960\n",
      "Epoch 135/500\n",
      "44/44 [==============================] - 12s 280ms/step - loss: 0.2842 - acc: 0.8873 - val_loss: 0.2813 - val_acc: 0.8952\n",
      "Epoch 136/500\n",
      "44/44 [==============================] - 12s 280ms/step - loss: 0.3037 - acc: 0.8824 - val_loss: 0.2556 - val_acc: 0.9075\n",
      "Epoch 137/500\n",
      "44/44 [==============================] - 12s 281ms/step - loss: 0.2883 - acc: 0.8847 - val_loss: 0.2491 - val_acc: 0.9046\n",
      "Epoch 138/500\n",
      "44/44 [==============================] - 12s 281ms/step - loss: 0.2797 - acc: 0.8833 - val_loss: 0.4210 - val_acc: 0.8186\n",
      "Epoch 139/500\n",
      "44/44 [==============================] - 12s 280ms/step - loss: 0.2757 - acc: 0.8902 - val_loss: 0.6222 - val_acc: 0.7738\n",
      "Epoch 140/500\n",
      "44/44 [==============================] - 12s 282ms/step - loss: 0.2854 - acc: 0.8891 - val_loss: 0.4692 - val_acc: 0.7912\n",
      "Epoch 141/500\n",
      "44/44 [==============================] - 12s 279ms/step - loss: 0.2813 - acc: 0.8867 - val_loss: 0.3292 - val_acc: 0.8432\n",
      "Epoch 142/500\n",
      "44/44 [==============================] - 12s 280ms/step - loss: 0.2667 - acc: 0.8956 - val_loss: 0.3282 - val_acc: 0.8627\n",
      "Epoch 143/500\n",
      "44/44 [==============================] - 12s 282ms/step - loss: 0.2766 - acc: 0.8920 - val_loss: 0.2625 - val_acc: 0.9068\n",
      "Epoch 144/500\n",
      "44/44 [==============================] - 12s 280ms/step - loss: 0.2713 - acc: 0.8954 - val_loss: 0.2476 - val_acc: 0.9075\n",
      "Epoch 145/500\n",
      "44/44 [==============================] - 12s 280ms/step - loss: 0.2665 - acc: 0.8950 - val_loss: 0.3130 - val_acc: 0.8736\n",
      "Epoch 146/500\n",
      "44/44 [==============================] - 12s 281ms/step - loss: 0.2640 - acc: 0.8939 - val_loss: 0.2406 - val_acc: 0.9061\n",
      "Epoch 147/500\n",
      "44/44 [==============================] - 12s 281ms/step - loss: 0.2652 - acc: 0.8932 - val_loss: 0.2673 - val_acc: 0.8960\n",
      "Epoch 148/500\n",
      "44/44 [==============================] - 12s 282ms/step - loss: 0.2564 - acc: 0.9012 - val_loss: 0.2553 - val_acc: 0.9010\n",
      "Epoch 149/500\n",
      "44/44 [==============================] - 12s 281ms/step - loss: 0.2661 - acc: 0.8956 - val_loss: 0.2395 - val_acc: 0.9090\n",
      "Epoch 150/500\n",
      "44/44 [==============================] - 12s 281ms/step - loss: 0.2575 - acc: 0.8958 - val_loss: 0.3699 - val_acc: 0.8389\n",
      "Epoch 151/500\n",
      "44/44 [==============================] - 12s 281ms/step - loss: 0.2474 - acc: 0.9051 - val_loss: 0.4532 - val_acc: 0.7955\n",
      "Epoch 152/500\n",
      "44/44 [==============================] - 12s 281ms/step - loss: 0.2487 - acc: 0.9023 - val_loss: 0.2331 - val_acc: 0.9039\n",
      "Epoch 153/500\n",
      "44/44 [==============================] - 12s 280ms/step - loss: 0.2458 - acc: 0.9051 - val_loss: 0.2752 - val_acc: 0.8895\n",
      "Epoch 154/500\n",
      "44/44 [==============================] - 12s 282ms/step - loss: 0.2502 - acc: 0.9008 - val_loss: 0.2396 - val_acc: 0.9032\n",
      "Epoch 155/500\n",
      "44/44 [==============================] - 12s 282ms/step - loss: 0.2430 - acc: 0.9071 - val_loss: 0.2353 - val_acc: 0.9111\n",
      "Epoch 156/500\n",
      "44/44 [==============================] - 12s 281ms/step - loss: 0.2443 - acc: 0.9061 - val_loss: 0.2477 - val_acc: 0.9075\n",
      "Epoch 157/500\n",
      "44/44 [==============================] - 12s 281ms/step - loss: 0.2510 - acc: 0.9033 - val_loss: 0.2630 - val_acc: 0.8931\n",
      "Epoch 158/500\n",
      "44/44 [==============================] - 12s 280ms/step - loss: 0.2417 - acc: 0.9082 - val_loss: 0.4220 - val_acc: 0.8020\n",
      "Epoch 159/500\n",
      "44/44 [==============================] - 12s 281ms/step - loss: 0.2498 - acc: 0.9012 - val_loss: 0.2828 - val_acc: 0.8844\n",
      "Epoch 160/500\n",
      "44/44 [==============================] - 12s 280ms/step - loss: 0.2425 - acc: 0.9035 - val_loss: 0.2291 - val_acc: 0.9104\n",
      "Epoch 161/500\n",
      "44/44 [==============================] - 12s 281ms/step - loss: 0.2476 - acc: 0.9008 - val_loss: 0.2375 - val_acc: 0.9068\n",
      "Epoch 162/500\n",
      "44/44 [==============================] - 12s 282ms/step - loss: 0.2425 - acc: 0.9057 - val_loss: 0.2305 - val_acc: 0.9097\n",
      "Epoch 163/500\n",
      "44/44 [==============================] - 12s 280ms/step - loss: 0.2335 - acc: 0.9117 - val_loss: 0.3509 - val_acc: 0.8497\n",
      "Epoch 164/500\n",
      "44/44 [==============================] - 12s 283ms/step - loss: 0.2332 - acc: 0.9095 - val_loss: 0.2577 - val_acc: 0.9046\n",
      "Epoch 165/500\n",
      "44/44 [==============================] - 12s 282ms/step - loss: 0.2348 - acc: 0.9109 - val_loss: 0.2273 - val_acc: 0.9126\n",
      "Epoch 166/500\n",
      "44/44 [==============================] - 12s 280ms/step - loss: 0.2310 - acc: 0.9113 - val_loss: 0.3469 - val_acc: 0.8627\n",
      "Epoch 167/500\n",
      "44/44 [==============================] - 12s 283ms/step - loss: 0.2345 - acc: 0.9129 - val_loss: 0.2426 - val_acc: 0.9140\n",
      "Epoch 168/500\n",
      "44/44 [==============================] - 12s 280ms/step - loss: 0.2358 - acc: 0.9086 - val_loss: 0.2526 - val_acc: 0.9061\n",
      "Epoch 169/500\n",
      "44/44 [==============================] - 12s 279ms/step - loss: 0.2297 - acc: 0.9144 - val_loss: 0.2431 - val_acc: 0.9162\n",
      "Epoch 170/500\n",
      "44/44 [==============================] - 12s 281ms/step - loss: 0.2227 - acc: 0.9167 - val_loss: 0.2373 - val_acc: 0.9097\n",
      "Epoch 171/500\n",
      "44/44 [==============================] - 12s 280ms/step - loss: 0.2166 - acc: 0.9198 - val_loss: 0.2340 - val_acc: 0.9082\n",
      "Epoch 172/500\n",
      "44/44 [==============================] - 12s 282ms/step - loss: 0.2315 - acc: 0.9086 - val_loss: 0.2490 - val_acc: 0.9104\n",
      "Epoch 173/500\n",
      "44/44 [==============================] - 12s 281ms/step - loss: 0.2404 - acc: 0.9113 - val_loss: 0.2399 - val_acc: 0.9046\n",
      "Epoch 174/500\n",
      "44/44 [==============================] - 12s 280ms/step - loss: 0.2188 - acc: 0.9154 - val_loss: 0.2499 - val_acc: 0.9075\n",
      "Epoch 175/500\n",
      "44/44 [==============================] - 12s 281ms/step - loss: 0.2328 - acc: 0.9113 - val_loss: 0.2681 - val_acc: 0.8996\n",
      "Epoch 176/500\n",
      "44/44 [==============================] - 12s 280ms/step - loss: 0.2235 - acc: 0.9133 - val_loss: 0.2572 - val_acc: 0.9082\n",
      "Epoch 177/500\n",
      "44/44 [==============================] - 12s 280ms/step - loss: 0.2182 - acc: 0.9144 - val_loss: 0.2500 - val_acc: 0.9017\n",
      "Epoch 178/500\n",
      "44/44 [==============================] - 12s 282ms/step - loss: 0.2350 - acc: 0.9075 - val_loss: 0.2274 - val_acc: 0.9097\n",
      "Epoch 179/500\n",
      "44/44 [==============================] - 12s 281ms/step - loss: 0.2331 - acc: 0.9131 - val_loss: 0.2668 - val_acc: 0.9025\n",
      "Epoch 180/500\n",
      "44/44 [==============================] - 12s 283ms/step - loss: 0.2465 - acc: 0.9098 - val_loss: 0.2797 - val_acc: 0.9003\n",
      "Epoch 181/500\n",
      "44/44 [==============================] - 12s 283ms/step - loss: 0.2239 - acc: 0.9162 - val_loss: 0.2323 - val_acc: 0.9090\n",
      "Epoch 182/500\n",
      "44/44 [==============================] - 12s 280ms/step - loss: 0.2118 - acc: 0.9191 - val_loss: 0.2336 - val_acc: 0.9155\n",
      "Epoch 183/500\n",
      "44/44 [==============================] - 12s 280ms/step - loss: 0.2648 - acc: 0.8983 - val_loss: 0.3613 - val_acc: 0.8562\n",
      "Epoch 184/500\n",
      "44/44 [==============================] - 12s 282ms/step - loss: 0.3165 - acc: 0.8723 - val_loss: 0.3457 - val_acc: 0.8642\n",
      "Epoch 185/500\n",
      "44/44 [==============================] - 12s 280ms/step - loss: 0.3149 - acc: 0.8701 - val_loss: 0.3212 - val_acc: 0.8728\n",
      "Epoch 186/500\n",
      "44/44 [==============================] - 12s 281ms/step - loss: 0.3114 - acc: 0.8779 - val_loss: 0.4570 - val_acc: 0.8100\n",
      "Epoch 187/500\n",
      "44/44 [==============================] - 12s 281ms/step - loss: 0.2931 - acc: 0.8835 - val_loss: 0.3247 - val_acc: 0.8692\n",
      "Epoch 188/500\n",
      "44/44 [==============================] - 12s 281ms/step - loss: 0.2146 - acc: 0.9169 - val_loss: 0.3142 - val_acc: 0.8764\n",
      "Epoch 189/500\n",
      "44/44 [==============================] - 12s 280ms/step - loss: 0.2196 - acc: 0.9118 - val_loss: 0.2455 - val_acc: 0.9032\n",
      "Epoch 190/500\n",
      "44/44 [==============================] - 12s 280ms/step - loss: 0.2034 - acc: 0.9192 - val_loss: 0.4209 - val_acc: 0.8389\n",
      "Epoch 191/500\n",
      "44/44 [==============================] - 12s 281ms/step - loss: 0.2070 - acc: 0.9191 - val_loss: 0.2413 - val_acc: 0.9140\n",
      "Epoch 192/500\n",
      "44/44 [==============================] - 12s 282ms/step - loss: 0.2021 - acc: 0.9245 - val_loss: 0.3114 - val_acc: 0.8707\n",
      "Epoch 193/500\n",
      "44/44 [==============================] - 12s 281ms/step - loss: 0.2019 - acc: 0.9221 - val_loss: 0.4848 - val_acc: 0.8158\n",
      "Epoch 194/500\n",
      "44/44 [==============================] - 12s 279ms/step - loss: 0.2236 - acc: 0.9138 - val_loss: 0.2230 - val_acc: 0.9147\n",
      "Epoch 195/500\n",
      "44/44 [==============================] - 12s 280ms/step - loss: 0.2046 - acc: 0.9201 - val_loss: 0.2421 - val_acc: 0.9082\n",
      "Epoch 196/500\n",
      "44/44 [==============================] - 12s 281ms/step - loss: 0.2089 - acc: 0.9194 - val_loss: 0.2301 - val_acc: 0.9090\n",
      "Epoch 197/500\n",
      "44/44 [==============================] - 12s 281ms/step - loss: 0.1979 - acc: 0.9221 - val_loss: 0.2339 - val_acc: 0.9075\n",
      "Epoch 198/500\n",
      "44/44 [==============================] - 12s 282ms/step - loss: 0.1967 - acc: 0.9203 - val_loss: 0.2541 - val_acc: 0.9126\n",
      "Epoch 199/500\n",
      "44/44 [==============================] - 12s 281ms/step - loss: 0.1991 - acc: 0.9230 - val_loss: 0.2399 - val_acc: 0.9140\n",
      "Epoch 200/500\n",
      "44/44 [==============================] - 12s 280ms/step - loss: 0.1904 - acc: 0.9274 - val_loss: 0.2261 - val_acc: 0.9191\n",
      "Epoch 201/500\n",
      "44/44 [==============================] - 12s 283ms/step - loss: 0.2312 - acc: 0.9126 - val_loss: 0.2248 - val_acc: 0.9205\n",
      "Epoch 202/500\n",
      "44/44 [==============================] - 12s 278ms/step - loss: 0.2007 - acc: 0.9281 - val_loss: 0.2189 - val_acc: 0.9205\n",
      "Epoch 203/500\n",
      "44/44 [==============================] - 12s 281ms/step - loss: 0.1982 - acc: 0.9259 - val_loss: 0.2266 - val_acc: 0.9147\n",
      "Epoch 204/500\n",
      "44/44 [==============================] - 12s 284ms/step - loss: 0.1882 - acc: 0.9304 - val_loss: 0.2923 - val_acc: 0.8837\n",
      "Epoch 205/500\n",
      "44/44 [==============================] - 12s 281ms/step - loss: 0.1915 - acc: 0.9313 - val_loss: 0.2717 - val_acc: 0.8952\n",
      "Epoch 206/500\n",
      "44/44 [==============================] - 12s 281ms/step - loss: 0.1751 - acc: 0.9326 - val_loss: 0.2637 - val_acc: 0.9046\n",
      "Epoch 207/500\n",
      "44/44 [==============================] - 12s 280ms/step - loss: 0.1927 - acc: 0.9279 - val_loss: 0.2230 - val_acc: 0.9169\n",
      "Epoch 208/500\n",
      "44/44 [==============================] - 12s 280ms/step - loss: 0.1745 - acc: 0.9368 - val_loss: 0.2285 - val_acc: 0.9155\n",
      "Epoch 209/500\n",
      "44/44 [==============================] - 12s 282ms/step - loss: 0.1707 - acc: 0.9328 - val_loss: 0.2307 - val_acc: 0.9147\n",
      "Epoch 210/500\n",
      "44/44 [==============================] - 12s 282ms/step - loss: 0.2024 - acc: 0.9288 - val_loss: 0.3221 - val_acc: 0.8952\n",
      "Epoch 211/500\n",
      "44/44 [==============================] - 12s 280ms/step - loss: 0.1743 - acc: 0.9308 - val_loss: 0.2201 - val_acc: 0.9191\n",
      "Epoch 212/500\n",
      "44/44 [==============================] - 12s 284ms/step - loss: 0.1629 - acc: 0.9368 - val_loss: 0.3048 - val_acc: 0.8996\n",
      "Epoch 213/500\n",
      "44/44 [==============================] - 12s 280ms/step - loss: 0.1629 - acc: 0.9398 - val_loss: 0.3195 - val_acc: 0.9017\n",
      "Epoch 214/500\n",
      "44/44 [==============================] - 12s 281ms/step - loss: 0.2241 - acc: 0.9135 - val_loss: 0.2506 - val_acc: 0.9046\n",
      "Epoch 215/500\n",
      "44/44 [==============================] - 12s 282ms/step - loss: 0.1675 - acc: 0.9364 - val_loss: 0.2613 - val_acc: 0.9046\n",
      "Epoch 216/500\n",
      "44/44 [==============================] - 12s 281ms/step - loss: 0.1667 - acc: 0.9384 - val_loss: 0.2765 - val_acc: 0.9032\n",
      "Epoch 217/500\n",
      "44/44 [==============================] - 12s 280ms/step - loss: 0.1606 - acc: 0.9440 - val_loss: 0.2470 - val_acc: 0.9133\n",
      "Epoch 218/500\n",
      "44/44 [==============================] - 12s 281ms/step - loss: 0.1723 - acc: 0.9369 - val_loss: 0.2365 - val_acc: 0.9068\n",
      "Epoch 219/500\n",
      "44/44 [==============================] - 12s 281ms/step - loss: 0.1515 - acc: 0.9442 - val_loss: 0.2357 - val_acc: 0.9097\n",
      "Epoch 220/500\n",
      "44/44 [==============================] - 12s 280ms/step - loss: 0.1676 - acc: 0.9380 - val_loss: 0.2836 - val_acc: 0.8988\n",
      "Epoch 221/500\n",
      "44/44 [==============================] - 12s 282ms/step - loss: 0.2182 - acc: 0.9221 - val_loss: 0.2583 - val_acc: 0.9053\n",
      "Epoch 222/500\n",
      "44/44 [==============================] - 12s 281ms/step - loss: 0.1740 - acc: 0.9360 - val_loss: 0.2403 - val_acc: 0.9118\n",
      "Epoch 223/500\n",
      "44/44 [==============================] - 12s 280ms/step - loss: 0.1474 - acc: 0.9465 - val_loss: 0.2431 - val_acc: 0.9097\n",
      "Epoch 224/500\n",
      "44/44 [==============================] - 12s 281ms/step - loss: 0.1521 - acc: 0.9397 - val_loss: 0.2507 - val_acc: 0.9082\n",
      "Epoch 225/500\n",
      "44/44 [==============================] - 12s 279ms/step - loss: 0.1449 - acc: 0.9463 - val_loss: 0.2622 - val_acc: 0.9061\n",
      "Epoch 226/500\n",
      "44/44 [==============================] - 12s 280ms/step - loss: 0.2842 - acc: 0.8916 - val_loss: 0.3546 - val_acc: 0.8569\n",
      "Epoch 227/500\n",
      "44/44 [==============================] - 12s 282ms/step - loss: 0.2376 - acc: 0.9053 - val_loss: 0.2344 - val_acc: 0.9176\n",
      "Epoch 228/500\n",
      "44/44 [==============================] - 12s 280ms/step - loss: 0.1551 - acc: 0.9438 - val_loss: 0.2350 - val_acc: 0.9126\n",
      "Epoch 229/500\n",
      "44/44 [==============================] - 12s 281ms/step - loss: 0.1476 - acc: 0.9453 - val_loss: 0.2330 - val_acc: 0.9075\n",
      "Epoch 230/500\n",
      "44/44 [==============================] - 12s 282ms/step - loss: 0.1350 - acc: 0.9543 - val_loss: 0.2544 - val_acc: 0.9111\n",
      "Epoch 231/500\n",
      "44/44 [==============================] - 12s 280ms/step - loss: 0.1385 - acc: 0.9525 - val_loss: 0.2868 - val_acc: 0.8960\n",
      "Epoch 232/500\n",
      "44/44 [==============================] - 12s 281ms/step - loss: 0.1296 - acc: 0.9491 - val_loss: 0.2513 - val_acc: 0.9104\n",
      "Epoch 233/500\n",
      "44/44 [==============================] - 13s 286ms/step - loss: 0.1584 - acc: 0.9416 - val_loss: 0.2648 - val_acc: 0.9097\n",
      "Epoch 234/500\n",
      "44/44 [==============================] - 12s 280ms/step - loss: 0.1290 - acc: 0.9532 - val_loss: 0.2557 - val_acc: 0.9061\n",
      "Epoch 235/500\n",
      "44/44 [==============================] - 12s 280ms/step - loss: 0.1601 - acc: 0.9404 - val_loss: 0.2710 - val_acc: 0.9010\n",
      "Epoch 236/500\n",
      "44/44 [==============================] - 12s 281ms/step - loss: 0.1472 - acc: 0.9436 - val_loss: 0.2763 - val_acc: 0.9090\n",
      "Epoch 237/500\n",
      "44/44 [==============================] - 12s 280ms/step - loss: 0.1401 - acc: 0.9516 - val_loss: 0.2684 - val_acc: 0.9082\n",
      "Epoch 238/500\n",
      "44/44 [==============================] - 12s 281ms/step - loss: 0.1251 - acc: 0.9545 - val_loss: 0.3851 - val_acc: 0.8743\n",
      "Epoch 239/500\n",
      "44/44 [==============================] - 12s 282ms/step - loss: 0.1568 - acc: 0.9420 - val_loss: 0.2420 - val_acc: 0.9205\n",
      "Epoch 240/500\n",
      "44/44 [==============================] - 12s 280ms/step - loss: 0.1166 - acc: 0.9583 - val_loss: 0.3027 - val_acc: 0.8974\n",
      "Epoch 241/500\n",
      "44/44 [==============================] - 12s 282ms/step - loss: 0.1309 - acc: 0.9519 - val_loss: 0.2429 - val_acc: 0.9176\n",
      "Epoch 242/500\n",
      "44/44 [==============================] - 12s 281ms/step - loss: 0.1403 - acc: 0.9476 - val_loss: 0.2961 - val_acc: 0.9046\n",
      "Epoch 243/500\n",
      "44/44 [==============================] - 12s 280ms/step - loss: 0.1237 - acc: 0.9548 - val_loss: 0.2530 - val_acc: 0.9118\n",
      "Epoch 244/500\n",
      "44/44 [==============================] - 12s 282ms/step - loss: 0.1272 - acc: 0.9536 - val_loss: 0.2810 - val_acc: 0.9097\n",
      "Epoch 245/500\n",
      "44/44 [==============================] - 12s 283ms/step - loss: 0.1336 - acc: 0.9503 - val_loss: 0.2582 - val_acc: 0.9104\n",
      "Epoch 246/500\n",
      "44/44 [==============================] - 12s 281ms/step - loss: 0.1149 - acc: 0.9581 - val_loss: 0.2601 - val_acc: 0.9155\n",
      "Epoch 247/500\n",
      "44/44 [==============================] - 12s 280ms/step - loss: 0.1083 - acc: 0.9613 - val_loss: 0.2616 - val_acc: 0.9147\n",
      "Epoch 248/500\n",
      "44/44 [==============================] - 12s 280ms/step - loss: 0.1271 - acc: 0.9566 - val_loss: 0.2551 - val_acc: 0.9162\n",
      "Epoch 249/500\n",
      "44/44 [==============================] - 12s 281ms/step - loss: 0.1864 - acc: 0.9393 - val_loss: 0.2639 - val_acc: 0.9075\n",
      "Epoch 250/500\n",
      "44/44 [==============================] - 12s 280ms/step - loss: 0.1004 - acc: 0.9650 - val_loss: 0.2608 - val_acc: 0.9118\n",
      "Epoch 251/500\n",
      "44/44 [==============================] - 12s 281ms/step - loss: 0.0919 - acc: 0.9664 - val_loss: 0.2750 - val_acc: 0.9097\n",
      "Epoch 252/500\n",
      "44/44 [==============================] - 12s 280ms/step - loss: 0.1013 - acc: 0.9639 - val_loss: 0.2900 - val_acc: 0.9097\n",
      "Epoch 253/500\n",
      "44/44 [==============================] - 12s 282ms/step - loss: 0.1134 - acc: 0.9610 - val_loss: 0.2788 - val_acc: 0.9155\n",
      "Epoch 254/500\n",
      "44/44 [==============================] - 12s 281ms/step - loss: 0.1131 - acc: 0.9548 - val_loss: 0.3321 - val_acc: 0.8974\n",
      "Epoch 255/500\n",
      "44/44 [==============================] - 12s 280ms/step - loss: 0.1346 - acc: 0.9491 - val_loss: 0.2571 - val_acc: 0.9082\n",
      "Epoch 256/500\n",
      "44/44 [==============================] - 13s 285ms/step - loss: 0.1200 - acc: 0.9548 - val_loss: 0.2703 - val_acc: 0.9118\n",
      "Epoch 257/500\n",
      "44/44 [==============================] - 12s 281ms/step - loss: 0.1002 - acc: 0.9603 - val_loss: 0.2707 - val_acc: 0.9162\n",
      "Epoch 258/500\n",
      "44/44 [==============================] - 12s 281ms/step - loss: 0.0890 - acc: 0.9668 - val_loss: 0.2917 - val_acc: 0.9061\n",
      "Epoch 259/500\n",
      "44/44 [==============================] - 12s 281ms/step - loss: 0.0901 - acc: 0.9659 - val_loss: 0.2803 - val_acc: 0.8988\n",
      "Epoch 260/500\n",
      "44/44 [==============================] - 12s 280ms/step - loss: 0.0854 - acc: 0.9689 - val_loss: 0.3082 - val_acc: 0.9010\n",
      "Epoch 261/500\n",
      "44/44 [==============================] - 12s 279ms/step - loss: 0.0824 - acc: 0.9715 - val_loss: 0.3077 - val_acc: 0.9126\n",
      "Epoch 262/500\n",
      "44/44 [==============================] - 12s 282ms/step - loss: 0.1020 - acc: 0.9648 - val_loss: 0.2853 - val_acc: 0.9133\n",
      "Epoch 263/500\n",
      "44/44 [==============================] - 12s 281ms/step - loss: 0.1141 - acc: 0.9617 - val_loss: 0.2865 - val_acc: 0.9191\n",
      "Epoch 264/500\n",
      "44/44 [==============================] - 12s 281ms/step - loss: 0.1602 - acc: 0.9489 - val_loss: 0.3080 - val_acc: 0.9082\n",
      "Epoch 265/500\n",
      "44/44 [==============================] - 12s 282ms/step - loss: 0.1005 - acc: 0.9673 - val_loss: 0.2636 - val_acc: 0.9184\n",
      "Epoch 266/500\n",
      "44/44 [==============================] - 12s 280ms/step - loss: 0.1058 - acc: 0.9624 - val_loss: 0.2818 - val_acc: 0.9097\n",
      "Epoch 267/500\n",
      "44/44 [==============================] - 12s 281ms/step - loss: 0.0917 - acc: 0.9671 - val_loss: 0.2907 - val_acc: 0.8981\n",
      "Epoch 268/500\n",
      "44/44 [==============================] - 12s 282ms/step - loss: 0.0812 - acc: 0.9742 - val_loss: 0.2720 - val_acc: 0.9198\n",
      "Epoch 269/500\n",
      "44/44 [==============================] - 12s 281ms/step - loss: 0.0769 - acc: 0.9729 - val_loss: 0.2734 - val_acc: 0.9191\n",
      "Epoch 270/500\n",
      "44/44 [==============================] - 12s 281ms/step - loss: 0.1156 - acc: 0.9593 - val_loss: 0.3367 - val_acc: 0.8923\n",
      "Epoch 271/500\n",
      "44/44 [==============================] - 12s 280ms/step - loss: 0.0735 - acc: 0.9733 - val_loss: 0.2907 - val_acc: 0.9162\n",
      "Epoch 272/500\n",
      "44/44 [==============================] - 12s 283ms/step - loss: 0.0665 - acc: 0.9752 - val_loss: 0.2792 - val_acc: 0.9126\n",
      "Epoch 273/500\n",
      "44/44 [==============================] - 12s 280ms/step - loss: 0.0751 - acc: 0.9749 - val_loss: 0.3696 - val_acc: 0.8909\n",
      "Epoch 274/500\n",
      "44/44 [==============================] - 12s 281ms/step - loss: 0.0835 - acc: 0.9722 - val_loss: 0.2910 - val_acc: 0.9111\n",
      "Epoch 275/500\n",
      "44/44 [==============================] - 12s 284ms/step - loss: 0.0885 - acc: 0.9691 - val_loss: 0.2939 - val_acc: 0.9046\n",
      "Epoch 276/500\n",
      "44/44 [==============================] - 12s 281ms/step - loss: 0.0566 - acc: 0.9810 - val_loss: 0.3282 - val_acc: 0.9111\n",
      "Epoch 277/500\n",
      "44/44 [==============================] - 12s 282ms/step - loss: 0.0816 - acc: 0.9718 - val_loss: 0.2834 - val_acc: 0.9198\n",
      "Epoch 278/500\n",
      "44/44 [==============================] - 12s 280ms/step - loss: 0.0608 - acc: 0.9807 - val_loss: 0.3596 - val_acc: 0.9003\n",
      "Epoch 279/500\n",
      "44/44 [==============================] - 12s 280ms/step - loss: 0.0664 - acc: 0.9767 - val_loss: 0.3285 - val_acc: 0.9133\n",
      "Epoch 280/500\n",
      "44/44 [==============================] - 13s 287ms/step - loss: 0.0582 - acc: 0.9821 - val_loss: 0.2944 - val_acc: 0.9241\n",
      "Epoch 281/500\n",
      "44/44 [==============================] - 13s 285ms/step - loss: 0.0888 - acc: 0.9682 - val_loss: 0.3082 - val_acc: 0.9176\n",
      "Epoch 282/500\n",
      "44/44 [==============================] - 12s 280ms/step - loss: 0.0897 - acc: 0.9731 - val_loss: 0.2864 - val_acc: 0.9111\n",
      "Epoch 283/500\n",
      "44/44 [==============================] - 12s 281ms/step - loss: 0.0730 - acc: 0.9749 - val_loss: 0.3162 - val_acc: 0.9075\n",
      "Epoch 284/500\n",
      "44/44 [==============================] - 12s 280ms/step - loss: 0.0758 - acc: 0.9752 - val_loss: 0.3078 - val_acc: 0.9126\n",
      "Epoch 285/500\n",
      "44/44 [==============================] - 13s 288ms/step - loss: 0.0829 - acc: 0.9742 - val_loss: 0.3327 - val_acc: 0.9025\n",
      "Epoch 286/500\n",
      "44/44 [==============================] - 12s 281ms/step - loss: 0.0754 - acc: 0.9733 - val_loss: 0.3635 - val_acc: 0.9017\n",
      "Epoch 287/500\n",
      "44/44 [==============================] - 12s 281ms/step - loss: 0.0535 - acc: 0.9808 - val_loss: 0.3594 - val_acc: 0.9104\n",
      "Epoch 288/500\n",
      "44/44 [==============================] - 12s 281ms/step - loss: 0.0640 - acc: 0.9787 - val_loss: 0.2948 - val_acc: 0.9133\n",
      "Epoch 289/500\n",
      "44/44 [==============================] - 12s 280ms/step - loss: 0.0562 - acc: 0.9839 - val_loss: 0.3477 - val_acc: 0.9032\n",
      "Epoch 290/500\n",
      "44/44 [==============================] - 12s 280ms/step - loss: 0.0495 - acc: 0.9845 - val_loss: 0.3408 - val_acc: 0.9155\n",
      "Epoch 291/500\n",
      "44/44 [==============================] - 12s 283ms/step - loss: 0.0541 - acc: 0.9837 - val_loss: 0.3176 - val_acc: 0.9032\n",
      "Epoch 292/500\n",
      "44/44 [==============================] - 12s 281ms/step - loss: 0.0437 - acc: 0.9866 - val_loss: 0.3301 - val_acc: 0.9147\n",
      "Epoch 293/500\n",
      "44/44 [==============================] - 12s 280ms/step - loss: 0.0817 - acc: 0.9752 - val_loss: 0.3348 - val_acc: 0.9118\n",
      "Epoch 294/500\n",
      "44/44 [==============================] - 12s 280ms/step - loss: 0.0615 - acc: 0.9790 - val_loss: 0.2925 - val_acc: 0.9147\n",
      "Epoch 295/500\n",
      "44/44 [==============================] - 12s 280ms/step - loss: 0.0537 - acc: 0.9830 - val_loss: 0.3348 - val_acc: 0.9169\n",
      "Epoch 296/500\n",
      "44/44 [==============================] - 12s 281ms/step - loss: 0.0573 - acc: 0.9810 - val_loss: 0.3315 - val_acc: 0.9133\n",
      "Epoch 297/500\n",
      "44/44 [==============================] - 12s 280ms/step - loss: 0.0420 - acc: 0.9846 - val_loss: 0.3431 - val_acc: 0.9140\n",
      "Epoch 298/500\n",
      "44/44 [==============================] - 12s 281ms/step - loss: 0.0329 - acc: 0.9895 - val_loss: 0.3623 - val_acc: 0.9140\n",
      "Epoch 299/500\n",
      "44/44 [==============================] - 12s 281ms/step - loss: 0.0548 - acc: 0.9848 - val_loss: 0.3579 - val_acc: 0.9162\n",
      "Epoch 300/500\n",
      "44/44 [==============================] - 12s 280ms/step - loss: 0.0677 - acc: 0.9769 - val_loss: 0.3394 - val_acc: 0.9010\n",
      "Epoch 301/500\n",
      "44/44 [==============================] - 12s 281ms/step - loss: 0.0406 - acc: 0.9875 - val_loss: 0.3530 - val_acc: 0.9118\n",
      "Epoch 302/500\n",
      "44/44 [==============================] - 12s 280ms/step - loss: 0.0697 - acc: 0.9776 - val_loss: 0.4062 - val_acc: 0.8822\n",
      "Epoch 303/500\n",
      "44/44 [==============================] - 12s 280ms/step - loss: 0.0525 - acc: 0.9827 - val_loss: 0.3868 - val_acc: 0.9097\n",
      "Epoch 304/500\n",
      "44/44 [==============================] - 12s 281ms/step - loss: 0.0365 - acc: 0.9875 - val_loss: 0.3342 - val_acc: 0.9198\n",
      "Epoch 305/500\n",
      "44/44 [==============================] - 12s 280ms/step - loss: 0.0358 - acc: 0.9899 - val_loss: 0.3890 - val_acc: 0.8988\n",
      "Epoch 306/500\n",
      "44/44 [==============================] - 12s 281ms/step - loss: 0.0373 - acc: 0.9892 - val_loss: 0.3631 - val_acc: 0.9133\n",
      "Epoch 307/500\n",
      "44/44 [==============================] - 12s 281ms/step - loss: 0.0427 - acc: 0.9861 - val_loss: 0.6523 - val_acc: 0.8620\n",
      "Epoch 308/500\n",
      "44/44 [==============================] - 12s 280ms/step - loss: 0.0648 - acc: 0.9778 - val_loss: 0.3736 - val_acc: 0.9097\n",
      "Epoch 309/500\n",
      "44/44 [==============================] - 12s 280ms/step - loss: 0.0492 - acc: 0.9852 - val_loss: 0.3538 - val_acc: 0.9191\n",
      "Epoch 310/500\n",
      "44/44 [==============================] - 12s 280ms/step - loss: 0.0287 - acc: 0.9922 - val_loss: 0.3569 - val_acc: 0.9126\n",
      "Epoch 311/500\n",
      "44/44 [==============================] - 12s 281ms/step - loss: 0.0597 - acc: 0.9805 - val_loss: 0.4017 - val_acc: 0.9075\n",
      "Epoch 312/500\n",
      "44/44 [==============================] - 12s 280ms/step - loss: 0.0421 - acc: 0.9877 - val_loss: 0.3629 - val_acc: 0.9147\n",
      "Epoch 313/500\n",
      "44/44 [==============================] - 12s 280ms/step - loss: 0.0308 - acc: 0.9908 - val_loss: 0.4362 - val_acc: 0.9061\n",
      "Epoch 314/500\n",
      "44/44 [==============================] - 12s 280ms/step - loss: 0.0449 - acc: 0.9879 - val_loss: 0.7590 - val_acc: 0.8360\n",
      "Epoch 315/500\n",
      "44/44 [==============================] - 12s 281ms/step - loss: 0.0408 - acc: 0.9884 - val_loss: 0.3499 - val_acc: 0.9111\n",
      "Epoch 316/500\n",
      "44/44 [==============================] - 12s 280ms/step - loss: 0.0351 - acc: 0.9899 - val_loss: 0.3497 - val_acc: 0.9090\n",
      "Epoch 317/500\n",
      "44/44 [==============================] - 12s 281ms/step - loss: 0.0396 - acc: 0.9901 - val_loss: 0.3536 - val_acc: 0.9212\n",
      "Epoch 318/500\n",
      "44/44 [==============================] - 12s 282ms/step - loss: 0.0217 - acc: 0.9939 - val_loss: 0.3552 - val_acc: 0.9118\n",
      "Epoch 319/500\n",
      "44/44 [==============================] - 12s 281ms/step - loss: 0.0297 - acc: 0.9917 - val_loss: 0.3663 - val_acc: 0.9184\n",
      "Epoch 320/500\n",
      "44/44 [==============================] - 12s 281ms/step - loss: 0.0307 - acc: 0.9908 - val_loss: 0.3568 - val_acc: 0.9140\n",
      "Epoch 321/500\n",
      "44/44 [==============================] - 12s 279ms/step - loss: 0.0313 - acc: 0.9917 - val_loss: 0.3798 - val_acc: 0.9118\n",
      "Epoch 322/500\n",
      "44/44 [==============================] - 12s 280ms/step - loss: 0.0231 - acc: 0.9937 - val_loss: 0.4119 - val_acc: 0.9053\n",
      "Epoch 323/500\n",
      "44/44 [==============================] - 12s 281ms/step - loss: 0.0196 - acc: 0.9937 - val_loss: 0.4814 - val_acc: 0.9003\n",
      "Epoch 324/500\n",
      "44/44 [==============================] - 12s 280ms/step - loss: 0.0335 - acc: 0.9908 - val_loss: 0.3835 - val_acc: 0.9176\n",
      "Epoch 325/500\n",
      "44/44 [==============================] - 12s 280ms/step - loss: 0.0552 - acc: 0.9868 - val_loss: 0.3542 - val_acc: 0.9097\n",
      "Epoch 326/500\n",
      "44/44 [==============================] - 12s 280ms/step - loss: 0.0431 - acc: 0.9850 - val_loss: 0.3784 - val_acc: 0.9184\n",
      "Epoch 327/500\n",
      "44/44 [==============================] - 12s 280ms/step - loss: 0.0324 - acc: 0.9888 - val_loss: 0.4245 - val_acc: 0.9126\n",
      "Epoch 328/500\n",
      "44/44 [==============================] - 12s 280ms/step - loss: 0.0318 - acc: 0.9899 - val_loss: 0.3935 - val_acc: 0.9155\n",
      "Epoch 329/500\n",
      "44/44 [==============================] - 12s 281ms/step - loss: 0.0157 - acc: 0.9946 - val_loss: 0.4277 - val_acc: 0.9053\n",
      "Epoch 330/500\n",
      "44/44 [==============================] - 12s 280ms/step - loss: 0.0472 - acc: 0.9892 - val_loss: 0.4146 - val_acc: 0.9205\n",
      "Epoch 331/500\n",
      "44/44 [==============================] - 12s 281ms/step - loss: 0.0178 - acc: 0.9958 - val_loss: 0.4164 - val_acc: 0.9162\n",
      "Epoch 332/500\n",
      "44/44 [==============================] - 12s 280ms/step - loss: 0.0230 - acc: 0.9937 - val_loss: 0.4627 - val_acc: 0.9039\n",
      "Epoch 333/500\n",
      "44/44 [==============================] - 12s 280ms/step - loss: 0.0440 - acc: 0.9870 - val_loss: 0.4336 - val_acc: 0.9155\n",
      "Epoch 334/500\n",
      "44/44 [==============================] - 12s 280ms/step - loss: 0.0209 - acc: 0.9939 - val_loss: 0.4566 - val_acc: 0.9017\n",
      "Epoch 335/500\n",
      "44/44 [==============================] - 12s 280ms/step - loss: 0.0384 - acc: 0.9890 - val_loss: 0.4420 - val_acc: 0.9104\n",
      "Epoch 336/500\n",
      "44/44 [==============================] - 12s 281ms/step - loss: 0.0331 - acc: 0.9904 - val_loss: 0.4222 - val_acc: 0.9147\n",
      "Epoch 337/500\n",
      "44/44 [==============================] - 12s 280ms/step - loss: 0.0259 - acc: 0.9928 - val_loss: 0.3889 - val_acc: 0.9184\n",
      "Epoch 338/500\n",
      "44/44 [==============================] - 12s 279ms/step - loss: 0.0355 - acc: 0.9904 - val_loss: 0.4015 - val_acc: 0.9162\n",
      "Epoch 339/500\n",
      "44/44 [==============================] - 12s 280ms/step - loss: 0.0314 - acc: 0.9940 - val_loss: 0.5787 - val_acc: 0.8996\n",
      "Epoch 340/500\n",
      "44/44 [==============================] - 12s 282ms/step - loss: 0.0449 - acc: 0.9870 - val_loss: 0.4290 - val_acc: 0.9039\n",
      "Epoch 341/500\n",
      "44/44 [==============================] - 12s 283ms/step - loss: 0.0230 - acc: 0.9922 - val_loss: 0.4166 - val_acc: 0.9198\n",
      "Epoch 342/500\n",
      "44/44 [==============================] - 12s 280ms/step - loss: 0.0310 - acc: 0.9897 - val_loss: 0.4376 - val_acc: 0.9053\n",
      "Epoch 343/500\n",
      "44/44 [==============================] - 12s 279ms/step - loss: 0.0581 - acc: 0.9836 - val_loss: 0.4019 - val_acc: 0.9263\n",
      "Epoch 344/500\n",
      "44/44 [==============================] - 12s 281ms/step - loss: 0.0342 - acc: 0.9886 - val_loss: 0.4044 - val_acc: 0.9118\n",
      "Epoch 345/500\n",
      "44/44 [==============================] - 12s 280ms/step - loss: 0.0223 - acc: 0.9940 - val_loss: 0.4273 - val_acc: 0.9104\n",
      "Epoch 346/500\n",
      "44/44 [==============================] - 12s 282ms/step - loss: 0.0152 - acc: 0.9960 - val_loss: 0.3990 - val_acc: 0.9191\n",
      "Epoch 347/500\n",
      "44/44 [==============================] - 12s 281ms/step - loss: 0.0262 - acc: 0.9931 - val_loss: 0.4262 - val_acc: 0.9162\n",
      "Epoch 348/500\n",
      "44/44 [==============================] - 12s 280ms/step - loss: 0.2092 - acc: 0.9541 - val_loss: 0.4663 - val_acc: 0.9104\n",
      "Epoch 349/500\n",
      "44/44 [==============================] - 12s 280ms/step - loss: 0.0677 - acc: 0.9796 - val_loss: 0.4071 - val_acc: 0.9220\n",
      "Epoch 350/500\n",
      "44/44 [==============================] - 12s 280ms/step - loss: 0.0373 - acc: 0.9906 - val_loss: 0.4037 - val_acc: 0.9090\n",
      "Epoch 351/500\n",
      "44/44 [==============================] - 12s 281ms/step - loss: 0.0237 - acc: 0.9931 - val_loss: 0.4023 - val_acc: 0.9184\n",
      "Epoch 352/500\n",
      "44/44 [==============================] - 12s 282ms/step - loss: 0.0293 - acc: 0.9926 - val_loss: 0.4231 - val_acc: 0.9234\n",
      "Epoch 353/500\n",
      "44/44 [==============================] - 12s 280ms/step - loss: 0.0211 - acc: 0.9939 - val_loss: 0.4095 - val_acc: 0.9176\n",
      "Epoch 354/500\n",
      "44/44 [==============================] - 12s 282ms/step - loss: 0.0244 - acc: 0.9940 - val_loss: 0.4015 - val_acc: 0.9176\n",
      "Epoch 355/500\n",
      "44/44 [==============================] - 12s 280ms/step - loss: 0.0153 - acc: 0.9962 - val_loss: 0.4217 - val_acc: 0.9212\n",
      "Epoch 356/500\n",
      "44/44 [==============================] - 12s 279ms/step - loss: 0.0550 - acc: 0.9872 - val_loss: 0.4040 - val_acc: 0.9090\n",
      "Epoch 357/500\n",
      "44/44 [==============================] - 12s 284ms/step - loss: 0.0141 - acc: 0.9966 - val_loss: 0.4219 - val_acc: 0.9220\n",
      "Epoch 358/500\n",
      "44/44 [==============================] - 12s 280ms/step - loss: 0.0311 - acc: 0.9928 - val_loss: 0.4185 - val_acc: 0.9169\n",
      "Epoch 359/500\n",
      "44/44 [==============================] - 12s 280ms/step - loss: 0.0220 - acc: 0.9948 - val_loss: 0.4363 - val_acc: 0.9147\n",
      "Epoch 360/500\n",
      "44/44 [==============================] - 12s 281ms/step - loss: 0.0151 - acc: 0.9964 - val_loss: 0.4613 - val_acc: 0.9140\n",
      "Epoch 361/500\n",
      "44/44 [==============================] - 12s 279ms/step - loss: 0.0185 - acc: 0.9948 - val_loss: 0.6275 - val_acc: 0.8945\n",
      "Epoch 362/500\n",
      "44/44 [==============================] - 12s 280ms/step - loss: 0.0231 - acc: 0.9931 - val_loss: 0.4980 - val_acc: 0.9097\n",
      "Epoch 363/500\n",
      "44/44 [==============================] - 12s 282ms/step - loss: 0.0250 - acc: 0.9930 - val_loss: 0.4060 - val_acc: 0.9270\n",
      "Epoch 364/500\n",
      "44/44 [==============================] - 12s 279ms/step - loss: 0.0171 - acc: 0.9955 - val_loss: 0.4495 - val_acc: 0.9198\n",
      "Epoch 365/500\n",
      "44/44 [==============================] - 12s 281ms/step - loss: 0.0107 - acc: 0.9973 - val_loss: 0.4693 - val_acc: 0.9104\n",
      "Epoch 366/500\n",
      "44/44 [==============================] - 12s 281ms/step - loss: 0.0258 - acc: 0.9935 - val_loss: 0.5334 - val_acc: 0.9068\n",
      "Epoch 367/500\n",
      "44/44 [==============================] - 12s 280ms/step - loss: 0.0308 - acc: 0.9919 - val_loss: 0.4232 - val_acc: 0.9126\n",
      "Epoch 368/500\n",
      "44/44 [==============================] - 12s 280ms/step - loss: 0.0400 - acc: 0.9870 - val_loss: 0.4515 - val_acc: 0.9198\n",
      "Epoch 369/500\n",
      "44/44 [==============================] - 12s 282ms/step - loss: 0.0546 - acc: 0.9874 - val_loss: 0.4643 - val_acc: 0.9162\n",
      "Epoch 370/500\n",
      "44/44 [==============================] - 12s 281ms/step - loss: 0.0347 - acc: 0.9892 - val_loss: 0.4781 - val_acc: 0.9169\n",
      "Epoch 371/500\n",
      "44/44 [==============================] - 12s 280ms/step - loss: 0.0200 - acc: 0.9940 - val_loss: 0.4471 - val_acc: 0.9140\n",
      "Epoch 372/500\n",
      "44/44 [==============================] - 12s 279ms/step - loss: 0.0165 - acc: 0.9948 - val_loss: 0.4354 - val_acc: 0.9198\n",
      "Epoch 373/500\n",
      "44/44 [==============================] - 12s 280ms/step - loss: 0.0226 - acc: 0.9939 - val_loss: 0.4407 - val_acc: 0.9104\n",
      "Epoch 374/500\n",
      "44/44 [==============================] - 12s 282ms/step - loss: 0.0129 - acc: 0.9955 - val_loss: 0.4407 - val_acc: 0.9241\n",
      "Epoch 375/500\n",
      "44/44 [==============================] - 12s 280ms/step - loss: 0.0138 - acc: 0.9960 - val_loss: 0.4409 - val_acc: 0.9212\n",
      "Epoch 376/500\n",
      "44/44 [==============================] - 12s 281ms/step - loss: 0.0434 - acc: 0.9902 - val_loss: 0.4226 - val_acc: 0.9205\n",
      "Epoch 377/500\n",
      "44/44 [==============================] - 12s 280ms/step - loss: 0.0171 - acc: 0.9962 - val_loss: 0.4348 - val_acc: 0.9191\n",
      "Epoch 378/500\n",
      "44/44 [==============================] - 12s 280ms/step - loss: 0.0184 - acc: 0.9951 - val_loss: 0.4485 - val_acc: 0.9147\n",
      "Epoch 379/500\n",
      "44/44 [==============================] - 12s 280ms/step - loss: 0.0197 - acc: 0.9948 - val_loss: 0.4368 - val_acc: 0.9205\n",
      "Epoch 380/500\n",
      "44/44 [==============================] - 12s 281ms/step - loss: 0.0282 - acc: 0.9933 - val_loss: 0.4330 - val_acc: 0.9191\n",
      "Epoch 381/500\n",
      "44/44 [==============================] - 12s 280ms/step - loss: 0.0161 - acc: 0.9958 - val_loss: 0.5104 - val_acc: 0.9212\n",
      "Epoch 382/500\n",
      "44/44 [==============================] - 12s 281ms/step - loss: 0.0204 - acc: 0.9951 - val_loss: 0.5095 - val_acc: 0.9126\n",
      "Epoch 383/500\n",
      "44/44 [==============================] - 12s 280ms/step - loss: 0.0375 - acc: 0.9910 - val_loss: 0.4743 - val_acc: 0.9184\n",
      "Epoch 384/500\n",
      "44/44 [==============================] - 12s 281ms/step - loss: 0.0186 - acc: 0.9946 - val_loss: 0.4585 - val_acc: 0.9111\n",
      "Epoch 385/500\n",
      "44/44 [==============================] - 12s 282ms/step - loss: 0.0231 - acc: 0.9928 - val_loss: 0.4513 - val_acc: 0.9140\n",
      "Epoch 386/500\n",
      "44/44 [==============================] - 12s 280ms/step - loss: 0.0136 - acc: 0.9955 - val_loss: 0.4517 - val_acc: 0.9075\n",
      "Epoch 387/500\n",
      "44/44 [==============================] - 12s 281ms/step - loss: 0.0177 - acc: 0.9949 - val_loss: 0.4332 - val_acc: 0.9256\n",
      "Epoch 388/500\n",
      "44/44 [==============================] - 12s 280ms/step - loss: 0.0511 - acc: 0.9897 - val_loss: 0.4245 - val_acc: 0.9227\n",
      "Epoch 389/500\n",
      "44/44 [==============================] - 12s 280ms/step - loss: 0.0088 - acc: 0.9977 - val_loss: 0.4111 - val_acc: 0.9169\n",
      "Epoch 390/500\n",
      "44/44 [==============================] - 12s 280ms/step - loss: 0.0134 - acc: 0.9967 - val_loss: 0.4871 - val_acc: 0.9234\n",
      "Epoch 391/500\n",
      "44/44 [==============================] - 12s 282ms/step - loss: 0.0201 - acc: 0.9937 - val_loss: 0.4657 - val_acc: 0.9256\n",
      "Epoch 392/500\n",
      "44/44 [==============================] - 12s 280ms/step - loss: 0.0342 - acc: 0.9922 - val_loss: 0.4245 - val_acc: 0.9198\n",
      "Epoch 393/500\n",
      "44/44 [==============================] - 12s 280ms/step - loss: 0.0124 - acc: 0.9960 - val_loss: 0.4596 - val_acc: 0.9220\n",
      "Epoch 394/500\n",
      "44/44 [==============================] - 12s 281ms/step - loss: 0.0227 - acc: 0.9930 - val_loss: 0.4634 - val_acc: 0.9169\n",
      "Epoch 395/500\n",
      "44/44 [==============================] - 12s 281ms/step - loss: 0.0148 - acc: 0.9942 - val_loss: 0.4742 - val_acc: 0.9133\n",
      "Epoch 396/500\n",
      "44/44 [==============================] - 12s 279ms/step - loss: 0.0131 - acc: 0.9967 - val_loss: 0.5012 - val_acc: 0.9155\n",
      "Epoch 397/500\n",
      "44/44 [==============================] - 12s 282ms/step - loss: 0.0099 - acc: 0.9973 - val_loss: 0.4648 - val_acc: 0.9162\n",
      "Epoch 398/500\n",
      "44/44 [==============================] - 12s 279ms/step - loss: 0.0159 - acc: 0.9958 - val_loss: 0.4936 - val_acc: 0.9212\n",
      "Epoch 399/500\n",
      "44/44 [==============================] - 12s 280ms/step - loss: 0.0258 - acc: 0.9933 - val_loss: 0.4380 - val_acc: 0.9263\n",
      "Epoch 400/500\n",
      "44/44 [==============================] - 12s 280ms/step - loss: 0.0208 - acc: 0.9955 - val_loss: 0.4904 - val_acc: 0.9227\n",
      "Epoch 401/500\n",
      "44/44 [==============================] - 12s 280ms/step - loss: 0.0046 - acc: 0.9991 - val_loss: 0.5983 - val_acc: 0.8981\n",
      "Epoch 402/500\n",
      "44/44 [==============================] - 12s 283ms/step - loss: 0.0077 - acc: 0.9980 - val_loss: 0.4868 - val_acc: 0.9155\n",
      "Epoch 403/500\n",
      "44/44 [==============================] - 12s 283ms/step - loss: 0.0097 - acc: 0.9973 - val_loss: 0.5148 - val_acc: 0.9147\n",
      "Epoch 404/500\n",
      "44/44 [==============================] - 12s 279ms/step - loss: 0.0293 - acc: 0.9915 - val_loss: 0.4800 - val_acc: 0.9176\n",
      "Epoch 405/500\n",
      "44/44 [==============================] - 12s 280ms/step - loss: 0.0075 - acc: 0.9978 - val_loss: 0.5267 - val_acc: 0.9184\n",
      "Epoch 406/500\n",
      "44/44 [==============================] - 12s 280ms/step - loss: 0.0041 - acc: 0.9989 - val_loss: 0.5205 - val_acc: 0.9155\n",
      "Epoch 407/500\n",
      "44/44 [==============================] - 12s 280ms/step - loss: 0.0138 - acc: 0.9966 - val_loss: 0.4917 - val_acc: 0.9133\n",
      "Epoch 408/500\n",
      "44/44 [==============================] - 12s 283ms/step - loss: 0.0067 - acc: 0.9977 - val_loss: 0.5710 - val_acc: 0.9140\n",
      "Epoch 409/500\n",
      "44/44 [==============================] - 12s 281ms/step - loss: 0.0107 - acc: 0.9969 - val_loss: 0.5314 - val_acc: 0.9061\n",
      "Epoch 410/500\n",
      "44/44 [==============================] - 12s 280ms/step - loss: 0.0144 - acc: 0.9955 - val_loss: 0.5363 - val_acc: 0.9118\n",
      "Epoch 411/500\n",
      "44/44 [==============================] - 12s 280ms/step - loss: 0.0316 - acc: 0.9926 - val_loss: 0.4835 - val_acc: 0.9155\n",
      "Epoch 412/500\n",
      "44/44 [==============================] - 12s 281ms/step - loss: 0.0137 - acc: 0.9973 - val_loss: 0.4938 - val_acc: 0.9104\n",
      "Epoch 413/500\n",
      "44/44 [==============================] - 12s 282ms/step - loss: 0.0037 - acc: 0.9993 - val_loss: 0.4919 - val_acc: 0.9147\n",
      "Epoch 414/500\n",
      "44/44 [==============================] - 12s 282ms/step - loss: 0.0108 - acc: 0.9962 - val_loss: 0.5445 - val_acc: 0.9169\n",
      "Epoch 415/500\n",
      "44/44 [==============================] - 12s 279ms/step - loss: 0.0179 - acc: 0.9955 - val_loss: 0.5105 - val_acc: 0.9191\n",
      "Epoch 416/500\n",
      "44/44 [==============================] - 12s 279ms/step - loss: 0.0156 - acc: 0.9962 - val_loss: 0.7070 - val_acc: 0.8837\n",
      "Epoch 417/500\n",
      "44/44 [==============================] - 12s 280ms/step - loss: 0.0161 - acc: 0.9953 - val_loss: 0.5132 - val_acc: 0.9147\n",
      "Epoch 418/500\n",
      "44/44 [==============================] - 12s 281ms/step - loss: 0.0052 - acc: 0.9982 - val_loss: 0.5209 - val_acc: 0.9155\n",
      "Epoch 419/500\n",
      "44/44 [==============================] - 12s 283ms/step - loss: 0.0106 - acc: 0.9977 - val_loss: 0.4750 - val_acc: 0.9212\n",
      "Epoch 420/500\n",
      "44/44 [==============================] - 12s 281ms/step - loss: 0.0071 - acc: 0.9975 - val_loss: 0.5389 - val_acc: 0.9162\n",
      "Epoch 421/500\n",
      "44/44 [==============================] - 12s 280ms/step - loss: 0.0053 - acc: 0.9984 - val_loss: 0.5383 - val_acc: 0.9249\n",
      "Epoch 422/500\n",
      "44/44 [==============================] - 12s 280ms/step - loss: 0.0192 - acc: 0.9949 - val_loss: 0.5117 - val_acc: 0.9162\n",
      "Epoch 423/500\n",
      "44/44 [==============================] - 12s 280ms/step - loss: 0.0164 - acc: 0.9958 - val_loss: 0.5166 - val_acc: 0.9184\n",
      "Epoch 424/500\n",
      "44/44 [==============================] - 12s 280ms/step - loss: 0.0061 - acc: 0.9987 - val_loss: 0.5503 - val_acc: 0.9068\n",
      "Epoch 425/500\n",
      "44/44 [==============================] - 12s 281ms/step - loss: 0.0092 - acc: 0.9971 - val_loss: 0.5291 - val_acc: 0.9104\n",
      "Epoch 426/500\n",
      "44/44 [==============================] - 12s 282ms/step - loss: 0.0162 - acc: 0.9955 - val_loss: 0.5174 - val_acc: 0.9162\n",
      "Epoch 427/500\n",
      "44/44 [==============================] - 12s 281ms/step - loss: 0.0160 - acc: 0.9960 - val_loss: 0.5356 - val_acc: 0.9118\n",
      "Epoch 428/500\n",
      "44/44 [==============================] - 12s 279ms/step - loss: 0.0043 - acc: 0.9989 - val_loss: 0.5843 - val_acc: 0.9155\n",
      "Epoch 429/500\n",
      "44/44 [==============================] - 12s 279ms/step - loss: 0.0256 - acc: 0.9953 - val_loss: 0.8774 - val_acc: 0.8844\n",
      "Epoch 430/500\n",
      "44/44 [==============================] - 12s 280ms/step - loss: 0.0233 - acc: 0.9951 - val_loss: 0.5021 - val_acc: 0.9234\n",
      "Epoch 431/500\n",
      "44/44 [==============================] - 13s 285ms/step - loss: 0.0035 - acc: 0.9995 - val_loss: 0.6450 - val_acc: 0.9082\n",
      "Epoch 432/500\n",
      "44/44 [==============================] - 12s 280ms/step - loss: 0.0102 - acc: 0.9962 - val_loss: 0.5573 - val_acc: 0.9147\n",
      "Epoch 433/500\n",
      "44/44 [==============================] - 12s 280ms/step - loss: 0.0192 - acc: 0.9949 - val_loss: 0.6325 - val_acc: 0.9126\n",
      "Epoch 434/500\n",
      "44/44 [==============================] - 12s 280ms/step - loss: 0.0135 - acc: 0.9967 - val_loss: 0.5441 - val_acc: 0.9162\n",
      "Epoch 435/500\n",
      "44/44 [==============================] - 12s 280ms/step - loss: 0.0056 - acc: 0.9989 - val_loss: 0.5601 - val_acc: 0.9126\n",
      "Epoch 436/500\n",
      "44/44 [==============================] - 12s 280ms/step - loss: 0.0201 - acc: 0.9964 - val_loss: 0.5295 - val_acc: 0.9176\n",
      "Epoch 437/500\n",
      "44/44 [==============================] - 12s 284ms/step - loss: 0.0149 - acc: 0.9960 - val_loss: 0.5247 - val_acc: 0.9140\n",
      "Epoch 438/500\n",
      "44/44 [==============================] - 12s 281ms/step - loss: 0.0049 - acc: 0.9989 - val_loss: 0.4840 - val_acc: 0.9241\n",
      "Epoch 439/500\n",
      "44/44 [==============================] - 12s 280ms/step - loss: 0.0072 - acc: 0.9977 - val_loss: 0.5005 - val_acc: 0.9155\n",
      "Epoch 440/500\n",
      "44/44 [==============================] - 12s 279ms/step - loss: 0.0031 - acc: 0.9991 - val_loss: 0.5569 - val_acc: 0.9198\n",
      "Epoch 441/500\n",
      "44/44 [==============================] - 12s 280ms/step - loss: 0.0074 - acc: 0.9977 - val_loss: 0.5929 - val_acc: 0.9140\n",
      "Epoch 442/500\n",
      "44/44 [==============================] - 12s 282ms/step - loss: 0.0092 - acc: 0.9977 - val_loss: 0.4901 - val_acc: 0.9205\n",
      "Epoch 443/500\n",
      "44/44 [==============================] - 12s 285ms/step - loss: 0.0065 - acc: 0.9980 - val_loss: 0.5523 - val_acc: 0.9198\n",
      "Epoch 444/500\n",
      "44/44 [==============================] - 12s 281ms/step - loss: 0.0035 - acc: 0.9995 - val_loss: 0.5311 - val_acc: 0.9126\n",
      "Epoch 445/500\n",
      "44/44 [==============================] - 12s 280ms/step - loss: 0.0064 - acc: 0.9986 - val_loss: 0.5718 - val_acc: 0.9184\n",
      "Epoch 446/500\n",
      "44/44 [==============================] - 12s 280ms/step - loss: 0.0107 - acc: 0.9973 - val_loss: 0.5499 - val_acc: 0.9104\n",
      "Epoch 447/500\n",
      "44/44 [==============================] - 12s 280ms/step - loss: 0.0075 - acc: 0.9986 - val_loss: 0.5544 - val_acc: 0.9205\n",
      "Epoch 448/500\n",
      "44/44 [==============================] - 12s 281ms/step - loss: 0.0081 - acc: 0.9982 - val_loss: 0.5467 - val_acc: 0.9227\n",
      "Epoch 449/500\n",
      "44/44 [==============================] - 12s 282ms/step - loss: 0.0048 - acc: 0.9987 - val_loss: 0.5444 - val_acc: 0.9176\n",
      "Epoch 450/500\n",
      "44/44 [==============================] - 12s 282ms/step - loss: 0.0070 - acc: 0.9984 - val_loss: 0.6027 - val_acc: 0.9234\n",
      "Epoch 451/500\n",
      "44/44 [==============================] - 12s 280ms/step - loss: 0.0052 - acc: 0.9986 - val_loss: 0.5450 - val_acc: 0.9176\n",
      "Epoch 452/500\n",
      "44/44 [==============================] - 12s 282ms/step - loss: 0.0435 - acc: 0.9910 - val_loss: 0.5953 - val_acc: 0.9212\n",
      "Epoch 453/500\n",
      "44/44 [==============================] - 12s 280ms/step - loss: 0.0075 - acc: 0.9977 - val_loss: 0.5792 - val_acc: 0.9212\n",
      "Epoch 454/500\n",
      "44/44 [==============================] - 12s 282ms/step - loss: 0.0084 - acc: 0.9984 - val_loss: 0.5378 - val_acc: 0.9234\n",
      "Epoch 455/500\n",
      "44/44 [==============================] - 12s 282ms/step - loss: 0.0165 - acc: 0.9957 - val_loss: 0.5564 - val_acc: 0.9241\n",
      "Epoch 456/500\n",
      "44/44 [==============================] - 12s 280ms/step - loss: 0.0187 - acc: 0.9953 - val_loss: 0.5828 - val_acc: 0.9090\n",
      "Epoch 457/500\n",
      "44/44 [==============================] - 12s 280ms/step - loss: 0.0197 - acc: 0.9955 - val_loss: 0.5130 - val_acc: 0.9169\n",
      "Epoch 458/500\n",
      "44/44 [==============================] - 12s 281ms/step - loss: 0.0236 - acc: 0.9933 - val_loss: 0.4980 - val_acc: 0.9126\n",
      "Epoch 459/500\n",
      "44/44 [==============================] - 12s 280ms/step - loss: 0.0037 - acc: 0.9993 - val_loss: 0.5021 - val_acc: 0.9227\n",
      "Epoch 460/500\n",
      "44/44 [==============================] - 13s 289ms/step - loss: 0.0107 - acc: 0.9978 - val_loss: 0.5417 - val_acc: 0.9191\n",
      "Epoch 461/500\n",
      "44/44 [==============================] - 12s 280ms/step - loss: 0.0156 - acc: 0.9951 - val_loss: 0.5005 - val_acc: 0.9212\n",
      "Epoch 462/500\n",
      "44/44 [==============================] - 12s 280ms/step - loss: 0.0161 - acc: 0.9953 - val_loss: 0.5766 - val_acc: 0.9111\n",
      "Epoch 463/500\n",
      "44/44 [==============================] - 12s 280ms/step - loss: 0.0047 - acc: 0.9987 - val_loss: 0.5441 - val_acc: 0.9249\n",
      "Epoch 464/500\n",
      "44/44 [==============================] - 12s 279ms/step - loss: 0.0241 - acc: 0.9960 - val_loss: 0.5321 - val_acc: 0.9270\n",
      "Epoch 465/500\n",
      "44/44 [==============================] - 12s 281ms/step - loss: 0.0043 - acc: 0.9987 - val_loss: 0.5303 - val_acc: 0.9249\n",
      "Epoch 466/500\n",
      "44/44 [==============================] - 12s 282ms/step - loss: 0.0087 - acc: 0.9984 - val_loss: 0.5523 - val_acc: 0.9162\n",
      "Epoch 467/500\n",
      "44/44 [==============================] - 12s 279ms/step - loss: 0.0097 - acc: 0.9967 - val_loss: 0.5770 - val_acc: 0.9184\n",
      "Epoch 468/500\n",
      "44/44 [==============================] - 12s 282ms/step - loss: 0.0051 - acc: 0.9982 - val_loss: 0.5655 - val_acc: 0.9256\n",
      "Epoch 469/500\n",
      "44/44 [==============================] - 12s 281ms/step - loss: 0.0183 - acc: 0.9967 - val_loss: 0.5333 - val_acc: 0.9220\n",
      "Epoch 470/500\n",
      "44/44 [==============================] - 12s 279ms/step - loss: 0.0091 - acc: 0.9973 - val_loss: 0.7061 - val_acc: 0.9097\n",
      "Epoch 471/500\n",
      "44/44 [==============================] - 12s 281ms/step - loss: 0.0118 - acc: 0.9980 - val_loss: 0.5470 - val_acc: 0.9184\n",
      "Epoch 472/500\n",
      "44/44 [==============================] - 12s 282ms/step - loss: 0.0063 - acc: 0.9984 - val_loss: 0.5797 - val_acc: 0.9169\n",
      "Epoch 473/500\n",
      "44/44 [==============================] - 12s 281ms/step - loss: 0.0033 - acc: 0.9989 - val_loss: 0.5294 - val_acc: 0.9292\n",
      "Epoch 474/500\n",
      "44/44 [==============================] - 12s 280ms/step - loss: 0.0169 - acc: 0.9960 - val_loss: 0.5588 - val_acc: 0.9227\n",
      "Epoch 475/500\n",
      "44/44 [==============================] - 12s 279ms/step - loss: 0.0080 - acc: 0.9975 - val_loss: 0.5611 - val_acc: 0.9227\n",
      "Epoch 476/500\n",
      "44/44 [==============================] - 12s 280ms/step - loss: 0.0168 - acc: 0.9962 - val_loss: 0.5548 - val_acc: 0.9285\n",
      "Epoch 477/500\n",
      "44/44 [==============================] - 12s 282ms/step - loss: 0.0176 - acc: 0.9964 - val_loss: 0.5946 - val_acc: 0.9068\n",
      "Epoch 478/500\n",
      "44/44 [==============================] - 12s 281ms/step - loss: 0.0089 - acc: 0.9975 - val_loss: 0.5619 - val_acc: 0.9176\n",
      "Epoch 479/500\n",
      "44/44 [==============================] - 12s 281ms/step - loss: 0.0106 - acc: 0.9982 - val_loss: 0.5589 - val_acc: 0.9198\n",
      "Epoch 480/500\n",
      "44/44 [==============================] - 12s 280ms/step - loss: 0.0147 - acc: 0.9951 - val_loss: 0.5976 - val_acc: 0.9162\n",
      "Epoch 481/500\n",
      "44/44 [==============================] - 12s 281ms/step - loss: 0.0426 - acc: 0.9899 - val_loss: 0.5225 - val_acc: 0.9010\n",
      "Epoch 482/500\n",
      "44/44 [==============================] - 12s 280ms/step - loss: 0.0594 - acc: 0.9872 - val_loss: 0.4345 - val_acc: 0.9184\n",
      "Epoch 483/500\n",
      "44/44 [==============================] - 12s 282ms/step - loss: 0.0415 - acc: 0.9924 - val_loss: 0.4460 - val_acc: 0.9133\n",
      "Epoch 484/500\n",
      "44/44 [==============================] - 12s 283ms/step - loss: 0.0341 - acc: 0.9919 - val_loss: 0.4950 - val_acc: 0.9075\n",
      "Epoch 485/500\n",
      "44/44 [==============================] - 12s 281ms/step - loss: 0.0227 - acc: 0.9930 - val_loss: 0.4516 - val_acc: 0.9249\n",
      "Epoch 486/500\n",
      "44/44 [==============================] - 12s 280ms/step - loss: 0.0128 - acc: 0.9957 - val_loss: 0.5540 - val_acc: 0.9097\n",
      "Epoch 487/500\n",
      "44/44 [==============================] - 12s 280ms/step - loss: 0.0133 - acc: 0.9967 - val_loss: 0.4902 - val_acc: 0.9184\n",
      "Epoch 488/500\n",
      "44/44 [==============================] - 12s 278ms/step - loss: 0.0124 - acc: 0.9973 - val_loss: 0.4994 - val_acc: 0.9205\n",
      "Epoch 489/500\n",
      "44/44 [==============================] - 12s 282ms/step - loss: 0.0022 - acc: 0.9995 - val_loss: 0.5362 - val_acc: 0.9220\n",
      "Epoch 490/500\n",
      "44/44 [==============================] - 12s 280ms/step - loss: 0.0136 - acc: 0.9969 - val_loss: 0.5211 - val_acc: 0.9249\n",
      "Epoch 491/500\n",
      "44/44 [==============================] - 12s 280ms/step - loss: 0.0067 - acc: 0.9982 - val_loss: 0.5138 - val_acc: 0.9220\n",
      "Epoch 492/500\n",
      "44/44 [==============================] - 12s 281ms/step - loss: 0.0145 - acc: 0.9973 - val_loss: 0.4810 - val_acc: 0.9184\n",
      "Epoch 493/500\n",
      "44/44 [==============================] - 12s 280ms/step - loss: 0.0073 - acc: 0.9982 - val_loss: 0.5789 - val_acc: 0.9155\n",
      "Epoch 494/500\n",
      "44/44 [==============================] - 12s 280ms/step - loss: 0.0047 - acc: 0.9986 - val_loss: 0.5408 - val_acc: 0.9234\n",
      "Epoch 495/500\n",
      "44/44 [==============================] - 12s 282ms/step - loss: 0.0074 - acc: 0.9973 - val_loss: 0.5541 - val_acc: 0.9176\n",
      "Epoch 496/500\n",
      "44/44 [==============================] - 12s 280ms/step - loss: 0.0017 - acc: 0.9996 - val_loss: 0.7483 - val_acc: 0.8981\n",
      "Epoch 497/500\n",
      "44/44 [==============================] - 12s 281ms/step - loss: 0.0044 - acc: 0.9991 - val_loss: 0.5869 - val_acc: 0.9104\n",
      "Epoch 498/500\n",
      "44/44 [==============================] - 12s 280ms/step - loss: 0.0111 - acc: 0.9966 - val_loss: 0.5557 - val_acc: 0.9198\n",
      "Epoch 499/500\n",
      "44/44 [==============================] - 12s 280ms/step - loss: 0.0089 - acc: 0.9977 - val_loss: 0.5270 - val_acc: 0.9212\n",
      "Epoch 500/500\n",
      "44/44 [==============================] - 12s 280ms/step - loss: 0.0013 - acc: 0.9996 - val_loss: 0.5418 - val_acc: 0.9169\n"
     ]
    }
   ],
   "source": [
    "model = Sequential()\n",
    "model.add(Embedding(input_dim, output_dim)) # parameter input_length not required, because no flattening needed (using RNN layer now, not Dense layer)\n",
    "model.add(LSTM(128))\n",
    "model.add(Dropout(0.2))\n",
    "model.add(Dense(1, activation='sigmoid'))\n",
    "\n",
    "model.compile(optimizer='rmsprop',\n",
    "              loss='binary_crossentropy',\n",
    "              metrics=['acc'])\n",
    "\n",
    "history = model.fit(train_x, train_y,\n",
    "                    epochs=500,\n",
    "                    batch_size=128,\n",
    "                    validation_split=0.2)"
   ]
  },
  {
   "cell_type": "code",
   "execution_count": 22,
   "id": "4ac84537",
   "metadata": {
    "execution": {
     "iopub.execute_input": "2022-05-07T12:04:32.920064Z",
     "iopub.status.busy": "2022-05-07T12:04:32.919126Z",
     "iopub.status.idle": "2022-05-07T12:04:32.924381Z",
     "shell.execute_reply": "2022-05-07T12:04:32.924857Z"
    },
    "papermill": {
     "duration": 7.216931,
     "end_time": "2022-05-07T12:04:32.924996",
     "exception": false,
     "start_time": "2022-05-07T12:04:25.708065",
     "status": "completed"
    },
    "tags": []
   },
   "outputs": [
    {
     "name": "stdout",
     "output_type": "stream",
     "text": [
      "Model: \"sequential\"\n",
      "_________________________________________________________________\n",
      "Layer (type)                 Output Shape              Param #   \n",
      "=================================================================\n",
      "embedding (Embedding)        (None, None, 3)           15        \n",
      "_________________________________________________________________\n",
      "lstm (LSTM)                  (None, 128)               67584     \n",
      "_________________________________________________________________\n",
      "dropout (Dropout)            (None, 128)               0         \n",
      "_________________________________________________________________\n",
      "dense (Dense)                (None, 1)                 129       \n",
      "=================================================================\n",
      "Total params: 67,728\n",
      "Trainable params: 67,728\n",
      "Non-trainable params: 0\n",
      "_________________________________________________________________\n"
     ]
    }
   ],
   "source": [
    "model.summary()"
   ]
  },
  {
   "cell_type": "code",
   "execution_count": 23,
   "id": "6b3a5c09",
   "metadata": {
    "execution": {
     "iopub.execute_input": "2022-05-07T12:04:48.280250Z",
     "iopub.status.busy": "2022-05-07T12:04:48.279413Z",
     "iopub.status.idle": "2022-05-07T12:04:48.969580Z",
     "shell.execute_reply": "2022-05-07T12:04:48.970002Z"
    },
    "papermill": {
     "duration": 8.104837,
     "end_time": "2022-05-07T12:04:48.970157",
     "exception": false,
     "start_time": "2022-05-07T12:04:40.865320",
     "status": "completed"
    },
    "tags": []
   },
   "outputs": [
    {
     "data": {
      "image/png": "[encoded data removed]",
      "text/plain": [
       "<Figure size 432x504 with 1 Axes>"
      ]
     },
     "metadata": {
      "needs_background": "light"
     },
     "output_type": "display_data"
    }
   ],
   "source": [
    "acc = history.history['acc']\n",
    "val_acc = history.history['val_acc']\n",
    "loss = history.history['loss']\n",
    "val_loss = history.history['val_loss']\n",
    "\n",
    "epochs = range(len(acc))\n",
    "\n",
    "plt.subplots(figsize=(6,7))\n",
    "\n",
    "plt.plot(epochs, acc, 'bo', label='Training')\n",
    "plt.plot(epochs, val_acc, 'b', label='Validation')\n",
    "plt.xlabel('Epochs', fontsize=25, labelpad=20)\n",
    "plt.ylabel('Accuracy score [%]',fontsize=25, labelpad=20)\n",
    "plt.xticks(fontsize=25)\n",
    "plt.yticks(fontsize=25)\n",
    "plt.grid(linestyle = '--', linewidth = 0.5)\n",
    "plt.legend(loc=4, fontsize=20)\n",
    "\n",
    "plt.savefig('max_len_nuc.png', dpi=300, bbox_inches='tight')\n",
    "plt.show()"
   ]
  },
  {
   "cell_type": "code",
   "execution_count": 24,
   "id": "1879bc97",
   "metadata": {
    "execution": {
     "iopub.execute_input": "2022-05-07T12:05:03.864718Z",
     "iopub.status.busy": "2022-05-07T12:05:03.863818Z",
     "iopub.status.idle": "2022-05-07T12:05:07.632740Z",
     "shell.execute_reply": "2022-05-07T12:05:07.632207Z"
    },
    "papermill": {
     "duration": 11.161135,
     "end_time": "2022-05-07T12:05:07.632876",
     "exception": false,
     "start_time": "2022-05-07T12:04:56.471741",
     "status": "completed"
    },
    "tags": []
   },
   "outputs": [
    {
     "name": "stdout",
     "output_type": "stream",
     "text": [
      "Test accuracy: 0.9219653010368347\n"
     ]
    }
   ],
   "source": [
    "scores = model.evaluate(test_x, test_y, verbose=0)\n",
    "print('Test accuracy:', scores[1])"
   ]
  }
 ],
 "metadata": {
  "kernelspec": {
   "display_name": "Python 3",
   "language": "python",
   "name": "python3"
  },
  "language_info": {
   "codemirror_mode": {
    "name": "ipython",
    "version": 3
   },
   "file_extension": ".py",
   "mimetype": "text/x-python",
   "name": "python",
   "nbconvert_exporter": "python",
   "pygments_lexer": "ipython3",
   "version": "3.7.12"
  },
  "papermill": {
   "default_parameters": {},
   "duration": 6258.196104,
   "end_time": "2022-05-07T12:05:17.833160",
   "environment_variables": {},
   "exception": null,
   "input_path": "__notebook__.ipynb",
   "output_path": "__notebook__.ipynb",
   "parameters": {},
   "start_time": "2022-05-07T10:20:59.637056",
   "version": "2.3.3"
  }
 },
 "nbformat": 4,
 "nbformat_minor": 5
}
