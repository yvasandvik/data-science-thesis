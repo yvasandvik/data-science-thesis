{
 "cells": [
  {
   "cell_type": "markdown",
   "id": "c35e08ae",
   "metadata": {
    "_cell_guid": "b1076dfc-b9ad-4769-8c92-a6c4dae69d19",
    "_uuid": "8f2839f25d086af736a60e9eeb907d3b93b6e0e5",
    "papermill": {
     "duration": 0.016373,
     "end_time": "2022-05-07T10:02:42.541372",
     "exception": false,
     "start_time": "2022-05-07T10:02:42.524999",
     "status": "completed"
    },
    "tags": []
   },
   "source": [
    "# Random Forest Classifier\n",
    "\n",
    "RF classifer used to classify protein coding genes in procaryotic DNA sequences. \n",
    "\n",
    "- Hyperparamter tuning\n",
    "- Selecting best model\n",
    "- Accuracy of all genomes\n",
    "- Feature importance\n",
    "- Training curves"
   ]
  },
  {
   "cell_type": "code",
   "execution_count": 1,
   "id": "a594d388",
   "metadata": {
    "execution": {
     "iopub.execute_input": "2022-05-07T10:02:42.577884Z",
     "iopub.status.busy": "2022-05-07T10:02:42.576736Z",
     "iopub.status.idle": "2022-05-07T10:02:43.948304Z",
     "shell.execute_reply": "2022-05-07T10:02:43.947589Z"
    },
    "papermill": {
     "duration": 1.389603,
     "end_time": "2022-05-07T10:02:43.948462",
     "exception": false,
     "start_time": "2022-05-07T10:02:42.558859",
     "status": "completed"
    },
    "tags": []
   },
   "outputs": [],
   "source": [
    "# Importing data\n",
    "import pandas as pd\n",
    "import time\n",
    "\n",
    "# Preprocessing and encoding variables\n",
    "import numpy as np\n",
    "from sklearn import preprocessing\n",
    "\n",
    "# Using Skicit-learn to split data into training and testing sets\n",
    "from sklearn.model_selection import train_test_split\n",
    "\n",
    "# Import the model we are using\n",
    "from sklearn.ensemble import RandomForestClassifier\n",
    "\n",
    "# Import scikit-learn metrics module for accuracy calculation\n",
    "from sklearn import metrics\n",
    "\n",
    "# Visualising feature importance and making plots\n",
    "import matplotlib.pyplot as plt\n",
    "import seaborn as sns\n",
    "from sklearn.tree import export_graphviz\n",
    "import pydot\n",
    "\n",
    "# Hyperparameter tuning\n",
    "from sklearn.model_selection import RandomizedSearchCV\n",
    "from sklearn.model_selection import GridSearchCV"
   ]
  },
  {
   "cell_type": "code",
   "execution_count": 2,
   "id": "b1d497f4",
   "metadata": {
    "execution": {
     "iopub.execute_input": "2022-05-07T10:02:43.983391Z",
     "iopub.status.busy": "2022-05-07T10:02:43.982421Z",
     "iopub.status.idle": "2022-05-07T10:03:32.717660Z",
     "shell.execute_reply": "2022-05-07T10:03:32.717092Z"
    },
    "papermill": {
     "duration": 48.753643,
     "end_time": "2022-05-07T10:03:32.717839",
     "exception": false,
     "start_time": "2022-05-07T10:02:43.964196",
     "status": "completed"
    },
    "tags": []
   },
   "outputs": [],
   "source": [
    "G1 = pd.read_csv('../input/genomes-part1/G1.features.csv')"
   ]
  },
  {
   "cell_type": "code",
   "execution_count": 3,
   "id": "0442aec4",
   "metadata": {
    "execution": {
     "iopub.execute_input": "2022-05-07T10:03:32.756325Z",
     "iopub.status.busy": "2022-05-07T10:03:32.755677Z",
     "iopub.status.idle": "2022-05-07T10:03:32.786877Z",
     "shell.execute_reply": "2022-05-07T10:03:32.787369Z"
    },
    "papermill": {
     "duration": 0.054704,
     "end_time": "2022-05-07T10:03:32.787534",
     "exception": false,
     "start_time": "2022-05-07T10:03:32.732830",
     "status": "completed"
    },
    "tags": []
   },
   "outputs": [
    {
     "data": {
      "text/html": [
       "<div>\n",
       "<style scoped>\n",
       "    .dataframe tbody tr th:only-of-type {\n",
       "        vertical-align: middle;\n",
       "    }\n",
       "\n",
       "    .dataframe tbody tr th {\n",
       "        vertical-align: top;\n",
       "    }\n",
       "\n",
       "    .dataframe thead th {\n",
       "        text-align: right;\n",
       "    }\n",
       "</style>\n",
       "<table border=\"1\" class=\"dataframe\">\n",
       "  <thead>\n",
       "    <tr style=\"text-align: right;\">\n",
       "      <th></th>\n",
       "      <th>Unnamed: 0</th>\n",
       "      <th>Type</th>\n",
       "      <th>Length</th>\n",
       "      <th>Dataset</th>\n",
       "      <th>Genome</th>\n",
       "      <th>GC_content</th>\n",
       "      <th>GC1_content</th>\n",
       "      <th>GC2_content</th>\n",
       "      <th>GC3_content</th>\n",
       "      <th>Start_ATG</th>\n",
       "      <th>...</th>\n",
       "      <th>c_weight_TCG</th>\n",
       "      <th>c_weight_TCT</th>\n",
       "      <th>c_weight_TGA</th>\n",
       "      <th>c_weight_TGC</th>\n",
       "      <th>c_weight_TGG</th>\n",
       "      <th>c_weight_TGT</th>\n",
       "      <th>c_weight_TTA</th>\n",
       "      <th>c_weight_TTC</th>\n",
       "      <th>c_weight_TTG</th>\n",
       "      <th>c_weight_TTT</th>\n",
       "    </tr>\n",
       "  </thead>\n",
       "  <tbody>\n",
       "    <tr>\n",
       "      <th>8644</th>\n",
       "      <td>8645</td>\n",
       "      <td>CDS</td>\n",
       "      <td>4563</td>\n",
       "      <td>1</td>\n",
       "      <td>Mycobacterium tuberculosis</td>\n",
       "      <td>0.520272</td>\n",
       "      <td>0.552268</td>\n",
       "      <td>0.420118</td>\n",
       "      <td>0.588429</td>\n",
       "      <td>1</td>\n",
       "      <td>...</td>\n",
       "      <td>0.203540</td>\n",
       "      <td>0.123894</td>\n",
       "      <td>0.0</td>\n",
       "      <td>0.266667</td>\n",
       "      <td>1</td>\n",
       "      <td>0.733333</td>\n",
       "      <td>0.043478</td>\n",
       "      <td>0.517241</td>\n",
       "      <td>0.069565</td>\n",
       "      <td>0.482759</td>\n",
       "    </tr>\n",
       "    <tr>\n",
       "      <th>8645</th>\n",
       "      <td>8646</td>\n",
       "      <td>CDS</td>\n",
       "      <td>4581</td>\n",
       "      <td>1</td>\n",
       "      <td>Mycobacterium tuberculosis</td>\n",
       "      <td>0.492032</td>\n",
       "      <td>0.527177</td>\n",
       "      <td>0.471513</td>\n",
       "      <td>0.477407</td>\n",
       "      <td>1</td>\n",
       "      <td>...</td>\n",
       "      <td>0.093023</td>\n",
       "      <td>0.131783</td>\n",
       "      <td>1.0</td>\n",
       "      <td>0.333333</td>\n",
       "      <td>1</td>\n",
       "      <td>0.666667</td>\n",
       "      <td>0.182796</td>\n",
       "      <td>0.480000</td>\n",
       "      <td>0.129032</td>\n",
       "      <td>0.520000</td>\n",
       "    </tr>\n",
       "    <tr>\n",
       "      <th>8646</th>\n",
       "      <td>8647</td>\n",
       "      <td>CDS</td>\n",
       "      <td>4617</td>\n",
       "      <td>1</td>\n",
       "      <td>Mycobacterium tuberculosis</td>\n",
       "      <td>0.568984</td>\n",
       "      <td>0.671215</td>\n",
       "      <td>0.476933</td>\n",
       "      <td>0.558804</td>\n",
       "      <td>1</td>\n",
       "      <td>...</td>\n",
       "      <td>0.228571</td>\n",
       "      <td>0.133333</td>\n",
       "      <td>0.0</td>\n",
       "      <td>0.428571</td>\n",
       "      <td>1</td>\n",
       "      <td>0.571429</td>\n",
       "      <td>0.129730</td>\n",
       "      <td>0.333333</td>\n",
       "      <td>0.124324</td>\n",
       "      <td>0.666667</td>\n",
       "    </tr>\n",
       "    <tr>\n",
       "      <th>8647</th>\n",
       "      <td>8648</td>\n",
       "      <td>CDS</td>\n",
       "      <td>4962</td>\n",
       "      <td>1</td>\n",
       "      <td>Mycobacterium tuberculosis</td>\n",
       "      <td>0.529625</td>\n",
       "      <td>0.622733</td>\n",
       "      <td>0.414148</td>\n",
       "      <td>0.551995</td>\n",
       "      <td>1</td>\n",
       "      <td>...</td>\n",
       "      <td>0.138889</td>\n",
       "      <td>0.101852</td>\n",
       "      <td>0.0</td>\n",
       "      <td>0.666667</td>\n",
       "      <td>1</td>\n",
       "      <td>0.333333</td>\n",
       "      <td>0.145000</td>\n",
       "      <td>0.533333</td>\n",
       "      <td>0.145000</td>\n",
       "      <td>0.466667</td>\n",
       "    </tr>\n",
       "    <tr>\n",
       "      <th>8648</th>\n",
       "      <td>8649</td>\n",
       "      <td>CDS</td>\n",
       "      <td>7077</td>\n",
       "      <td>1</td>\n",
       "      <td>Mycobacterium tuberculosis</td>\n",
       "      <td>0.499929</td>\n",
       "      <td>0.531581</td>\n",
       "      <td>0.459941</td>\n",
       "      <td>0.508266</td>\n",
       "      <td>1</td>\n",
       "      <td>...</td>\n",
       "      <td>0.139013</td>\n",
       "      <td>0.107623</td>\n",
       "      <td>1.0</td>\n",
       "      <td>0.400000</td>\n",
       "      <td>1</td>\n",
       "      <td>0.600000</td>\n",
       "      <td>0.142857</td>\n",
       "      <td>0.450704</td>\n",
       "      <td>0.095238</td>\n",
       "      <td>0.549296</td>\n",
       "    </tr>\n",
       "  </tbody>\n",
       "</table>\n",
       "<p>5 rows × 14792 columns</p>\n",
       "</div>"
      ],
      "text/plain": [
       "      Unnamed: 0 Type  Length  Dataset                      Genome  \\\n",
       "8644        8645  CDS    4563        1  Mycobacterium tuberculosis   \n",
       "8645        8646  CDS    4581        1  Mycobacterium tuberculosis   \n",
       "8646        8647  CDS    4617        1  Mycobacterium tuberculosis   \n",
       "8647        8648  CDS    4962        1  Mycobacterium tuberculosis   \n",
       "8648        8649  CDS    7077        1  Mycobacterium tuberculosis   \n",
       "\n",
       "      GC_content  GC1_content  GC2_content  GC3_content  Start_ATG  ...  \\\n",
       "8644    0.520272     0.552268     0.420118     0.588429          1  ...   \n",
       "8645    0.492032     0.527177     0.471513     0.477407          1  ...   \n",
       "8646    0.568984     0.671215     0.476933     0.558804          1  ...   \n",
       "8647    0.529625     0.622733     0.414148     0.551995          1  ...   \n",
       "8648    0.499929     0.531581     0.459941     0.508266          1  ...   \n",
       "\n",
       "      c_weight_TCG  c_weight_TCT  c_weight_TGA  c_weight_TGC  c_weight_TGG  \\\n",
       "8644      0.203540      0.123894           0.0      0.266667             1   \n",
       "8645      0.093023      0.131783           1.0      0.333333             1   \n",
       "8646      0.228571      0.133333           0.0      0.428571             1   \n",
       "8647      0.138889      0.101852           0.0      0.666667             1   \n",
       "8648      0.139013      0.107623           1.0      0.400000             1   \n",
       "\n",
       "      c_weight_TGT  c_weight_TTA  c_weight_TTC  c_weight_TTG  c_weight_TTT  \n",
       "8644      0.733333      0.043478      0.517241      0.069565      0.482759  \n",
       "8645      0.666667      0.182796      0.480000      0.129032      0.520000  \n",
       "8646      0.571429      0.129730      0.333333      0.124324      0.666667  \n",
       "8647      0.333333      0.145000      0.533333      0.145000      0.466667  \n",
       "8648      0.600000      0.142857      0.450704      0.095238      0.549296  \n",
       "\n",
       "[5 rows x 14792 columns]"
      ]
     },
     "execution_count": 3,
     "metadata": {},
     "output_type": "execute_result"
    }
   ],
   "source": [
    "G = G1\n",
    "G.tail(5)"
   ]
  },
  {
   "cell_type": "code",
   "execution_count": 4,
   "id": "589113dc",
   "metadata": {
    "execution": {
     "iopub.execute_input": "2022-05-07T10:03:32.822416Z",
     "iopub.status.busy": "2022-05-07T10:03:32.821813Z",
     "iopub.status.idle": "2022-05-07T10:03:33.152579Z",
     "shell.execute_reply": "2022-05-07T10:03:33.153058Z"
    },
    "papermill": {
     "duration": 0.34954,
     "end_time": "2022-05-07T10:03:33.153225",
     "exception": false,
     "start_time": "2022-05-07T10:03:32.803685",
     "status": "completed"
    },
    "tags": []
   },
   "outputs": [
    {
     "data": {
      "text/html": [
       "<div>\n",
       "<style scoped>\n",
       "    .dataframe tbody tr th:only-of-type {\n",
       "        vertical-align: middle;\n",
       "    }\n",
       "\n",
       "    .dataframe tbody tr th {\n",
       "        vertical-align: top;\n",
       "    }\n",
       "\n",
       "    .dataframe thead th {\n",
       "        text-align: right;\n",
       "    }\n",
       "</style>\n",
       "<table border=\"1\" class=\"dataframe\">\n",
       "  <thead>\n",
       "    <tr style=\"text-align: right;\">\n",
       "      <th></th>\n",
       "      <th>Type</th>\n",
       "      <th>Length</th>\n",
       "      <th>Dataset</th>\n",
       "      <th>Genome</th>\n",
       "      <th>GC_content</th>\n",
       "      <th>GC1_content</th>\n",
       "      <th>GC2_content</th>\n",
       "      <th>GC3_content</th>\n",
       "      <th>Start_ATG</th>\n",
       "      <th>Start_GTG</th>\n",
       "      <th>...</th>\n",
       "      <th>c_weight_TCG</th>\n",
       "      <th>c_weight_TCT</th>\n",
       "      <th>c_weight_TGA</th>\n",
       "      <th>c_weight_TGC</th>\n",
       "      <th>c_weight_TGG</th>\n",
       "      <th>c_weight_TGT</th>\n",
       "      <th>c_weight_TTA</th>\n",
       "      <th>c_weight_TTC</th>\n",
       "      <th>c_weight_TTG</th>\n",
       "      <th>c_weight_TTT</th>\n",
       "    </tr>\n",
       "  </thead>\n",
       "  <tbody>\n",
       "    <tr>\n",
       "      <th>8644</th>\n",
       "      <td>CDS</td>\n",
       "      <td>4563</td>\n",
       "      <td>1</td>\n",
       "      <td>Mycobacterium tuberculosis</td>\n",
       "      <td>0.520272</td>\n",
       "      <td>0.552268</td>\n",
       "      <td>0.420118</td>\n",
       "      <td>0.588429</td>\n",
       "      <td>1</td>\n",
       "      <td>0</td>\n",
       "      <td>...</td>\n",
       "      <td>0.203540</td>\n",
       "      <td>0.123894</td>\n",
       "      <td>0.0</td>\n",
       "      <td>0.266667</td>\n",
       "      <td>1</td>\n",
       "      <td>0.733333</td>\n",
       "      <td>0.043478</td>\n",
       "      <td>0.517241</td>\n",
       "      <td>0.069565</td>\n",
       "      <td>0.482759</td>\n",
       "    </tr>\n",
       "    <tr>\n",
       "      <th>8645</th>\n",
       "      <td>CDS</td>\n",
       "      <td>4581</td>\n",
       "      <td>1</td>\n",
       "      <td>Mycobacterium tuberculosis</td>\n",
       "      <td>0.492032</td>\n",
       "      <td>0.527177</td>\n",
       "      <td>0.471513</td>\n",
       "      <td>0.477407</td>\n",
       "      <td>1</td>\n",
       "      <td>0</td>\n",
       "      <td>...</td>\n",
       "      <td>0.093023</td>\n",
       "      <td>0.131783</td>\n",
       "      <td>1.0</td>\n",
       "      <td>0.333333</td>\n",
       "      <td>1</td>\n",
       "      <td>0.666667</td>\n",
       "      <td>0.182796</td>\n",
       "      <td>0.480000</td>\n",
       "      <td>0.129032</td>\n",
       "      <td>0.520000</td>\n",
       "    </tr>\n",
       "    <tr>\n",
       "      <th>8646</th>\n",
       "      <td>CDS</td>\n",
       "      <td>4617</td>\n",
       "      <td>1</td>\n",
       "      <td>Mycobacterium tuberculosis</td>\n",
       "      <td>0.568984</td>\n",
       "      <td>0.671215</td>\n",
       "      <td>0.476933</td>\n",
       "      <td>0.558804</td>\n",
       "      <td>1</td>\n",
       "      <td>0</td>\n",
       "      <td>...</td>\n",
       "      <td>0.228571</td>\n",
       "      <td>0.133333</td>\n",
       "      <td>0.0</td>\n",
       "      <td>0.428571</td>\n",
       "      <td>1</td>\n",
       "      <td>0.571429</td>\n",
       "      <td>0.129730</td>\n",
       "      <td>0.333333</td>\n",
       "      <td>0.124324</td>\n",
       "      <td>0.666667</td>\n",
       "    </tr>\n",
       "    <tr>\n",
       "      <th>8647</th>\n",
       "      <td>CDS</td>\n",
       "      <td>4962</td>\n",
       "      <td>1</td>\n",
       "      <td>Mycobacterium tuberculosis</td>\n",
       "      <td>0.529625</td>\n",
       "      <td>0.622733</td>\n",
       "      <td>0.414148</td>\n",
       "      <td>0.551995</td>\n",
       "      <td>1</td>\n",
       "      <td>0</td>\n",
       "      <td>...</td>\n",
       "      <td>0.138889</td>\n",
       "      <td>0.101852</td>\n",
       "      <td>0.0</td>\n",
       "      <td>0.666667</td>\n",
       "      <td>1</td>\n",
       "      <td>0.333333</td>\n",
       "      <td>0.145000</td>\n",
       "      <td>0.533333</td>\n",
       "      <td>0.145000</td>\n",
       "      <td>0.466667</td>\n",
       "    </tr>\n",
       "    <tr>\n",
       "      <th>8648</th>\n",
       "      <td>CDS</td>\n",
       "      <td>7077</td>\n",
       "      <td>1</td>\n",
       "      <td>Mycobacterium tuberculosis</td>\n",
       "      <td>0.499929</td>\n",
       "      <td>0.531581</td>\n",
       "      <td>0.459941</td>\n",
       "      <td>0.508266</td>\n",
       "      <td>1</td>\n",
       "      <td>0</td>\n",
       "      <td>...</td>\n",
       "      <td>0.139013</td>\n",
       "      <td>0.107623</td>\n",
       "      <td>1.0</td>\n",
       "      <td>0.400000</td>\n",
       "      <td>1</td>\n",
       "      <td>0.600000</td>\n",
       "      <td>0.142857</td>\n",
       "      <td>0.450704</td>\n",
       "      <td>0.095238</td>\n",
       "      <td>0.549296</td>\n",
       "    </tr>\n",
       "  </tbody>\n",
       "</table>\n",
       "<p>5 rows × 14791 columns</p>\n",
       "</div>"
      ],
      "text/plain": [
       "     Type  Length  Dataset                      Genome  GC_content  \\\n",
       "8644  CDS    4563        1  Mycobacterium tuberculosis    0.520272   \n",
       "8645  CDS    4581        1  Mycobacterium tuberculosis    0.492032   \n",
       "8646  CDS    4617        1  Mycobacterium tuberculosis    0.568984   \n",
       "8647  CDS    4962        1  Mycobacterium tuberculosis    0.529625   \n",
       "8648  CDS    7077        1  Mycobacterium tuberculosis    0.499929   \n",
       "\n",
       "      GC1_content  GC2_content  GC3_content  Start_ATG  Start_GTG  ...  \\\n",
       "8644     0.552268     0.420118     0.588429          1          0  ...   \n",
       "8645     0.527177     0.471513     0.477407          1          0  ...   \n",
       "8646     0.671215     0.476933     0.558804          1          0  ...   \n",
       "8647     0.622733     0.414148     0.551995          1          0  ...   \n",
       "8648     0.531581     0.459941     0.508266          1          0  ...   \n",
       "\n",
       "      c_weight_TCG  c_weight_TCT  c_weight_TGA  c_weight_TGC  c_weight_TGG  \\\n",
       "8644      0.203540      0.123894           0.0      0.266667             1   \n",
       "8645      0.093023      0.131783           1.0      0.333333             1   \n",
       "8646      0.228571      0.133333           0.0      0.428571             1   \n",
       "8647      0.138889      0.101852           0.0      0.666667             1   \n",
       "8648      0.139013      0.107623           1.0      0.400000             1   \n",
       "\n",
       "      c_weight_TGT  c_weight_TTA  c_weight_TTC  c_weight_TTG  c_weight_TTT  \n",
       "8644      0.733333      0.043478      0.517241      0.069565      0.482759  \n",
       "8645      0.666667      0.182796      0.480000      0.129032      0.520000  \n",
       "8646      0.571429      0.129730      0.333333      0.124324      0.666667  \n",
       "8647      0.333333      0.145000      0.533333      0.145000      0.466667  \n",
       "8648      0.600000      0.142857      0.450704      0.095238      0.549296  \n",
       "\n",
       "[5 rows x 14791 columns]"
      ]
     },
     "execution_count": 4,
     "metadata": {},
     "output_type": "execute_result"
    }
   ],
   "source": [
    "G = G1.iloc[: , 1:]\n",
    "G.tail(5)"
   ]
  },
  {
   "cell_type": "code",
   "execution_count": 5,
   "id": "51384607",
   "metadata": {
    "execution": {
     "iopub.execute_input": "2022-05-07T10:03:33.190420Z",
     "iopub.status.busy": "2022-05-07T10:03:33.189825Z",
     "iopub.status.idle": "2022-05-07T10:03:34.186409Z",
     "shell.execute_reply": "2022-05-07T10:03:34.187018Z"
    },
    "papermill": {
     "duration": 1.017538,
     "end_time": "2022-05-07T10:03:34.187267",
     "exception": false,
     "start_time": "2022-05-07T10:03:33.169729",
     "status": "completed"
    },
    "tags": []
   },
   "outputs": [
    {
     "data": {
      "text/plain": [
       "Type            0\n",
       "Length          0\n",
       "Dataset         0\n",
       "Genome          0\n",
       "GC_content      0\n",
       "               ..\n",
       "c_weight_TGT    0\n",
       "c_weight_TTA    0\n",
       "c_weight_TTC    0\n",
       "c_weight_TTG    0\n",
       "c_weight_TTT    0\n",
       "Length: 14791, dtype: int64"
      ]
     },
     "execution_count": 5,
     "metadata": {},
     "output_type": "execute_result"
    }
   ],
   "source": [
    "G = G.dropna()\n",
    "G.isnull().sum()"
   ]
  },
  {
   "cell_type": "code",
   "execution_count": 6,
   "id": "5afcbd2d",
   "metadata": {
    "execution": {
     "iopub.execute_input": "2022-05-07T10:03:34.226681Z",
     "iopub.status.busy": "2022-05-07T10:03:34.226017Z",
     "iopub.status.idle": "2022-05-07T10:03:34.229717Z",
     "shell.execute_reply": "2022-05-07T10:03:34.230262Z"
    },
    "papermill": {
     "duration": 0.025717,
     "end_time": "2022-05-07T10:03:34.230430",
     "exception": false,
     "start_time": "2022-05-07T10:03:34.204713",
     "status": "completed"
    },
    "tags": []
   },
   "outputs": [
    {
     "name": "stdout",
     "output_type": "stream",
     "text": [
      "The shape of our dataframe is: (8648, 14791)\n"
     ]
    }
   ],
   "source": [
    "print('The shape of our dataframe is:', G.shape)"
   ]
  },
  {
   "cell_type": "markdown",
   "id": "f9c7c2a4",
   "metadata": {
    "papermill": {
     "duration": 0.017309,
     "end_time": "2022-05-07T10:03:34.265445",
     "exception": false,
     "start_time": "2022-05-07T10:03:34.248136",
     "status": "completed"
    },
    "tags": []
   },
   "source": [
    "## Encoding features"
   ]
  },
  {
   "cell_type": "code",
   "execution_count": 7,
   "id": "fc326c9d",
   "metadata": {
    "execution": {
     "iopub.execute_input": "2022-05-07T10:03:34.304048Z",
     "iopub.status.busy": "2022-05-07T10:03:34.303417Z",
     "iopub.status.idle": "2022-05-07T10:03:34.307314Z",
     "shell.execute_reply": "2022-05-07T10:03:34.307889Z"
    },
    "papermill": {
     "duration": 0.024809,
     "end_time": "2022-05-07T10:03:34.308045",
     "exception": false,
     "start_time": "2022-05-07T10:03:34.283236",
     "status": "completed"
    },
    "tags": []
   },
   "outputs": [],
   "source": [
    "def encode_feature(array):\n",
    "    \"\"\" Encode a categorical array into a number array\n",
    "    \n",
    "    :param array: array to be encoded\n",
    "    :return: numerical array\n",
    "    \"\"\"\n",
    "  \n",
    "    encoder = preprocessing.LabelEncoder()\n",
    "    encoder.fit(array)\n",
    "    return encoder.transform(array)"
   ]
  },
  {
   "cell_type": "code",
   "execution_count": 8,
   "id": "50bb510a",
   "metadata": {
    "execution": {
     "iopub.execute_input": "2022-05-07T10:03:34.351922Z",
     "iopub.status.busy": "2022-05-07T10:03:34.351248Z",
     "iopub.status.idle": "2022-05-07T10:03:34.355829Z",
     "shell.execute_reply": "2022-05-07T10:03:34.355296Z"
    },
    "papermill": {
     "duration": 0.030035,
     "end_time": "2022-05-07T10:03:34.355983",
     "exception": false,
     "start_time": "2022-05-07T10:03:34.325948",
     "status": "completed"
    },
    "tags": []
   },
   "outputs": [
    {
     "name": "stdout",
     "output_type": "stream",
     "text": [
      "['CDS' 'CDS' 'CDS' ... 'CDS' 'CDS' 'CDS']\n"
     ]
    }
   ],
   "source": [
    "class_names = ['CDS', 'LORF']\n",
    "targets = G[\"Type\"].values\n",
    "print(targets)"
   ]
  },
  {
   "cell_type": "code",
   "execution_count": 9,
   "id": "959b7da8",
   "metadata": {
    "execution": {
     "iopub.execute_input": "2022-05-07T10:03:34.400527Z",
     "iopub.status.busy": "2022-05-07T10:03:34.399849Z",
     "iopub.status.idle": "2022-05-07T10:03:34.404274Z",
     "shell.execute_reply": "2022-05-07T10:03:34.403672Z"
    },
    "papermill": {
     "duration": 0.029946,
     "end_time": "2022-05-07T10:03:34.404410",
     "exception": false,
     "start_time": "2022-05-07T10:03:34.374464",
     "status": "completed"
    },
    "tags": []
   },
   "outputs": [
    {
     "name": "stdout",
     "output_type": "stream",
     "text": [
      "[0 0 0 ... 0 0 0]\n"
     ]
    }
   ],
   "source": [
    "targets = encode_feature(targets)\n",
    "print(targets)"
   ]
  },
  {
   "cell_type": "markdown",
   "id": "4d8bd4c2",
   "metadata": {
    "papermill": {
     "duration": 0.018438,
     "end_time": "2022-05-07T10:03:34.441533",
     "exception": false,
     "start_time": "2022-05-07T10:03:34.423095",
     "status": "completed"
    },
    "tags": []
   },
   "source": [
    "## Selecting features and targets and converting data to arrays"
   ]
  },
  {
   "cell_type": "code",
   "execution_count": 10,
   "id": "531b12b2",
   "metadata": {
    "execution": {
     "iopub.execute_input": "2022-05-07T10:03:34.487841Z",
     "iopub.status.busy": "2022-05-07T10:03:34.487189Z",
     "iopub.status.idle": "2022-05-07T10:03:35.836898Z",
     "shell.execute_reply": "2022-05-07T10:03:35.836283Z"
    },
    "papermill": {
     "duration": 1.37653,
     "end_time": "2022-05-07T10:03:35.837037",
     "exception": false,
     "start_time": "2022-05-07T10:03:34.460507",
     "status": "completed"
    },
    "tags": []
   },
   "outputs": [],
   "source": [
    "# Labels are the values we want to predict\n",
    "labels = targets\n",
    "\n",
    "# Remove the labels from the features -> axis 1 refers to the columns\n",
    "features = G.drop(['Type','Genome', 'Dataset'], axis = 1)\n",
    "\n",
    "# Saving feature names as list for later use\n",
    "feature_names = list(features.columns)\n",
    "\n",
    "# Convert to numpy array\n",
    "features = np.array(features)"
   ]
  },
  {
   "cell_type": "code",
   "execution_count": 11,
   "id": "edc772d9",
   "metadata": {
    "execution": {
     "iopub.execute_input": "2022-05-07T10:03:35.880351Z",
     "iopub.status.busy": "2022-05-07T10:03:35.879507Z",
     "iopub.status.idle": "2022-05-07T10:03:35.882803Z",
     "shell.execute_reply": "2022-05-07T10:03:35.883290Z"
    },
    "papermill": {
     "duration": 0.027512,
     "end_time": "2022-05-07T10:03:35.883454",
     "exception": false,
     "start_time": "2022-05-07T10:03:35.855942",
     "status": "completed"
    },
    "tags": []
   },
   "outputs": [
    {
     "name": "stdout",
     "output_type": "stream",
     "text": [
      "The shape of our features are: (8648, 14788)\n"
     ]
    }
   ],
   "source": [
    "print('The shape of our features are:', features.shape)"
   ]
  },
  {
   "cell_type": "markdown",
   "id": "02952656",
   "metadata": {
    "papermill": {
     "duration": 0.018832,
     "end_time": "2022-05-07T10:03:35.921152",
     "exception": false,
     "start_time": "2022-05-07T10:03:35.902320",
     "status": "completed"
    },
    "tags": []
   },
   "source": [
    "## Split into training and testing sets"
   ]
  },
  {
   "cell_type": "code",
   "execution_count": 12,
   "id": "f55848b3",
   "metadata": {
    "execution": {
     "iopub.execute_input": "2022-05-07T10:03:35.965693Z",
     "iopub.status.busy": "2022-05-07T10:03:35.965046Z",
     "iopub.status.idle": "2022-05-07T10:03:37.505388Z",
     "shell.execute_reply": "2022-05-07T10:03:37.504507Z"
    },
    "papermill": {
     "duration": 1.564854,
     "end_time": "2022-05-07T10:03:37.505560",
     "exception": false,
     "start_time": "2022-05-07T10:03:35.940706",
     "status": "completed"
    },
    "tags": []
   },
   "outputs": [],
   "source": [
    "# Split the data into training and testing sets -> x = features and y = labels/targets\n",
    "train_x, test_x, train_y, test_y = train_test_split(features, labels, test_size = 0.25, random_state = 42)"
   ]
  },
  {
   "cell_type": "code",
   "execution_count": 13,
   "id": "8d85fceb",
   "metadata": {
    "execution": {
     "iopub.execute_input": "2022-05-07T10:03:37.551783Z",
     "iopub.status.busy": "2022-05-07T10:03:37.551011Z",
     "iopub.status.idle": "2022-05-07T10:03:37.555506Z",
     "shell.execute_reply": "2022-05-07T10:03:37.554949Z"
    },
    "papermill": {
     "duration": 0.02992,
     "end_time": "2022-05-07T10:03:37.555648",
     "exception": false,
     "start_time": "2022-05-07T10:03:37.525728",
     "status": "completed"
    },
    "tags": []
   },
   "outputs": [
    {
     "name": "stdout",
     "output_type": "stream",
     "text": [
      "Training Features Shape: (6486, 14788)\n",
      "Training Labels Shape: (6486,)\n",
      "Testing Features Shape: (2162, 14788)\n",
      "Testing Labels Shape: (2162,)\n"
     ]
    }
   ],
   "source": [
    "print('Training Features Shape:', train_x.shape)\n",
    "print('Training Labels Shape:', train_y.shape)\n",
    "print('Testing Features Shape:', test_x.shape)\n",
    "print('Testing Labels Shape:', test_y.shape)"
   ]
  },
  {
   "cell_type": "markdown",
   "id": "e21a1acf",
   "metadata": {
    "papermill": {
     "duration": 0.019548,
     "end_time": "2022-05-07T10:03:37.595471",
     "exception": false,
     "start_time": "2022-05-07T10:03:37.575923",
     "status": "completed"
    },
    "tags": []
   },
   "source": [
    "## Training visualizations"
   ]
  },
  {
   "cell_type": "code",
   "execution_count": 14,
   "id": "484a54f0",
   "metadata": {
    "execution": {
     "iopub.execute_input": "2022-05-07T10:03:37.638473Z",
     "iopub.status.busy": "2022-05-07T10:03:37.637856Z",
     "iopub.status.idle": "2022-05-07T10:03:37.641354Z",
     "shell.execute_reply": "2022-05-07T10:03:37.641825Z"
    },
    "papermill": {
     "duration": 0.026451,
     "end_time": "2022-05-07T10:03:37.641978",
     "exception": false,
     "start_time": "2022-05-07T10:03:37.615527",
     "status": "completed"
    },
    "tags": []
   },
   "outputs": [],
   "source": [
    "final_model = RandomForestClassifier(n_estimators=1000, min_samples_split=2, min_samples_leaf=1, max_features='auto', \n",
    "                             max_depth=20, bootstrap=False, random_state = 42)"
   ]
  },
  {
   "cell_type": "code",
   "execution_count": 15,
   "id": "404ff6d2",
   "metadata": {
    "execution": {
     "iopub.execute_input": "2022-05-07T10:03:37.684828Z",
     "iopub.status.busy": "2022-05-07T10:03:37.684189Z",
     "iopub.status.idle": "2022-05-07T10:22:12.213030Z",
     "shell.execute_reply": "2022-05-07T10:22:12.213676Z"
    },
    "papermill": {
     "duration": 1114.552714,
     "end_time": "2022-05-07T10:22:12.214420",
     "exception": false,
     "start_time": "2022-05-07T10:03:37.661706",
     "status": "completed"
    },
    "tags": []
   },
   "outputs": [
    {
     "name": "stdout",
     "output_type": "stream",
     "text": [
      "Fitting 3 folds for each of 30 candidates, totalling 90 fits\n"
     ]
    },
    {
     "name": "stderr",
     "output_type": "stream",
     "text": [
      "[Parallel(n_jobs=-1)]: Using backend LokyBackend with 4 concurrent workers.\n",
      "[Parallel(n_jobs=-1)]: Done  33 tasks      | elapsed:  2.6min\n",
      "[Parallel(n_jobs=-1)]: Done  90 out of  90 | elapsed: 17.2min finished\n"
     ]
    }
   ],
   "source": [
    "# Grid with only the number of trees changed\n",
    "tree_grid = {'n_estimators': [int(x) for x in np.linspace(1, 301, 30)]}\n",
    "\n",
    "# Create the grid search model and fit to the training data\n",
    "tree_grid_search = GridSearchCV(estimator = final_model, param_grid = tree_grid, \n",
    "                          cv = 3, n_jobs = -1, verbose = 2, return_train_score=True)\n",
    "\n",
    "tree_grid_search.fit(train_x, train_y);"
   ]
  },
  {
   "cell_type": "code",
   "execution_count": 16,
   "id": "10c464a6",
   "metadata": {
    "execution": {
     "iopub.execute_input": "2022-05-07T10:22:12.276149Z",
     "iopub.status.busy": "2022-05-07T10:22:12.275032Z",
     "iopub.status.idle": "2022-05-07T10:22:12.277667Z",
     "shell.execute_reply": "2022-05-07T10:22:12.277109Z"
    },
    "papermill": {
     "duration": 0.041413,
     "end_time": "2022-05-07T10:22:12.277834",
     "exception": false,
     "start_time": "2022-05-07T10:22:12.236421",
     "status": "completed"
    },
    "tags": []
   },
   "outputs": [],
   "source": [
    "def plot_results(model, param = 'n_estimators', name = 'Number of trees'):\n",
    "    param_name = 'param_%s' % param\n",
    "\n",
    "    # Extract information from the cross validation model\n",
    "    train_scores = model.cv_results_['mean_train_score']\n",
    "    test_scores = model.cv_results_['mean_test_score']\n",
    "    train_time = model.cv_results_['mean_fit_time']\n",
    "    param_values = list(model.cv_results_[param_name])\n",
    "    \n",
    "    # Plot the scores over the parameter\n",
    "    plt.subplots(1, 2, figsize=(15, 8))\n",
    "    \n",
    "    plt.subplot(121)\n",
    "    plt.plot(param_values, train_scores, 'bo-', label = 'Train')\n",
    "    plt.plot(param_values, test_scores, 'go-', label = 'Test')\n",
    "    plt.xticks(fontsize=25)\n",
    "    plt.yticks(fontsize=25)\n",
    "    plt.xlabel(name, fontsize=25, labelpad=20)\n",
    "    plt.ylabel('Accuracy score [%]', fontsize=25, labelpad=20)\n",
    "    #plt.title('Score vs %s' % name, fontsize=25)\n",
    "    plt.legend(fontsize=20)\n",
    "    \n",
    "    plt.subplot(122)\n",
    "    plt.plot(param_values, train_time, 'ro-')\n",
    "    plt.xticks(fontsize=25)\n",
    "    plt.yticks(fontsize=25)\n",
    "    plt.xlabel(name, fontsize=25, labelpad=20)\n",
    "    plt.ylabel('Train time [sec]', fontsize=25, labelpad=20)\n",
    "    #plt.title('Train time vs %s' % name, fontsize=25)\n",
    "    \n",
    "    plt.savefig('tuning_num_trees.png', dpi=300, bbox_inches='tight')\n",
    "    plt.tight_layout(pad = 4)"
   ]
  },
  {
   "cell_type": "code",
   "execution_count": 17,
   "id": "9c6bedae",
   "metadata": {
    "execution": {
     "iopub.execute_input": "2022-05-07T10:22:12.340826Z",
     "iopub.status.busy": "2022-05-07T10:22:12.339925Z",
     "iopub.status.idle": "2022-05-07T10:22:14.183809Z",
     "shell.execute_reply": "2022-05-07T10:22:14.184368Z"
    },
    "papermill": {
     "duration": 1.885461,
     "end_time": "2022-05-07T10:22:14.184539",
     "exception": false,
     "start_time": "2022-05-07T10:22:12.299078",
     "status": "completed"
    },
    "tags": []
   },
   "outputs": [
    {
     "data": {
      "image/png": "[encoded data removed]",
      "text/plain": [
       "<Figure size 1080x576 with 2 Axes>"
      ]
     },
     "metadata": {
      "needs_background": "light"
     },
     "output_type": "display_data"
    }
   ],
   "source": [
    "plot_results(tree_grid_search)"
   ]
  },
  {
   "cell_type": "code",
   "execution_count": null,
   "id": "8e619f70",
   "metadata": {
    "papermill": {
     "duration": 0.023292,
     "end_time": "2022-05-07T10:22:14.230813",
     "exception": false,
     "start_time": "2022-05-07T10:22:14.207521",
     "status": "completed"
    },
    "tags": []
   },
   "outputs": [],
   "source": []
  }
 ],
 "metadata": {
  "kernelspec": {
   "display_name": "Python 3",
   "language": "python",
   "name": "python3"
  },
  "language_info": {
   "codemirror_mode": {
    "name": "ipython",
    "version": 3
   },
   "file_extension": ".py",
   "mimetype": "text/x-python",
   "name": "python",
   "nbconvert_exporter": "python",
   "pygments_lexer": "ipython3",
   "version": "3.7.12"
  },
  "papermill": {
   "default_parameters": {},
   "duration": 1182.661064,
   "end_time": "2022-05-07T10:22:15.576697",
   "environment_variables": {},
   "exception": null,
   "input_path": "__notebook__.ipynb",
   "output_path": "__notebook__.ipynb",
   "parameters": {},
   "start_time": "2022-05-07T10:02:32.915633",
   "version": "2.3.3"
  }
 },
 "nbformat": 4,
 "nbformat_minor": 5
}
