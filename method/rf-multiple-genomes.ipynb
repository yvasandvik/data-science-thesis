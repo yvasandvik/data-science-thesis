{
 "cells": [
  {
   "cell_type": "markdown",
   "id": "9dafa5d8",
   "metadata": {
    "papermill": {
     "duration": 0.060016,
     "end_time": "2022-04-27T16:29:18.303073",
     "exception": false,
     "start_time": "2022-04-27T16:29:18.243057",
     "status": "completed"
    },
    "tags": []
   },
   "source": [
    "# Random Forest Model - combined genomes"
   ]
  },
  {
   "cell_type": "markdown",
   "id": "6ce59fe4",
   "metadata": {
    "papermill": {
     "duration": 0.063795,
     "end_time": "2022-04-27T16:29:18.426588",
     "exception": false,
     "start_time": "2022-04-27T16:29:18.362793",
     "status": "completed"
    },
    "tags": []
   },
   "source": [
    "## Imports"
   ]
  },
  {
   "cell_type": "code",
   "execution_count": 1,
   "id": "341ba094",
   "metadata": {
    "execution": {
     "iopub.execute_input": "2022-04-27T16:29:18.547223Z",
     "iopub.status.busy": "2022-04-27T16:29:18.546760Z",
     "iopub.status.idle": "2022-04-27T16:29:20.028206Z",
     "shell.execute_reply": "2022-04-27T16:29:20.027738Z"
    },
    "papermill": {
     "duration": 1.543472,
     "end_time": "2022-04-27T16:29:20.030144",
     "exception": false,
     "start_time": "2022-04-27T16:29:18.486672",
     "status": "completed"
    },
    "tags": []
   },
   "outputs": [],
   "source": [
    "# Preprocessing and encoding variables\n",
    "import pandas as pd\n",
    "import numpy as np\n",
    "\n",
    "# Using Skicit-learn to split data into training and testing sets\n",
    "from sklearn import preprocessing\n",
    "from sklearn.model_selection import train_test_split\n",
    "\n",
    "# Import the model we are using\n",
    "from sklearn.ensemble import RandomForestClassifier\n",
    "\n",
    "# Import scikit-learn metrics module for accuracy calculation\n",
    "from sklearn import metrics\n",
    "\n",
    "# Visualising feature importance and making plots\n",
    "import matplotlib.pyplot as plt\n",
    "import seaborn as sns\n",
    "\n",
    "# Hyperparameter tuning\n",
    "from sklearn.model_selection import RandomizedSearchCV\n",
    "\n",
    "# Confusion matrix\n",
    "from sklearn.metrics import plot_confusion_matrix, precision_score, recall_score, roc_auc_score"
   ]
  },
  {
   "cell_type": "code",
   "execution_count": 2,
   "id": "087dee97",
   "metadata": {
    "execution": {
     "iopub.execute_input": "2022-04-27T16:29:20.109597Z",
     "iopub.status.busy": "2022-04-27T16:29:20.108790Z",
     "iopub.status.idle": "2022-04-27T16:33:10.270807Z",
     "shell.execute_reply": "2022-04-27T16:33:10.269493Z"
    },
    "papermill": {
     "duration": 230.206594,
     "end_time": "2022-04-27T16:33:10.275520",
     "exception": false,
     "start_time": "2022-04-27T16:29:20.068926",
     "status": "completed"
    },
    "tags": []
   },
   "outputs": [],
   "source": [
    "G1 = pd.read_csv('../input/genomes-part1/G1.features.csv').iloc[:, 1:]\n",
    "G2 = pd.read_csv('../input/genomes-part1/G2.features.csv').iloc[:, 1:]\n",
    "G3 = pd.read_csv('../input/genomes-part1/G3.features.csv').iloc[:, 1:]\n",
    "G4 = pd.read_csv('../input/genomes-part1/G4.features.csv').iloc[:, 1:]\n",
    "G5 = pd.read_csv('../input/genomes-part1/G5.features.csv').iloc[:, 1:]\n",
    "#G6 = pd.read_csv('../input/genomes/G6_translated.csv').iloc[:, 1:]\n",
    "#G7 = pd.read_csv('../input/genomes/G7_translated.csv').iloc[:, 1:]\n",
    "#G8 = pd.read_csv('../input/genomes/G8_translated.csv').iloc[:, 1:]\n",
    "#G9 = pd.read_csv('../input/genomes/G9_translated.csv').iloc[:, 1:]\n",
    "#G10 = pd.read_csv('../input/genomes/G10_translated.csv').iloc[:, 1:]\n",
    "#G11 = pd.read_csv('../input/genomes/G11_translated.csv').iloc[:, 1:]\n",
    "#G12 = pd.read_csv('../input/genomes/G12_translated.csv').iloc[:, 1:]\n",
    "#G13 = pd.read_csv('../input/genomes/G13_translated.csv').iloc[:, 1:]\n",
    "#G14 = pd.read_csv('../input/genomes/G14_translated.csv').iloc[:, 1:]\n",
    "#G15 = pd.read_csv('../input/genomes/G15_translated.csv').iloc[:, 1:]"
   ]
  },
  {
   "cell_type": "code",
   "execution_count": 3,
   "id": "3ddb234e",
   "metadata": {
    "execution": {
     "iopub.execute_input": "2022-04-27T16:33:10.359358Z",
     "iopub.status.busy": "2022-04-27T16:33:10.358901Z",
     "iopub.status.idle": "2022-04-27T16:33:12.006013Z",
     "shell.execute_reply": "2022-04-27T16:33:12.004624Z"
    },
    "papermill": {
     "duration": 1.691149,
     "end_time": "2022-04-27T16:33:12.008794",
     "exception": false,
     "start_time": "2022-04-27T16:33:10.317645",
     "status": "completed"
    },
    "tags": []
   },
   "outputs": [],
   "source": [
    "G1 = G1.sample(4000)\n",
    "G2 = G2.sample(4000)\n",
    "G3 = G3.sample(4000)\n",
    "G4 = G4.sample(4000)\n",
    "#G5 = G5.sample(4000)"
   ]
  },
  {
   "cell_type": "code",
   "execution_count": 4,
   "id": "a60bd00c",
   "metadata": {
    "execution": {
     "iopub.execute_input": "2022-04-27T16:33:12.089627Z",
     "iopub.status.busy": "2022-04-27T16:33:12.089305Z",
     "iopub.status.idle": "2022-04-27T16:33:15.718488Z",
     "shell.execute_reply": "2022-04-27T16:33:15.717719Z"
    },
    "papermill": {
     "duration": 3.672738,
     "end_time": "2022-04-27T16:33:15.720996",
     "exception": false,
     "start_time": "2022-04-27T16:33:12.048258",
     "status": "completed"
    },
    "tags": []
   },
   "outputs": [],
   "source": [
    "frames = [G1, G2, G3, G4, G5]\n",
    "G = pd.concat(frames)\n",
    "\n",
    "#frames = [G1, G2, G3, G4, G5, G6, G7, G8, G9, G10]\n",
    "#G = pd.concat(frames)"
   ]
  },
  {
   "cell_type": "code",
   "execution_count": 5,
   "id": "38eb644b",
   "metadata": {
    "execution": {
     "iopub.execute_input": "2022-04-27T16:33:15.842827Z",
     "iopub.status.busy": "2022-04-27T16:33:15.842468Z",
     "iopub.status.idle": "2022-04-27T16:33:18.420239Z",
     "shell.execute_reply": "2022-04-27T16:33:18.419127Z"
    },
    "papermill": {
     "duration": 2.641728,
     "end_time": "2022-04-27T16:33:18.422578",
     "exception": false,
     "start_time": "2022-04-27T16:33:15.780850",
     "status": "completed"
    },
    "tags": []
   },
   "outputs": [],
   "source": [
    "G = G.dropna()"
   ]
  },
  {
   "cell_type": "code",
   "execution_count": 6,
   "id": "b5b4bbf7",
   "metadata": {
    "execution": {
     "iopub.execute_input": "2022-04-27T16:33:18.502472Z",
     "iopub.status.busy": "2022-04-27T16:33:18.502190Z",
     "iopub.status.idle": "2022-04-27T16:33:18.539403Z",
     "shell.execute_reply": "2022-04-27T16:33:18.538603Z"
    },
    "papermill": {
     "duration": 0.080407,
     "end_time": "2022-04-27T16:33:18.542239",
     "exception": false,
     "start_time": "2022-04-27T16:33:18.461832",
     "status": "completed"
    },
    "tags": []
   },
   "outputs": [
    {
     "data": {
      "text/html": [
       "<div>\n",
       "<style scoped>\n",
       "    .dataframe tbody tr th:only-of-type {\n",
       "        vertical-align: middle;\n",
       "    }\n",
       "\n",
       "    .dataframe tbody tr th {\n",
       "        vertical-align: top;\n",
       "    }\n",
       "\n",
       "    .dataframe thead th {\n",
       "        text-align: right;\n",
       "    }\n",
       "</style>\n",
       "<table border=\"1\" class=\"dataframe\">\n",
       "  <thead>\n",
       "    <tr style=\"text-align: right;\">\n",
       "      <th></th>\n",
       "      <th>Type</th>\n",
       "      <th>Length</th>\n",
       "      <th>Dataset</th>\n",
       "      <th>Genome</th>\n",
       "      <th>GC_content</th>\n",
       "      <th>GC1_content</th>\n",
       "      <th>GC2_content</th>\n",
       "      <th>GC3_content</th>\n",
       "      <th>Start_ATG</th>\n",
       "      <th>Start_GTG</th>\n",
       "      <th>...</th>\n",
       "      <th>c_weight_TCG</th>\n",
       "      <th>c_weight_TCT</th>\n",
       "      <th>c_weight_TGA</th>\n",
       "      <th>c_weight_TGC</th>\n",
       "      <th>c_weight_TGG</th>\n",
       "      <th>c_weight_TGT</th>\n",
       "      <th>c_weight_TTA</th>\n",
       "      <th>c_weight_TTC</th>\n",
       "      <th>c_weight_TTG</th>\n",
       "      <th>c_weight_TTT</th>\n",
       "    </tr>\n",
       "  </thead>\n",
       "  <tbody>\n",
       "    <tr>\n",
       "      <th>3656</th>\n",
       "      <td>CDS</td>\n",
       "      <td>3474</td>\n",
       "      <td>1</td>\n",
       "      <td>Campylobacter jejuni</td>\n",
       "      <td>0.425734</td>\n",
       "      <td>0.537997</td>\n",
       "      <td>0.369603</td>\n",
       "      <td>0.369603</td>\n",
       "      <td>0</td>\n",
       "      <td>0</td>\n",
       "      <td>...</td>\n",
       "      <td>0.112676</td>\n",
       "      <td>0.211268</td>\n",
       "      <td>0.0</td>\n",
       "      <td>0.400000</td>\n",
       "      <td>1</td>\n",
       "      <td>0.600000</td>\n",
       "      <td>0.451389</td>\n",
       "      <td>0.224490</td>\n",
       "      <td>0.201389</td>\n",
       "      <td>0.775510</td>\n",
       "    </tr>\n",
       "    <tr>\n",
       "      <th>3657</th>\n",
       "      <td>CDS</td>\n",
       "      <td>3510</td>\n",
       "      <td>1</td>\n",
       "      <td>Campylobacter jejuni</td>\n",
       "      <td>0.439601</td>\n",
       "      <td>0.582051</td>\n",
       "      <td>0.347009</td>\n",
       "      <td>0.389744</td>\n",
       "      <td>1</td>\n",
       "      <td>0</td>\n",
       "      <td>...</td>\n",
       "      <td>0.208333</td>\n",
       "      <td>0.166667</td>\n",
       "      <td>0.0</td>\n",
       "      <td>0.666667</td>\n",
       "      <td>1</td>\n",
       "      <td>0.333333</td>\n",
       "      <td>0.451852</td>\n",
       "      <td>0.250000</td>\n",
       "      <td>0.185185</td>\n",
       "      <td>0.750000</td>\n",
       "    </tr>\n",
       "    <tr>\n",
       "      <th>3658</th>\n",
       "      <td>CDS</td>\n",
       "      <td>3516</td>\n",
       "      <td>1</td>\n",
       "      <td>Campylobacter jejuni</td>\n",
       "      <td>0.489192</td>\n",
       "      <td>0.573379</td>\n",
       "      <td>0.398464</td>\n",
       "      <td>0.495734</td>\n",
       "      <td>1</td>\n",
       "      <td>0</td>\n",
       "      <td>...</td>\n",
       "      <td>0.118644</td>\n",
       "      <td>0.135593</td>\n",
       "      <td>1.0</td>\n",
       "      <td>0.619048</td>\n",
       "      <td>1</td>\n",
       "      <td>0.380952</td>\n",
       "      <td>0.383333</td>\n",
       "      <td>0.274510</td>\n",
       "      <td>0.241667</td>\n",
       "      <td>0.725490</td>\n",
       "    </tr>\n",
       "    <tr>\n",
       "      <th>3659</th>\n",
       "      <td>CDS</td>\n",
       "      <td>3975</td>\n",
       "      <td>1</td>\n",
       "      <td>Campylobacter jejuni</td>\n",
       "      <td>0.452579</td>\n",
       "      <td>0.544151</td>\n",
       "      <td>0.411321</td>\n",
       "      <td>0.402264</td>\n",
       "      <td>0</td>\n",
       "      <td>0</td>\n",
       "      <td>...</td>\n",
       "      <td>0.193182</td>\n",
       "      <td>0.261364</td>\n",
       "      <td>1.0</td>\n",
       "      <td>0.529412</td>\n",
       "      <td>1</td>\n",
       "      <td>0.470588</td>\n",
       "      <td>0.393939</td>\n",
       "      <td>0.222222</td>\n",
       "      <td>0.287879</td>\n",
       "      <td>0.777778</td>\n",
       "    </tr>\n",
       "    <tr>\n",
       "      <th>3660</th>\n",
       "      <td>CDS</td>\n",
       "      <td>4134</td>\n",
       "      <td>1</td>\n",
       "      <td>Campylobacter jejuni</td>\n",
       "      <td>0.454765</td>\n",
       "      <td>0.559507</td>\n",
       "      <td>0.372279</td>\n",
       "      <td>0.432511</td>\n",
       "      <td>0</td>\n",
       "      <td>1</td>\n",
       "      <td>...</td>\n",
       "      <td>0.214286</td>\n",
       "      <td>0.157143</td>\n",
       "      <td>1.0</td>\n",
       "      <td>0.285714</td>\n",
       "      <td>1</td>\n",
       "      <td>0.714286</td>\n",
       "      <td>0.375940</td>\n",
       "      <td>0.250000</td>\n",
       "      <td>0.300752</td>\n",
       "      <td>0.750000</td>\n",
       "    </tr>\n",
       "    <tr>\n",
       "      <th>3661</th>\n",
       "      <td>CDS</td>\n",
       "      <td>4179</td>\n",
       "      <td>1</td>\n",
       "      <td>Campylobacter jejuni</td>\n",
       "      <td>0.369466</td>\n",
       "      <td>0.464465</td>\n",
       "      <td>0.307968</td>\n",
       "      <td>0.335966</td>\n",
       "      <td>1</td>\n",
       "      <td>0</td>\n",
       "      <td>...</td>\n",
       "      <td>0.104167</td>\n",
       "      <td>0.281250</td>\n",
       "      <td>0.0</td>\n",
       "      <td>0.535714</td>\n",
       "      <td>1</td>\n",
       "      <td>0.464286</td>\n",
       "      <td>0.304348</td>\n",
       "      <td>0.200000</td>\n",
       "      <td>0.267081</td>\n",
       "      <td>0.800000</td>\n",
       "    </tr>\n",
       "    <tr>\n",
       "      <th>3662</th>\n",
       "      <td>CDS</td>\n",
       "      <td>4245</td>\n",
       "      <td>1</td>\n",
       "      <td>Campylobacter jejuni</td>\n",
       "      <td>0.479152</td>\n",
       "      <td>0.582332</td>\n",
       "      <td>0.390813</td>\n",
       "      <td>0.464311</td>\n",
       "      <td>0</td>\n",
       "      <td>0</td>\n",
       "      <td>...</td>\n",
       "      <td>0.176471</td>\n",
       "      <td>0.161765</td>\n",
       "      <td>0.0</td>\n",
       "      <td>0.636364</td>\n",
       "      <td>1</td>\n",
       "      <td>0.363636</td>\n",
       "      <td>0.395833</td>\n",
       "      <td>0.323529</td>\n",
       "      <td>0.263889</td>\n",
       "      <td>0.676471</td>\n",
       "    </tr>\n",
       "    <tr>\n",
       "      <th>3663</th>\n",
       "      <td>CDS</td>\n",
       "      <td>4839</td>\n",
       "      <td>1</td>\n",
       "      <td>Campylobacter jejuni</td>\n",
       "      <td>0.397396</td>\n",
       "      <td>0.482331</td>\n",
       "      <td>0.376937</td>\n",
       "      <td>0.332920</td>\n",
       "      <td>1</td>\n",
       "      <td>0</td>\n",
       "      <td>...</td>\n",
       "      <td>0.118110</td>\n",
       "      <td>0.220472</td>\n",
       "      <td>0.0</td>\n",
       "      <td>0.266667</td>\n",
       "      <td>1</td>\n",
       "      <td>0.733333</td>\n",
       "      <td>0.349398</td>\n",
       "      <td>0.234375</td>\n",
       "      <td>0.259036</td>\n",
       "      <td>0.765625</td>\n",
       "    </tr>\n",
       "    <tr>\n",
       "      <th>3664</th>\n",
       "      <td>CDS</td>\n",
       "      <td>4881</td>\n",
       "      <td>1</td>\n",
       "      <td>Campylobacter jejuni</td>\n",
       "      <td>0.425118</td>\n",
       "      <td>0.539029</td>\n",
       "      <td>0.354640</td>\n",
       "      <td>0.381684</td>\n",
       "      <td>0</td>\n",
       "      <td>0</td>\n",
       "      <td>...</td>\n",
       "      <td>0.197531</td>\n",
       "      <td>0.111111</td>\n",
       "      <td>1.0</td>\n",
       "      <td>0.142857</td>\n",
       "      <td>1</td>\n",
       "      <td>0.857143</td>\n",
       "      <td>0.488372</td>\n",
       "      <td>0.194444</td>\n",
       "      <td>0.250000</td>\n",
       "      <td>0.805556</td>\n",
       "    </tr>\n",
       "    <tr>\n",
       "      <th>3665</th>\n",
       "      <td>LORF</td>\n",
       "      <td>5205</td>\n",
       "      <td>1</td>\n",
       "      <td>Campylobacter jejuni</td>\n",
       "      <td>0.394813</td>\n",
       "      <td>0.472622</td>\n",
       "      <td>0.357349</td>\n",
       "      <td>0.354467</td>\n",
       "      <td>1</td>\n",
       "      <td>0</td>\n",
       "      <td>...</td>\n",
       "      <td>0.176000</td>\n",
       "      <td>0.248000</td>\n",
       "      <td>1.0</td>\n",
       "      <td>0.432432</td>\n",
       "      <td>1</td>\n",
       "      <td>0.567568</td>\n",
       "      <td>0.308458</td>\n",
       "      <td>0.195402</td>\n",
       "      <td>0.203980</td>\n",
       "      <td>0.804598</td>\n",
       "    </tr>\n",
       "  </tbody>\n",
       "</table>\n",
       "<p>10 rows × 14791 columns</p>\n",
       "</div>"
      ],
      "text/plain": [
       "      Type  Length  Dataset                Genome  GC_content  GC1_content  \\\n",
       "3656   CDS    3474        1  Campylobacter jejuni    0.425734     0.537997   \n",
       "3657   CDS    3510        1  Campylobacter jejuni    0.439601     0.582051   \n",
       "3658   CDS    3516        1  Campylobacter jejuni    0.489192     0.573379   \n",
       "3659   CDS    3975        1  Campylobacter jejuni    0.452579     0.544151   \n",
       "3660   CDS    4134        1  Campylobacter jejuni    0.454765     0.559507   \n",
       "3661   CDS    4179        1  Campylobacter jejuni    0.369466     0.464465   \n",
       "3662   CDS    4245        1  Campylobacter jejuni    0.479152     0.582332   \n",
       "3663   CDS    4839        1  Campylobacter jejuni    0.397396     0.482331   \n",
       "3664   CDS    4881        1  Campylobacter jejuni    0.425118     0.539029   \n",
       "3665  LORF    5205        1  Campylobacter jejuni    0.394813     0.472622   \n",
       "\n",
       "      GC2_content  GC3_content  Start_ATG  Start_GTG  ...  c_weight_TCG  \\\n",
       "3656     0.369603     0.369603          0          0  ...      0.112676   \n",
       "3657     0.347009     0.389744          1          0  ...      0.208333   \n",
       "3658     0.398464     0.495734          1          0  ...      0.118644   \n",
       "3659     0.411321     0.402264          0          0  ...      0.193182   \n",
       "3660     0.372279     0.432511          0          1  ...      0.214286   \n",
       "3661     0.307968     0.335966          1          0  ...      0.104167   \n",
       "3662     0.390813     0.464311          0          0  ...      0.176471   \n",
       "3663     0.376937     0.332920          1          0  ...      0.118110   \n",
       "3664     0.354640     0.381684          0          0  ...      0.197531   \n",
       "3665     0.357349     0.354467          1          0  ...      0.176000   \n",
       "\n",
       "      c_weight_TCT  c_weight_TGA  c_weight_TGC  c_weight_TGG  c_weight_TGT  \\\n",
       "3656      0.211268           0.0      0.400000             1      0.600000   \n",
       "3657      0.166667           0.0      0.666667             1      0.333333   \n",
       "3658      0.135593           1.0      0.619048             1      0.380952   \n",
       "3659      0.261364           1.0      0.529412             1      0.470588   \n",
       "3660      0.157143           1.0      0.285714             1      0.714286   \n",
       "3661      0.281250           0.0      0.535714             1      0.464286   \n",
       "3662      0.161765           0.0      0.636364             1      0.363636   \n",
       "3663      0.220472           0.0      0.266667             1      0.733333   \n",
       "3664      0.111111           1.0      0.142857             1      0.857143   \n",
       "3665      0.248000           1.0      0.432432             1      0.567568   \n",
       "\n",
       "      c_weight_TTA  c_weight_TTC  c_weight_TTG  c_weight_TTT  \n",
       "3656      0.451389      0.224490      0.201389      0.775510  \n",
       "3657      0.451852      0.250000      0.185185      0.750000  \n",
       "3658      0.383333      0.274510      0.241667      0.725490  \n",
       "3659      0.393939      0.222222      0.287879      0.777778  \n",
       "3660      0.375940      0.250000      0.300752      0.750000  \n",
       "3661      0.304348      0.200000      0.267081      0.800000  \n",
       "3662      0.395833      0.323529      0.263889      0.676471  \n",
       "3663      0.349398      0.234375      0.259036      0.765625  \n",
       "3664      0.488372      0.194444      0.250000      0.805556  \n",
       "3665      0.308458      0.195402      0.203980      0.804598  \n",
       "\n",
       "[10 rows x 14791 columns]"
      ]
     },
     "execution_count": 6,
     "metadata": {},
     "output_type": "execute_result"
    }
   ],
   "source": [
    "G.tail(10)"
   ]
  },
  {
   "cell_type": "code",
   "execution_count": 7,
   "id": "a7d535d9",
   "metadata": {
    "execution": {
     "iopub.execute_input": "2022-04-27T16:33:18.625681Z",
     "iopub.status.busy": "2022-04-27T16:33:18.625364Z",
     "iopub.status.idle": "2022-04-27T16:33:18.632381Z",
     "shell.execute_reply": "2022-04-27T16:33:18.630805Z"
    },
    "papermill": {
     "duration": 0.050704,
     "end_time": "2022-04-27T16:33:18.635193",
     "exception": false,
     "start_time": "2022-04-27T16:33:18.584489",
     "status": "completed"
    },
    "tags": []
   },
   "outputs": [
    {
     "name": "stdout",
     "output_type": "stream",
     "text": [
      "The shape of our dataframe is: (19666, 14791)\n",
      "Rows: 19666\n",
      "Columns: 14791\n"
     ]
    }
   ],
   "source": [
    "print('The shape of our dataframe is:', G.shape)\n",
    "print('Rows:', G.shape[0])\n",
    "print('Columns:', G.shape[1])"
   ]
  },
  {
   "cell_type": "markdown",
   "id": "b238ec93",
   "metadata": {
    "papermill": {
     "duration": 0.045524,
     "end_time": "2022-04-27T16:33:18.721384",
     "exception": false,
     "start_time": "2022-04-27T16:33:18.675860",
     "status": "completed"
    },
    "tags": []
   },
   "source": [
    "## Pre-processing / Data preparation\n",
    "\n",
    "1. One-hot encoded categorical variables\n",
    "2. Split data into features and labels\n",
    "3. Convert to arrays\n",
    "4. Split data into training and testing sets"
   ]
  },
  {
   "cell_type": "markdown",
   "id": "6b715084",
   "metadata": {
    "papermill": {
     "duration": 0.061764,
     "end_time": "2022-04-27T16:33:18.845100",
     "exception": false,
     "start_time": "2022-04-27T16:33:18.783336",
     "status": "completed"
    },
    "tags": []
   },
   "source": [
    "### Encoding target values"
   ]
  },
  {
   "cell_type": "code",
   "execution_count": 8,
   "id": "f4e456b6",
   "metadata": {
    "execution": {
     "iopub.execute_input": "2022-04-27T16:33:18.971764Z",
     "iopub.status.busy": "2022-04-27T16:33:18.971329Z",
     "iopub.status.idle": "2022-04-27T16:33:18.976153Z",
     "shell.execute_reply": "2022-04-27T16:33:18.975497Z"
    },
    "papermill": {
     "duration": 0.070869,
     "end_time": "2022-04-27T16:33:18.977867",
     "exception": false,
     "start_time": "2022-04-27T16:33:18.906998",
     "status": "completed"
    },
    "tags": []
   },
   "outputs": [],
   "source": [
    "def encode_feature(array):\n",
    "    \"\"\" Encode a categorical array into a number array\n",
    "    \n",
    "    :param array: array to be encoded\n",
    "    :return: numerical array\n",
    "    \"\"\"\n",
    "  \n",
    "    encoder = preprocessing.LabelEncoder()\n",
    "    encoder.fit(array)\n",
    "    return encoder.transform(array)"
   ]
  },
  {
   "cell_type": "code",
   "execution_count": 9,
   "id": "6a9256ad",
   "metadata": {
    "execution": {
     "iopub.execute_input": "2022-04-27T16:33:19.104815Z",
     "iopub.status.busy": "2022-04-27T16:33:19.104454Z",
     "iopub.status.idle": "2022-04-27T16:33:19.116062Z",
     "shell.execute_reply": "2022-04-27T16:33:19.115204Z"
    },
    "papermill": {
     "duration": 0.07731,
     "end_time": "2022-04-27T16:33:19.118345",
     "exception": false,
     "start_time": "2022-04-27T16:33:19.041035",
     "status": "completed"
    },
    "tags": []
   },
   "outputs": [
    {
     "name": "stdout",
     "output_type": "stream",
     "text": [
      "['CDS' 'CDS' 'LORF' ... 'CDS' 'CDS' 'LORF']\n"
     ]
    }
   ],
   "source": [
    "class_names = ['CDS', 'LORF']\n",
    "targets = G[\"Type\"].values\n",
    "print(targets)"
   ]
  },
  {
   "cell_type": "code",
   "execution_count": 10,
   "id": "9ec2fcb5",
   "metadata": {
    "execution": {
     "iopub.execute_input": "2022-04-27T16:33:19.204280Z",
     "iopub.status.busy": "2022-04-27T16:33:19.203925Z",
     "iopub.status.idle": "2022-04-27T16:33:19.213766Z",
     "shell.execute_reply": "2022-04-27T16:33:19.212772Z"
    },
    "papermill": {
     "duration": 0.055049,
     "end_time": "2022-04-27T16:33:19.216489",
     "exception": false,
     "start_time": "2022-04-27T16:33:19.161440",
     "status": "completed"
    },
    "tags": []
   },
   "outputs": [
    {
     "name": "stdout",
     "output_type": "stream",
     "text": [
      "[0 0 1 ... 0 0 1]\n"
     ]
    }
   ],
   "source": [
    "targets = encode_feature(targets)\n",
    "print(targets)"
   ]
  },
  {
   "cell_type": "code",
   "execution_count": 11,
   "id": "7790db84",
   "metadata": {
    "execution": {
     "iopub.execute_input": "2022-04-27T16:33:19.343981Z",
     "iopub.status.busy": "2022-04-27T16:33:19.343755Z",
     "iopub.status.idle": "2022-04-27T16:33:19.348455Z",
     "shell.execute_reply": "2022-04-27T16:33:19.347717Z"
    },
    "papermill": {
     "duration": 0.070384,
     "end_time": "2022-04-27T16:33:19.350517",
     "exception": false,
     "start_time": "2022-04-27T16:33:19.280133",
     "status": "completed"
    },
    "tags": []
   },
   "outputs": [
    {
     "name": "stdout",
     "output_type": "stream",
     "text": [
      "The shape of our dataframe is: (19666, 14791)\n",
      "Rows: 19666\n",
      "Columns: 14791\n"
     ]
    }
   ],
   "source": [
    "print('The shape of our dataframe is:', G.shape)\n",
    "print('Rows:', G.shape[0])\n",
    "print('Columns:', G.shape[1])"
   ]
  },
  {
   "cell_type": "markdown",
   "id": "a7028e98",
   "metadata": {
    "papermill": {
     "duration": 0.062276,
     "end_time": "2022-04-27T16:33:19.475507",
     "exception": false,
     "start_time": "2022-04-27T16:33:19.413231",
     "status": "completed"
    },
    "tags": []
   },
   "source": [
    "### Selecting features and targets and converting data to arrays"
   ]
  },
  {
   "cell_type": "code",
   "execution_count": 12,
   "id": "0f460497",
   "metadata": {
    "execution": {
     "iopub.execute_input": "2022-04-27T16:33:19.603695Z",
     "iopub.status.busy": "2022-04-27T16:33:19.603426Z",
     "iopub.status.idle": "2022-04-27T16:33:21.554020Z",
     "shell.execute_reply": "2022-04-27T16:33:21.553072Z"
    },
    "papermill": {
     "duration": 2.017697,
     "end_time": "2022-04-27T16:33:21.556620",
     "exception": false,
     "start_time": "2022-04-27T16:33:19.538923",
     "status": "completed"
    },
    "tags": []
   },
   "outputs": [],
   "source": [
    "# Labels are the values we want to predict\n",
    "labels = targets\n",
    "\n",
    "# Remove the labels from the features -> axis 1 refers to the columns\n",
    "features = G.drop(['Type','Genome', 'Dataset'], axis = 1)\n",
    "\n",
    "# Saving feature names as list for later use\n",
    "feature_names = list(features.columns)\n",
    "\n",
    "# Convert to numpy array\n",
    "features = np.array(features)"
   ]
  },
  {
   "cell_type": "code",
   "execution_count": 13,
   "id": "dab820af",
   "metadata": {
    "execution": {
     "iopub.execute_input": "2022-04-27T16:33:21.686895Z",
     "iopub.status.busy": "2022-04-27T16:33:21.686449Z",
     "iopub.status.idle": "2022-04-27T16:33:21.691453Z",
     "shell.execute_reply": "2022-04-27T16:33:21.690666Z"
    },
    "papermill": {
     "duration": 0.072813,
     "end_time": "2022-04-27T16:33:21.693618",
     "exception": false,
     "start_time": "2022-04-27T16:33:21.620805",
     "status": "completed"
    },
    "tags": []
   },
   "outputs": [
    {
     "name": "stdout",
     "output_type": "stream",
     "text": [
      "The shape of our features are: (19666, 14788)\n"
     ]
    }
   ],
   "source": [
    "print('The shape of our features are:', features.shape)"
   ]
  },
  {
   "cell_type": "markdown",
   "id": "997a3cfe",
   "metadata": {
    "papermill": {
     "duration": 0.06328,
     "end_time": "2022-04-27T16:33:21.821494",
     "exception": false,
     "start_time": "2022-04-27T16:33:21.758214",
     "status": "completed"
    },
    "tags": []
   },
   "source": [
    "### Split into training and testing sets"
   ]
  },
  {
   "cell_type": "code",
   "execution_count": 14,
   "id": "a04912eb",
   "metadata": {
    "execution": {
     "iopub.execute_input": "2022-04-27T16:33:21.949890Z",
     "iopub.status.busy": "2022-04-27T16:33:21.949616Z",
     "iopub.status.idle": "2022-04-27T16:33:27.741683Z",
     "shell.execute_reply": "2022-04-27T16:33:27.740860Z"
    },
    "papermill": {
     "duration": 5.858656,
     "end_time": "2022-04-27T16:33:27.743828",
     "exception": false,
     "start_time": "2022-04-27T16:33:21.885172",
     "status": "completed"
    },
    "tags": []
   },
   "outputs": [],
   "source": [
    "# Split the data into training and testing sets -> x = features and y = labels/targets\n",
    "train_x, test_x, train_y, test_y = train_test_split(features, labels, test_size = 0.25, random_state = 42)"
   ]
  },
  {
   "cell_type": "code",
   "execution_count": 15,
   "id": "406c0e85",
   "metadata": {
    "execution": {
     "iopub.execute_input": "2022-04-27T16:33:27.827810Z",
     "iopub.status.busy": "2022-04-27T16:33:27.826759Z",
     "iopub.status.idle": "2022-04-27T16:33:27.831253Z",
     "shell.execute_reply": "2022-04-27T16:33:27.830860Z"
    },
    "papermill": {
     "duration": 0.048764,
     "end_time": "2022-04-27T16:33:27.833250",
     "exception": false,
     "start_time": "2022-04-27T16:33:27.784486",
     "status": "completed"
    },
    "tags": []
   },
   "outputs": [
    {
     "name": "stdout",
     "output_type": "stream",
     "text": [
      "Training Features Shape: (14749, 14788)\n",
      "Training Labels Shape: (14749,)\n",
      "Testing Features Shape: (4917, 14788)\n",
      "Testing Labels Shape: (4917,)\n"
     ]
    }
   ],
   "source": [
    "print('Training Features Shape:', train_x.shape)\n",
    "print('Training Labels Shape:', train_y.shape)\n",
    "print('Testing Features Shape:', test_x.shape)\n",
    "print('Testing Labels Shape:', test_y.shape)"
   ]
  },
  {
   "cell_type": "markdown",
   "id": "60e91f19",
   "metadata": {
    "papermill": {
     "duration": 0.062957,
     "end_time": "2022-04-27T16:33:27.959675",
     "exception": false,
     "start_time": "2022-04-27T16:33:27.896718",
     "status": "completed"
    },
    "tags": []
   },
   "source": [
    "## Train model - best params RandomSearch"
   ]
  },
  {
   "cell_type": "code",
   "execution_count": 16,
   "id": "1b1185c7",
   "metadata": {
    "execution": {
     "iopub.execute_input": "2022-04-27T16:33:28.092056Z",
     "iopub.status.busy": "2022-04-27T16:33:28.091767Z",
     "iopub.status.idle": "2022-04-27T16:35:59.559979Z",
     "shell.execute_reply": "2022-04-27T16:35:59.559135Z"
    },
    "papermill": {
     "duration": 151.601894,
     "end_time": "2022-04-27T16:35:59.628130",
     "exception": false,
     "start_time": "2022-04-27T16:33:28.026236",
     "status": "completed"
    },
    "tags": []
   },
   "outputs": [
    {
     "data": {
      "text/plain": [
       "RandomForestClassifier(bootstrap=False, max_depth=20, n_estimators=200,\n",
       "                       random_state=42)"
      ]
     },
     "execution_count": 16,
     "metadata": {},
     "output_type": "execute_result"
    }
   ],
   "source": [
    "# Create a Gaussian Classifier\n",
    "clf_rand = RandomForestClassifier(n_estimators=200, min_samples_split=2, min_samples_leaf=1, max_features='auto', \n",
    "                             max_depth=20, bootstrap=False, random_state = 42)\n",
    "\n",
    "# Train the model using the training sets\n",
    "clf_rand.fit(train_x, train_y)"
   ]
  },
  {
   "cell_type": "markdown",
   "id": "e0b66e15",
   "metadata": {
    "papermill": {
     "duration": 0.064496,
     "end_time": "2022-04-27T16:35:59.757718",
     "exception": false,
     "start_time": "2022-04-27T16:35:59.693222",
     "status": "completed"
    },
    "tags": []
   },
   "source": [
    "## Make predictions on test set"
   ]
  },
  {
   "cell_type": "code",
   "execution_count": 17,
   "id": "01e9e51e",
   "metadata": {
    "execution": {
     "iopub.execute_input": "2022-04-27T16:35:59.888632Z",
     "iopub.status.busy": "2022-04-27T16:35:59.888255Z",
     "iopub.status.idle": "2022-04-27T16:36:00.513685Z",
     "shell.execute_reply": "2022-04-27T16:36:00.512098Z"
    },
    "papermill": {
     "duration": 0.695039,
     "end_time": "2022-04-27T16:36:00.517093",
     "exception": false,
     "start_time": "2022-04-27T16:35:59.822054",
     "status": "completed"
    },
    "tags": []
   },
   "outputs": [
    {
     "name": "stdout",
     "output_type": "stream",
     "text": [
      "Accuracy score: 0.8781777506609721\n"
     ]
    }
   ],
   "source": [
    "pred_y = clf_rand.predict(test_x)\n",
    "\n",
    "# Model Accuracy, how often is the classifier correct?\n",
    "print(\"Accuracy score:\", metrics.accuracy_score(test_y, pred_y))\n",
    "# Precision, Recall and Roc_AUC score\n",
    "#print(\"Precision score:\", metrics.precision_score(test_y, pred_y))\n",
    "#print(\"Recall score:\", metrics.recall_score(test_y, pred_y))\n",
    "#print(\"ROC_AUC score:\", metrics.roc_auc_score(test_y, pred_y))"
   ]
  },
  {
   "cell_type": "markdown",
   "id": "f57ab4e3",
   "metadata": {
    "papermill": {
     "duration": 0.064765,
     "end_time": "2022-04-27T16:36:00.647867",
     "exception": false,
     "start_time": "2022-04-27T16:36:00.583102",
     "status": "completed"
    },
    "tags": []
   },
   "source": [
    "## Confusion matrix"
   ]
  },
  {
   "cell_type": "code",
   "execution_count": 18,
   "id": "e658689a",
   "metadata": {
    "execution": {
     "iopub.execute_input": "2022-04-27T16:36:00.737894Z",
     "iopub.status.busy": "2022-04-27T16:36:00.736887Z",
     "iopub.status.idle": "2022-04-27T16:36:01.600418Z",
     "shell.execute_reply": "2022-04-27T16:36:01.599015Z"
    },
    "papermill": {
     "duration": 0.911128,
     "end_time": "2022-04-27T16:36:01.602896",
     "exception": false,
     "start_time": "2022-04-27T16:36:00.691768",
     "status": "completed"
    },
    "tags": []
   },
   "outputs": [
    {
     "name": "stderr",
     "output_type": "stream",
     "text": [
      "/opt/conda/lib/python3.7/site-packages/sklearn/utils/deprecation.py:87: FutureWarning: Function plot_confusion_matrix is deprecated; Function `plot_confusion_matrix` is deprecated in 1.0 and will be removed in 1.2. Use one of the class methods: ConfusionMatrixDisplay.from_predictions or ConfusionMatrixDisplay.from_estimator.\n",
      "  warnings.warn(msg, category=FutureWarning)\n"
     ]
    },
    {
     "data": {
      "image/png": "[encoded data removed]",
      "text/plain": [
       "<Figure size 432x288 with 2 Axes>"
      ]
     },
     "metadata": {
      "needs_background": "light"
     },
     "output_type": "display_data"
    }
   ],
   "source": [
    "plot_confusion_matrix(clf_rand, test_x, test_y)  \n",
    "plt.show()\n",
    "\n",
    "#plt.savefig('confmatrix_g1_uneven.png', dpi=300, bbox_inches='tight', transparent=True)"
   ]
  },
  {
   "cell_type": "markdown",
   "id": "e3610263",
   "metadata": {
    "papermill": {
     "duration": 0.066101,
     "end_time": "2022-04-27T16:36:01.735861",
     "exception": false,
     "start_time": "2022-04-27T16:36:01.669760",
     "status": "completed"
    },
    "tags": []
   },
   "source": [
    "## Finding important features\n",
    "\n",
    "1. Create a random forests model.\n",
    "2. Use the feature importance variable to see feature importance scores.\n",
    "3. Visualize these scores using the seaborn library."
   ]
  },
  {
   "cell_type": "code",
   "execution_count": 19,
   "id": "d96a5cb3",
   "metadata": {
    "execution": {
     "iopub.execute_input": "2022-04-27T16:36:01.869808Z",
     "iopub.status.busy": "2022-04-27T16:36:01.869583Z",
     "iopub.status.idle": "2022-04-27T16:36:01.912270Z",
     "shell.execute_reply": "2022-04-27T16:36:01.911730Z"
    },
    "papermill": {
     "duration": 0.112533,
     "end_time": "2022-04-27T16:36:01.914310",
     "exception": false,
     "start_time": "2022-04-27T16:36:01.801777",
     "status": "completed"
    },
    "tags": []
   },
   "outputs": [],
   "source": [
    "feature_imp = pd.Series(clf_rand.feature_importances_, index = feature_names).sort_values(ascending=False)"
   ]
  },
  {
   "cell_type": "code",
   "execution_count": 20,
   "id": "983958ff",
   "metadata": {
    "execution": {
     "iopub.execute_input": "2022-04-27T16:36:02.002924Z",
     "iopub.status.busy": "2022-04-27T16:36:02.002339Z",
     "iopub.status.idle": "2022-04-27T16:36:02.013334Z",
     "shell.execute_reply": "2022-04-27T16:36:02.012257Z"
    },
    "papermill": {
     "duration": 0.057953,
     "end_time": "2022-04-27T16:36:02.015101",
     "exception": false,
     "start_time": "2022-04-27T16:36:01.957148",
     "status": "completed"
    },
    "tags": []
   },
   "outputs": [
    {
     "data": {
      "text/plain": [
       "Length          0.031264\n",
       "1_aa_mer_E      0.009973\n",
       "2_aa_mer_EL     0.009655\n",
       "1_aa_mer_R      0.007654\n",
       "2_aa_mer_LG     0.007389\n",
       "                  ...   \n",
       "3_aa_mer_V*R    0.000000\n",
       "3_aa_mer_V*Q    0.000000\n",
       "3_aa_mer_V*P    0.000000\n",
       "3_aa_mer_V*N    0.000000\n",
       "3_aa_mer_EI*    0.000000\n",
       "Length: 14788, dtype: float64"
      ]
     },
     "execution_count": 20,
     "metadata": {},
     "output_type": "execute_result"
    }
   ],
   "source": [
    "feature_imp"
   ]
  },
  {
   "cell_type": "code",
   "execution_count": 21,
   "id": "1d3063b8",
   "metadata": {
    "execution": {
     "iopub.execute_input": "2022-04-27T16:36:02.104751Z",
     "iopub.status.busy": "2022-04-27T16:36:02.104284Z",
     "iopub.status.idle": "2022-04-27T16:36:02.147669Z",
     "shell.execute_reply": "2022-04-27T16:36:02.146222Z"
    },
    "papermill": {
     "duration": 0.091194,
     "end_time": "2022-04-27T16:36:02.150313",
     "exception": false,
     "start_time": "2022-04-27T16:36:02.059119",
     "status": "completed"
    },
    "tags": []
   },
   "outputs": [],
   "source": [
    "features = feature_imp.to_frame()\n",
    "features.columns = ['Feature importance']"
   ]
  },
  {
   "cell_type": "code",
   "execution_count": 22,
   "id": "e57d0214",
   "metadata": {
    "execution": {
     "iopub.execute_input": "2022-04-27T16:36:02.285995Z",
     "iopub.status.busy": "2022-04-27T16:36:02.285737Z",
     "iopub.status.idle": "2022-04-27T16:36:02.297082Z",
     "shell.execute_reply": "2022-04-27T16:36:02.295962Z"
    },
    "papermill": {
     "duration": 0.082653,
     "end_time": "2022-04-27T16:36:02.300084",
     "exception": false,
     "start_time": "2022-04-27T16:36:02.217431",
     "status": "completed"
    },
    "tags": []
   },
   "outputs": [
    {
     "data": {
      "text/html": [
       "<div>\n",
       "<style scoped>\n",
       "    .dataframe tbody tr th:only-of-type {\n",
       "        vertical-align: middle;\n",
       "    }\n",
       "\n",
       "    .dataframe tbody tr th {\n",
       "        vertical-align: top;\n",
       "    }\n",
       "\n",
       "    .dataframe thead th {\n",
       "        text-align: right;\n",
       "    }\n",
       "</style>\n",
       "<table border=\"1\" class=\"dataframe\">\n",
       "  <thead>\n",
       "    <tr style=\"text-align: right;\">\n",
       "      <th></th>\n",
       "      <th>Feature importance</th>\n",
       "    </tr>\n",
       "  </thead>\n",
       "  <tbody>\n",
       "    <tr>\n",
       "      <th>Length</th>\n",
       "      <td>0.031264</td>\n",
       "    </tr>\n",
       "    <tr>\n",
       "      <th>1_aa_mer_E</th>\n",
       "      <td>0.009973</td>\n",
       "    </tr>\n",
       "    <tr>\n",
       "      <th>2_aa_mer_EL</th>\n",
       "      <td>0.009655</td>\n",
       "    </tr>\n",
       "    <tr>\n",
       "      <th>1_aa_mer_R</th>\n",
       "      <td>0.007654</td>\n",
       "    </tr>\n",
       "    <tr>\n",
       "      <th>2_aa_mer_LG</th>\n",
       "      <td>0.007389</td>\n",
       "    </tr>\n",
       "    <tr>\n",
       "      <th>...</th>\n",
       "      <td>...</td>\n",
       "    </tr>\n",
       "    <tr>\n",
       "      <th>3_aa_mer_V*R</th>\n",
       "      <td>0.000000</td>\n",
       "    </tr>\n",
       "    <tr>\n",
       "      <th>3_aa_mer_V*Q</th>\n",
       "      <td>0.000000</td>\n",
       "    </tr>\n",
       "    <tr>\n",
       "      <th>3_aa_mer_V*P</th>\n",
       "      <td>0.000000</td>\n",
       "    </tr>\n",
       "    <tr>\n",
       "      <th>3_aa_mer_V*N</th>\n",
       "      <td>0.000000</td>\n",
       "    </tr>\n",
       "    <tr>\n",
       "      <th>3_aa_mer_EI*</th>\n",
       "      <td>0.000000</td>\n",
       "    </tr>\n",
       "  </tbody>\n",
       "</table>\n",
       "<p>14788 rows × 1 columns</p>\n",
       "</div>"
      ],
      "text/plain": [
       "              Feature importance\n",
       "Length                  0.031264\n",
       "1_aa_mer_E              0.009973\n",
       "2_aa_mer_EL             0.009655\n",
       "1_aa_mer_R              0.007654\n",
       "2_aa_mer_LG             0.007389\n",
       "...                          ...\n",
       "3_aa_mer_V*R            0.000000\n",
       "3_aa_mer_V*Q            0.000000\n",
       "3_aa_mer_V*P            0.000000\n",
       "3_aa_mer_V*N            0.000000\n",
       "3_aa_mer_EI*            0.000000\n",
       "\n",
       "[14788 rows x 1 columns]"
      ]
     },
     "execution_count": 22,
     "metadata": {},
     "output_type": "execute_result"
    }
   ],
   "source": [
    "features"
   ]
  },
  {
   "cell_type": "code",
   "execution_count": 23,
   "id": "b9f60022",
   "metadata": {
    "execution": {
     "iopub.execute_input": "2022-04-27T16:36:02.437933Z",
     "iopub.status.busy": "2022-04-27T16:36:02.437708Z",
     "iopub.status.idle": "2022-04-27T16:36:02.486073Z",
     "shell.execute_reply": "2022-04-27T16:36:02.484685Z"
    },
    "papermill": {
     "duration": 0.120022,
     "end_time": "2022-04-27T16:36:02.488667",
     "exception": false,
     "start_time": "2022-04-27T16:36:02.368645",
     "status": "completed"
    },
    "tags": []
   },
   "outputs": [],
   "source": [
    "# Grouping all k-mers\n",
    "dimers = features[features.index.map(lambda x: \"2_mer_\" in x)]\n",
    "trimers = features[features.index.map(lambda x: \"3_mer_\" in x)]\n",
    "tetramers = features[features.index.map(lambda x: \"4_mer_\" in x)]\n",
    "pentamers = features[features.index.map(lambda x: \"5_mer_\" in x)] \n",
    "hexamers = features[features.index.map(lambda x: \"6_mer_\" in x)]\n",
    "\n",
    "# Grouping all aa-mers\n",
    "single_aa = features[features.index.map(lambda x: \"1_aa_mer_\" in x)]\n",
    "double_aa = features[features.index.map(lambda x: \"2_aa_mer_\" in x)]\n",
    "triple_aa = features[features.index.map(lambda x: \"3_aa_mer_\" in x)]\n",
    "\n",
    "# Grouping c_weights\n",
    "c_weight = features[features.index.map(lambda x: \"c_weight\" in x)]"
   ]
  },
  {
   "cell_type": "markdown",
   "id": "5a0bdbb2",
   "metadata": {
    "papermill": {
     "duration": 0.067052,
     "end_time": "2022-04-27T16:36:02.623272",
     "exception": false,
     "start_time": "2022-04-27T16:36:02.556220",
     "status": "completed"
    },
    "tags": []
   },
   "source": [
    "#### Mean feature importances of all k-mers, aa-mers and c_weights"
   ]
  },
  {
   "cell_type": "code",
   "execution_count": 24,
   "id": "c335116c",
   "metadata": {
    "execution": {
     "iopub.execute_input": "2022-04-27T16:36:02.762217Z",
     "iopub.status.busy": "2022-04-27T16:36:02.761979Z",
     "iopub.status.idle": "2022-04-27T16:36:02.777993Z",
     "shell.execute_reply": "2022-04-27T16:36:02.776724Z"
    },
    "papermill": {
     "duration": 0.086855,
     "end_time": "2022-04-27T16:36:02.780102",
     "exception": false,
     "start_time": "2022-04-27T16:36:02.693247",
     "status": "completed"
    },
    "tags": []
   },
   "outputs": [],
   "source": [
    "data = {'Feature importance': [round(dimers.mean().iloc[0], 6), round(trimers.mean().iloc[0], 6), \n",
    "                               round(tetramers.mean().iloc[0], 6), round(pentamers.mean().iloc[0], 6), \n",
    "                               round(hexamers.mean().iloc[0], 6), round(single_aa.mean().iloc[0], 6), \n",
    "                               round(double_aa.mean().iloc[0], 6), round(triple_aa.mean().iloc[0], 6),\n",
    "                               round(c_weight.mean().iloc[0], 6)]}\n",
    "\n",
    "features_cond = pd.DataFrame(data, index = ['dimers', 'trimers', 'tetramers', 'pentamers', 'hexamers', \n",
    "                                            'single_aa', 'double_aa', 'triple_aa', 'c_weight'])"
   ]
  },
  {
   "cell_type": "markdown",
   "id": "ec1f7d34",
   "metadata": {
    "papermill": {
     "duration": 0.066537,
     "end_time": "2022-04-27T16:36:02.913921",
     "exception": false,
     "start_time": "2022-04-27T16:36:02.847384",
     "status": "completed"
    },
    "tags": []
   },
   "source": [
    "#### Sum of all feature importances of k-mers, aa-mers and c_weights"
   ]
  },
  {
   "cell_type": "code",
   "execution_count": 25,
   "id": "de172361",
   "metadata": {
    "execution": {
     "iopub.execute_input": "2022-04-27T16:36:03.048629Z",
     "iopub.status.busy": "2022-04-27T16:36:03.048352Z",
     "iopub.status.idle": "2022-04-27T16:36:03.060306Z",
     "shell.execute_reply": "2022-04-27T16:36:03.059619Z"
    },
    "papermill": {
     "duration": 0.082167,
     "end_time": "2022-04-27T16:36:03.062345",
     "exception": false,
     "start_time": "2022-04-27T16:36:02.980178",
     "status": "completed"
    },
    "tags": []
   },
   "outputs": [],
   "source": [
    "data = {'Feature importance': [round(dimers.sum().iloc[0], 6), round(trimers.sum().iloc[0], 6), \n",
    "                               round(tetramers.sum().iloc[0], 6), round(pentamers.sum().iloc[0], 6), \n",
    "                               round(hexamers.sum().iloc[0], 6), round(single_aa.sum().iloc[0], 6), \n",
    "                               round(double_aa.sum().iloc[0], 6), round(triple_aa.sum().iloc[0], 6),\n",
    "                               round(c_weight.sum().iloc[0], 6)]}\n",
    "\n",
    "features_cond2 = pd.DataFrame(data, index = ['dimers', 'trimers', 'tetramers', 'pentamers', 'hexamers', \n",
    "                                            'single_aa', 'double_aa', 'triple_aa', 'c_weight'])"
   ]
  },
  {
   "cell_type": "code",
   "execution_count": 26,
   "id": "d6e8e220",
   "metadata": {
    "execution": {
     "iopub.execute_input": "2022-04-27T16:36:03.201663Z",
     "iopub.status.busy": "2022-04-27T16:36:03.201365Z",
     "iopub.status.idle": "2022-04-27T16:36:03.210140Z",
     "shell.execute_reply": "2022-04-27T16:36:03.209434Z"
    },
    "papermill": {
     "duration": 0.080107,
     "end_time": "2022-04-27T16:36:03.212289",
     "exception": false,
     "start_time": "2022-04-27T16:36:03.132182",
     "status": "completed"
    },
    "tags": []
   },
   "outputs": [
    {
     "data": {
      "text/html": [
       "<div>\n",
       "<style scoped>\n",
       "    .dataframe tbody tr th:only-of-type {\n",
       "        vertical-align: middle;\n",
       "    }\n",
       "\n",
       "    .dataframe tbody tr th {\n",
       "        vertical-align: top;\n",
       "    }\n",
       "\n",
       "    .dataframe thead th {\n",
       "        text-align: right;\n",
       "    }\n",
       "</style>\n",
       "<table border=\"1\" class=\"dataframe\">\n",
       "  <thead>\n",
       "    <tr style=\"text-align: right;\">\n",
       "      <th></th>\n",
       "      <th>Feature importance</th>\n",
       "    </tr>\n",
       "  </thead>\n",
       "  <tbody>\n",
       "    <tr>\n",
       "      <th>dimers</th>\n",
       "      <td>0.000704</td>\n",
       "    </tr>\n",
       "    <tr>\n",
       "      <th>trimers</th>\n",
       "      <td>0.000629</td>\n",
       "    </tr>\n",
       "    <tr>\n",
       "      <th>tetramers</th>\n",
       "      <td>0.000448</td>\n",
       "    </tr>\n",
       "    <tr>\n",
       "      <th>pentamers</th>\n",
       "      <td>0.000189</td>\n",
       "    </tr>\n",
       "    <tr>\n",
       "      <th>hexamers</th>\n",
       "      <td>0.000041</td>\n",
       "    </tr>\n",
       "    <tr>\n",
       "      <th>single_aa</th>\n",
       "      <td>0.002822</td>\n",
       "    </tr>\n",
       "    <tr>\n",
       "      <th>double_aa</th>\n",
       "      <td>0.000479</td>\n",
       "    </tr>\n",
       "    <tr>\n",
       "      <th>triple_aa</th>\n",
       "      <td>0.000009</td>\n",
       "    </tr>\n",
       "    <tr>\n",
       "      <th>c_weight</th>\n",
       "      <td>0.001216</td>\n",
       "    </tr>\n",
       "  </tbody>\n",
       "</table>\n",
       "</div>"
      ],
      "text/plain": [
       "           Feature importance\n",
       "dimers               0.000704\n",
       "trimers              0.000629\n",
       "tetramers            0.000448\n",
       "pentamers            0.000189\n",
       "hexamers             0.000041\n",
       "single_aa            0.002822\n",
       "double_aa            0.000479\n",
       "triple_aa            0.000009\n",
       "c_weight             0.001216"
      ]
     },
     "execution_count": 26,
     "metadata": {},
     "output_type": "execute_result"
    }
   ],
   "source": [
    "features_cond"
   ]
  },
  {
   "cell_type": "code",
   "execution_count": 27,
   "id": "f3e81794",
   "metadata": {
    "execution": {
     "iopub.execute_input": "2022-04-27T16:36:03.352302Z",
     "iopub.status.busy": "2022-04-27T16:36:03.352002Z",
     "iopub.status.idle": "2022-04-27T16:36:03.360095Z",
     "shell.execute_reply": "2022-04-27T16:36:03.359108Z"
    },
    "papermill": {
     "duration": 0.080838,
     "end_time": "2022-04-27T16:36:03.361980",
     "exception": false,
     "start_time": "2022-04-27T16:36:03.281142",
     "status": "completed"
    },
    "tags": []
   },
   "outputs": [],
   "source": [
    "ind_list = ['GC_content', 'GC1_content', 'GC2_content', 'GC3_content', \n",
    "            'Start_ATG', 'Start_GTG', 'Start_TTG', 'Length']\n",
    "\n",
    "features_condensed = features.loc[ind_list]"
   ]
  },
  {
   "cell_type": "code",
   "execution_count": 28,
   "id": "2cf9dd2e",
   "metadata": {
    "execution": {
     "iopub.execute_input": "2022-04-27T16:36:03.501386Z",
     "iopub.status.busy": "2022-04-27T16:36:03.501123Z",
     "iopub.status.idle": "2022-04-27T16:36:03.511687Z",
     "shell.execute_reply": "2022-04-27T16:36:03.510515Z"
    },
    "papermill": {
     "duration": 0.08152,
     "end_time": "2022-04-27T16:36:03.513431",
     "exception": false,
     "start_time": "2022-04-27T16:36:03.431911",
     "status": "completed"
    },
    "tags": []
   },
   "outputs": [
    {
     "data": {
      "text/html": [
       "<div>\n",
       "<style scoped>\n",
       "    .dataframe tbody tr th:only-of-type {\n",
       "        vertical-align: middle;\n",
       "    }\n",
       "\n",
       "    .dataframe tbody tr th {\n",
       "        vertical-align: top;\n",
       "    }\n",
       "\n",
       "    .dataframe thead th {\n",
       "        text-align: right;\n",
       "    }\n",
       "</style>\n",
       "<table border=\"1\" class=\"dataframe\">\n",
       "  <thead>\n",
       "    <tr style=\"text-align: right;\">\n",
       "      <th></th>\n",
       "      <th>Feature importance</th>\n",
       "    </tr>\n",
       "  </thead>\n",
       "  <tbody>\n",
       "    <tr>\n",
       "      <th>GC_content</th>\n",
       "      <td>0.000711</td>\n",
       "    </tr>\n",
       "    <tr>\n",
       "      <th>GC1_content</th>\n",
       "      <td>0.003552</td>\n",
       "    </tr>\n",
       "    <tr>\n",
       "      <th>GC2_content</th>\n",
       "      <td>0.006942</td>\n",
       "    </tr>\n",
       "    <tr>\n",
       "      <th>GC3_content</th>\n",
       "      <td>0.003503</td>\n",
       "    </tr>\n",
       "    <tr>\n",
       "      <th>Start_ATG</th>\n",
       "      <td>0.006788</td>\n",
       "    </tr>\n",
       "    <tr>\n",
       "      <th>Start_GTG</th>\n",
       "      <td>0.000572</td>\n",
       "    </tr>\n",
       "    <tr>\n",
       "      <th>Start_TTG</th>\n",
       "      <td>0.003472</td>\n",
       "    </tr>\n",
       "    <tr>\n",
       "      <th>Length</th>\n",
       "      <td>0.031264</td>\n",
       "    </tr>\n",
       "  </tbody>\n",
       "</table>\n",
       "</div>"
      ],
      "text/plain": [
       "             Feature importance\n",
       "GC_content             0.000711\n",
       "GC1_content            0.003552\n",
       "GC2_content            0.006942\n",
       "GC3_content            0.003503\n",
       "Start_ATG              0.006788\n",
       "Start_GTG              0.000572\n",
       "Start_TTG              0.003472\n",
       "Length                 0.031264"
      ]
     },
     "execution_count": 28,
     "metadata": {},
     "output_type": "execute_result"
    }
   ],
   "source": [
    "features_condensed"
   ]
  },
  {
   "cell_type": "code",
   "execution_count": 29,
   "id": "a158265c",
   "metadata": {
    "execution": {
     "iopub.execute_input": "2022-04-27T16:36:03.606783Z",
     "iopub.status.busy": "2022-04-27T16:36:03.606487Z",
     "iopub.status.idle": "2022-04-27T16:36:03.613340Z",
     "shell.execute_reply": "2022-04-27T16:36:03.612238Z"
    },
    "papermill": {
     "duration": 0.056367,
     "end_time": "2022-04-27T16:36:03.615702",
     "exception": false,
     "start_time": "2022-04-27T16:36:03.559335",
     "status": "completed"
    },
    "tags": []
   },
   "outputs": [],
   "source": [
    "features_red = pd.concat([features_condensed, features_cond])\n",
    "features_red = features_red.squeeze()"
   ]
  },
  {
   "cell_type": "code",
   "execution_count": 30,
   "id": "ef6f5f79",
   "metadata": {
    "execution": {
     "iopub.execute_input": "2022-04-27T16:36:03.712098Z",
     "iopub.status.busy": "2022-04-27T16:36:03.711837Z",
     "iopub.status.idle": "2022-04-27T16:36:03.720345Z",
     "shell.execute_reply": "2022-04-27T16:36:03.718848Z"
    },
    "papermill": {
     "duration": 0.058016,
     "end_time": "2022-04-27T16:36:03.722198",
     "exception": false,
     "start_time": "2022-04-27T16:36:03.664182",
     "status": "completed"
    },
    "tags": []
   },
   "outputs": [
    {
     "data": {
      "text/plain": [
       "Length         0.031264\n",
       "GC2_content    0.006942\n",
       "Start_ATG      0.006788\n",
       "GC1_content    0.003552\n",
       "GC3_content    0.003503\n",
       "Start_TTG      0.003472\n",
       "single_aa      0.002822\n",
       "c_weight       0.001216\n",
       "GC_content     0.000711\n",
       "dimers         0.000704\n",
       "trimers        0.000629\n",
       "Start_GTG      0.000572\n",
       "double_aa      0.000479\n",
       "tetramers      0.000448\n",
       "pentamers      0.000189\n",
       "hexamers       0.000041\n",
       "triple_aa      0.000009\n",
       "Name: Feature importance, dtype: float64"
      ]
     },
     "execution_count": 30,
     "metadata": {},
     "output_type": "execute_result"
    }
   ],
   "source": [
    "features_red = features_red.sort_values(ascending=False)\n",
    "features_red"
   ]
  },
  {
   "cell_type": "code",
   "execution_count": 31,
   "id": "998217ce",
   "metadata": {
    "execution": {
     "iopub.execute_input": "2022-04-27T16:36:03.813975Z",
     "iopub.status.busy": "2022-04-27T16:36:03.813728Z",
     "iopub.status.idle": "2022-04-27T16:36:03.819440Z",
     "shell.execute_reply": "2022-04-27T16:36:03.818412Z"
    },
    "papermill": {
     "duration": 0.05483,
     "end_time": "2022-04-27T16:36:03.822355",
     "exception": false,
     "start_time": "2022-04-27T16:36:03.767525",
     "status": "completed"
    },
    "tags": []
   },
   "outputs": [],
   "source": [
    "features_red2 = pd.concat([features_condensed, features_cond2])\n",
    "features_red2 = features_red2.squeeze()"
   ]
  },
  {
   "cell_type": "code",
   "execution_count": 32,
   "id": "d407c089",
   "metadata": {
    "execution": {
     "iopub.execute_input": "2022-04-27T16:36:03.965843Z",
     "iopub.status.busy": "2022-04-27T16:36:03.965471Z",
     "iopub.status.idle": "2022-04-27T16:36:03.973888Z",
     "shell.execute_reply": "2022-04-27T16:36:03.972824Z"
    },
    "papermill": {
     "duration": 0.083227,
     "end_time": "2022-04-27T16:36:03.976844",
     "exception": false,
     "start_time": "2022-04-27T16:36:03.893617",
     "status": "completed"
    },
    "tags": []
   },
   "outputs": [
    {
     "data": {
      "text/plain": [
       "double_aa      0.201379\n",
       "pentamers      0.193930\n",
       "hexamers       0.167611\n",
       "tetramers      0.114620\n",
       "triple_aa      0.079857\n",
       "c_weight       0.077827\n",
       "single_aa      0.056443\n",
       "trimers        0.040271\n",
       "Length         0.031264\n",
       "dimers         0.011258\n",
       "GC2_content    0.006942\n",
       "Start_ATG      0.006788\n",
       "GC1_content    0.003552\n",
       "GC3_content    0.003503\n",
       "Start_TTG      0.003472\n",
       "GC_content     0.000711\n",
       "Start_GTG      0.000572\n",
       "Name: Feature importance, dtype: float64"
      ]
     },
     "execution_count": 32,
     "metadata": {},
     "output_type": "execute_result"
    }
   ],
   "source": [
    "features_red2 = features_red2.sort_values(ascending=False)\n",
    "features_red2"
   ]
  },
  {
   "cell_type": "markdown",
   "id": "b2ba3851",
   "metadata": {
    "papermill": {
     "duration": 0.070467,
     "end_time": "2022-04-27T16:36:04.116990",
     "exception": false,
     "start_time": "2022-04-27T16:36:04.046523",
     "status": "completed"
    },
    "tags": []
   },
   "source": [
    "## Generating the model on selected features\n",
    "\n",
    "After removing the least important features the accuracy may increase. This is because one removes misleading data and noise, resulting in increased accuracy. A lesser amount of features also reduces the training time.\n",
    "\n",
    "Extra features can decrease performance because they may “confuse” the model by giving it irrelevant data that prevents it from learning the actual relationships. The random forest performs implicit feature selection because it splits nodes on the most important variables, but other machine learning models do not. One approach to improve other models is therefore to use the random forest feature importances to reduce the number of variables in the problem. In our case, we will use the feature importances to decrease the number of features for our random forest model, because, in addition to potentially increasing performance, reducing the number of features will shorten the run time of the model. \n",
    "\n",
    "Often with feature reduction, there will be a minor decrease in performance that must be weighed against the decrease in run-time. Machine learning is a game of making trade-offs, and run-time versus performance is usually one of the critical decisions."
   ]
  },
  {
   "cell_type": "code",
   "execution_count": 33,
   "id": "674d1a14",
   "metadata": {
    "execution": {
     "iopub.execute_input": "2022-04-27T16:36:04.256896Z",
     "iopub.status.busy": "2022-04-27T16:36:04.256602Z",
     "iopub.status.idle": "2022-04-27T16:36:04.307359Z",
     "shell.execute_reply": "2022-04-27T16:36:04.305892Z"
    },
    "papermill": {
     "duration": 0.124565,
     "end_time": "2022-04-27T16:36:04.310508",
     "exception": false,
     "start_time": "2022-04-27T16:36:04.185943",
     "status": "completed"
    },
    "tags": []
   },
   "outputs": [],
   "source": [
    "feature_imp = pd.Series(clf_rand.feature_importances_, index = feature_names).sort_values(ascending=False)"
   ]
  },
  {
   "cell_type": "code",
   "execution_count": 34,
   "id": "a2b6e8af",
   "metadata": {
    "execution": {
     "iopub.execute_input": "2022-04-27T16:36:04.451398Z",
     "iopub.status.busy": "2022-04-27T16:36:04.450880Z",
     "iopub.status.idle": "2022-04-27T16:36:04.455814Z",
     "shell.execute_reply": "2022-04-27T16:36:04.455124Z"
    },
    "papermill": {
     "duration": 0.077879,
     "end_time": "2022-04-27T16:36:04.458276",
     "exception": false,
     "start_time": "2022-04-27T16:36:04.380397",
     "status": "completed"
    },
    "tags": []
   },
   "outputs": [],
   "source": [
    "selected = feature_imp.iloc[0:300]"
   ]
  },
  {
   "cell_type": "code",
   "execution_count": 35,
   "id": "360ab475",
   "metadata": {
    "execution": {
     "iopub.execute_input": "2022-04-27T16:36:04.560451Z",
     "iopub.status.busy": "2022-04-27T16:36:04.558845Z",
     "iopub.status.idle": "2022-04-27T16:36:04.563991Z",
     "shell.execute_reply": "2022-04-27T16:36:04.563119Z"
    },
    "papermill": {
     "duration": 0.055178,
     "end_time": "2022-04-27T16:36:04.566056",
     "exception": false,
     "start_time": "2022-04-27T16:36:04.510878",
     "status": "completed"
    },
    "tags": []
   },
   "outputs": [],
   "source": [
    "selected_feat = list(selected.index)"
   ]
  },
  {
   "cell_type": "code",
   "execution_count": 36,
   "id": "5794eec5",
   "metadata": {
    "execution": {
     "iopub.execute_input": "2022-04-27T16:36:04.664508Z",
     "iopub.status.busy": "2022-04-27T16:36:04.663455Z",
     "iopub.status.idle": "2022-04-27T16:36:04.688032Z",
     "shell.execute_reply": "2022-04-27T16:36:04.686930Z"
    },
    "papermill": {
     "duration": 0.073964,
     "end_time": "2022-04-27T16:36:04.690460",
     "exception": false,
     "start_time": "2022-04-27T16:36:04.616496",
     "status": "completed"
    },
    "tags": []
   },
   "outputs": [],
   "source": [
    "important_indices = [feature_names.index(x) for x in selected_feat]"
   ]
  },
  {
   "cell_type": "code",
   "execution_count": 37,
   "id": "1cfa133f",
   "metadata": {
    "execution": {
     "iopub.execute_input": "2022-04-27T16:36:04.809971Z",
     "iopub.status.busy": "2022-04-27T16:36:04.809116Z",
     "iopub.status.idle": "2022-04-27T16:36:04.871944Z",
     "shell.execute_reply": "2022-04-27T16:36:04.870261Z"
    },
    "papermill": {
     "duration": 0.136172,
     "end_time": "2022-04-27T16:36:04.874637",
     "exception": false,
     "start_time": "2022-04-27T16:36:04.738465",
     "status": "completed"
    },
    "tags": []
   },
   "outputs": [],
   "source": [
    "# Create a Gaussian Classifier\n",
    "clf_imp = RandomForestClassifier(n_estimators=200, min_samples_split=2, min_samples_leaf=1, max_features='auto', \n",
    "                             max_depth=10, bootstrap=False, random_state = 42)\n",
    "\n",
    "# Select most important features\n",
    "important_indices = [feature_names.index(x) for x in selected_feat]\n",
    "\n",
    "train_important = train_x[:, important_indices]\n",
    "test_important = test_x[:, important_indices]"
   ]
  },
  {
   "cell_type": "code",
   "execution_count": 38,
   "id": "3db5f074",
   "metadata": {
    "execution": {
     "iopub.execute_input": "2022-04-27T16:36:05.020845Z",
     "iopub.status.busy": "2022-04-27T16:36:05.020498Z",
     "iopub.status.idle": "2022-04-27T16:36:43.554183Z",
     "shell.execute_reply": "2022-04-27T16:36:43.553084Z"
    },
    "papermill": {
     "duration": 38.680467,
     "end_time": "2022-04-27T16:36:43.625360",
     "exception": false,
     "start_time": "2022-04-27T16:36:04.944893",
     "status": "completed"
    },
    "tags": []
   },
   "outputs": [
    {
     "data": {
      "text/plain": [
       "RandomForestClassifier(bootstrap=False, max_depth=10, n_estimators=200,\n",
       "                       random_state=42)"
      ]
     },
     "execution_count": 38,
     "metadata": {},
     "output_type": "execute_result"
    }
   ],
   "source": [
    "# Train the random forest\n",
    "clf_imp.fit(train_important, train_y)"
   ]
  },
  {
   "cell_type": "code",
   "execution_count": 39,
   "id": "d9ac3cbd",
   "metadata": {
    "execution": {
     "iopub.execute_input": "2022-04-27T16:36:43.769342Z",
     "iopub.status.busy": "2022-04-27T16:36:43.768929Z",
     "iopub.status.idle": "2022-04-27T16:36:43.989496Z",
     "shell.execute_reply": "2022-04-27T16:36:43.988640Z"
    },
    "papermill": {
     "duration": 0.29663,
     "end_time": "2022-04-27T16:36:43.993157",
     "exception": false,
     "start_time": "2022-04-27T16:36:43.696527",
     "status": "completed"
    },
    "tags": []
   },
   "outputs": [
    {
     "name": "stdout",
     "output_type": "stream",
     "text": [
      "Accuracy score: 0.9064470205409803\n",
      "Precision score: 0.9317032040472175\n",
      "Recall score: 0.8811802232854864\n"
     ]
    }
   ],
   "source": [
    "# Make predictions and determine the error\n",
    "pred_y = clf_imp.predict(test_important)\n",
    "\n",
    "# Model Accuracy, how often is the classifier correct?\n",
    "print(\"Accuracy score:\", metrics.accuracy_score(test_y, pred_y))\n",
    "# Precision, Recall and Roc_AUC score\n",
    "print(\"Precision score:\", metrics.precision_score(test_y, pred_y))\n",
    "print(\"Recall score:\", metrics.recall_score(test_y, pred_y))\n",
    "#print(\"ROC_AUC score:\", metrics.roc_auc_score(test_y, pred_y))"
   ]
  },
  {
   "cell_type": "markdown",
   "id": "4525d608",
   "metadata": {
    "papermill": {
     "duration": 0.046614,
     "end_time": "2022-04-27T16:36:44.087447",
     "exception": false,
     "start_time": "2022-04-27T16:36:44.040833",
     "status": "completed"
    },
    "tags": []
   },
   "source": [
    "#### Confusion matrix"
   ]
  },
  {
   "cell_type": "code",
   "execution_count": 40,
   "id": "1c0e6959",
   "metadata": {
    "execution": {
     "iopub.execute_input": "2022-04-27T16:36:44.186603Z",
     "iopub.status.busy": "2022-04-27T16:36:44.185762Z",
     "iopub.status.idle": "2022-04-27T16:36:44.693152Z",
     "shell.execute_reply": "2022-04-27T16:36:44.692156Z"
    },
    "papermill": {
     "duration": 0.559313,
     "end_time": "2022-04-27T16:36:44.694783",
     "exception": false,
     "start_time": "2022-04-27T16:36:44.135470",
     "status": "completed"
    },
    "tags": []
   },
   "outputs": [
    {
     "name": "stderr",
     "output_type": "stream",
     "text": [
      "/opt/conda/lib/python3.7/site-packages/sklearn/utils/deprecation.py:87: FutureWarning: Function plot_confusion_matrix is deprecated; Function `plot_confusion_matrix` is deprecated in 1.0 and will be removed in 1.2. Use one of the class methods: ConfusionMatrixDisplay.from_predictions or ConfusionMatrixDisplay.from_estimator.\n",
      "  warnings.warn(msg, category=FutureWarning)\n"
     ]
    },
    {
     "data": {
      "image/png": "[encoded data removed]",
      "text/plain": [
       "<Figure size 432x288 with 2 Axes>"
      ]
     },
     "metadata": {
      "needs_background": "light"
     },
     "output_type": "display_data"
    },
    {
     "data": {
      "text/plain": [
       "<Figure size 432x288 with 0 Axes>"
      ]
     },
     "metadata": {},
     "output_type": "display_data"
    }
   ],
   "source": [
    "plot_confusion_matrix(clf_imp, test_important, test_y)  \n",
    "plt.show()\n",
    "\n",
    "plt.savefig('confmatrix_g5.png', dpi=300, bbox_inches='tight', transparent=True)"
   ]
  },
  {
   "cell_type": "markdown",
   "id": "d5c14d99",
   "metadata": {
    "papermill": {
     "duration": 0.046538,
     "end_time": "2022-04-27T16:36:44.788238",
     "exception": false,
     "start_time": "2022-04-27T16:36:44.741700",
     "status": "completed"
    },
    "tags": []
   },
   "source": [
    "After feature selection based on the most important features the metrics improved by 2%. In the confusion matrix we see that the clf_imp model generates much less false positives and slightly more false negatives. Meaning the accuracy, precision and ROC_AUC scores improve after feature selection and recall decreases slightly. "
   ]
  }
 ],
 "metadata": {
  "kernelspec": {
   "display_name": "Python 3",
   "language": "python",
   "name": "python3"
  },
  "language_info": {
   "codemirror_mode": {
    "name": "ipython",
    "version": 3
   },
   "file_extension": ".py",
   "mimetype": "text/x-python",
   "name": "python",
   "nbconvert_exporter": "python",
   "pygments_lexer": "ipython3",
   "version": "3.7.12"
  },
  "papermill": {
   "default_parameters": {},
   "duration": 457.338492,
   "end_time": "2022-04-27T16:36:46.060203",
   "environment_variables": {},
   "exception": null,
   "input_path": "__notebook__.ipynb",
   "output_path": "__notebook__.ipynb",
   "parameters": {},
   "start_time": "2022-04-27T16:29:08.721711",
   "version": "2.3.4"
  }
 },
 "nbformat": 4,
 "nbformat_minor": 5
}
