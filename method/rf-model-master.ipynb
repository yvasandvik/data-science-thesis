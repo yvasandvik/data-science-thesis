{
 "cells": [
  {
   "cell_type": "markdown",
   "metadata": {},
   "source": [
    "# Random Forest Model\n",
    "\n",
    "RF model to be used for predicting protein coding genes in DNA sequences.\n",
    "\n",
    "**Random Search with CV**\n",
    "- bootstrap': False\n",
    "- max_depth': 20\n",
    "- max_features': 'auto'\n",
    "- min_samples_leaf': 1\n",
    "- min_samples_split': 2\n",
    "- n_estimators': 1000\n",
    " \n",
    "**Grid Search with CV**\n",
    "- bootstrap': False\n",
    "- max_depth': 40\n",
    "- max_features': 3\n",
    "- min_samples_leaf': 1\n",
    "- min_samples_split': 2\n",
    "- n_estimators': 2000\n",
    "\n",
    "BEST MODEL:\n",
    "- Random Search with CV - BUT\n",
    "- n_estimators': 200\n",
    "- n_features: 200"
   ]
  },
  {
   "cell_type": "markdown",
   "metadata": {},
   "source": [
    "## Import packages and choose data"
   ]
  },
  {
   "cell_type": "code",
   "execution_count": 1,
   "metadata": {
    "execution": {
     "iopub.execute_input": "2022-02-18T09:22:06.437566Z",
     "iopub.status.busy": "2022-02-18T09:22:06.437183Z",
     "iopub.status.idle": "2022-02-18T09:22:08.101534Z",
     "shell.execute_reply": "2022-02-18T09:22:08.100336Z",
     "shell.execute_reply.started": "2022-02-18T09:22:06.437508Z"
    }
   },
   "outputs": [],
   "source": [
    "# Preprocessing and encoding variables\n",
    "import pandas as pd\n",
    "import numpy as np\n",
    "from random import sample\n",
    "\n",
    "# Using Skicit-learn to split data into training and testing sets\n",
    "from sklearn import preprocessing\n",
    "from sklearn.model_selection import train_test_split\n",
    "\n",
    "# Import the model we are using\n",
    "from sklearn.ensemble import RandomForestClassifier\n",
    "\n",
    "# Import scikit-learn metrics module for accuracy calculation\n",
    "from sklearn import metrics\n",
    "\n",
    "# Visualising feature importance and making plots\n",
    "import matplotlib.pyplot as plt\n",
    "import seaborn as sns\n",
    "\n",
    "# Hyperparameter tuning\n",
    "from sklearn.model_selection import RandomizedSearchCV\n",
    "\n",
    "# Confusion matrix\n",
    "from sklearn.metrics import plot_confusion_matrix, precision_score, recall_score, roc_auc_score"
   ]
  },
  {
   "cell_type": "markdown",
   "metadata": {},
   "source": [
    "### Prediction of genomes from same species but different strain"
   ]
  },
  {
   "cell_type": "code",
   "execution_count": null,
   "metadata": {},
   "outputs": [],
   "source": [
    "# Both genomes from E.coli species, but different strain\n",
    "G11 = pd.read_csv('../input/genomespart2/G11.features.csv').iloc[:, 1:]\n",
    "G12 = pd.read_csv('../input/genomespart2/G12.features.csv').iloc[:, 1:]"
   ]
  },
  {
   "cell_type": "code",
   "execution_count": null,
   "metadata": {},
   "outputs": [],
   "source": [
    "frames = [G11, G12]\n",
    "e_coli = pd.concat(frames)\n",
    "e_coli.tail(10)"
   ]
  },
  {
   "cell_type": "markdown",
   "metadata": {},
   "source": [
    "### Prediction of genomes from different species "
   ]
  },
  {
   "cell_type": "code",
   "execution_count": null,
   "metadata": {},
   "outputs": [],
   "source": [
    "# Average genomes from different species\n",
    "G11 = pd.read_csv('../input/genomespart2/G11.features.csv').iloc[:, 1:]\n",
    "G13 = pd.read_csv('../input/genomespart2/G13.features.csv').iloc[:, 1:]"
   ]
  },
  {
   "cell_type": "code",
   "execution_count": null,
   "metadata": {},
   "outputs": [],
   "source": [
    "frames = [G11, G13]\n",
    "diff = pd.concat(frames)\n",
    "diff.tail(10)"
   ]
  },
  {
   "cell_type": "markdown",
   "metadata": {},
   "source": [
    "### Combining 5 genomes"
   ]
  },
  {
   "cell_type": "code",
   "execution_count": 2,
   "metadata": {
    "execution": {
     "iopub.execute_input": "2022-02-18T09:22:26.016780Z",
     "iopub.status.busy": "2022-02-18T09:22:26.016457Z",
     "iopub.status.idle": "2022-02-18T09:25:20.062528Z",
     "shell.execute_reply": "2022-02-18T09:25:20.060399Z",
     "shell.execute_reply.started": "2022-02-18T09:22:26.016749Z"
    }
   },
   "outputs": [],
   "source": [
    "G1 = pd.read_csv('~/Documents/NMBU/Semester 12/Data Science Master/data-science-thesis/data_expo/G1.features.csv').iloc[:, 1:]\n",
    "G2 = pd.read_csv('~/Documents/NMBU/Semester 12/Data Science Master/data-science-thesis/data_expo/G2.features.csv').iloc[:, 1:]\n",
    "G3 = pd.read_csv('~/Documents/NMBU/Semester 12/Data Science Master/data-science-thesis/data_expo/G3.features.csv').iloc[:, 1:]\n",
    "G4 = pd.read_csv('~/Documents/NMBU/Semester 12/Data Science Master/data-science-thesis/data_expo/G4.features.csv').iloc[:, 1:]\n",
    "G5 = pd.read_csv('~/Documents/NMBU/Semester 12/Data Science Master/data-science-thesis/data_expo/G5.features.csv').iloc[:, 1:]"
   ]
  },
  {
   "cell_type": "code",
   "execution_count": 3,
   "metadata": {
    "execution": {
     "iopub.execute_input": "2022-02-18T09:25:20.066447Z",
     "iopub.status.busy": "2022-02-18T09:25:20.066073Z",
     "iopub.status.idle": "2022-02-18T09:25:21.186665Z",
     "shell.execute_reply": "2022-02-18T09:25:21.185574Z",
     "shell.execute_reply.started": "2022-02-18T09:25:20.066409Z"
    }
   },
   "outputs": [],
   "source": [
    "G1 = G1.sample(2000)\n",
    "G2 = G2.sample(2000)\n",
    "G3 = G3.sample(2000)\n",
    "G4 = G4.sample(2000)\n",
    "G5 = G5.sample(2000)"
   ]
  },
  {
   "cell_type": "code",
   "execution_count": null,
   "metadata": {},
   "outputs": [],
   "source": [
    "G6 = pd.read_csv('~/Documents/NMBU/Semester 12/Data Science Master/data-science-thesis/data_expo/G6.features.csv').iloc[:, 1:]\n",
    "G7 = pd.read_csv('~/Documents/NMBU/Semester 12/Data Science Master/data-science-thesis/data_expo/G7.features.csv').iloc[:, 1:]\n",
    "G8 = pd.read_csv('~/Documents/NMBU/Semester 12/Data Science Master/data-science-thesis/data_expo/G8.features.csv').iloc[:, 1:]\n",
    "G9 = pd.read_csv('~/Documents/NMBU/Semester 12/Data Science Master/data-science-thesis/data_expo/G9.features.csv').iloc[:, 1:]\n",
    "G10 = pd.read_csv('~/Documents/NMBU/Semester 12/Data Science Master/data-science-thesis/data_expo/G10.features.csv').iloc[:, 1:]"
   ]
  },
  {
   "cell_type": "code",
   "execution_count": null,
   "metadata": {},
   "outputs": [],
   "source": [
    "G6 = G6.sample(800)\n",
    "G7 = G7.sample(800)\n",
    "G8 = G8.sample(800)\n",
    "G9 = G9.sample(800)\n",
    "G10 = G10.sample(800)"
   ]
  },
  {
   "cell_type": "code",
   "execution_count": 4,
   "metadata": {
    "execution": {
     "iopub.execute_input": "2022-02-18T09:25:21.188558Z",
     "iopub.status.busy": "2022-02-18T09:25:21.188155Z",
     "iopub.status.idle": "2022-02-18T09:25:24.196707Z",
     "shell.execute_reply": "2022-02-18T09:25:24.195550Z",
     "shell.execute_reply.started": "2022-02-18T09:25:21.188514Z"
    }
   },
   "outputs": [
    {
     "data": {
      "text/html": [
       "<div>\n",
       "<style scoped>\n",
       "    .dataframe tbody tr th:only-of-type {\n",
       "        vertical-align: middle;\n",
       "    }\n",
       "\n",
       "    .dataframe tbody tr th {\n",
       "        vertical-align: top;\n",
       "    }\n",
       "\n",
       "    .dataframe thead th {\n",
       "        text-align: right;\n",
       "    }\n",
       "</style>\n",
       "<table border=\"1\" class=\"dataframe\">\n",
       "  <thead>\n",
       "    <tr style=\"text-align: right;\">\n",
       "      <th></th>\n",
       "      <th>Type</th>\n",
       "      <th>Length</th>\n",
       "      <th>Dataset</th>\n",
       "      <th>Genome</th>\n",
       "      <th>GC_content</th>\n",
       "      <th>GC1_content</th>\n",
       "      <th>GC2_content</th>\n",
       "      <th>GC3_content</th>\n",
       "      <th>Start_ATG</th>\n",
       "      <th>Start_GTG</th>\n",
       "      <th>...</th>\n",
       "      <th>c_weight_TCG</th>\n",
       "      <th>c_weight_TCT</th>\n",
       "      <th>c_weight_TGA</th>\n",
       "      <th>c_weight_TGC</th>\n",
       "      <th>c_weight_TGG</th>\n",
       "      <th>c_weight_TGT</th>\n",
       "      <th>c_weight_TTA</th>\n",
       "      <th>c_weight_TTC</th>\n",
       "      <th>c_weight_TTG</th>\n",
       "      <th>c_weight_TTT</th>\n",
       "    </tr>\n",
       "  </thead>\n",
       "  <tbody>\n",
       "    <tr>\n",
       "      <th>2815</th>\n",
       "      <td>CDS</td>\n",
       "      <td>894</td>\n",
       "      <td>1</td>\n",
       "      <td>Campylobacter jejuni</td>\n",
       "      <td>0.429530</td>\n",
       "      <td>0.526846</td>\n",
       "      <td>0.362416</td>\n",
       "      <td>0.399329</td>\n",
       "      <td>1</td>\n",
       "      <td>0</td>\n",
       "      <td>...</td>\n",
       "      <td>0.066667</td>\n",
       "      <td>0.200000</td>\n",
       "      <td>0.0</td>\n",
       "      <td>0.750000</td>\n",
       "      <td>1</td>\n",
       "      <td>0.250000</td>\n",
       "      <td>0.214286</td>\n",
       "      <td>0.166667</td>\n",
       "      <td>0.428571</td>\n",
       "      <td>0.833333</td>\n",
       "    </tr>\n",
       "    <tr>\n",
       "      <th>3409</th>\n",
       "      <td>CDS</td>\n",
       "      <td>1476</td>\n",
       "      <td>1</td>\n",
       "      <td>Campylobacter jejuni</td>\n",
       "      <td>0.442412</td>\n",
       "      <td>0.522358</td>\n",
       "      <td>0.414634</td>\n",
       "      <td>0.390244</td>\n",
       "      <td>1</td>\n",
       "      <td>0</td>\n",
       "      <td>...</td>\n",
       "      <td>0.130435</td>\n",
       "      <td>0.260870</td>\n",
       "      <td>0.0</td>\n",
       "      <td>0.400000</td>\n",
       "      <td>1</td>\n",
       "      <td>0.600000</td>\n",
       "      <td>0.500000</td>\n",
       "      <td>0.350000</td>\n",
       "      <td>0.116667</td>\n",
       "      <td>0.650000</td>\n",
       "    </tr>\n",
       "    <tr>\n",
       "      <th>2804</th>\n",
       "      <td>CDS</td>\n",
       "      <td>885</td>\n",
       "      <td>1</td>\n",
       "      <td>Campylobacter jejuni</td>\n",
       "      <td>0.491525</td>\n",
       "      <td>0.576271</td>\n",
       "      <td>0.454237</td>\n",
       "      <td>0.444068</td>\n",
       "      <td>1</td>\n",
       "      <td>0</td>\n",
       "      <td>...</td>\n",
       "      <td>0.266667</td>\n",
       "      <td>0.133333</td>\n",
       "      <td>1.0</td>\n",
       "      <td>0.666667</td>\n",
       "      <td>1</td>\n",
       "      <td>0.333333</td>\n",
       "      <td>0.454545</td>\n",
       "      <td>0.100000</td>\n",
       "      <td>0.363636</td>\n",
       "      <td>0.900000</td>\n",
       "    </tr>\n",
       "    <tr>\n",
       "      <th>2100</th>\n",
       "      <td>LORF</td>\n",
       "      <td>450</td>\n",
       "      <td>1</td>\n",
       "      <td>Campylobacter jejuni</td>\n",
       "      <td>0.426304</td>\n",
       "      <td>0.557823</td>\n",
       "      <td>0.340136</td>\n",
       "      <td>0.380952</td>\n",
       "      <td>1</td>\n",
       "      <td>0</td>\n",
       "      <td>...</td>\n",
       "      <td>0.090909</td>\n",
       "      <td>0.090909</td>\n",
       "      <td>0.0</td>\n",
       "      <td>1.000000</td>\n",
       "      <td>1</td>\n",
       "      <td>0.000000</td>\n",
       "      <td>0.368421</td>\n",
       "      <td>0.000000</td>\n",
       "      <td>0.368421</td>\n",
       "      <td>1.000000</td>\n",
       "    </tr>\n",
       "    <tr>\n",
       "      <th>3364</th>\n",
       "      <td>CDS</td>\n",
       "      <td>1398</td>\n",
       "      <td>1</td>\n",
       "      <td>Campylobacter jejuni</td>\n",
       "      <td>0.449213</td>\n",
       "      <td>0.540773</td>\n",
       "      <td>0.394850</td>\n",
       "      <td>0.412017</td>\n",
       "      <td>1</td>\n",
       "      <td>0</td>\n",
       "      <td>...</td>\n",
       "      <td>0.160000</td>\n",
       "      <td>0.240000</td>\n",
       "      <td>0.0</td>\n",
       "      <td>0.000000</td>\n",
       "      <td>1</td>\n",
       "      <td>1.000000</td>\n",
       "      <td>0.500000</td>\n",
       "      <td>0.200000</td>\n",
       "      <td>0.270833</td>\n",
       "      <td>0.800000</td>\n",
       "    </tr>\n",
       "    <tr>\n",
       "      <th>457</th>\n",
       "      <td>LORF</td>\n",
       "      <td>72</td>\n",
       "      <td>2</td>\n",
       "      <td>Campylobacter jejuni</td>\n",
       "      <td>0.430556</td>\n",
       "      <td>0.458333</td>\n",
       "      <td>0.416667</td>\n",
       "      <td>0.416667</td>\n",
       "      <td>0</td>\n",
       "      <td>1</td>\n",
       "      <td>...</td>\n",
       "      <td>0.500000</td>\n",
       "      <td>0.500000</td>\n",
       "      <td>0.0</td>\n",
       "      <td>1.000000</td>\n",
       "      <td>0</td>\n",
       "      <td>0.000000</td>\n",
       "      <td>0.000000</td>\n",
       "      <td>0.000000</td>\n",
       "      <td>0.000000</td>\n",
       "      <td>1.000000</td>\n",
       "    </tr>\n",
       "    <tr>\n",
       "      <th>394</th>\n",
       "      <td>LORF</td>\n",
       "      <td>69</td>\n",
       "      <td>2</td>\n",
       "      <td>Campylobacter jejuni</td>\n",
       "      <td>0.347826</td>\n",
       "      <td>0.521739</td>\n",
       "      <td>0.347826</td>\n",
       "      <td>0.173913</td>\n",
       "      <td>0</td>\n",
       "      <td>1</td>\n",
       "      <td>...</td>\n",
       "      <td>0.000000</td>\n",
       "      <td>0.500000</td>\n",
       "      <td>0.0</td>\n",
       "      <td>0.000000</td>\n",
       "      <td>0</td>\n",
       "      <td>0.000000</td>\n",
       "      <td>0.333333</td>\n",
       "      <td>0.000000</td>\n",
       "      <td>0.000000</td>\n",
       "      <td>0.000000</td>\n",
       "    </tr>\n",
       "    <tr>\n",
       "      <th>1521</th>\n",
       "      <td>LORF</td>\n",
       "      <td>249</td>\n",
       "      <td>2</td>\n",
       "      <td>Campylobacter jejuni</td>\n",
       "      <td>0.479675</td>\n",
       "      <td>0.451220</td>\n",
       "      <td>0.463415</td>\n",
       "      <td>0.524390</td>\n",
       "      <td>0</td>\n",
       "      <td>0</td>\n",
       "      <td>...</td>\n",
       "      <td>0.000000</td>\n",
       "      <td>0.142857</td>\n",
       "      <td>0.0</td>\n",
       "      <td>0.666667</td>\n",
       "      <td>1</td>\n",
       "      <td>0.333333</td>\n",
       "      <td>0.000000</td>\n",
       "      <td>0.000000</td>\n",
       "      <td>1.000000</td>\n",
       "      <td>1.000000</td>\n",
       "    </tr>\n",
       "    <tr>\n",
       "      <th>3104</th>\n",
       "      <td>CDS</td>\n",
       "      <td>1137</td>\n",
       "      <td>1</td>\n",
       "      <td>Campylobacter jejuni</td>\n",
       "      <td>0.417766</td>\n",
       "      <td>0.485488</td>\n",
       "      <td>0.372032</td>\n",
       "      <td>0.395778</td>\n",
       "      <td>1</td>\n",
       "      <td>0</td>\n",
       "      <td>...</td>\n",
       "      <td>0.050000</td>\n",
       "      <td>0.250000</td>\n",
       "      <td>0.0</td>\n",
       "      <td>1.000000</td>\n",
       "      <td>1</td>\n",
       "      <td>0.000000</td>\n",
       "      <td>0.500000</td>\n",
       "      <td>0.153846</td>\n",
       "      <td>0.045455</td>\n",
       "      <td>0.846154</td>\n",
       "    </tr>\n",
       "    <tr>\n",
       "      <th>2151</th>\n",
       "      <td>CDS</td>\n",
       "      <td>474</td>\n",
       "      <td>1</td>\n",
       "      <td>Campylobacter jejuni</td>\n",
       "      <td>0.455696</td>\n",
       "      <td>0.531646</td>\n",
       "      <td>0.405063</td>\n",
       "      <td>0.430380</td>\n",
       "      <td>0</td>\n",
       "      <td>0</td>\n",
       "      <td>...</td>\n",
       "      <td>0.000000</td>\n",
       "      <td>0.300000</td>\n",
       "      <td>0.0</td>\n",
       "      <td>0.250000</td>\n",
       "      <td>1</td>\n",
       "      <td>0.750000</td>\n",
       "      <td>0.083333</td>\n",
       "      <td>0.125000</td>\n",
       "      <td>0.250000</td>\n",
       "      <td>0.875000</td>\n",
       "    </tr>\n",
       "  </tbody>\n",
       "</table>\n",
       "<p>10 rows × 14791 columns</p>\n",
       "</div>"
      ],
      "text/plain": [
       "      Type  Length  Dataset                Genome  GC_content  GC1_content  \\\n",
       "2815   CDS     894        1  Campylobacter jejuni    0.429530     0.526846   \n",
       "3409   CDS    1476        1  Campylobacter jejuni    0.442412     0.522358   \n",
       "2804   CDS     885        1  Campylobacter jejuni    0.491525     0.576271   \n",
       "2100  LORF     450        1  Campylobacter jejuni    0.426304     0.557823   \n",
       "3364   CDS    1398        1  Campylobacter jejuni    0.449213     0.540773   \n",
       "457   LORF      72        2  Campylobacter jejuni    0.430556     0.458333   \n",
       "394   LORF      69        2  Campylobacter jejuni    0.347826     0.521739   \n",
       "1521  LORF     249        2  Campylobacter jejuni    0.479675     0.451220   \n",
       "3104   CDS    1137        1  Campylobacter jejuni    0.417766     0.485488   \n",
       "2151   CDS     474        1  Campylobacter jejuni    0.455696     0.531646   \n",
       "\n",
       "      GC2_content  GC3_content  Start_ATG  Start_GTG  ...  c_weight_TCG  \\\n",
       "2815     0.362416     0.399329          1          0  ...      0.066667   \n",
       "3409     0.414634     0.390244          1          0  ...      0.130435   \n",
       "2804     0.454237     0.444068          1          0  ...      0.266667   \n",
       "2100     0.340136     0.380952          1          0  ...      0.090909   \n",
       "3364     0.394850     0.412017          1          0  ...      0.160000   \n",
       "457      0.416667     0.416667          0          1  ...      0.500000   \n",
       "394      0.347826     0.173913          0          1  ...      0.000000   \n",
       "1521     0.463415     0.524390          0          0  ...      0.000000   \n",
       "3104     0.372032     0.395778          1          0  ...      0.050000   \n",
       "2151     0.405063     0.430380          0          0  ...      0.000000   \n",
       "\n",
       "      c_weight_TCT  c_weight_TGA  c_weight_TGC  c_weight_TGG  c_weight_TGT  \\\n",
       "2815      0.200000           0.0      0.750000             1      0.250000   \n",
       "3409      0.260870           0.0      0.400000             1      0.600000   \n",
       "2804      0.133333           1.0      0.666667             1      0.333333   \n",
       "2100      0.090909           0.0      1.000000             1      0.000000   \n",
       "3364      0.240000           0.0      0.000000             1      1.000000   \n",
       "457       0.500000           0.0      1.000000             0      0.000000   \n",
       "394       0.500000           0.0      0.000000             0      0.000000   \n",
       "1521      0.142857           0.0      0.666667             1      0.333333   \n",
       "3104      0.250000           0.0      1.000000             1      0.000000   \n",
       "2151      0.300000           0.0      0.250000             1      0.750000   \n",
       "\n",
       "      c_weight_TTA  c_weight_TTC  c_weight_TTG  c_weight_TTT  \n",
       "2815      0.214286      0.166667      0.428571      0.833333  \n",
       "3409      0.500000      0.350000      0.116667      0.650000  \n",
       "2804      0.454545      0.100000      0.363636      0.900000  \n",
       "2100      0.368421      0.000000      0.368421      1.000000  \n",
       "3364      0.500000      0.200000      0.270833      0.800000  \n",
       "457       0.000000      0.000000      0.000000      1.000000  \n",
       "394       0.333333      0.000000      0.000000      0.000000  \n",
       "1521      0.000000      0.000000      1.000000      1.000000  \n",
       "3104      0.500000      0.153846      0.045455      0.846154  \n",
       "2151      0.083333      0.125000      0.250000      0.875000  \n",
       "\n",
       "[10 rows x 14791 columns]"
      ]
     },
     "execution_count": 4,
     "metadata": {},
     "output_type": "execute_result"
    }
   ],
   "source": [
    "frames = [G1, G2, G3, G4, G5]\n",
    "df = pd.concat(frames)\n",
    "df.tail(10)"
   ]
  },
  {
   "cell_type": "markdown",
   "metadata": {},
   "source": [
    "## Pre-processing / Data preparation\n",
    "\n",
    "1. One-hot encoded categorical variables\n",
    "2. Split data into features and labels\n",
    "3. Convert to arrays\n",
    "4. Split data into training and testing sets"
   ]
  },
  {
   "cell_type": "code",
   "execution_count": 5,
   "metadata": {
    "execution": {
     "iopub.execute_input": "2022-02-18T09:25:24.199836Z",
     "iopub.status.busy": "2022-02-18T09:25:24.199467Z",
     "iopub.status.idle": "2022-02-18T09:25:24.206119Z",
     "shell.execute_reply": "2022-02-18T09:25:24.205042Z",
     "shell.execute_reply.started": "2022-02-18T09:25:24.199788Z"
    }
   },
   "outputs": [
    {
     "name": "stdout",
     "output_type": "stream",
     "text": [
      "The shape of our dataframe is: (10000, 14791)\n"
     ]
    }
   ],
   "source": [
    "G = df\n",
    "print('The shape of our dataframe is:', G.shape)"
   ]
  },
  {
   "cell_type": "code",
   "execution_count": 6,
   "metadata": {
    "execution": {
     "iopub.execute_input": "2022-02-18T09:25:24.208862Z",
     "iopub.status.busy": "2022-02-18T09:25:24.207790Z",
     "iopub.status.idle": "2022-02-18T09:25:26.192648Z",
     "shell.execute_reply": "2022-02-18T09:25:26.191660Z",
     "shell.execute_reply.started": "2022-02-18T09:25:24.208825Z"
    }
   },
   "outputs": [],
   "source": [
    "G = G.dropna()"
   ]
  },
  {
   "cell_type": "code",
   "execution_count": 7,
   "metadata": {
    "execution": {
     "iopub.execute_input": "2022-02-18T09:25:26.194396Z",
     "iopub.status.busy": "2022-02-18T09:25:26.194114Z",
     "iopub.status.idle": "2022-02-18T09:25:26.199853Z",
     "shell.execute_reply": "2022-02-18T09:25:26.199037Z",
     "shell.execute_reply.started": "2022-02-18T09:25:26.194351Z"
    }
   },
   "outputs": [
    {
     "name": "stdout",
     "output_type": "stream",
     "text": [
      "The shape of our dataframe is: (10000, 14791)\n"
     ]
    }
   ],
   "source": [
    "print('The shape of our dataframe is:', G.shape)"
   ]
  },
  {
   "cell_type": "markdown",
   "metadata": {},
   "source": [
    "### Encoding target values"
   ]
  },
  {
   "cell_type": "code",
   "execution_count": 8,
   "metadata": {
    "execution": {
     "iopub.execute_input": "2022-02-18T09:25:26.201230Z",
     "iopub.status.busy": "2022-02-18T09:25:26.200992Z",
     "iopub.status.idle": "2022-02-18T09:25:26.215119Z",
     "shell.execute_reply": "2022-02-18T09:25:26.214079Z",
     "shell.execute_reply.started": "2022-02-18T09:25:26.201202Z"
    }
   },
   "outputs": [],
   "source": [
    "def encode_feature(array):\n",
    "    \"\"\" Encode a categorical array into a number array\n",
    "    \n",
    "    :param array: array to be encoded\n",
    "    :return: numerical array\n",
    "    \"\"\"\n",
    "  \n",
    "    encoder = preprocessing.LabelEncoder()\n",
    "    encoder.fit(array)\n",
    "    return encoder.transform(array)"
   ]
  },
  {
   "cell_type": "code",
   "execution_count": 9,
   "metadata": {
    "execution": {
     "iopub.execute_input": "2022-02-18T09:25:26.217154Z",
     "iopub.status.busy": "2022-02-18T09:25:26.216685Z",
     "iopub.status.idle": "2022-02-18T09:25:26.232433Z",
     "shell.execute_reply": "2022-02-18T09:25:26.231475Z",
     "shell.execute_reply.started": "2022-02-18T09:25:26.217099Z"
    }
   },
   "outputs": [
    {
     "name": "stdout",
     "output_type": "stream",
     "text": [
      "['LORF' 'CDS' 'CDS' ... 'LORF' 'CDS' 'CDS']\n"
     ]
    }
   ],
   "source": [
    "class_names = ['CDS', 'LORF']\n",
    "targets = G[\"Type\"].values\n",
    "print(targets)"
   ]
  },
  {
   "cell_type": "code",
   "execution_count": 10,
   "metadata": {
    "execution": {
     "iopub.execute_input": "2022-02-18T09:25:26.234414Z",
     "iopub.status.busy": "2022-02-18T09:25:26.233679Z",
     "iopub.status.idle": "2022-02-18T09:25:26.246533Z",
     "shell.execute_reply": "2022-02-18T09:25:26.245782Z",
     "shell.execute_reply.started": "2022-02-18T09:25:26.234314Z"
    }
   },
   "outputs": [
    {
     "name": "stdout",
     "output_type": "stream",
     "text": [
      "[1 0 0 ... 1 0 0]\n"
     ]
    }
   ],
   "source": [
    "targets = encode_feature(targets)\n",
    "print(targets)"
   ]
  },
  {
   "cell_type": "code",
   "execution_count": 11,
   "metadata": {
    "execution": {
     "iopub.execute_input": "2022-02-18T09:25:26.249384Z",
     "iopub.status.busy": "2022-02-18T09:25:26.248757Z",
     "iopub.status.idle": "2022-02-18T09:25:26.261700Z",
     "shell.execute_reply": "2022-02-18T09:25:26.260813Z",
     "shell.execute_reply.started": "2022-02-18T09:25:26.249315Z"
    }
   },
   "outputs": [
    {
     "name": "stdout",
     "output_type": "stream",
     "text": [
      "The shape of our dataframe is: (10000, 14791)\n",
      "Rows: 10000\n",
      "Columns: 14791\n"
     ]
    }
   ],
   "source": [
    "print('The shape of our dataframe is:', G.shape)\n",
    "print('Rows:', G.shape[0])\n",
    "print('Columns:', G.shape[1])"
   ]
  },
  {
   "cell_type": "markdown",
   "metadata": {},
   "source": [
    "### Selecting features and targets and converting data to arrays"
   ]
  },
  {
   "cell_type": "code",
   "execution_count": 12,
   "metadata": {
    "execution": {
     "iopub.execute_input": "2022-02-18T09:25:26.263464Z",
     "iopub.status.busy": "2022-02-18T09:25:26.262944Z",
     "iopub.status.idle": "2022-02-18T09:25:28.108844Z",
     "shell.execute_reply": "2022-02-18T09:25:28.107849Z",
     "shell.execute_reply.started": "2022-02-18T09:25:26.263427Z"
    }
   },
   "outputs": [],
   "source": [
    "# Labels are the values we want to predict\n",
    "labels = targets\n",
    "\n",
    "# Remove the labels from the features -> axis 1 refers to the columns\n",
    "features = G.drop(['Type','Genome', 'Dataset'], axis = 1)\n",
    "\n",
    "# Saving feature names as list for later use\n",
    "feature_names = list(features.columns)\n",
    "\n",
    "# Convert to numpy array\n",
    "features = np.array(features)"
   ]
  },
  {
   "cell_type": "code",
   "execution_count": 13,
   "metadata": {
    "execution": {
     "iopub.execute_input": "2022-02-18T09:25:28.110954Z",
     "iopub.status.busy": "2022-02-18T09:25:28.110666Z",
     "iopub.status.idle": "2022-02-18T09:25:28.116820Z",
     "shell.execute_reply": "2022-02-18T09:25:28.115794Z",
     "shell.execute_reply.started": "2022-02-18T09:25:28.110921Z"
    }
   },
   "outputs": [
    {
     "name": "stdout",
     "output_type": "stream",
     "text": [
      "The shape of our features are: (10000, 14788)\n"
     ]
    }
   ],
   "source": [
    "print('The shape of our features are:', features.shape)"
   ]
  },
  {
   "cell_type": "markdown",
   "metadata": {},
   "source": [
    "### Split into training and testing sets"
   ]
  },
  {
   "cell_type": "code",
   "execution_count": 14,
   "metadata": {
    "execution": {
     "iopub.execute_input": "2022-02-18T09:25:28.118831Z",
     "iopub.status.busy": "2022-02-18T09:25:28.118599Z",
     "iopub.status.idle": "2022-02-18T09:25:31.205874Z",
     "shell.execute_reply": "2022-02-18T09:25:31.204886Z",
     "shell.execute_reply.started": "2022-02-18T09:25:28.118803Z"
    }
   },
   "outputs": [],
   "source": [
    "# Split the data into training and testing sets -> x = features and y = labels/targets\n",
    "train_x, test_x, train_y, test_y = train_test_split(features, labels, test_size = 0.25, random_state = 42)"
   ]
  },
  {
   "cell_type": "code",
   "execution_count": 15,
   "metadata": {
    "execution": {
     "iopub.execute_input": "2022-02-18T09:25:31.210413Z",
     "iopub.status.busy": "2022-02-18T09:25:31.210131Z",
     "iopub.status.idle": "2022-02-18T09:25:31.217835Z",
     "shell.execute_reply": "2022-02-18T09:25:31.216672Z",
     "shell.execute_reply.started": "2022-02-18T09:25:31.210382Z"
    }
   },
   "outputs": [
    {
     "name": "stdout",
     "output_type": "stream",
     "text": [
      "Training Features Shape: (7500, 14788)\n",
      "Training Labels Shape: (7500,)\n",
      "Testing Features Shape: (2500, 14788)\n",
      "Testing Labels Shape: (2500,)\n"
     ]
    }
   ],
   "source": [
    "print('Training Features Shape:', train_x.shape)\n",
    "print('Training Labels Shape:', train_y.shape)\n",
    "print('Testing Features Shape:', test_x.shape)\n",
    "print('Testing Labels Shape:', test_y.shape)"
   ]
  },
  {
   "cell_type": "markdown",
   "metadata": {},
   "source": [
    "## Train model - default Rand Forest\n",
    "\n",
    "**RandomForestClassifier**(bootstrap=True, class_weight=None, criterion='gini',\n",
    "            max_depth=None, max_features='auto', max_leaf_nodes=None,\n",
    "            min_impurity_decrease=0.0, min_impurity_split=None,\n",
    "            min_samples_leaf=1, min_samples_split=2,\n",
    "            min_weight_fraction_leaf=0.0, n_estimators=100, n_jobs=1,\n",
    "            oob_score=False, random_state=None, verbose=0,\n",
    "            warm_start=False)"
   ]
  },
  {
   "cell_type": "code",
   "execution_count": 16,
   "metadata": {
    "execution": {
     "iopub.execute_input": "2022-02-18T09:25:31.219813Z",
     "iopub.status.busy": "2022-02-18T09:25:31.219256Z",
     "iopub.status.idle": "2022-02-18T09:25:45.851186Z",
     "shell.execute_reply": "2022-02-18T09:25:45.850132Z",
     "shell.execute_reply.started": "2022-02-18T09:25:31.219778Z"
    }
   },
   "outputs": [
    {
     "data": {
      "text/plain": [
       "RandomForestClassifier(n_jobs=-1, random_state=42)"
      ]
     },
     "execution_count": 16,
     "metadata": {},
     "output_type": "execute_result"
    }
   ],
   "source": [
    "# Create a Gaussian Classifier\n",
    "clf = RandomForestClassifier(random_state = 42, n_jobs=-1)\n",
    "\n",
    "# Train the model using the training sets\n",
    "clf.fit(train_x, train_y)"
   ]
  },
  {
   "cell_type": "markdown",
   "metadata": {},
   "source": [
    "### Make predictions on test set"
   ]
  },
  {
   "cell_type": "code",
   "execution_count": 17,
   "metadata": {
    "execution": {
     "iopub.execute_input": "2022-02-18T09:25:45.853173Z",
     "iopub.status.busy": "2022-02-18T09:25:45.852838Z",
     "iopub.status.idle": "2022-02-18T09:25:46.073434Z",
     "shell.execute_reply": "2022-02-18T09:25:46.072085Z",
     "shell.execute_reply.started": "2022-02-18T09:25:45.853127Z"
    }
   },
   "outputs": [
    {
     "name": "stdout",
     "output_type": "stream",
     "text": [
      "Accuracy: 0.8752\n"
     ]
    }
   ],
   "source": [
    "pred_y = clf.predict(test_x)\n",
    "\n",
    "# Model Accuracy, how often is the classifier correct?\n",
    "print(\"Accuracy:\",metrics.accuracy_score(test_y, pred_y))"
   ]
  },
  {
   "cell_type": "markdown",
   "metadata": {},
   "source": [
    "## Hyperparametertuning"
   ]
  },
  {
   "cell_type": "code",
   "execution_count": null,
   "metadata": {
    "execution": {
     "iopub.execute_input": "2022-02-18T09:38:52.137478Z",
     "iopub.status.busy": "2022-02-18T09:38:52.136886Z",
     "iopub.status.idle": "2022-02-18T09:38:52.147738Z",
     "shell.execute_reply": "2022-02-18T09:38:52.146494Z",
     "shell.execute_reply.started": "2022-02-18T09:38:52.137432Z"
    }
   },
   "outputs": [],
   "source": [
    "# Number of trees in random forest\n",
    "n_estimators = [int(x) for x in np.linspace(start = 10, stop = 1000, num = 10)]\n",
    "\n",
    "# Number of features to consider at every split\n",
    "max_features = ['auto', 'sqrt']\n",
    "\n",
    "# Maximum number of levels in tree\n",
    "max_depth = [int(x) for x in np.linspace(10, 70, num = 10)]\n",
    "\n",
    "# Method of selecting samples for training each tree\n",
    "bootstrap = [True, False]\n",
    "\n",
    "# Create the random grid\n",
    "random_grid = {'n_estimators': n_estimators,\n",
    "               'max_features': max_features,\n",
    "               'max_depth': max_depth,\n",
    "               'bootstrap': bootstrap}\n",
    "\n",
    "print(random_grid)"
   ]
  },
  {
   "cell_type": "code",
   "execution_count": null,
   "metadata": {
    "execution": {
     "iopub.execute_input": "2022-02-18T09:38:53.376857Z",
     "iopub.status.busy": "2022-02-18T09:38:53.376072Z"
    }
   },
   "outputs": [],
   "source": [
    "# Random search of parameters, using 3 fold cross validation\n",
    "clf_random = RandomizedSearchCV(estimator = clf, param_distributions = random_grid, n_iter = 10,\n",
    "                               cv = 3, verbose=2, random_state=42, n_jobs = -1, return_train_score=True)\n",
    "\n",
    "# Fit the random search model\n",
    "clf_random.fit(train_x, train_y);"
   ]
  },
  {
   "cell_type": "code",
   "execution_count": null,
   "metadata": {},
   "outputs": [],
   "source": [
    "clf_random.best_params_"
   ]
  },
  {
   "cell_type": "markdown",
   "metadata": {},
   "source": [
    "### Make predictions on test set"
   ]
  },
  {
   "cell_type": "code",
   "execution_count": null,
   "metadata": {},
   "outputs": [],
   "source": [
    "pred_y = clf_random.predict(test_x)\n",
    "\n",
    "# Model Accuracy, how often is the classifier correct?\n",
    "print(\"Accuracy after random search:\",metrics.accuracy_score(test_y, pred_y))"
   ]
  },
  {
   "cell_type": "markdown",
   "metadata": {},
   "source": [
    "### Evaluate functions"
   ]
  },
  {
   "cell_type": "code",
   "execution_count": null,
   "metadata": {},
   "outputs": [],
   "source": [
    "def evaluate(model, test_features, test_lables):\n",
    "    predictions = model.predict(test_features)\n",
    "    accuracy = metrics.accuracy_score(test_lables, predictions)\n",
    "    print('Model Performance')\n",
    "    print('Accuracy = {:0.4f}%.'.format(accuracy))\n",
    "    return accuracy"
   ]
  },
  {
   "cell_type": "markdown",
   "metadata": {},
   "source": [
    "#### Default model"
   ]
  },
  {
   "cell_type": "code",
   "execution_count": null,
   "metadata": {},
   "outputs": [],
   "source": [
    "base_accuracy = evaluate(clf, test_x, test_y)"
   ]
  },
  {
   "cell_type": "markdown",
   "metadata": {},
   "source": [
    "#### Best random search model"
   ]
  },
  {
   "cell_type": "code",
   "execution_count": null,
   "metadata": {},
   "outputs": [],
   "source": [
    "best_random = clf_random.best_estimator_\n",
    "random_accuracy = evaluate(best_random, test_x, test_y)"
   ]
  },
  {
   "cell_type": "code",
   "execution_count": null,
   "metadata": {},
   "outputs": [],
   "source": [
    "print('Improvement of {:0.3f}%.'.format( 100 * (random_accuracy - base_accuracy) / base_accuracy))"
   ]
  },
  {
   "cell_type": "markdown",
   "metadata": {},
   "source": [
    "## Train model - best params RandomSearch"
   ]
  },
  {
   "cell_type": "code",
   "execution_count": 18,
   "metadata": {},
   "outputs": [
    {
     "data": {
      "text/plain": [
       "RandomForestClassifier(bootstrap=False, max_depth=20, n_estimators=200,\n",
       "                       random_state=42)"
      ]
     },
     "execution_count": 18,
     "metadata": {},
     "output_type": "execute_result"
    }
   ],
   "source": [
    "# Create a Gaussian Classifier\n",
    "clf_rand = RandomForestClassifier(n_estimators=200, max_features='auto', max_depth=20, bootstrap=False, random_state = 42)\n",
    "\n",
    "# Train the model using the training sets\n",
    "clf_rand.fit(train_x, train_y)"
   ]
  },
  {
   "cell_type": "markdown",
   "metadata": {},
   "source": [
    "## Make predictions on test set"
   ]
  },
  {
   "cell_type": "code",
   "execution_count": 19,
   "metadata": {},
   "outputs": [
    {
     "name": "stdout",
     "output_type": "stream",
     "text": [
      "Accuracy score: 0.88\n"
     ]
    }
   ],
   "source": [
    "pred_y = clf_rand.predict(test_x)\n",
    "\n",
    "# Model Accuracy, how often is the classifier correct?\n",
    "print(\"Accuracy score:\", metrics.accuracy_score(test_y, pred_y))\n",
    "\n",
    "# Precision, Recall and Roc_AUC score\n",
    "#print(\"Precision score:\", metrics.precision_score(test_y, pred_y))\n",
    "#print(\"Recall score:\", metrics.recall_score(test_y, pred_y))\n",
    "#print(\"ROC_AUC score:\", metrics.roc_auc_score(test_y, pred_y))"
   ]
  },
  {
   "cell_type": "markdown",
   "metadata": {},
   "source": [
    "## Confusion matrix"
   ]
  },
  {
   "cell_type": "code",
   "execution_count": null,
   "metadata": {},
   "outputs": [],
   "source": [
    "plot_confusion_matrix(clf_rand, test_x, test_y)  \n",
    "plt.show()\n",
    "\n",
    "#plt.savefig('confmatrix_g1_uneven.png', dpi=300, bbox_inches='tight', transparent=True)"
   ]
  },
  {
   "cell_type": "markdown",
   "metadata": {},
   "source": [
    "## Finding important features\n",
    "\n",
    "1. Create a random forests model.\n",
    "2. Use the feature importance variable to see feature importance scores.\n",
    "3. Visualize these scores using the seaborn library."
   ]
  },
  {
   "cell_type": "code",
   "execution_count": null,
   "metadata": {},
   "outputs": [],
   "source": [
    "feature_imp = pd.Series(clf_rand.feature_importances_, index = feature_names).sort_values(ascending=False)"
   ]
  },
  {
   "cell_type": "code",
   "execution_count": null,
   "metadata": {},
   "outputs": [],
   "source": [
    "features = feature_imp.to_frame()\n",
    "features.columns = ['Feature importance']"
   ]
  },
  {
   "cell_type": "code",
   "execution_count": null,
   "metadata": {},
   "outputs": [],
   "source": [
    "features"
   ]
  },
  {
   "cell_type": "code",
   "execution_count": null,
   "metadata": {},
   "outputs": [],
   "source": [
    "# Grouping all k-mers\n",
    "dimers = features[features.index.map(lambda x: \"2_mer_\" in x)]\n",
    "trimers = features[features.index.map(lambda x: \"3_mer_\" in x)]\n",
    "tetramers = features[features.index.map(lambda x: \"4_mer_\" in x)]\n",
    "pentamers = features[features.index.map(lambda x: \"5_mer_\" in x)] \n",
    "hexamers = features[features.index.map(lambda x: \"6_mer_\" in x)]\n",
    "\n",
    "# Grouping all aa-mers\n",
    "single_aa = features[features.index.map(lambda x: \"1_aa_mer_\" in x)]\n",
    "double_aa = features[features.index.map(lambda x: \"2_aa_mer_\" in x)]\n",
    "triple_aa = features[features.index.map(lambda x: \"3_aa_mer_\" in x)]\n",
    "\n",
    "# Grouping c_weights\n",
    "c_weight = features[features.index.map(lambda x: \"c_weight\" in x)]"
   ]
  },
  {
   "cell_type": "markdown",
   "metadata": {},
   "source": [
    "#### Mean feature importances of all k-mers, aa-mers and c_weights"
   ]
  },
  {
   "cell_type": "code",
   "execution_count": null,
   "metadata": {},
   "outputs": [],
   "source": [
    "data = {'Feature importance': [round(dimers.mean().iloc[0], 6), round(trimers.mean().iloc[0], 6), \n",
    "                               round(tetramers.mean().iloc[0], 6), round(pentamers.mean().iloc[0], 6), \n",
    "                               round(hexamers.mean().iloc[0], 6), round(single_aa.mean().iloc[0], 6), \n",
    "                               round(double_aa.mean().iloc[0], 6), round(triple_aa.mean().iloc[0], 6),\n",
    "                               round(c_weight.mean().iloc[0], 6)]}\n",
    "\n",
    "features_cond = pd.DataFrame(data, index = ['dimers', 'trimers', 'tetramers', 'pentamers', 'hexamers', \n",
    "                                            'single_aa', 'double_aa', 'triple_aa', 'c_weight'])"
   ]
  },
  {
   "cell_type": "markdown",
   "metadata": {},
   "source": [
    "#### Sum of all feature importances of k-mers, aa-mers and c_weights"
   ]
  },
  {
   "cell_type": "code",
   "execution_count": null,
   "metadata": {},
   "outputs": [],
   "source": [
    "data = {'Feature importance': [round(dimers.sum().iloc[0], 6), round(trimers.sum().iloc[0], 6), \n",
    "                               round(tetramers.sum().iloc[0], 6), round(pentamers.sum().iloc[0], 6), \n",
    "                               round(hexamers.sum().iloc[0], 6), round(single_aa.sum().iloc[0], 6), \n",
    "                               round(double_aa.sum().iloc[0], 6), round(triple_aa.sum().iloc[0], 6),\n",
    "                               round(c_weight.sum().iloc[0], 6)]}\n",
    "\n",
    "features_cond2 = pd.DataFrame(data, index = ['dimers', 'trimers', 'tetramers', 'pentamers', 'hexamers', \n",
    "                                            'single_aa', 'double_aa', 'triple_aa', 'c_weight'])"
   ]
  },
  {
   "cell_type": "code",
   "execution_count": null,
   "metadata": {},
   "outputs": [],
   "source": [
    "features_cond"
   ]
  },
  {
   "cell_type": "code",
   "execution_count": null,
   "metadata": {},
   "outputs": [],
   "source": [
    "ind_list = ['GC_content', 'GC1_content', 'GC2_content', 'GC3_content', \n",
    "            'Start_ATG', 'Start_GTG', 'Start_TTG', 'Length']\n",
    "\n",
    "features_condensed = features.loc[ind_list]"
   ]
  },
  {
   "cell_type": "code",
   "execution_count": null,
   "metadata": {},
   "outputs": [],
   "source": [
    "features_condensed"
   ]
  },
  {
   "cell_type": "code",
   "execution_count": null,
   "metadata": {},
   "outputs": [],
   "source": [
    "features_red = pd.concat([features_condensed, features_cond])\n",
    "features_red = features_red.squeeze()"
   ]
  },
  {
   "cell_type": "code",
   "execution_count": null,
   "metadata": {},
   "outputs": [],
   "source": [
    "features_red = features_red.sort_values(ascending=False)\n",
    "features_red"
   ]
  },
  {
   "cell_type": "code",
   "execution_count": null,
   "metadata": {},
   "outputs": [],
   "source": [
    "features_red2 = pd.concat([features_condensed, features_cond2])\n",
    "features_red2 = features_red2.squeeze()"
   ]
  },
  {
   "cell_type": "code",
   "execution_count": null,
   "metadata": {},
   "outputs": [],
   "source": [
    "features_red2 = features_red2.sort_values(ascending=False)\n",
    "features_red2"
   ]
  },
  {
   "cell_type": "code",
   "execution_count": null,
   "metadata": {},
   "outputs": [],
   "source": [
    "%matplotlib inline\n",
    "\n",
    "# Creating a bar plot\n",
    "sns.barplot(x = features_red, y = features_red.index)\n",
    "\n",
    "# Add labels to your graph\n",
    "plt.xlabel('Feature Importance Score')\n",
    "plt.ylabel('Features')\n",
    "plt.title(\"Visualizing Important Features (mean)\")\n",
    "#plt.legend(features_red.index, loc =\"lower right\", fontsize='x-small')\n",
    "plt.show()\n",
    "\n",
    "#plt.savefig('feature_imp_g1_agr_mean_uneven.png', dpi=300, bbox_inches='tight', transparent=True)"
   ]
  },
  {
   "cell_type": "code",
   "execution_count": null,
   "metadata": {},
   "outputs": [],
   "source": [
    "%matplotlib inline\n",
    "\n",
    "# Creating a bar plot\n",
    "sns.barplot(x = features_red2, y = features_red2.index)\n",
    "\n",
    "# Add labels to your graph\n",
    "plt.xlabel('Feature Importance Score')\n",
    "plt.ylabel('Features')\n",
    "plt.title(\"Visualizing Important Features (sum)\")\n",
    "#plt.legend(features_red.index, loc =\"lower right\", fontsize='x-small')\n",
    "plt.show()\n",
    "\n",
    "#plt.savefig('feature_imp_g1_agr_uneven.png', dpi=300, bbox_inches='tight', transparent=True)"
   ]
  },
  {
   "cell_type": "code",
   "execution_count": null,
   "metadata": {},
   "outputs": [],
   "source": [
    "%matplotlib inline\n",
    "\n",
    "features_condensed = features_condensed.squeeze().sort_values(ascending=False)\n",
    "\n",
    "# Creating a bar plot\n",
    "sns.barplot(x = features_condensed, y = features_condensed.index)\n",
    "\n",
    "# Add labels to your graph\n",
    "plt.xlabel('Feature Importance Score')\n",
    "plt.ylabel('Features')\n",
    "plt.title(\"Visualizing Important Features\")\n",
    "plt.show()"
   ]
  },
  {
   "cell_type": "markdown",
   "metadata": {},
   "source": [
    "### Visualization"
   ]
  },
  {
   "cell_type": "code",
   "execution_count": 21,
   "metadata": {},
   "outputs": [],
   "source": [
    "feature_imp = pd.Series(clf_rand.feature_importances_, index = feature_names).sort_values(ascending=False)"
   ]
  },
  {
   "cell_type": "code",
   "execution_count": null,
   "metadata": {},
   "outputs": [],
   "source": [
    "selected = feature_imp.iloc[0:15]"
   ]
  },
  {
   "cell_type": "code",
   "execution_count": null,
   "metadata": {},
   "outputs": [],
   "source": [
    "%matplotlib inline\n",
    "\n",
    "# Creating a bar plot\n",
    "sns.barplot(x = selected, y = selected.index)\n",
    "\n",
    "# Add labels to your graph\n",
    "plt.xlabel('Feature Importance Score')\n",
    "plt.ylabel('Features')\n",
    "plt.title(\"Visualizing Important Features\")\n",
    "#plt.legend()\n",
    "plt.show()\n",
    "\n",
    "#plt.savefig('feature_imp_g1_uneven.png', dpi=300, bbox_inches='tight', transparent=True)"
   ]
  },
  {
   "cell_type": "markdown",
   "metadata": {},
   "source": [
    "## Generating the model on selected features\n",
    "\n",
    "After removing the least important features the accuracy may increase. This is because one removes misleading data and noise, resulting in increased accuracy. A lesser amount of features also reduces the training time."
   ]
  },
  {
   "cell_type": "code",
   "execution_count": 22,
   "metadata": {},
   "outputs": [],
   "source": [
    "selected = feature_imp.iloc[0:200]"
   ]
  },
  {
   "cell_type": "code",
   "execution_count": 23,
   "metadata": {},
   "outputs": [],
   "source": [
    "selected_feat = list(selected.index)"
   ]
  },
  {
   "cell_type": "code",
   "execution_count": 24,
   "metadata": {},
   "outputs": [],
   "source": [
    "important_indices = [feature_names.index(x) for x in selected_feat]"
   ]
  },
  {
   "cell_type": "code",
   "execution_count": 31,
   "metadata": {},
   "outputs": [],
   "source": [
    "# Create a Gaussian Classifier\n",
    "clf_imp = RandomForestClassifier(n_estimators=1000, max_features=3, \n",
    "                             max_depth=20, bootstrap=False, random_state = 42)\n",
    "\n",
    "# Select most important features\n",
    "important_indices = [feature_names.index(x) for x in selected_feat]\n",
    "\n",
    "train_important = train_x[:, important_indices]\n",
    "test_important = test_x[:, important_indices]"
   ]
  },
  {
   "cell_type": "code",
   "execution_count": 32,
   "metadata": {},
   "outputs": [
    {
     "data": {
      "text/plain": [
       "RandomForestClassifier(bootstrap=False, max_depth=20, max_features=3,\n",
       "                       n_estimators=1000, random_state=42)"
      ]
     },
     "execution_count": 32,
     "metadata": {},
     "output_type": "execute_result"
    }
   ],
   "source": [
    "# Train the random forest\n",
    "clf_imp.fit(train_important, train_y)"
   ]
  },
  {
   "cell_type": "code",
   "execution_count": 33,
   "metadata": {},
   "outputs": [
    {
     "name": "stdout",
     "output_type": "stream",
     "text": [
      "Accuracy score: 0.8888\n",
      "Precision score: 0.9115479115479116\n",
      "Recall score: 0.8674980514419329\n",
      "ROC_AUC score: 0.8893776206264717\n"
     ]
    }
   ],
   "source": [
    "# Make predictions and determine the error\n",
    "pred_y = clf_imp.predict(test_important)\n",
    "\n",
    "# Model Accuracy, how often is the classifier correct?\n",
    "print(\"Accuracy score:\", metrics.accuracy_score(test_y, pred_y))\n",
    "# Precision, Recall and Roc_AUC score\n",
    "print(\"Precision score:\", metrics.precision_score(test_y, pred_y))\n",
    "print(\"Recall score:\", metrics.recall_score(test_y, pred_y))\n",
    "print(\"ROC_AUC score:\", metrics.roc_auc_score(test_y, pred_y))"
   ]
  },
  {
   "cell_type": "markdown",
   "metadata": {},
   "source": [
    "#### Confusion matrix"
   ]
  },
  {
   "cell_type": "code",
   "execution_count": null,
   "metadata": {},
   "outputs": [],
   "source": [
    "plot_confusion_matrix(clf_imp, test_important, test_y)  \n",
    "plt.show()\n",
    "\n",
    "#plt.savefig('confmatrix_g1_bestmod_uneven.png', dpi=300, bbox_inches='tight', transparent=True)"
   ]
  },
  {
   "cell_type": "code",
   "execution_count": null,
   "metadata": {},
   "outputs": [],
   "source": []
  }
 ],
 "metadata": {
  "kernelspec": {
   "display_name": "Python 3",
   "language": "python",
   "name": "python3"
  },
  "language_info": {
   "codemirror_mode": {
    "name": "ipython",
    "version": 3
   },
   "file_extension": ".py",
   "mimetype": "text/x-python",
   "name": "python",
   "nbconvert_exporter": "python",
   "pygments_lexer": "ipython3",
   "version": "3.8.8"
  }
 },
 "nbformat": 4,
 "nbformat_minor": 4
}
