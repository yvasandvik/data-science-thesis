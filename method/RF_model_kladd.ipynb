{
 "cells": [
  {
   "cell_type": "markdown",
   "id": "97289c69",
   "metadata": {},
   "source": [
    "# Random Forest Model\n",
    "\n",
    "RF model to be used for predicting protein coding genes in DNA sequences"
   ]
  },
  {
   "cell_type": "markdown",
   "id": "0a9056d3",
   "metadata": {},
   "source": [
    "## Importing data"
   ]
  },
  {
   "cell_type": "code",
   "execution_count": 1,
   "id": "e9478ba8",
   "metadata": {},
   "outputs": [],
   "source": [
    "import pandas as pd\n",
    "import time"
   ]
  },
  {
   "cell_type": "code",
   "execution_count": 2,
   "id": "39aacb85",
   "metadata": {},
   "outputs": [
    {
     "name": "stdout",
     "output_type": "stream",
     "text": [
      "131.2653501033783\n"
     ]
    }
   ],
   "source": [
    "start = time.time()\n",
    "\n",
    "G1 = pd.read_csv('~/Documents/NMBU/Semester 12/Data Science Master/R/G1.features.csv')\n",
    "G2 = pd.read_csv('~/Documents/NMBU/Semester 12/Data Science Master/R/G2.features.csv')\n",
    "G3 = pd.read_csv('~/Documents/NMBU/Semester 12/Data Science Master/R/G3.features.csv')\n",
    "G4 = pd.read_csv('~/Documents/NMBU/Semester 12/Data Science Master/R/G4.features.csv')\n",
    "G5 = pd.read_csv('~/Documents/NMBU/Semester 12/Data Science Master/R/G5.features.csv')\n",
    "G6 = pd.read_csv('~/Documents/NMBU/Semester 12/Data Science Master/R/G6.features.csv')\n",
    "G7 = pd.read_csv('~/Documents/NMBU/Semester 12/Data Science Master/R/G7.features.csv')\n",
    "\n",
    "frames = [G1, G2, G3, G4, G5, G6, G7]\n",
    "\n",
    "df = pd.concat(frames)\n",
    "df = df.iloc[: , 1:]\n",
    "\n",
    "end = time.time()\n",
    "print(end - start)"
   ]
  },
  {
   "cell_type": "code",
   "execution_count": null,
   "id": "b63ee9e2",
   "metadata": {},
   "outputs": [],
   "source": [
    "print(df.shape)"
   ]
  },
  {
   "cell_type": "code",
   "execution_count": null,
   "id": "722c2065",
   "metadata": {},
   "outputs": [],
   "source": [
    "df.head(10)"
   ]
  },
  {
   "cell_type": "code",
   "execution_count": 3,
   "id": "8d5f96c8",
   "metadata": {},
   "outputs": [
    {
     "name": "stdout",
     "output_type": "stream",
     "text": [
      "234.49022006988525\n"
     ]
    }
   ],
   "source": [
    "start = time.time()\n",
    "\n",
    "#genomes = ['G1','G2','G3','G4','G5','G6','G7','G8','G9','G10','G11','G12','G13','G14','G15']\n",
    "genomes = ['G1','G2','G3','G4','G5','G6','G7']\n",
    "\n",
    "df = pd.DataFrame()\n",
    "for genome in genomes:\n",
    "    genome = pd.read_csv('~/Documents/NMBU/Semester 12/Data Science Master/R/'+genome+'.features.csv')\n",
    "    genome = genome.iloc[: , 1:]\n",
    "    df = df.append(genome)\n",
    "\n",
    "end = time.time()\n",
    "print(end - start)"
   ]
  },
  {
   "cell_type": "code",
   "execution_count": null,
   "id": "3d5e6ce1",
   "metadata": {},
   "outputs": [],
   "source": [
    "df.head(10)"
   ]
  },
  {
   "cell_type": "code",
   "execution_count": null,
   "id": "cd2cb8cb",
   "metadata": {},
   "outputs": [],
   "source": [
    "print(df.shape)"
   ]
  }
 ],
 "metadata": {
  "kernelspec": {
   "display_name": "Python 3",
   "language": "python",
   "name": "python3"
  },
  "language_info": {
   "codemirror_mode": {
    "name": "ipython",
    "version": 3
   },
   "file_extension": ".py",
   "mimetype": "text/x-python",
   "name": "python",
   "nbconvert_exporter": "python",
   "pygments_lexer": "ipython3",
   "version": "3.8.8"
  }
 },
 "nbformat": 4,
 "nbformat_minor": 5
}
