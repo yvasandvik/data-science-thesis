{
 "cells": [
  {
   "cell_type": "markdown",
   "id": "5846310c",
   "metadata": {
    "papermill": {
     "duration": 0.028746,
     "end_time": "2022-05-07T12:14:58.189863",
     "exception": false,
     "start_time": "2022-05-07T12:14:58.161117",
     "status": "completed"
    },
    "tags": []
   },
   "source": [
    "# Simple RNN model - amino acid sequences"
   ]
  },
  {
   "cell_type": "code",
   "execution_count": 1,
   "id": "de0018e1",
   "metadata": {
    "execution": {
     "iopub.execute_input": "2022-05-07T12:14:58.258636Z",
     "iopub.status.busy": "2022-05-07T12:14:58.257996Z",
     "iopub.status.idle": "2022-05-07T12:15:04.129355Z",
     "shell.execute_reply": "2022-05-07T12:15:04.128726Z",
     "shell.execute_reply.started": "2022-04-27T13:45:27.011884Z"
    },
    "papermill": {
     "duration": 5.911383,
     "end_time": "2022-05-07T12:15:04.129498",
     "exception": false,
     "start_time": "2022-05-07T12:14:58.218115",
     "status": "completed"
    },
    "tags": []
   },
   "outputs": [],
   "source": [
    "# Preprocessing and encoding variables\n",
    "import pandas as pd\n",
    "import numpy as np\n",
    "\n",
    "# Using Skicit-learn to split data into training and testing sets\n",
    "from sklearn import preprocessing\n",
    "from sklearn.preprocessing import LabelEncoder\n",
    "from sklearn.preprocessing import OneHotEncoder\n",
    "from sklearn.model_selection import train_test_split\n",
    "\n",
    "# For characterlevel one hot encoding or label encoding \n",
    "from tensorflow.keras.preprocessing.text import Tokenizer\n",
    "from tensorflow.keras.preprocessing import sequence\n",
    "\n",
    "# For creating the RNN model\n",
    "from tensorflow.keras.models import Sequential\n",
    "from tensorflow.keras.layers import Dense, Embedding, LSTM, Dropout, Activation\n",
    "import tensorflow.keras.utils as utils\n",
    "\n",
    "# For plotting\n",
    "import matplotlib.pyplot as plt\n",
    "import seaborn as sn\n",
    "\n",
    "# Tuning with keras tuner\n",
    "import tensorflow as tf\n",
    "from tensorflow import keras\n",
    "import keras_tuner as kt\n",
    "from keras_tuner import HyperModel\n",
    "from keras_tuner import HyperParameters"
   ]
  },
  {
   "cell_type": "markdown",
   "id": "a24913ca",
   "metadata": {
    "papermill": {
     "duration": 0.027361,
     "end_time": "2022-05-07T12:15:04.184321",
     "exception": false,
     "start_time": "2022-05-07T12:15:04.156960",
     "status": "completed"
    },
    "tags": []
   },
   "source": [
    "### Uploading genomes"
   ]
  },
  {
   "cell_type": "code",
   "execution_count": 2,
   "id": "cb1aa774",
   "metadata": {
    "execution": {
     "iopub.execute_input": "2022-05-07T12:15:04.245096Z",
     "iopub.status.busy": "2022-05-07T12:15:04.244431Z",
     "iopub.status.idle": "2022-05-07T12:15:04.387054Z",
     "shell.execute_reply": "2022-05-07T12:15:04.386359Z",
     "shell.execute_reply.started": "2022-04-27T13:45:27.427849Z"
    },
    "papermill": {
     "duration": 0.175894,
     "end_time": "2022-05-07T12:15:04.387199",
     "exception": false,
     "start_time": "2022-05-07T12:15:04.211305",
     "status": "completed"
    },
    "tags": []
   },
   "outputs": [],
   "source": [
    "G = pd.read_csv('../input/genomes/G1_translated.csv').iloc[:, 1:]"
   ]
  },
  {
   "cell_type": "code",
   "execution_count": 3,
   "id": "11704c19",
   "metadata": {
    "execution": {
     "iopub.execute_input": "2022-05-07T12:15:04.453951Z",
     "iopub.status.busy": "2022-05-07T12:15:04.453069Z",
     "iopub.status.idle": "2022-05-07T12:15:04.458080Z",
     "shell.execute_reply": "2022-05-07T12:15:04.457644Z",
     "shell.execute_reply.started": "2022-04-27T13:45:27.592246Z"
    },
    "papermill": {
     "duration": 0.040864,
     "end_time": "2022-05-07T12:15:04.458191",
     "exception": false,
     "start_time": "2022-05-07T12:15:04.417327",
     "status": "completed"
    },
    "tags": []
   },
   "outputs": [],
   "source": [
    "G = G.dropna()"
   ]
  },
  {
   "cell_type": "code",
   "execution_count": 4,
   "id": "e5f672bc",
   "metadata": {
    "execution": {
     "iopub.execute_input": "2022-05-07T12:15:04.521722Z",
     "iopub.status.busy": "2022-05-07T12:15:04.520917Z",
     "iopub.status.idle": "2022-05-07T12:15:04.531631Z",
     "shell.execute_reply": "2022-05-07T12:15:04.532039Z",
     "shell.execute_reply.started": "2022-04-27T13:45:27.696257Z"
    },
    "papermill": {
     "duration": 0.046422,
     "end_time": "2022-05-07T12:15:04.532166",
     "exception": false,
     "start_time": "2022-05-07T12:15:04.485744",
     "status": "completed"
    },
    "tags": []
   },
   "outputs": [
    {
     "data": {
      "text/html": [
       "<div>\n",
       "<style scoped>\n",
       "    .dataframe tbody tr th:only-of-type {\n",
       "        vertical-align: middle;\n",
       "    }\n",
       "\n",
       "    .dataframe tbody tr th {\n",
       "        vertical-align: top;\n",
       "    }\n",
       "\n",
       "    .dataframe thead th {\n",
       "        text-align: right;\n",
       "    }\n",
       "</style>\n",
       "<table border=\"1\" class=\"dataframe\">\n",
       "  <thead>\n",
       "    <tr style=\"text-align: right;\">\n",
       "      <th></th>\n",
       "      <th>Type</th>\n",
       "      <th>Sequence</th>\n",
       "      <th>Translated</th>\n",
       "    </tr>\n",
       "  </thead>\n",
       "  <tbody>\n",
       "    <tr>\n",
       "      <th>0</th>\n",
       "      <td>CDS</td>\n",
       "      <td>AAAGGCTAA</td>\n",
       "      <td>KG*</td>\n",
       "    </tr>\n",
       "    <tr>\n",
       "      <th>1</th>\n",
       "      <td>CDS</td>\n",
       "      <td>AAAAAAGAGTGA</td>\n",
       "      <td>KKE*</td>\n",
       "    </tr>\n",
       "    <tr>\n",
       "      <th>2</th>\n",
       "      <td>CDS</td>\n",
       "      <td>ATGAAAAATAGTGTCGCTGAGCACTAA</td>\n",
       "      <td>MKNSVAEH*</td>\n",
       "    </tr>\n",
       "    <tr>\n",
       "      <th>3</th>\n",
       "      <td>CDS</td>\n",
       "      <td>ATGATTAAATCCGACCAGGAGACCTGA</td>\n",
       "      <td>MIKSDQET*</td>\n",
       "    </tr>\n",
       "    <tr>\n",
       "      <th>4</th>\n",
       "      <td>CDS</td>\n",
       "      <td>ATGCTTCATTGCAAAGGGAATAATCTATGA</td>\n",
       "      <td>MLHCKGNNL*</td>\n",
       "    </tr>\n",
       "    <tr>\n",
       "      <th>5</th>\n",
       "      <td>CDS</td>\n",
       "      <td>ATGTTTCATGATTTACCGGGAGTTAAATAG</td>\n",
       "      <td>MFHDLPGVK*</td>\n",
       "    </tr>\n",
       "    <tr>\n",
       "      <th>6</th>\n",
       "      <td>CDS</td>\n",
       "      <td>GTGGTAGACAAGTTTAATAATTCGGATTGCTAA</td>\n",
       "      <td>VVDKFNNSDC*</td>\n",
       "    </tr>\n",
       "    <tr>\n",
       "      <th>7</th>\n",
       "      <td>CDS</td>\n",
       "      <td>ATGAGTGTGTCCTGTTGGGAGTTTAATGCCGGATAA</td>\n",
       "      <td>MSVSCWEFNAG*</td>\n",
       "    </tr>\n",
       "    <tr>\n",
       "      <th>8</th>\n",
       "      <td>CDS</td>\n",
       "      <td>ATGGTGCAGTTAGTCGATCTCGCACGTTGCGTTTCATTTTGA</td>\n",
       "      <td>MVQLVDLARCVSF*</td>\n",
       "    </tr>\n",
       "    <tr>\n",
       "      <th>9</th>\n",
       "      <td>CDS</td>\n",
       "      <td>ATGAACAGAGAAGAAATGCACTGTGATGTTGTCAAAATTTAA</td>\n",
       "      <td>MNREEMHCDVVKI*</td>\n",
       "    </tr>\n",
       "  </tbody>\n",
       "</table>\n",
       "</div>"
      ],
      "text/plain": [
       "  Type                                    Sequence      Translated\n",
       "0  CDS                                   AAAGGCTAA             KG*\n",
       "1  CDS                                AAAAAAGAGTGA            KKE*\n",
       "2  CDS                 ATGAAAAATAGTGTCGCTGAGCACTAA       MKNSVAEH*\n",
       "3  CDS                 ATGATTAAATCCGACCAGGAGACCTGA       MIKSDQET*\n",
       "4  CDS              ATGCTTCATTGCAAAGGGAATAATCTATGA      MLHCKGNNL*\n",
       "5  CDS              ATGTTTCATGATTTACCGGGAGTTAAATAG      MFHDLPGVK*\n",
       "6  CDS           GTGGTAGACAAGTTTAATAATTCGGATTGCTAA     VVDKFNNSDC*\n",
       "7  CDS        ATGAGTGTGTCCTGTTGGGAGTTTAATGCCGGATAA    MSVSCWEFNAG*\n",
       "8  CDS  ATGGTGCAGTTAGTCGATCTCGCACGTTGCGTTTCATTTTGA  MVQLVDLARCVSF*\n",
       "9  CDS  ATGAACAGAGAAGAAATGCACTGTGATGTTGTCAAAATTTAA  MNREEMHCDVVKI*"
      ]
     },
     "execution_count": 4,
     "metadata": {},
     "output_type": "execute_result"
    }
   ],
   "source": [
    "G.head(10)"
   ]
  },
  {
   "cell_type": "code",
   "execution_count": 5,
   "id": "2a3043e3",
   "metadata": {
    "execution": {
     "iopub.execute_input": "2022-05-07T12:15:04.594442Z",
     "iopub.status.busy": "2022-05-07T12:15:04.593575Z",
     "iopub.status.idle": "2022-05-07T12:15:04.596600Z",
     "shell.execute_reply": "2022-05-07T12:15:04.597052Z",
     "shell.execute_reply.started": "2022-04-27T13:45:27.816551Z"
    },
    "papermill": {
     "duration": 0.036593,
     "end_time": "2022-05-07T12:15:04.597182",
     "exception": false,
     "start_time": "2022-05-07T12:15:04.560589",
     "status": "completed"
    },
    "tags": []
   },
   "outputs": [
    {
     "name": "stdout",
     "output_type": "stream",
     "text": [
      "The shape of our dataframe is: (8649, 3)\n",
      "Rows: 8649\n",
      "Columns: 3\n"
     ]
    }
   ],
   "source": [
    "print('The shape of our dataframe is:', G.shape)\n",
    "print('Rows:', G.shape[0])\n",
    "print('Columns:', G.shape[1])"
   ]
  },
  {
   "cell_type": "markdown",
   "id": "39d9860c",
   "metadata": {
    "papermill": {
     "duration": 0.027798,
     "end_time": "2022-05-07T12:15:04.654716",
     "exception": false,
     "start_time": "2022-05-07T12:15:04.626918",
     "status": "completed"
    },
    "tags": []
   },
   "source": [
    "### Encoding data\n",
    "\n",
    "Using sklearn OneHotEncoder and LabelEncoder"
   ]
  },
  {
   "cell_type": "markdown",
   "id": "e9d4ed90",
   "metadata": {
    "papermill": {
     "duration": 0.028019,
     "end_time": "2022-05-07T12:15:04.711587",
     "exception": false,
     "start_time": "2022-05-07T12:15:04.683568",
     "status": "completed"
    },
    "tags": []
   },
   "source": [
    "#### Labels"
   ]
  },
  {
   "cell_type": "code",
   "execution_count": 6,
   "id": "d09daf92",
   "metadata": {
    "execution": {
     "iopub.execute_input": "2022-05-07T12:15:04.773842Z",
     "iopub.status.busy": "2022-05-07T12:15:04.773038Z",
     "iopub.status.idle": "2022-05-07T12:15:04.775003Z",
     "shell.execute_reply": "2022-05-07T12:15:04.775412Z",
     "shell.execute_reply.started": "2022-04-27T13:45:28.194848Z"
    },
    "papermill": {
     "duration": 0.036198,
     "end_time": "2022-05-07T12:15:04.775547",
     "exception": false,
     "start_time": "2022-05-07T12:15:04.739349",
     "status": "completed"
    },
    "tags": []
   },
   "outputs": [],
   "source": [
    "def encode_feature(array):\n",
    "    \"\"\" Encode a categorical array into a number array\n",
    "    \n",
    "    :param array: array to be encoded\n",
    "    :return: numerical array\n",
    "    \"\"\"\n",
    "  \n",
    "    encoder = preprocessing.LabelEncoder()\n",
    "    encoder.fit(array)\n",
    "    return encoder.transform(array)"
   ]
  },
  {
   "cell_type": "code",
   "execution_count": 7,
   "id": "bdbe448f",
   "metadata": {
    "execution": {
     "iopub.execute_input": "2022-05-07T12:15:04.838778Z",
     "iopub.status.busy": "2022-05-07T12:15:04.838197Z",
     "iopub.status.idle": "2022-05-07T12:15:04.840776Z",
     "shell.execute_reply": "2022-05-07T12:15:04.841174Z",
     "shell.execute_reply.started": "2022-04-27T13:45:28.322728Z"
    },
    "papermill": {
     "duration": 0.037738,
     "end_time": "2022-05-07T12:15:04.841321",
     "exception": false,
     "start_time": "2022-05-07T12:15:04.803583",
     "status": "completed"
    },
    "tags": []
   },
   "outputs": [
    {
     "name": "stdout",
     "output_type": "stream",
     "text": [
      "['CDS' 'CDS' 'CDS' ... 'CDS' 'CDS' 'CDS']\n"
     ]
    }
   ],
   "source": [
    "class_names = ['CDS', 'LORF']\n",
    "labels = G[\"Type\"].values\n",
    "print(labels)"
   ]
  },
  {
   "cell_type": "code",
   "execution_count": 8,
   "id": "e8f60d62",
   "metadata": {
    "execution": {
     "iopub.execute_input": "2022-05-07T12:15:04.905969Z",
     "iopub.status.busy": "2022-05-07T12:15:04.905366Z",
     "iopub.status.idle": "2022-05-07T12:15:04.908023Z",
     "shell.execute_reply": "2022-05-07T12:15:04.908465Z",
     "shell.execute_reply.started": "2022-04-27T13:45:28.44991Z"
    },
    "papermill": {
     "duration": 0.039265,
     "end_time": "2022-05-07T12:15:04.908596",
     "exception": false,
     "start_time": "2022-05-07T12:15:04.869331",
     "status": "completed"
    },
    "tags": []
   },
   "outputs": [
    {
     "data": {
      "text/plain": [
       "array([0, 0, 0, ..., 0, 0, 0])"
      ]
     },
     "execution_count": 8,
     "metadata": {},
     "output_type": "execute_result"
    }
   ],
   "source": [
    "labels = encode_feature(labels)\n",
    "labels"
   ]
  },
  {
   "cell_type": "markdown",
   "id": "76c812df",
   "metadata": {
    "papermill": {
     "duration": 0.028127,
     "end_time": "2022-05-07T12:15:04.965258",
     "exception": false,
     "start_time": "2022-05-07T12:15:04.937131",
     "status": "completed"
    },
    "tags": []
   },
   "source": [
    "#### Sequences\n",
    "\n",
    "The sequenes are are tokenized using keras tokenizer, then padded and finally one hot encoded."
   ]
  },
  {
   "cell_type": "code",
   "execution_count": 9,
   "id": "b669a3fd",
   "metadata": {
    "execution": {
     "iopub.execute_input": "2022-05-07T12:15:05.028790Z",
     "iopub.status.busy": "2022-05-07T12:15:05.028144Z",
     "iopub.status.idle": "2022-05-07T12:15:05.030837Z",
     "shell.execute_reply": "2022-05-07T12:15:05.031264Z",
     "shell.execute_reply.started": "2022-04-27T13:45:28.712062Z"
    },
    "papermill": {
     "duration": 0.037492,
     "end_time": "2022-05-07T12:15:05.031401",
     "exception": false,
     "start_time": "2022-05-07T12:15:04.993909",
     "status": "completed"
    },
    "tags": []
   },
   "outputs": [
    {
     "data": {
      "text/plain": [
       "['KG*', 'KKE*', 'MKNSVAEH*', 'MIKSDQET*', 'MLHCKGNNL*']"
      ]
     },
     "execution_count": 9,
     "metadata": {},
     "output_type": "execute_result"
    }
   ],
   "source": [
    "# Extract sequences\n",
    "samples = G['Translated'].values\n",
    "samples = list(samples)\n",
    "samples[0:5]"
   ]
  },
  {
   "cell_type": "code",
   "execution_count": 10,
   "id": "ab85c233",
   "metadata": {
    "execution": {
     "iopub.execute_input": "2022-05-07T12:15:05.091929Z",
     "iopub.status.busy": "2022-05-07T12:15:05.091137Z",
     "iopub.status.idle": "2022-05-07T12:15:05.907589Z",
     "shell.execute_reply": "2022-05-07T12:15:05.906732Z",
     "shell.execute_reply.started": "2022-04-27T13:45:28.852584Z"
    },
    "papermill": {
     "duration": 0.847662,
     "end_time": "2022-05-07T12:15:05.907728",
     "exception": false,
     "start_time": "2022-05-07T12:15:05.060066",
     "status": "completed"
    },
    "tags": []
   },
   "outputs": [],
   "source": [
    "# Tokenizer configured to only take into account the top-4 most common words\n",
    "tokenizer = Tokenizer(char_level=True)\n",
    "\n",
    "# This builds the word index\n",
    "tokenizer.fit_on_texts(samples)\n",
    "\n",
    "# This turns strings into lists of integer indices.\n",
    "seq_of_int = tokenizer.texts_to_sequences(samples)"
   ]
  },
  {
   "cell_type": "code",
   "execution_count": 11,
   "id": "83c6f067",
   "metadata": {
    "execution": {
     "iopub.execute_input": "2022-05-07T12:15:05.973970Z",
     "iopub.status.busy": "2022-05-07T12:15:05.973394Z",
     "iopub.status.idle": "2022-05-07T12:15:05.976116Z",
     "shell.execute_reply": "2022-05-07T12:15:05.976580Z",
     "shell.execute_reply.started": "2022-04-27T13:45:29.68607Z"
    },
    "papermill": {
     "duration": 0.038198,
     "end_time": "2022-05-07T12:15:05.976719",
     "exception": false,
     "start_time": "2022-05-07T12:15:05.938521",
     "status": "completed"
    },
    "tags": []
   },
   "outputs": [
    {
     "data": {
      "text/plain": [
       "[14, 4, 21]"
      ]
     },
     "execution_count": 11,
     "metadata": {},
     "output_type": "execute_result"
    }
   ],
   "source": [
    "seq_of_int[0]"
   ]
  },
  {
   "cell_type": "code",
   "execution_count": 12,
   "id": "01649807",
   "metadata": {
    "execution": {
     "iopub.execute_input": "2022-05-07T12:15:06.040345Z",
     "iopub.status.busy": "2022-05-07T12:15:06.039734Z",
     "iopub.status.idle": "2022-05-07T12:15:06.042422Z",
     "shell.execute_reply": "2022-05-07T12:15:06.042828Z",
     "shell.execute_reply.started": "2022-04-27T13:45:29.693316Z"
    },
    "papermill": {
     "duration": 0.036625,
     "end_time": "2022-05-07T12:15:06.042950",
     "exception": false,
     "start_time": "2022-05-07T12:15:06.006325",
     "status": "completed"
    },
    "tags": []
   },
   "outputs": [
    {
     "name": "stdout",
     "output_type": "stream",
     "text": [
      "Longest amino acid sequence is: 2359\n"
     ]
    }
   ],
   "source": [
    "print('Longest amino acid sequence is:', len(samples[len(G)-1]))"
   ]
  },
  {
   "cell_type": "code",
   "execution_count": 13,
   "id": "ac025189",
   "metadata": {
    "execution": {
     "iopub.execute_input": "2022-05-07T12:15:06.108324Z",
     "iopub.status.busy": "2022-05-07T12:15:06.107242Z",
     "iopub.status.idle": "2022-05-07T12:15:06.301699Z",
     "shell.execute_reply": "2022-05-07T12:15:06.300914Z",
     "shell.execute_reply.started": "2022-04-27T13:45:29.704677Z"
    },
    "papermill": {
     "duration": 0.229064,
     "end_time": "2022-05-07T12:15:06.301838",
     "exception": false,
     "start_time": "2022-05-07T12:15:06.072774",
     "status": "completed"
    },
    "tags": []
   },
   "outputs": [],
   "source": [
    "#max_len = len(samples[len(G)-1])\n",
    "max_len = 1000\n",
    "seq_padded = sequence.pad_sequences(seq_of_int, maxlen=max_len, dtype='int32', value=0.0) # if maxlen=None then the maximum lenght is the longest sequence in genome"
   ]
  },
  {
   "cell_type": "code",
   "execution_count": 14,
   "id": "24bb382d",
   "metadata": {
    "execution": {
     "iopub.execute_input": "2022-05-07T12:15:06.365441Z",
     "iopub.status.busy": "2022-05-07T12:15:06.364721Z",
     "iopub.status.idle": "2022-05-07T12:15:06.367475Z",
     "shell.execute_reply": "2022-05-07T12:15:06.367879Z",
     "shell.execute_reply.started": "2022-04-27T13:45:29.824502Z"
    },
    "papermill": {
     "duration": 0.036461,
     "end_time": "2022-05-07T12:15:06.368008",
     "exception": false,
     "start_time": "2022-05-07T12:15:06.331547",
     "status": "completed"
    },
    "tags": []
   },
   "outputs": [
    {
     "data": {
      "text/plain": [
       "(8649, 1000)"
      ]
     },
     "execution_count": 14,
     "metadata": {},
     "output_type": "execute_result"
    }
   ],
   "source": [
    "np.shape(seq_padded)"
   ]
  },
  {
   "cell_type": "markdown",
   "id": "86e8c5ff",
   "metadata": {
    "papermill": {
     "duration": 0.03157,
     "end_time": "2022-05-07T12:15:06.429234",
     "exception": false,
     "start_time": "2022-05-07T12:15:06.397664",
     "status": "completed"
    },
    "tags": []
   },
   "source": [
    "#### OneHotEncode padded integer sequences\n",
    "\n",
    "The reason why we can not simply convert every character to its position in the alphabet, e.g. a — 1, b — 2 etc.) is that this would lead the network to assume that the characters are on an ordinal scale, instead of a categorical - the letter Z not is “worth more” than an A."
   ]
  },
  {
   "cell_type": "code",
   "execution_count": 15,
   "id": "767d84e4",
   "metadata": {
    "execution": {
     "iopub.execute_input": "2022-05-07T12:15:06.499620Z",
     "iopub.status.busy": "2022-05-07T12:15:06.498501Z",
     "iopub.status.idle": "2022-05-07T12:15:06.979977Z",
     "shell.execute_reply": "2022-05-07T12:15:06.979469Z",
     "shell.execute_reply.started": "2022-04-27T13:45:29.831532Z"
    },
    "papermill": {
     "duration": 0.518521,
     "end_time": "2022-05-07T12:15:06.980102",
     "exception": false,
     "start_time": "2022-05-07T12:15:06.461581",
     "status": "completed"
    },
    "tags": []
   },
   "outputs": [],
   "source": [
    "seq_one_hot = utils.to_categorical(seq_padded)"
   ]
  },
  {
   "cell_type": "code",
   "execution_count": 16,
   "id": "2bd06f3a",
   "metadata": {
    "execution": {
     "iopub.execute_input": "2022-05-07T12:15:07.047359Z",
     "iopub.status.busy": "2022-05-07T12:15:07.046671Z",
     "iopub.status.idle": "2022-05-07T12:15:07.049488Z",
     "shell.execute_reply": "2022-05-07T12:15:07.049892Z",
     "shell.execute_reply.started": "2022-04-27T13:45:29.890833Z"
    },
    "papermill": {
     "duration": 0.0391,
     "end_time": "2022-05-07T12:15:07.050021",
     "exception": false,
     "start_time": "2022-05-07T12:15:07.010921",
     "status": "completed"
    },
    "tags": []
   },
   "outputs": [
    {
     "data": {
      "text/plain": [
       "(8649, 1000, 22)"
      ]
     },
     "execution_count": 16,
     "metadata": {},
     "output_type": "execute_result"
    }
   ],
   "source": [
    "np.shape(seq_one_hot)"
   ]
  },
  {
   "cell_type": "markdown",
   "id": "76084e8c",
   "metadata": {
    "papermill": {
     "duration": 0.029947,
     "end_time": "2022-05-07T12:15:07.110521",
     "exception": false,
     "start_time": "2022-05-07T12:15:07.080574",
     "status": "completed"
    },
    "tags": []
   },
   "source": [
    "### Create training and test data"
   ]
  },
  {
   "cell_type": "code",
   "execution_count": 17,
   "id": "34d2176a",
   "metadata": {
    "execution": {
     "iopub.execute_input": "2022-05-07T12:15:07.177078Z",
     "iopub.status.busy": "2022-05-07T12:15:07.176088Z",
     "iopub.status.idle": "2022-05-07T12:15:07.192844Z",
     "shell.execute_reply": "2022-05-07T12:15:07.192364Z",
     "shell.execute_reply.started": "2022-04-27T13:45:30.091331Z"
    },
    "papermill": {
     "duration": 0.051861,
     "end_time": "2022-05-07T12:15:07.192977",
     "exception": false,
     "start_time": "2022-05-07T12:15:07.141116",
     "status": "completed"
    },
    "tags": []
   },
   "outputs": [],
   "source": [
    "# Split the data into training and testing sets -> x = features and y = labels/targets\n",
    "train_x, test_x, train_y, test_y = train_test_split(seq_padded, labels, test_size = 0.2, random_state = 42)"
   ]
  },
  {
   "cell_type": "code",
   "execution_count": 18,
   "id": "8fd9dfd3",
   "metadata": {
    "execution": {
     "iopub.execute_input": "2022-05-07T12:15:07.258104Z",
     "iopub.status.busy": "2022-05-07T12:15:07.257286Z",
     "iopub.status.idle": "2022-05-07T12:15:07.261685Z",
     "shell.execute_reply": "2022-05-07T12:15:07.261253Z",
     "shell.execute_reply.started": "2022-04-27T13:45:30.230782Z"
    },
    "papermill": {
     "duration": 0.038063,
     "end_time": "2022-05-07T12:15:07.261794",
     "exception": false,
     "start_time": "2022-05-07T12:15:07.223731",
     "status": "completed"
    },
    "tags": []
   },
   "outputs": [
    {
     "name": "stdout",
     "output_type": "stream",
     "text": [
      "Input data:\n",
      "6919 train sequences\n",
      "1730 test sequences\n"
     ]
    }
   ],
   "source": [
    "print('Input data:')\n",
    "print(len(train_x), 'train sequences')\n",
    "print(len(test_x), 'test sequences')"
   ]
  },
  {
   "cell_type": "markdown",
   "id": "431e815e",
   "metadata": {
    "papermill": {
     "duration": 0.030245,
     "end_time": "2022-05-07T12:15:07.322477",
     "exception": false,
     "start_time": "2022-05-07T12:15:07.292232",
     "status": "completed"
    },
    "tags": []
   },
   "source": [
    "### LSTM model"
   ]
  },
  {
   "cell_type": "markdown",
   "id": "80e50aa6",
   "metadata": {
    "papermill": {
     "duration": 0.030003,
     "end_time": "2022-05-07T12:15:07.382761",
     "exception": false,
     "start_time": "2022-05-07T12:15:07.352758",
     "status": "completed"
    },
    "tags": []
   },
   "source": [
    "#### Choosing number of nodes and layers\n",
    "There is no final, definite, rule of thumb on how many nodes (or hidden neurons) or how many layers one should choose, and very often a trial and error approach will give you the best results for your individual problem.\n",
    "\n",
    "Generally, 2 layers have shown to be enough to detect more complex features. More layers can be better but also harder to train. As a general rule of thumb — 1 hidden layer work with simple problems, like this, and two are enough to find reasonably complex features."
   ]
  },
  {
   "cell_type": "markdown",
   "id": "d3da1d77",
   "metadata": {
    "papermill": {
     "duration": 0.030085,
     "end_time": "2022-05-07T12:15:07.443642",
     "exception": false,
     "start_time": "2022-05-07T12:15:07.413557",
     "status": "completed"
    },
    "tags": []
   },
   "source": [
    "#### Choosing additional hyperparameters\n",
    "\n",
    "- **Dropout**: Every LSTM layer should be accompanied by a Dropout layer. This layer will help to prevent overfitting by ignoring randomly selected neurons during training, and hence reduces the sensitivity to the specific weights of individual neurons. 20% is often used as a good compromise between retaining model accuracy and preventing overfitting.\n",
    "- **Activation layer**: Technically, this can be included into the density layer, but there is a reason to split this apart. While not relevant here, splitting the density layer and the activation layer makes it possible to retrieve the reduced output of the density layer of the model. Which activation function to use is, again, depending on the application. Sigmoid function is used for binary classification problems. \n",
    "- **Loss function**: Loss function and activation function are often chosen together. Cross-entropy or more precise the binary cross-entropy, is the preferred loss function since we are faced with a binary classification problem. \n",
    "- **Optimizer**: For choosing the optimizer, adaptive moment estimation, short _Adam_, has been shown to work well in most practical applications and works well with only little changes in the hyperparameters. \n",
    "- **Metric**: In many cases, judging the models’ performance from an overall _accuracy_ point of view will be the option easiest to interpret as well as sufficient in resulting model performance.\n"
   ]
  },
  {
   "cell_type": "markdown",
   "id": "d3db9626",
   "metadata": {
    "papermill": {
     "duration": 0.030133,
     "end_time": "2022-05-07T12:15:07.504107",
     "exception": false,
     "start_time": "2022-05-07T12:15:07.473974",
     "status": "completed"
    },
    "tags": []
   },
   "source": [
    "#### Simple LSTM with embedding layer:\n",
    "\n",
    "Embedding layer allows for higher dimensionality and much richer relationships between fatures."
   ]
  },
  {
   "cell_type": "markdown",
   "id": "625b0f89",
   "metadata": {
    "papermill": {
     "duration": 0.030173,
     "end_time": "2022-05-07T12:15:07.565640",
     "exception": false,
     "start_time": "2022-05-07T12:15:07.535467",
     "status": "completed"
    },
    "tags": []
   },
   "source": [
    "There are three parameters to the embedding layer:\n",
    "- **input_dim** : Size of the vocabulary\n",
    "- **output_dim** : Embedding size. Output length of the vector for each word\n",
    "- **input_length** : Maximum length of a sequence"
   ]
  },
  {
   "cell_type": "code",
   "execution_count": 19,
   "id": "219c3926",
   "metadata": {
    "execution": {
     "iopub.execute_input": "2022-05-07T12:15:07.631787Z",
     "iopub.status.busy": "2022-05-07T12:15:07.630973Z",
     "iopub.status.idle": "2022-05-07T12:15:07.633402Z",
     "shell.execute_reply": "2022-05-07T12:15:07.632946Z",
     "shell.execute_reply.started": "2022-04-27T13:45:31.092192Z"
    },
    "papermill": {
     "duration": 0.037394,
     "end_time": "2022-05-07T12:15:07.633512",
     "exception": false,
     "start_time": "2022-05-07T12:15:07.596118",
     "status": "completed"
    },
    "tags": []
   },
   "outputs": [],
   "source": [
    "input_dim = 22 # input dimension: 21 amino acids + padding\n",
    "\n",
    "embedding_size = min(np.ceil((input_dim)/2), 50)\n",
    "embedding_size = int(embedding_size)\n",
    "\n",
    "output_dim = embedding_size\n",
    "input_length = max_len"
   ]
  },
  {
   "cell_type": "code",
   "execution_count": 20,
   "id": "23470666",
   "metadata": {
    "execution": {
     "iopub.execute_input": "2022-05-07T12:15:07.699679Z",
     "iopub.status.busy": "2022-05-07T12:15:07.698981Z",
     "iopub.status.idle": "2022-05-07T12:16:34.058480Z",
     "shell.execute_reply": "2022-05-07T12:16:34.057956Z",
     "shell.execute_reply.started": "2022-04-27T13:45:31.235988Z"
    },
    "papermill": {
     "duration": 86.394982,
     "end_time": "2022-05-07T12:16:34.058630",
     "exception": false,
     "start_time": "2022-05-07T12:15:07.663648",
     "status": "completed"
    },
    "tags": []
   },
   "outputs": [
    {
     "name": "stderr",
     "output_type": "stream",
     "text": [
      "2022-05-07 12:15:07.790199: I tensorflow/stream_executor/cuda/cuda_gpu_executor.cc:937] successful NUMA node read from SysFS had negative value (-1), but there must be at least one NUMA node, so returning NUMA node zero\n",
      "2022-05-07 12:15:07.898055: I tensorflow/stream_executor/cuda/cuda_gpu_executor.cc:937] successful NUMA node read from SysFS had negative value (-1), but there must be at least one NUMA node, so returning NUMA node zero\n",
      "2022-05-07 12:15:07.898832: I tensorflow/stream_executor/cuda/cuda_gpu_executor.cc:937] successful NUMA node read from SysFS had negative value (-1), but there must be at least one NUMA node, so returning NUMA node zero\n",
      "2022-05-07 12:15:07.899950: I tensorflow/core/platform/cpu_feature_guard.cc:142] This TensorFlow binary is optimized with oneAPI Deep Neural Network Library (oneDNN) to use the following CPU instructions in performance-critical operations:  AVX2 AVX512F FMA\n",
      "To enable them in other operations, rebuild TensorFlow with the appropriate compiler flags.\n",
      "2022-05-07 12:15:07.900983: I tensorflow/stream_executor/cuda/cuda_gpu_executor.cc:937] successful NUMA node read from SysFS had negative value (-1), but there must be at least one NUMA node, so returning NUMA node zero\n",
      "2022-05-07 12:15:07.901689: I tensorflow/stream_executor/cuda/cuda_gpu_executor.cc:937] successful NUMA node read from SysFS had negative value (-1), but there must be at least one NUMA node, so returning NUMA node zero\n",
      "2022-05-07 12:15:07.902332: I tensorflow/stream_executor/cuda/cuda_gpu_executor.cc:937] successful NUMA node read from SysFS had negative value (-1), but there must be at least one NUMA node, so returning NUMA node zero\n",
      "2022-05-07 12:15:09.666093: I tensorflow/stream_executor/cuda/cuda_gpu_executor.cc:937] successful NUMA node read from SysFS had negative value (-1), but there must be at least one NUMA node, so returning NUMA node zero\n",
      "2022-05-07 12:15:09.666974: I tensorflow/stream_executor/cuda/cuda_gpu_executor.cc:937] successful NUMA node read from SysFS had negative value (-1), but there must be at least one NUMA node, so returning NUMA node zero\n",
      "2022-05-07 12:15:09.667667: I tensorflow/stream_executor/cuda/cuda_gpu_executor.cc:937] successful NUMA node read from SysFS had negative value (-1), but there must be at least one NUMA node, so returning NUMA node zero\n",
      "2022-05-07 12:15:09.668301: I tensorflow/core/common_runtime/gpu/gpu_device.cc:1510] Created device /job:localhost/replica:0/task:0/device:GPU:0 with 15403 MB memory:  -> device: 0, name: Tesla P100-PCIE-16GB, pci bus id: 0000:00:04.0, compute capability: 6.0\n",
      "2022-05-07 12:15:10.330654: I tensorflow/compiler/mlir/mlir_graph_optimization_pass.cc:185] None of the MLIR Optimization Passes are enabled (registered 2)\n"
     ]
    },
    {
     "name": "stdout",
     "output_type": "stream",
     "text": [
      "Epoch 1/20\n"
     ]
    },
    {
     "name": "stderr",
     "output_type": "stream",
     "text": [
      "2022-05-07 12:15:12.921077: I tensorflow/stream_executor/cuda/cuda_dnn.cc:369] Loaded cuDNN version 8005\n"
     ]
    },
    {
     "name": "stdout",
     "output_type": "stream",
     "text": [
      "44/44 [==============================] - 8s 86ms/step - loss: 0.6745 - acc: 0.6217 - val_loss: 0.4971 - val_acc: 0.7832\n",
      "Epoch 2/20\n",
      "44/44 [==============================] - 3s 77ms/step - loss: 0.4253 - acc: 0.8432 - val_loss: 0.5632 - val_acc: 0.8136\n",
      "Epoch 3/20\n",
      "44/44 [==============================] - 3s 77ms/step - loss: 0.3255 - acc: 0.8923 - val_loss: 0.2633 - val_acc: 0.9184\n",
      "Epoch 4/20\n",
      "44/44 [==============================] - 3s 78ms/step - loss: 0.2628 - acc: 0.9129 - val_loss: 0.2461 - val_acc: 0.9075\n",
      "Epoch 5/20\n",
      "44/44 [==============================] - 3s 78ms/step - loss: 0.2337 - acc: 0.9252 - val_loss: 0.2983 - val_acc: 0.8988\n",
      "Epoch 6/20\n",
      "44/44 [==============================] - 3s 77ms/step - loss: 0.2409 - acc: 0.9245 - val_loss: 0.2045 - val_acc: 0.9364\n",
      "Epoch 7/20\n",
      "44/44 [==============================] - 3s 77ms/step - loss: 0.2114 - acc: 0.9350 - val_loss: 0.2301 - val_acc: 0.9364\n",
      "Epoch 8/20\n",
      "44/44 [==============================] - 3s 77ms/step - loss: 0.2177 - acc: 0.9315 - val_loss: 0.2253 - val_acc: 0.9184\n",
      "Epoch 9/20\n",
      "44/44 [==============================] - 3s 78ms/step - loss: 0.2238 - acc: 0.9265 - val_loss: 0.1973 - val_acc: 0.9364\n",
      "Epoch 10/20\n",
      "44/44 [==============================] - 3s 78ms/step - loss: 0.2106 - acc: 0.9319 - val_loss: 0.1896 - val_acc: 0.9357\n",
      "Epoch 11/20\n",
      "44/44 [==============================] - 3s 77ms/step - loss: 0.2365 - acc: 0.9210 - val_loss: 0.2130 - val_acc: 0.9306\n",
      "Epoch 12/20\n",
      "44/44 [==============================] - 3s 77ms/step - loss: 0.2018 - acc: 0.9362 - val_loss: 0.2848 - val_acc: 0.9104\n",
      "Epoch 13/20\n",
      "44/44 [==============================] - 3s 77ms/step - loss: 0.2351 - acc: 0.9286 - val_loss: 0.2385 - val_acc: 0.9212\n",
      "Epoch 14/20\n",
      "44/44 [==============================] - 3s 77ms/step - loss: 0.2072 - acc: 0.9313 - val_loss: 0.1946 - val_acc: 0.9364\n",
      "Epoch 15/20\n",
      "44/44 [==============================] - 3s 77ms/step - loss: 0.2102 - acc: 0.9355 - val_loss: 0.1919 - val_acc: 0.9400\n",
      "Epoch 16/20\n",
      "44/44 [==============================] - 3s 77ms/step - loss: 0.2110 - acc: 0.9333 - val_loss: 0.2041 - val_acc: 0.9292\n",
      "Epoch 17/20\n",
      "44/44 [==============================] - 3s 77ms/step - loss: 0.2054 - acc: 0.9319 - val_loss: 0.1741 - val_acc: 0.9386\n",
      "Epoch 18/20\n",
      "44/44 [==============================] - 3s 77ms/step - loss: 0.2111 - acc: 0.9335 - val_loss: 0.1854 - val_acc: 0.9364\n",
      "Epoch 19/20\n",
      "44/44 [==============================] - 3s 78ms/step - loss: 0.1884 - acc: 0.9395 - val_loss: 0.2383 - val_acc: 0.9249\n",
      "Epoch 20/20\n",
      "44/44 [==============================] - 3s 79ms/step - loss: 0.2073 - acc: 0.9380 - val_loss: 0.1968 - val_acc: 0.9386\n"
     ]
    }
   ],
   "source": [
    "model = Sequential()\n",
    "model.add(Embedding(input_dim, output_dim)) # parameter input_length not required, because no flattening needed (using RNN layer now, not Dense layer)\n",
    "model.add(LSTM(128))\n",
    "model.add(Dropout(0.2))\n",
    "model.add(Dense(1, activation='sigmoid'))\n",
    "\n",
    "model.compile(optimizer='rmsprop',\n",
    "              loss='binary_crossentropy',\n",
    "              metrics=['acc'])\n",
    "\n",
    "# simple early stopping\n",
    "#es = EarlyStopping(monitor='val_loss', mode='min', verbose=1)\n",
    "\n",
    "history = model.fit(train_x, train_y,\n",
    "                    epochs=20,\n",
    "                    batch_size=128,\n",
    "                    validation_split=0.2)\n",
    "                    #callbacks=[es]"
   ]
  },
  {
   "cell_type": "code",
   "execution_count": 21,
   "id": "c603e713",
   "metadata": {
    "execution": {
     "iopub.execute_input": "2022-05-07T12:16:34.677176Z",
     "iopub.status.busy": "2022-05-07T12:16:34.676436Z",
     "iopub.status.idle": "2022-05-07T12:16:34.681213Z",
     "shell.execute_reply": "2022-05-07T12:16:34.680107Z",
     "shell.execute_reply.started": "2022-04-27T13:45:56.043552Z"
    },
    "papermill": {
     "duration": 0.324259,
     "end_time": "2022-05-07T12:16:34.681406",
     "exception": false,
     "start_time": "2022-05-07T12:16:34.357147",
     "status": "completed"
    },
    "tags": []
   },
   "outputs": [
    {
     "name": "stdout",
     "output_type": "stream",
     "text": [
      "Model: \"sequential\"\n",
      "_________________________________________________________________\n",
      "Layer (type)                 Output Shape              Param #   \n",
      "=================================================================\n",
      "embedding (Embedding)        (None, None, 11)          242       \n",
      "_________________________________________________________________\n",
      "lstm (LSTM)                  (None, 128)               71680     \n",
      "_________________________________________________________________\n",
      "dropout (Dropout)            (None, 128)               0         \n",
      "_________________________________________________________________\n",
      "dense (Dense)                (None, 1)                 129       \n",
      "=================================================================\n",
      "Total params: 72,051\n",
      "Trainable params: 72,051\n",
      "Non-trainable params: 0\n",
      "_________________________________________________________________\n"
     ]
    }
   ],
   "source": [
    "model.summary()"
   ]
  },
  {
   "cell_type": "code",
   "execution_count": 22,
   "id": "6f171e0e",
   "metadata": {
    "execution": {
     "iopub.execute_input": "2022-05-07T12:16:35.292963Z",
     "iopub.status.busy": "2022-05-07T12:16:35.292259Z",
     "iopub.status.idle": "2022-05-07T12:16:35.974435Z",
     "shell.execute_reply": "2022-05-07T12:16:35.974861Z",
     "shell.execute_reply.started": "2022-04-27T14:01:35.315973Z"
    },
    "papermill": {
     "duration": 0.992324,
     "end_time": "2022-05-07T12:16:35.975007",
     "exception": false,
     "start_time": "2022-05-07T12:16:34.982683",
     "status": "completed"
    },
    "tags": []
   },
   "outputs": [
    {
     "data": {
      "image/png": "[encoded data removed]",
      "text/plain": [
       "<Figure size 432x504 with 1 Axes>"
      ]
     },
     "metadata": {
      "needs_background": "light"
     },
     "output_type": "display_data"
    }
   ],
   "source": [
    "acc = history.history['acc']\n",
    "val_acc = history.history['val_acc']\n",
    "loss = history.history['loss']\n",
    "val_loss = history.history['val_loss']\n",
    "\n",
    "epochs = range(len(acc))\n",
    "\n",
    "plt.subplots(figsize=(6,7))\n",
    "\n",
    "x = np.linspace(0, 20,6)\n",
    "plt.plot(epochs, acc, 'bo', label='Training')\n",
    "plt.plot(epochs, val_acc, 'b', label='Validation')\n",
    "plt.xlabel('Epochs', fontsize=25, labelpad=20)\n",
    "plt.ylabel('Accuracy score [%]',fontsize=25, labelpad=20)\n",
    "plt.xticks(x, fontsize=25)\n",
    "plt.yticks(fontsize=25)\n",
    "plt.grid(linestyle = '--', linewidth = 0.5)\n",
    "plt.legend(loc=4, fontsize=20)\n",
    "\n",
    "plt.savefig('max_len_aa.png', dpi=300, bbox_inches='tight')\n",
    "plt.show()"
   ]
  },
  {
   "cell_type": "code",
   "execution_count": 23,
   "id": "4c61c519",
   "metadata": {
    "execution": {
     "iopub.execute_input": "2022-05-07T12:16:36.579244Z",
     "iopub.status.busy": "2022-05-07T12:16:36.578308Z",
     "iopub.status.idle": "2022-05-07T12:16:37.532873Z",
     "shell.execute_reply": "2022-05-07T12:16:37.533290Z",
     "shell.execute_reply.started": "2022-04-27T13:45:56.745103Z"
    },
    "papermill": {
     "duration": 1.260175,
     "end_time": "2022-05-07T12:16:37.533461",
     "exception": false,
     "start_time": "2022-05-07T12:16:36.273286",
     "status": "completed"
    },
    "tags": []
   },
   "outputs": [
    {
     "name": "stdout",
     "output_type": "stream",
     "text": [
      "Test accuracy: 0.93988436460495\n"
     ]
    }
   ],
   "source": [
    "scores = model.evaluate(test_x, test_y, verbose=0)\n",
    "print('Test accuracy:', scores[1])"
   ]
  },
  {
   "cell_type": "code",
   "execution_count": null,
   "id": "c4e2b004",
   "metadata": {
    "papermill": {
     "duration": 0.299489,
     "end_time": "2022-05-07T12:16:38.135616",
     "exception": false,
     "start_time": "2022-05-07T12:16:37.836127",
     "status": "completed"
    },
    "tags": []
   },
   "outputs": [],
   "source": []
  },
  {
   "cell_type": "code",
   "execution_count": null,
   "id": "9a868f11",
   "metadata": {
    "papermill": {
     "duration": 0.327358,
     "end_time": "2022-05-07T12:16:38.764529",
     "exception": false,
     "start_time": "2022-05-07T12:16:38.437171",
     "status": "completed"
    },
    "tags": []
   },
   "outputs": [],
   "source": []
  },
  {
   "cell_type": "code",
   "execution_count": null,
   "id": "869c4042",
   "metadata": {
    "papermill": {
     "duration": 0.300565,
     "end_time": "2022-05-07T12:16:39.373754",
     "exception": false,
     "start_time": "2022-05-07T12:16:39.073189",
     "status": "completed"
    },
    "tags": []
   },
   "outputs": [],
   "source": []
  }
 ],
 "metadata": {
  "kernelspec": {
   "display_name": "Python 3",
   "language": "python",
   "name": "python3"
  },
  "language_info": {
   "codemirror_mode": {
    "name": "ipython",
    "version": 3
   },
   "file_extension": ".py",
   "mimetype": "text/x-python",
   "name": "python",
   "nbconvert_exporter": "python",
   "pygments_lexer": "ipython3",
   "version": "3.7.12"
  },
  "papermill": {
   "default_parameters": {},
   "duration": 113.462611,
   "end_time": "2022-05-07T12:16:43.618377",
   "environment_variables": {},
   "exception": null,
   "input_path": "__notebook__.ipynb",
   "output_path": "__notebook__.ipynb",
   "parameters": {},
   "start_time": "2022-05-07T12:14:50.155766",
   "version": "2.3.3"
  }
 },
 "nbformat": 4,
 "nbformat_minor": 5
}
