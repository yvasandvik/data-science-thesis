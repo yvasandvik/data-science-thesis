{
 "cells": [
  {
   "cell_type": "markdown",
   "id": "c1cdc388",
   "metadata": {},
   "source": [
    "# Random Forest Model\n",
    "\n",
    "RF model to be used for predicting protein coding genes in DNA sequences.\n",
    "\n",
    "**Basis for any machine learning workflow**:\n",
    "1. State the question and determine required data\n",
    "2. Acquire the data in an accessible format\n",
    "3. Identify and correct missing data points/anomalies as required\n",
    "4. Prepare the data for the machine learning model\n",
    "5. Establish a baseline model that you aim to exceed\n",
    "6. Train the model on the training data\n",
    "7. Make predictions on the test data\n",
    "8. Compare predictions to the known test set targets and calculate performance metrics\n",
    "9. If performance is not satisfactory, adjust the model, acquire more data, or try a different modeling technique\n",
    "10. Interpret model and report results visually and numerically"
   ]
  },
  {
   "cell_type": "markdown",
   "id": "1e09200c",
   "metadata": {},
   "source": [
    "## Importing data"
   ]
  },
  {
   "cell_type": "code",
   "execution_count": 1,
   "id": "6a943ca2",
   "metadata": {},
   "outputs": [],
   "source": [
    "# Importing data\n",
    "import pandas as pd\n",
    "import time\n",
    "\n",
    "# Preprocessing and encoding variables\n",
    "import numpy as np\n",
    "from sklearn import preprocessing\n",
    "\n",
    "# Using Skicit-learn to split data into training and testing sets\n",
    "from sklearn.model_selection import train_test_split\n",
    "\n",
    "# Import the model we are using\n",
    "from sklearn.ensemble import RandomForestClassifier\n",
    "\n",
    "# Import scikit-learn metrics module for accuracy calculation\n",
    "from sklearn import metrics\n",
    "\n",
    "# Visualising feature importance and making plots\n",
    "import matplotlib.pyplot as plt\n",
    "import seaborn as sns\n",
    "from sklearn.tree import export_graphviz\n",
    "import pydot"
   ]
  },
  {
   "cell_type": "code",
   "execution_count": 2,
   "id": "cfd9aca9",
   "metadata": {},
   "outputs": [],
   "source": [
    "G1 = pd.read_csv('~/Documents/NMBU/Semester 12/Data Science Master/data-science-thesis/data_expo/G1.features.csv')\n",
    "G2 = pd.read_csv('~/Documents/NMBU/Semester 12/Data Science Master/data-science-thesis/data_expo/G2.features.csv')\n",
    "G3 = pd.read_csv('~/Documents/NMBU/Semester 12/Data Science Master/data-science-thesis/data_expo/G3.features.csv')\n",
    "G4 = pd.read_csv('~/Documents/NMBU/Semester 12/Data Science Master/data-science-thesis/data_expo/G4.features.csv')\n",
    "G5 = pd.read_csv('~/Documents/NMBU/Semester 12/Data Science Master/data-science-thesis/data_expo/G5.features.csv')\n",
    "G6 = pd.read_csv('~/Documents/NMBU/Semester 12/Data Science Master/data-science-thesis/data_expo/G6.features.csv')\n",
    "G7 = pd.read_csv('~/Documents/NMBU/Semester 12/Data Science Master/data-science-thesis/data_expo/G7.features.csv')\n",
    "G8 = pd.read_csv('~/Documents/NMBU/Semester 12/Data Science Master/data-science-thesis/data_expo/G8.features.csv')\n",
    "G9 = pd.read_csv('~/Documents/NMBU/Semester 12/Data Science Master/data-science-thesis/data_expo/G9.features.csv')\n",
    "G10 = pd.read_csv('~/Documents/NMBU/Semester 12/Data Science Master/data-science-thesis/data_expo/G10.features.csv')\n",
    "G11 = pd.read_csv('~/Documents/NMBU/Semester 12/Data Science Master/data-science-thesis/data_expo/G11.features.csv')\n",
    "G12 = pd.read_csv('~/Documents/NMBU/Semester 12/Data Science Master/data-science-thesis/data_expo/G12.features.csv')\n",
    "G13 = pd.read_csv('~/Documents/NMBU/Semester 12/Data Science Master/data-science-thesis/data_expo/G13.features.csv')\n",
    "G14 = pd.read_csv('~/Documents/NMBU/Semester 12/Data Science Master/data-science-thesis/data_expo/G14.features.csv')\n",
    "G15 = pd.read_csv('~/Documents/NMBU/Semester 12/Data Science Master/data-science-thesis/data_expo/G15.features.csv')\n",
    "\n",
    "frames = [G1, G2, G3, G4, G5, G6, G7]\n",
    "\n",
    "df = pd.concat(frames)\n",
    "df = df.iloc[: , 1:]"
   ]
  },
  {
   "cell_type": "code",
   "execution_count": 3,
   "id": "33ac0c00",
   "metadata": {},
   "outputs": [
    {
     "data": {
      "text/html": [
       "<div>\n",
       "<style scoped>\n",
       "    .dataframe tbody tr th:only-of-type {\n",
       "        vertical-align: middle;\n",
       "    }\n",
       "\n",
       "    .dataframe tbody tr th {\n",
       "        vertical-align: top;\n",
       "    }\n",
       "\n",
       "    .dataframe thead th {\n",
       "        text-align: right;\n",
       "    }\n",
       "</style>\n",
       "<table border=\"1\" class=\"dataframe\">\n",
       "  <thead>\n",
       "    <tr style=\"text-align: right;\">\n",
       "      <th></th>\n",
       "      <th>Type</th>\n",
       "      <th>Length</th>\n",
       "      <th>Dataset</th>\n",
       "      <th>Genome</th>\n",
       "      <th>GC_content</th>\n",
       "      <th>GC1_content</th>\n",
       "      <th>GC2_content</th>\n",
       "      <th>GC3_content</th>\n",
       "      <th>Start_ATG</th>\n",
       "      <th>Start_GTG</th>\n",
       "      <th>...</th>\n",
       "      <th>TCG_c_weight</th>\n",
       "      <th>TCT_c_weight</th>\n",
       "      <th>TGA_c_weight</th>\n",
       "      <th>TGC_c_weight</th>\n",
       "      <th>TGG_c_weight</th>\n",
       "      <th>TGT_c_weight</th>\n",
       "      <th>TTA_c_weight</th>\n",
       "      <th>TTC_c_weight</th>\n",
       "      <th>TTG_c_weight</th>\n",
       "      <th>TTT_c_weight</th>\n",
       "    </tr>\n",
       "  </thead>\n",
       "  <tbody>\n",
       "    <tr>\n",
       "      <th>10304</th>\n",
       "      <td>CDS</td>\n",
       "      <td>4767</td>\n",
       "      <td>1</td>\n",
       "      <td>Pseudomonas aeruginosa</td>\n",
       "      <td>0.503671</td>\n",
       "      <td>0.521082</td>\n",
       "      <td>0.488987</td>\n",
       "      <td>0.500944</td>\n",
       "      <td>1</td>\n",
       "      <td>0</td>\n",
       "      <td>...</td>\n",
       "      <td>0.055215</td>\n",
       "      <td>0.196319</td>\n",
       "      <td>0.0</td>\n",
       "      <td>0.000000</td>\n",
       "      <td>1</td>\n",
       "      <td>0.000000</td>\n",
       "      <td>0.125000</td>\n",
       "      <td>0.588235</td>\n",
       "      <td>0.136364</td>\n",
       "      <td>0.411765</td>\n",
       "    </tr>\n",
       "    <tr>\n",
       "      <th>10305</th>\n",
       "      <td>CDS</td>\n",
       "      <td>4851</td>\n",
       "      <td>1</td>\n",
       "      <td>Pseudomonas aeruginosa</td>\n",
       "      <td>0.579674</td>\n",
       "      <td>0.619048</td>\n",
       "      <td>0.472480</td>\n",
       "      <td>0.647495</td>\n",
       "      <td>1</td>\n",
       "      <td>0</td>\n",
       "      <td>...</td>\n",
       "      <td>0.084211</td>\n",
       "      <td>0.073684</td>\n",
       "      <td>0.0</td>\n",
       "      <td>0.500000</td>\n",
       "      <td>1</td>\n",
       "      <td>0.500000</td>\n",
       "      <td>0.058394</td>\n",
       "      <td>0.441860</td>\n",
       "      <td>0.058394</td>\n",
       "      <td>0.558140</td>\n",
       "    </tr>\n",
       "    <tr>\n",
       "      <th>10306</th>\n",
       "      <td>CDS</td>\n",
       "      <td>4935</td>\n",
       "      <td>1</td>\n",
       "      <td>Pseudomonas aeruginosa</td>\n",
       "      <td>0.519554</td>\n",
       "      <td>0.586018</td>\n",
       "      <td>0.390274</td>\n",
       "      <td>0.582371</td>\n",
       "      <td>1</td>\n",
       "      <td>0</td>\n",
       "      <td>...</td>\n",
       "      <td>0.098039</td>\n",
       "      <td>0.196078</td>\n",
       "      <td>1.0</td>\n",
       "      <td>0.631579</td>\n",
       "      <td>1</td>\n",
       "      <td>0.368421</td>\n",
       "      <td>0.155080</td>\n",
       "      <td>0.451219</td>\n",
       "      <td>0.128342</td>\n",
       "      <td>0.548781</td>\n",
       "    </tr>\n",
       "    <tr>\n",
       "      <th>10307</th>\n",
       "      <td>CDS</td>\n",
       "      <td>4962</td>\n",
       "      <td>1</td>\n",
       "      <td>Pseudomonas aeruginosa</td>\n",
       "      <td>0.531237</td>\n",
       "      <td>0.626360</td>\n",
       "      <td>0.415961</td>\n",
       "      <td>0.551391</td>\n",
       "      <td>1</td>\n",
       "      <td>0</td>\n",
       "      <td>...</td>\n",
       "      <td>0.141509</td>\n",
       "      <td>0.103774</td>\n",
       "      <td>0.0</td>\n",
       "      <td>0.666667</td>\n",
       "      <td>1</td>\n",
       "      <td>0.333333</td>\n",
       "      <td>0.125000</td>\n",
       "      <td>0.555556</td>\n",
       "      <td>0.155000</td>\n",
       "      <td>0.444444</td>\n",
       "    </tr>\n",
       "    <tr>\n",
       "      <th>10308</th>\n",
       "      <td>CDS</td>\n",
       "      <td>5103</td>\n",
       "      <td>1</td>\n",
       "      <td>Pseudomonas aeruginosa</td>\n",
       "      <td>0.492455</td>\n",
       "      <td>0.533216</td>\n",
       "      <td>0.439153</td>\n",
       "      <td>0.504997</td>\n",
       "      <td>1</td>\n",
       "      <td>0</td>\n",
       "      <td>...</td>\n",
       "      <td>0.125000</td>\n",
       "      <td>0.075000</td>\n",
       "      <td>0.0</td>\n",
       "      <td>0.500000</td>\n",
       "      <td>1</td>\n",
       "      <td>0.500000</td>\n",
       "      <td>0.108696</td>\n",
       "      <td>0.391304</td>\n",
       "      <td>0.123188</td>\n",
       "      <td>0.608696</td>\n",
       "    </tr>\n",
       "    <tr>\n",
       "      <th>10309</th>\n",
       "      <td>CDS</td>\n",
       "      <td>6315</td>\n",
       "      <td>1</td>\n",
       "      <td>Pseudomonas aeruginosa</td>\n",
       "      <td>0.488678</td>\n",
       "      <td>0.582423</td>\n",
       "      <td>0.422328</td>\n",
       "      <td>0.461283</td>\n",
       "      <td>1</td>\n",
       "      <td>0</td>\n",
       "      <td>...</td>\n",
       "      <td>0.099338</td>\n",
       "      <td>0.178808</td>\n",
       "      <td>0.0</td>\n",
       "      <td>0.486486</td>\n",
       "      <td>1</td>\n",
       "      <td>0.513513</td>\n",
       "      <td>0.220884</td>\n",
       "      <td>0.356164</td>\n",
       "      <td>0.188755</td>\n",
       "      <td>0.643836</td>\n",
       "    </tr>\n",
       "    <tr>\n",
       "      <th>10310</th>\n",
       "      <td>CDS</td>\n",
       "      <td>6342</td>\n",
       "      <td>1</td>\n",
       "      <td>Pseudomonas aeruginosa</td>\n",
       "      <td>0.529328</td>\n",
       "      <td>0.610218</td>\n",
       "      <td>0.405393</td>\n",
       "      <td>0.572375</td>\n",
       "      <td>1</td>\n",
       "      <td>0</td>\n",
       "      <td>...</td>\n",
       "      <td>0.148148</td>\n",
       "      <td>0.125926</td>\n",
       "      <td>1.0</td>\n",
       "      <td>0.461539</td>\n",
       "      <td>1</td>\n",
       "      <td>0.538462</td>\n",
       "      <td>0.103004</td>\n",
       "      <td>0.447059</td>\n",
       "      <td>0.137339</td>\n",
       "      <td>0.552941</td>\n",
       "    </tr>\n",
       "    <tr>\n",
       "      <th>10311</th>\n",
       "      <td>CDS</td>\n",
       "      <td>8382</td>\n",
       "      <td>1</td>\n",
       "      <td>Pseudomonas aeruginosa</td>\n",
       "      <td>0.542949</td>\n",
       "      <td>0.632784</td>\n",
       "      <td>0.438439</td>\n",
       "      <td>0.557624</td>\n",
       "      <td>1</td>\n",
       "      <td>0</td>\n",
       "      <td>...</td>\n",
       "      <td>0.159236</td>\n",
       "      <td>0.121019</td>\n",
       "      <td>0.0</td>\n",
       "      <td>0.000000</td>\n",
       "      <td>1</td>\n",
       "      <td>0.000000</td>\n",
       "      <td>0.069307</td>\n",
       "      <td>0.575000</td>\n",
       "      <td>0.079208</td>\n",
       "      <td>0.425000</td>\n",
       "    </tr>\n",
       "    <tr>\n",
       "      <th>10312</th>\n",
       "      <td>CDS</td>\n",
       "      <td>9510</td>\n",
       "      <td>1</td>\n",
       "      <td>Pseudomonas aeruginosa</td>\n",
       "      <td>0.313985</td>\n",
       "      <td>0.380442</td>\n",
       "      <td>0.315773</td>\n",
       "      <td>0.245741</td>\n",
       "      <td>1</td>\n",
       "      <td>0</td>\n",
       "      <td>...</td>\n",
       "      <td>0.062914</td>\n",
       "      <td>0.231788</td>\n",
       "      <td>0.0</td>\n",
       "      <td>0.238095</td>\n",
       "      <td>1</td>\n",
       "      <td>0.761905</td>\n",
       "      <td>0.442997</td>\n",
       "      <td>0.164286</td>\n",
       "      <td>0.159609</td>\n",
       "      <td>0.835714</td>\n",
       "    </tr>\n",
       "    <tr>\n",
       "      <th>10313</th>\n",
       "      <td>CDS</td>\n",
       "      <td>15876</td>\n",
       "      <td>1</td>\n",
       "      <td>Pseudomonas aeruginosa</td>\n",
       "      <td>0.611426</td>\n",
       "      <td>0.552532</td>\n",
       "      <td>0.541194</td>\n",
       "      <td>0.740552</td>\n",
       "      <td>0</td>\n",
       "      <td>1</td>\n",
       "      <td>...</td>\n",
       "      <td>0.115315</td>\n",
       "      <td>0.023423</td>\n",
       "      <td>0.0</td>\n",
       "      <td>1.000000</td>\n",
       "      <td>1</td>\n",
       "      <td>0.000000</td>\n",
       "      <td>0.117470</td>\n",
       "      <td>0.367347</td>\n",
       "      <td>0.075301</td>\n",
       "      <td>0.632653</td>\n",
       "    </tr>\n",
       "  </tbody>\n",
       "</table>\n",
       "<p>10 rows × 5531 columns</p>\n",
       "</div>"
      ],
      "text/plain": [
       "      Type  Length  Dataset                  Genome  GC_content  GC1_content  \\\n",
       "10304  CDS    4767        1  Pseudomonas aeruginosa    0.503671     0.521082   \n",
       "10305  CDS    4851        1  Pseudomonas aeruginosa    0.579674     0.619048   \n",
       "10306  CDS    4935        1  Pseudomonas aeruginosa    0.519554     0.586018   \n",
       "10307  CDS    4962        1  Pseudomonas aeruginosa    0.531237     0.626360   \n",
       "10308  CDS    5103        1  Pseudomonas aeruginosa    0.492455     0.533216   \n",
       "10309  CDS    6315        1  Pseudomonas aeruginosa    0.488678     0.582423   \n",
       "10310  CDS    6342        1  Pseudomonas aeruginosa    0.529328     0.610218   \n",
       "10311  CDS    8382        1  Pseudomonas aeruginosa    0.542949     0.632784   \n",
       "10312  CDS    9510        1  Pseudomonas aeruginosa    0.313985     0.380442   \n",
       "10313  CDS   15876        1  Pseudomonas aeruginosa    0.611426     0.552532   \n",
       "\n",
       "       GC2_content  GC3_content  Start_ATG  Start_GTG  ...  TCG_c_weight  \\\n",
       "10304     0.488987     0.500944          1          0  ...      0.055215   \n",
       "10305     0.472480     0.647495          1          0  ...      0.084211   \n",
       "10306     0.390274     0.582371          1          0  ...      0.098039   \n",
       "10307     0.415961     0.551391          1          0  ...      0.141509   \n",
       "10308     0.439153     0.504997          1          0  ...      0.125000   \n",
       "10309     0.422328     0.461283          1          0  ...      0.099338   \n",
       "10310     0.405393     0.572375          1          0  ...      0.148148   \n",
       "10311     0.438439     0.557624          1          0  ...      0.159236   \n",
       "10312     0.315773     0.245741          1          0  ...      0.062914   \n",
       "10313     0.541194     0.740552          0          1  ...      0.115315   \n",
       "\n",
       "       TCT_c_weight  TGA_c_weight  TGC_c_weight  TGG_c_weight  TGT_c_weight  \\\n",
       "10304      0.196319           0.0      0.000000             1      0.000000   \n",
       "10305      0.073684           0.0      0.500000             1      0.500000   \n",
       "10306      0.196078           1.0      0.631579             1      0.368421   \n",
       "10307      0.103774           0.0      0.666667             1      0.333333   \n",
       "10308      0.075000           0.0      0.500000             1      0.500000   \n",
       "10309      0.178808           0.0      0.486486             1      0.513513   \n",
       "10310      0.125926           1.0      0.461539             1      0.538462   \n",
       "10311      0.121019           0.0      0.000000             1      0.000000   \n",
       "10312      0.231788           0.0      0.238095             1      0.761905   \n",
       "10313      0.023423           0.0      1.000000             1      0.000000   \n",
       "\n",
       "       TTA_c_weight  TTC_c_weight  TTG_c_weight  TTT_c_weight  \n",
       "10304      0.125000      0.588235      0.136364      0.411765  \n",
       "10305      0.058394      0.441860      0.058394      0.558140  \n",
       "10306      0.155080      0.451219      0.128342      0.548781  \n",
       "10307      0.125000      0.555556      0.155000      0.444444  \n",
       "10308      0.108696      0.391304      0.123188      0.608696  \n",
       "10309      0.220884      0.356164      0.188755      0.643836  \n",
       "10310      0.103004      0.447059      0.137339      0.552941  \n",
       "10311      0.069307      0.575000      0.079208      0.425000  \n",
       "10312      0.442997      0.164286      0.159609      0.835714  \n",
       "10313      0.117470      0.367347      0.075301      0.632653  \n",
       "\n",
       "[10 rows x 5531 columns]"
      ]
     },
     "execution_count": 3,
     "metadata": {},
     "output_type": "execute_result"
    }
   ],
   "source": [
    "df.tail(10)"
   ]
  },
  {
   "cell_type": "markdown",
   "id": "710711ea",
   "metadata": {},
   "source": [
    "## Pre-processing / Data preparation\n",
    "\n",
    "1. One-hot encoded categorical variables\n",
    "2. Split data into features and labels\n",
    "3. Convert to arrays\n",
    "4. Split data into training and testing sets"
   ]
  },
  {
   "cell_type": "markdown",
   "id": "aca52b83",
   "metadata": {},
   "source": [
    "### Encoding target values"
   ]
  },
  {
   "cell_type": "code",
   "execution_count": 4,
   "id": "5b8961d5",
   "metadata": {},
   "outputs": [],
   "source": [
    "def encode_feature(array):\n",
    "    \"\"\" Encode a categorical array into a number array\n",
    "    \n",
    "    :param array: array to be encoded\n",
    "    :return: numerical array\n",
    "    \"\"\"\n",
    "  \n",
    "    encoder = preprocessing.LabelEncoder()\n",
    "    encoder.fit(array)\n",
    "    return encoder.transform(array)"
   ]
  },
  {
   "cell_type": "code",
   "execution_count": 5,
   "id": "ba2f8f51",
   "metadata": {},
   "outputs": [
    {
     "name": "stdout",
     "output_type": "stream",
     "text": [
      "['CDS' 'CDS' 'CDS' ... 'CDS' 'CDS' 'CDS']\n"
     ]
    }
   ],
   "source": [
    "class_names = ['CDS', 'LORF']\n",
    "targets = df[\"Type\"].values\n",
    "print(targets)"
   ]
  },
  {
   "cell_type": "code",
   "execution_count": 6,
   "id": "26817830",
   "metadata": {},
   "outputs": [
    {
     "name": "stdout",
     "output_type": "stream",
     "text": [
      "[0 0 0 ... 0 0 0]\n"
     ]
    }
   ],
   "source": [
    "targets = encode_feature(targets)\n",
    "print(targets)"
   ]
  },
  {
   "cell_type": "code",
   "execution_count": 7,
   "id": "07e2d64e",
   "metadata": {},
   "outputs": [
    {
     "name": "stdout",
     "output_type": "stream",
     "text": [
      "The shape of our dataframe is: (53276, 5531)\n",
      "Rows: 53276\n",
      "Columns: 5531\n"
     ]
    }
   ],
   "source": [
    "print('The shape of our dataframe is:', df.shape)\n",
    "print('Rows:', df.shape[0])\n",
    "print('Columns:', df.shape[1])"
   ]
  },
  {
   "cell_type": "markdown",
   "id": "94595ad8",
   "metadata": {},
   "source": [
    "### Selecting features and targets and converting data to arrays"
   ]
  },
  {
   "cell_type": "code",
   "execution_count": null,
   "id": "3c381cba",
   "metadata": {},
   "outputs": [],
   "source": [
    "# Labels are the values we want to predict\n",
    "labels = targets\n",
    "\n",
    "# Remove the labels from the features -> axis 1 refers to the columns\n",
    "features = df.drop(['Type','Genome', 'Dataset'], axis = 1)\n",
    "\n",
    "# Saving feature names as list for later use\n",
    "feature_names = list(features.columns)\n",
    "\n",
    "# Convert to numpy array\n",
    "features = np.array(features)"
   ]
  },
  {
   "cell_type": "code",
   "execution_count": null,
   "id": "3df338d9",
   "metadata": {},
   "outputs": [],
   "source": [
    "print('The shape of our features are:', features.shape)"
   ]
  },
  {
   "cell_type": "markdown",
   "id": "523753d8",
   "metadata": {},
   "source": [
    "### Split into training and testing sets"
   ]
  },
  {
   "cell_type": "code",
   "execution_count": null,
   "id": "3c89eb41",
   "metadata": {},
   "outputs": [],
   "source": [
    "# Split the data into training and testing sets -> x = features and y = labels/targets\n",
    "train_x, test_x, train_y, test_y = train_test_split(features, labels, test_size = 0.25, random_state = 42)"
   ]
  },
  {
   "cell_type": "code",
   "execution_count": null,
   "id": "3e85d2e9",
   "metadata": {},
   "outputs": [],
   "source": [
    "print('Training Features Shape:', train_x.shape)\n",
    "print('Training Labels Shape:', train_y.shape)\n",
    "print('Testing Features Shape:', test_x.shape)\n",
    "print('Testing Labels Shape:', test_y.shape)"
   ]
  },
  {
   "cell_type": "markdown",
   "id": "ae0004df",
   "metadata": {},
   "source": [
    "## Establish baseline \n",
    "\n",
    "Comparison to Prodigal?"
   ]
  },
  {
   "cell_type": "code",
   "execution_count": null,
   "id": "a11e18cf",
   "metadata": {},
   "outputs": [],
   "source": []
  },
  {
   "cell_type": "markdown",
   "id": "e8ede6cd",
   "metadata": {},
   "source": [
    "## Train model\n",
    "\n",
    "**RandomForestClassifier**(bootstrap=True, class_weight=None, criterion='gini',\n",
    "            max_depth=None, max_features='auto', max_leaf_nodes=None,\n",
    "            min_impurity_decrease=0.0, min_impurity_split=None,\n",
    "            min_samples_leaf=1, min_samples_split=2,\n",
    "            min_weight_fraction_leaf=0.0, n_estimators=100, n_jobs=1,\n",
    "            oob_score=False, random_state=None, verbose=0,\n",
    "            warm_start=False)"
   ]
  },
  {
   "cell_type": "code",
   "execution_count": null,
   "id": "2fd1af8c",
   "metadata": {},
   "outputs": [],
   "source": [
    "# Create a Gaussian Classifier\n",
    "clf = RandomForestClassifier(n_estimators=100, random_state = 42)\n",
    "\n",
    "# Train the model using the training sets y_pred=clf.predict(X_test)\n",
    "clf.fit(train_x, train_y)"
   ]
  },
  {
   "cell_type": "markdown",
   "id": "5ea0c941",
   "metadata": {},
   "source": [
    "## Make predictions on test set"
   ]
  },
  {
   "cell_type": "code",
   "execution_count": null,
   "id": "3806284b",
   "metadata": {},
   "outputs": [],
   "source": [
    "pred_y = clf.predict(test_x)\n",
    "\n",
    "# Model Accuracy, how often is the classifier correct?\n",
    "print(\"Accuracy:\",metrics.accuracy_score(test_y, pred_y))"
   ]
  },
  {
   "cell_type": "markdown",
   "id": "1e2c4bba",
   "metadata": {},
   "source": [
    "## Hyperparameter tuning\n",
    "\n",
    "The most common way to do this is simply make a bunch of models with different settings, evaluate them all on the same validation set, and see which one does best. Of course, this would be a tedious process to do by hand, and there are automated methods to do this process in Skicit-learn. Hyperparameter tuning is often more engineering than theory-based, and I would encourage anyone interested to check out the documentation and start playing around! Keep in mind that the first model built will almost never be the model that makes it to production."
   ]
  },
  {
   "cell_type": "code",
   "execution_count": null,
   "id": "10341d1c",
   "metadata": {},
   "outputs": [],
   "source": [
    "clf.get_params()"
   ]
  },
  {
   "cell_type": "markdown",
   "id": "527218fb",
   "metadata": {},
   "source": [
    "## Finding important features\n",
    "\n",
    "1. Create a random forests model.\n",
    "2. Use the feature importance variable to see feature importance scores.\n",
    "3. Visualize these scores using the seaborn library."
   ]
  },
  {
   "cell_type": "code",
   "execution_count": null,
   "id": "a891b087",
   "metadata": {},
   "outputs": [],
   "source": [
    "feature_imp = pd.Series(clf.feature_importances_, index = feature_names).sort_values(ascending=False)\n",
    "\n",
    "print(feature_imp)"
   ]
  },
  {
   "cell_type": "code",
   "execution_count": null,
   "id": "1d1e321e",
   "metadata": {},
   "outputs": [],
   "source": [
    "# Get numerical feature importances\n",
    "importances = list(clf.feature_importances_)\n",
    "\n",
    "# List of tuples with variable and importance\n",
    "feature_importances = [(feature, round(importance, 5)) for feature, importance in zip(feature_names, importances)]\n",
    "\n",
    "# Sort the feature importances by most important first\n",
    "feature_importances = sorted(feature_importances, key = lambda x: x[1], reverse = True)\n",
    "\n",
    "# Print out the feature and importances \n",
    "[print('Variable: {:20} Importance: {}'.format(*pair)) for pair in feature_importances];"
   ]
  },
  {
   "cell_type": "markdown",
   "id": "1f0ac90e",
   "metadata": {},
   "source": [
    "**Features that have 0.01 - 0.02 in feature importance:**\n",
    "- GC2_content\n",
    "- Length\n",
    "- GC1_content\n",
    "- GC3_content\n",
    "- Start_ATG \n",
    "- Start_TTG\n",
    "- CTA\n",
    "- CTAT \n",
    "- TGAA\n",
    "- ATGAA\n",
    "- TGAAA\n",
    "- ACC_c_weight\n",
    "- ATA_c_weight\n",
    "- CCG_c_weight \n",
    "- CGT_c_weight\n",
    "- CTG_c_weight\n",
    "- GTG_c_weight\n",
    "- TAT_c_weight    "
   ]
  },
  {
   "cell_type": "markdown",
   "id": "edfb024f",
   "metadata": {},
   "source": [
    "### Visualization"
   ]
  },
  {
   "cell_type": "code",
   "execution_count": null,
   "id": "85ea9a4f",
   "metadata": {},
   "outputs": [],
   "source": [
    "feature_imp = pd.Series(clf.feature_importances_, index = feature_names).sort_values(ascending=False)"
   ]
  },
  {
   "cell_type": "code",
   "execution_count": null,
   "id": "2bf25f0a",
   "metadata": {},
   "outputs": [],
   "source": [
    "%matplotlib inline\n",
    "\n",
    "# Creating a bar plot\n",
    "sns.barplot(x = feature_imp, y = feature_imp.index)\n",
    "\n",
    "# Add labels to your graph\n",
    "plt.xlabel('Feature Importance Score')\n",
    "plt.ylabel('Features')\n",
    "plt.title(\"Visualizing Important Features\")\n",
    "plt.legend()\n",
    "plt.show()"
   ]
  },
  {
   "cell_type": "markdown",
   "id": "4b463762",
   "metadata": {},
   "source": [
    "## Generating the model on selected features\n",
    "\n",
    "After removing the least important features the accuracy may increase. This is because one removes misleading data and noise, resulting in increased accuracy. A lesser amount of features also reduces the training time."
   ]
  },
  {
   "cell_type": "code",
   "execution_count": null,
   "id": "29282a4e",
   "metadata": {},
   "outputs": [],
   "source": [
    "# Create a Gaussian Classifier\n",
    "clf_imp = RandomForestClassifier(n_estimators=100, random_state = 42)\n",
    "\n",
    "# Extract the two most important features\n",
    "important_indices = [feature_names.index('GC2_content'), feature_names.index('Start_ATG'), \n",
    "                     feature_names.index('Start_TTG'), feature_names.index('CGT_c_weight'), \n",
    "                     feature_names.index('CTG_c_weight'), feature_names.index('TAT_c_weight'), \n",
    "                     feature_names.index('CTAT'), feature_names.index('Length'), \n",
    "                     feature_names.index('ATGAA'), feature_names.index('GC3_content'),\n",
    "                     feature_names.index('GC1_content'), feature_names.index('ATA_c_weight'), \n",
    "                     feature_names.index('CTA'), feature_names.index('TGAAA')]\n",
    "\n",
    "train_important = train_x[:, important_indices]\n",
    "test_important = test_x[:, important_indices]"
   ]
  },
  {
   "cell_type": "code",
   "execution_count": null,
   "id": "e082f660",
   "metadata": {},
   "outputs": [],
   "source": [
    "# Train the random forest\n",
    "clf_imp.fit(train_important, train_y)"
   ]
  },
  {
   "cell_type": "code",
   "execution_count": null,
   "id": "1bbe7ca0",
   "metadata": {},
   "outputs": [],
   "source": [
    "# Make predictions and determine the error\n",
    "pred_y = clf_imp.predict(test_important)"
   ]
  },
  {
   "cell_type": "code",
   "execution_count": null,
   "id": "5a0f3ca0",
   "metadata": {},
   "outputs": [],
   "source": [
    "# Model Accuracy, how often is the classifier correct?\n",
    "print(\"Accuracy:\", metrics.accuracy_score(test_y, pred_y))"
   ]
  },
  {
   "cell_type": "markdown",
   "id": "b349c7a2",
   "metadata": {},
   "source": [
    "### Visualization"
   ]
  },
  {
   "cell_type": "code",
   "execution_count": null,
   "id": "5f8837c8",
   "metadata": {},
   "outputs": [],
   "source": [
    "feature_names = ['GC2_content', 'Start_ATG', 'Start_TTG', 'CGT_c_weight', \n",
    "                 'CTG_c_weight', 'TAT_c_weight', 'CTAT', 'Length', 'ATGAA', \n",
    "                 'GC3_content', 'GC1_content', 'ATA_c_weight', 'CTA', 'TGAAA']"
   ]
  },
  {
   "cell_type": "code",
   "execution_count": null,
   "id": "71d9e0e6",
   "metadata": {},
   "outputs": [],
   "source": [
    "feature_imp = pd.Series(clf_imp.feature_importances_, index = feature_names).sort_values(ascending=False)"
   ]
  },
  {
   "cell_type": "code",
   "execution_count": null,
   "id": "135a7483",
   "metadata": {},
   "outputs": [],
   "source": [
    "%matplotlib inline\n",
    "\n",
    "# Creating a bar plot\n",
    "sns.barplot(x = feature_imp, y = feature_imp.index)\n",
    "\n",
    "# Add labels to your graph\n",
    "plt.xlabel('Feature Importance Score')\n",
    "plt.ylabel('Features')\n",
    "plt.title(\"Visualizing Important Features\")\n",
    "plt.legend(feature_names, loc =\"lower right\", fontsize='x-small')\n",
    "plt.show()"
   ]
  },
  {
   "cell_type": "code",
   "execution_count": null,
   "id": "335ac94f",
   "metadata": {},
   "outputs": [],
   "source": [
    "# Set the style\n",
    "plt.style.use('fivethirtyeight')\n",
    "\n",
    "importances = list(clf_imp.feature_importances_)\n",
    "\n",
    "# list of x locations for plotting\n",
    "x_values = list(range(len(importances)))\n",
    "\n",
    "# Make a bar chart\n",
    "plt.bar(x_values, importances, orientation = 'vertical')\n",
    "\n",
    "# Tick labels for x axis\n",
    "plt.xticks(x_values, feature_names, rotation='vertical')\n",
    "\n",
    "# Axis labels and title\n",
    "plt.ylabel('Importance'); plt.xlabel('Variable'); plt.title('Variable Importances');"
   ]
  },
  {
   "cell_type": "markdown",
   "id": "138049bd",
   "metadata": {},
   "source": [
    "## Visualizing a single decision tree\n",
    "\n",
    "With sklearn we can examine any of the trees in the forest. We will select one tree, and save the whole tree as an image."
   ]
  },
  {
   "cell_type": "code",
   "execution_count": null,
   "id": "38a99ea6",
   "metadata": {},
   "outputs": [],
   "source": [
    "# Pull out one tree from the forest\n",
    "tree = clf.estimators_[5]\n",
    "\n",
    "# Pull out one tree from the forest\n",
    "tree = clf.estimators_[5]\n",
    "\n",
    "# Export the image to a dot file\n",
    "export_graphviz(tree, out_file = 'tree.dot', feature_names = feature_names, rounded = True, precision = 1)\n",
    "\n",
    "# Use dot file to create a graph\n",
    "(graph, ) = pydot.graph_from_dot_file('tree.dot')"
   ]
  },
  {
   "cell_type": "code",
   "execution_count": null,
   "id": "28db26a2",
   "metadata": {},
   "outputs": [],
   "source": [
    "# Write graph to a png file\n",
    "graph.write_png('tree.png')"
   ]
  },
  {
   "cell_type": "code",
   "execution_count": null,
   "id": "492fc43c",
   "metadata": {},
   "outputs": [],
   "source": [
    "# Limit depth of tree to 3 levels\n",
    "clf_small = RandomForestClassifier(n_estimators=10, max_depth = 3)\n",
    "clf_small.fit(train_x, train_y)\n",
    "\n",
    "# Extract the small tree\n",
    "tree_small = clf_small.estimators_[5]\n",
    "\n",
    "# Save the tree as a png image\n",
    "export_graphviz(tree_small, out_file = 'small_tree.dot', feature_names = feature_names, rounded = True, precision = 1)\n",
    "(graph, ) = pydot.graph_from_dot_file('small_tree.dot')\n",
    "graph.write_png('small_tree.png');"
   ]
  },
  {
   "cell_type": "code",
   "execution_count": null,
   "id": "38e31fbc",
   "metadata": {},
   "outputs": [],
   "source": []
  }
 ],
 "metadata": {
  "kernelspec": {
   "display_name": "Python 3",
   "language": "python",
   "name": "python3"
  },
  "language_info": {
   "codemirror_mode": {
    "name": "ipython",
    "version": 3
   },
   "file_extension": ".py",
   "mimetype": "text/x-python",
   "name": "python",
   "nbconvert_exporter": "python",
   "pygments_lexer": "ipython3",
   "version": "3.8.8"
  }
 },
 "nbformat": 4,
 "nbformat_minor": 5
}
