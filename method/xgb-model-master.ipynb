{
 "cells": [
  {
   "cell_type": "markdown",
   "id": "001b7562",
   "metadata": {
    "papermill": {
     "duration": 0.025927,
     "end_time": "2022-04-27T16:28:01.998703",
     "exception": false,
     "start_time": "2022-04-27T16:28:01.972776",
     "status": "completed"
    },
    "tags": []
   },
   "source": [
    "# XGBoost Model"
   ]
  },
  {
   "cell_type": "markdown",
   "id": "e7ea7822",
   "metadata": {
    "papermill": {
     "duration": 0.024229,
     "end_time": "2022-04-27T16:28:02.046544",
     "exception": false,
     "start_time": "2022-04-27T16:28:02.022315",
     "status": "completed"
    },
    "tags": []
   },
   "source": [
    "## Imports"
   ]
  },
  {
   "cell_type": "code",
   "execution_count": 1,
   "id": "ce710ea5",
   "metadata": {
    "execution": {
     "iopub.execute_input": "2022-04-27T16:28:02.096423Z",
     "iopub.status.busy": "2022-04-27T16:28:02.095891Z",
     "iopub.status.idle": "2022-04-27T16:28:03.587654Z",
     "shell.execute_reply": "2022-04-27T16:28:03.586788Z"
    },
    "jupyter": {
     "source_hidden": true
    },
    "papermill": {
     "duration": 1.519758,
     "end_time": "2022-04-27T16:28:03.590344",
     "exception": false,
     "start_time": "2022-04-27T16:28:02.070586",
     "status": "completed"
    },
    "tags": []
   },
   "outputs": [],
   "source": [
    "# Preprocessing and encoding variables\n",
    "import pandas as pd\n",
    "import numpy as np\n",
    "from scipy.stats import uniform, randint\n",
    "\n",
    "# Using Skicit-learn to split data into training and testing sets\n",
    "\n",
    "from sklearn import preprocessing\n",
    "from sklearn.model_selection import train_test_split\n",
    "\n",
    "# Import the classifier we are using\n",
    "import xgboost as xgb\n",
    "from xgboost import XGBClassifier\n",
    "\n",
    "# Import scikit-learn metrics module for accuracy calculation\n",
    "from sklearn import metrics\n",
    "\n",
    "# Visualising feature importance and making plots\n",
    "import matplotlib.pyplot as plt\n",
    "import seaborn as sns\n",
    "\n",
    "# Hyperparameter tuning\n",
    "from sklearn.model_selection import RandomizedSearchCV\n",
    "\n",
    "# Confusion matrix\n",
    "from sklearn.metrics import accuracy_score, confusion_matrix, plot_confusion_matrix, precision_score, recall_score, roc_auc_score"
   ]
  },
  {
   "cell_type": "code",
   "execution_count": 2,
   "id": "5104b7ec",
   "metadata": {
    "execution": {
     "iopub.execute_input": "2022-04-27T16:28:03.640644Z",
     "iopub.status.busy": "2022-04-27T16:28:03.640330Z",
     "iopub.status.idle": "2022-04-27T16:32:05.570858Z",
     "shell.execute_reply": "2022-04-27T16:32:05.569575Z"
    },
    "papermill": {
     "duration": 241.961254,
     "end_time": "2022-04-27T16:32:05.575897",
     "exception": false,
     "start_time": "2022-04-27T16:28:03.614643",
     "status": "completed"
    },
    "tags": []
   },
   "outputs": [],
   "source": [
    "G1 = pd.read_csv('../input/genomes-part1/G1.features.csv').iloc[:, 1:]\n",
    "G2 = pd.read_csv('../input/genomes-part1/G2.features.csv').iloc[:, 1:]\n",
    "G3 = pd.read_csv('../input/genomes-part1/G3.features.csv').iloc[:, 1:]\n",
    "G4 = pd.read_csv('../input/genomes-part1/G4.features.csv').iloc[:, 1:]\n",
    "G5 = pd.read_csv('../input/genomes-part1/G5.features.csv').iloc[:, 1:]\n",
    "#G6 = pd.read_csv('../input/genomes/G6_translated.csv').iloc[:, 1:]\n",
    "#G7 = pd.read_csv('../input/genomes/G7_translated.csv').iloc[:, 1:]\n",
    "#G8 = pd.read_csv('../input/genomes/G8_translated.csv').iloc[:, 1:]\n",
    "#G9 = pd.read_csv('../input/genomes/G9_translated.csv').iloc[:, 1:]\n",
    "#G10 = pd.read_csv('../input/genomes/G10_translated.csv').iloc[:, 1:]\n",
    "#G11 = pd.read_csv('../input/genomes/G11_translated.csv').iloc[:, 1:]\n",
    "#G12 = pd.read_csv('../input/genomes/G12_translated.csv').iloc[:, 1:]\n",
    "#G13 = pd.read_csv('../input/genomes/G13_translated.csv').iloc[:, 1:]\n",
    "#G14 = pd.read_csv('../input/genomes/G14_translated.csv').iloc[:, 1:]\n",
    "#G15 = pd.read_csv('../input/genomes/G15_translated.csv').iloc[:, 1:]"
   ]
  },
  {
   "cell_type": "code",
   "execution_count": 3,
   "id": "98773e8e",
   "metadata": {
    "execution": {
     "iopub.execute_input": "2022-04-27T16:32:05.635306Z",
     "iopub.status.busy": "2022-04-27T16:32:05.635003Z",
     "iopub.status.idle": "2022-04-27T16:32:07.032048Z",
     "shell.execute_reply": "2022-04-27T16:32:07.031025Z"
    },
    "papermill": {
     "duration": 1.426401,
     "end_time": "2022-04-27T16:32:07.034541",
     "exception": false,
     "start_time": "2022-04-27T16:32:05.608140",
     "status": "completed"
    },
    "tags": []
   },
   "outputs": [],
   "source": [
    "G1 = G1.sample(4000)\n",
    "G2 = G2.sample(4000)\n",
    "G3 = G3.sample(4000)\n",
    "G4 = G4.sample(4000)\n",
    "#G5 = G5.sample(4000)"
   ]
  },
  {
   "cell_type": "code",
   "execution_count": 4,
   "id": "cc1473f9",
   "metadata": {
    "execution": {
     "iopub.execute_input": "2022-04-27T16:32:07.085361Z",
     "iopub.status.busy": "2022-04-27T16:32:07.085063Z",
     "iopub.status.idle": "2022-04-27T16:32:12.719782Z",
     "shell.execute_reply": "2022-04-27T16:32:12.718866Z"
    },
    "papermill": {
     "duration": 5.662662,
     "end_time": "2022-04-27T16:32:12.722300",
     "exception": false,
     "start_time": "2022-04-27T16:32:07.059638",
     "status": "completed"
    },
    "tags": []
   },
   "outputs": [],
   "source": [
    "frames = [G1, G2, G3, G4, G5]\n",
    "G = pd.concat(frames)\n",
    "\n",
    "#frames = [G1, G2, G3, G4, G5, G6, G7, G8, G9, G10]\n",
    "#G = pd.concat(frames)"
   ]
  },
  {
   "cell_type": "code",
   "execution_count": 5,
   "id": "a55a0708",
   "metadata": {
    "execution": {
     "iopub.execute_input": "2022-04-27T16:32:12.773029Z",
     "iopub.status.busy": "2022-04-27T16:32:12.772485Z",
     "iopub.status.idle": "2022-04-27T16:32:17.205096Z",
     "shell.execute_reply": "2022-04-27T16:32:17.204065Z"
    },
    "papermill": {
     "duration": 4.460567,
     "end_time": "2022-04-27T16:32:17.207703",
     "exception": false,
     "start_time": "2022-04-27T16:32:12.747136",
     "status": "completed"
    },
    "tags": []
   },
   "outputs": [],
   "source": [
    "G = G.dropna()"
   ]
  },
  {
   "cell_type": "code",
   "execution_count": 6,
   "id": "8479af8c",
   "metadata": {
    "execution": {
     "iopub.execute_input": "2022-04-27T16:32:17.259979Z",
     "iopub.status.busy": "2022-04-27T16:32:17.259663Z",
     "iopub.status.idle": "2022-04-27T16:32:17.300339Z",
     "shell.execute_reply": "2022-04-27T16:32:17.299038Z"
    },
    "papermill": {
     "duration": 0.070626,
     "end_time": "2022-04-27T16:32:17.304287",
     "exception": false,
     "start_time": "2022-04-27T16:32:17.233661",
     "status": "completed"
    },
    "tags": []
   },
   "outputs": [
    {
     "data": {
      "text/html": [
       "<div>\n",
       "<style scoped>\n",
       "    .dataframe tbody tr th:only-of-type {\n",
       "        vertical-align: middle;\n",
       "    }\n",
       "\n",
       "    .dataframe tbody tr th {\n",
       "        vertical-align: top;\n",
       "    }\n",
       "\n",
       "    .dataframe thead th {\n",
       "        text-align: right;\n",
       "    }\n",
       "</style>\n",
       "<table border=\"1\" class=\"dataframe\">\n",
       "  <thead>\n",
       "    <tr style=\"text-align: right;\">\n",
       "      <th></th>\n",
       "      <th>Type</th>\n",
       "      <th>Length</th>\n",
       "      <th>Dataset</th>\n",
       "      <th>Genome</th>\n",
       "      <th>GC_content</th>\n",
       "      <th>GC1_content</th>\n",
       "      <th>GC2_content</th>\n",
       "      <th>GC3_content</th>\n",
       "      <th>Start_ATG</th>\n",
       "      <th>Start_GTG</th>\n",
       "      <th>...</th>\n",
       "      <th>c_weight_TCG</th>\n",
       "      <th>c_weight_TCT</th>\n",
       "      <th>c_weight_TGA</th>\n",
       "      <th>c_weight_TGC</th>\n",
       "      <th>c_weight_TGG</th>\n",
       "      <th>c_weight_TGT</th>\n",
       "      <th>c_weight_TTA</th>\n",
       "      <th>c_weight_TTC</th>\n",
       "      <th>c_weight_TTG</th>\n",
       "      <th>c_weight_TTT</th>\n",
       "    </tr>\n",
       "  </thead>\n",
       "  <tbody>\n",
       "    <tr>\n",
       "      <th>3661</th>\n",
       "      <td>CDS</td>\n",
       "      <td>4179</td>\n",
       "      <td>1</td>\n",
       "      <td>Campylobacter jejuni</td>\n",
       "      <td>0.369466</td>\n",
       "      <td>0.464465</td>\n",
       "      <td>0.307968</td>\n",
       "      <td>0.335966</td>\n",
       "      <td>1</td>\n",
       "      <td>0</td>\n",
       "      <td>...</td>\n",
       "      <td>0.104167</td>\n",
       "      <td>0.281250</td>\n",
       "      <td>0.0</td>\n",
       "      <td>0.535714</td>\n",
       "      <td>1</td>\n",
       "      <td>0.464286</td>\n",
       "      <td>0.304348</td>\n",
       "      <td>0.200000</td>\n",
       "      <td>0.267081</td>\n",
       "      <td>0.800000</td>\n",
       "    </tr>\n",
       "    <tr>\n",
       "      <th>3662</th>\n",
       "      <td>CDS</td>\n",
       "      <td>4245</td>\n",
       "      <td>1</td>\n",
       "      <td>Campylobacter jejuni</td>\n",
       "      <td>0.479152</td>\n",
       "      <td>0.582332</td>\n",
       "      <td>0.390813</td>\n",
       "      <td>0.464311</td>\n",
       "      <td>0</td>\n",
       "      <td>0</td>\n",
       "      <td>...</td>\n",
       "      <td>0.176471</td>\n",
       "      <td>0.161765</td>\n",
       "      <td>0.0</td>\n",
       "      <td>0.636364</td>\n",
       "      <td>1</td>\n",
       "      <td>0.363636</td>\n",
       "      <td>0.395833</td>\n",
       "      <td>0.323529</td>\n",
       "      <td>0.263889</td>\n",
       "      <td>0.676471</td>\n",
       "    </tr>\n",
       "    <tr>\n",
       "      <th>3663</th>\n",
       "      <td>CDS</td>\n",
       "      <td>4839</td>\n",
       "      <td>1</td>\n",
       "      <td>Campylobacter jejuni</td>\n",
       "      <td>0.397396</td>\n",
       "      <td>0.482331</td>\n",
       "      <td>0.376937</td>\n",
       "      <td>0.332920</td>\n",
       "      <td>1</td>\n",
       "      <td>0</td>\n",
       "      <td>...</td>\n",
       "      <td>0.118110</td>\n",
       "      <td>0.220472</td>\n",
       "      <td>0.0</td>\n",
       "      <td>0.266667</td>\n",
       "      <td>1</td>\n",
       "      <td>0.733333</td>\n",
       "      <td>0.349398</td>\n",
       "      <td>0.234375</td>\n",
       "      <td>0.259036</td>\n",
       "      <td>0.765625</td>\n",
       "    </tr>\n",
       "    <tr>\n",
       "      <th>3664</th>\n",
       "      <td>CDS</td>\n",
       "      <td>4881</td>\n",
       "      <td>1</td>\n",
       "      <td>Campylobacter jejuni</td>\n",
       "      <td>0.425118</td>\n",
       "      <td>0.539029</td>\n",
       "      <td>0.354640</td>\n",
       "      <td>0.381684</td>\n",
       "      <td>0</td>\n",
       "      <td>0</td>\n",
       "      <td>...</td>\n",
       "      <td>0.197531</td>\n",
       "      <td>0.111111</td>\n",
       "      <td>1.0</td>\n",
       "      <td>0.142857</td>\n",
       "      <td>1</td>\n",
       "      <td>0.857143</td>\n",
       "      <td>0.488372</td>\n",
       "      <td>0.194444</td>\n",
       "      <td>0.250000</td>\n",
       "      <td>0.805556</td>\n",
       "    </tr>\n",
       "    <tr>\n",
       "      <th>3665</th>\n",
       "      <td>LORF</td>\n",
       "      <td>5205</td>\n",
       "      <td>1</td>\n",
       "      <td>Campylobacter jejuni</td>\n",
       "      <td>0.394813</td>\n",
       "      <td>0.472622</td>\n",
       "      <td>0.357349</td>\n",
       "      <td>0.354467</td>\n",
       "      <td>1</td>\n",
       "      <td>0</td>\n",
       "      <td>...</td>\n",
       "      <td>0.176000</td>\n",
       "      <td>0.248000</td>\n",
       "      <td>1.0</td>\n",
       "      <td>0.432432</td>\n",
       "      <td>1</td>\n",
       "      <td>0.567568</td>\n",
       "      <td>0.308458</td>\n",
       "      <td>0.195402</td>\n",
       "      <td>0.203980</td>\n",
       "      <td>0.804598</td>\n",
       "    </tr>\n",
       "  </tbody>\n",
       "</table>\n",
       "<p>5 rows × 14791 columns</p>\n",
       "</div>"
      ],
      "text/plain": [
       "      Type  Length  Dataset                Genome  GC_content  GC1_content  \\\n",
       "3661   CDS    4179        1  Campylobacter jejuni    0.369466     0.464465   \n",
       "3662   CDS    4245        1  Campylobacter jejuni    0.479152     0.582332   \n",
       "3663   CDS    4839        1  Campylobacter jejuni    0.397396     0.482331   \n",
       "3664   CDS    4881        1  Campylobacter jejuni    0.425118     0.539029   \n",
       "3665  LORF    5205        1  Campylobacter jejuni    0.394813     0.472622   \n",
       "\n",
       "      GC2_content  GC3_content  Start_ATG  Start_GTG  ...  c_weight_TCG  \\\n",
       "3661     0.307968     0.335966          1          0  ...      0.104167   \n",
       "3662     0.390813     0.464311          0          0  ...      0.176471   \n",
       "3663     0.376937     0.332920          1          0  ...      0.118110   \n",
       "3664     0.354640     0.381684          0          0  ...      0.197531   \n",
       "3665     0.357349     0.354467          1          0  ...      0.176000   \n",
       "\n",
       "      c_weight_TCT  c_weight_TGA  c_weight_TGC  c_weight_TGG  c_weight_TGT  \\\n",
       "3661      0.281250           0.0      0.535714             1      0.464286   \n",
       "3662      0.161765           0.0      0.636364             1      0.363636   \n",
       "3663      0.220472           0.0      0.266667             1      0.733333   \n",
       "3664      0.111111           1.0      0.142857             1      0.857143   \n",
       "3665      0.248000           1.0      0.432432             1      0.567568   \n",
       "\n",
       "      c_weight_TTA  c_weight_TTC  c_weight_TTG  c_weight_TTT  \n",
       "3661      0.304348      0.200000      0.267081      0.800000  \n",
       "3662      0.395833      0.323529      0.263889      0.676471  \n",
       "3663      0.349398      0.234375      0.259036      0.765625  \n",
       "3664      0.488372      0.194444      0.250000      0.805556  \n",
       "3665      0.308458      0.195402      0.203980      0.804598  \n",
       "\n",
       "[5 rows x 14791 columns]"
      ]
     },
     "execution_count": 6,
     "metadata": {},
     "output_type": "execute_result"
    }
   ],
   "source": [
    "G.tail(5)"
   ]
  },
  {
   "cell_type": "code",
   "execution_count": 7,
   "id": "d5ca2211",
   "metadata": {
    "execution": {
     "iopub.execute_input": "2022-04-27T16:32:17.358710Z",
     "iopub.status.busy": "2022-04-27T16:32:17.357898Z",
     "iopub.status.idle": "2022-04-27T16:32:17.365060Z",
     "shell.execute_reply": "2022-04-27T16:32:17.363895Z"
    },
    "papermill": {
     "duration": 0.035642,
     "end_time": "2022-04-27T16:32:17.367107",
     "exception": false,
     "start_time": "2022-04-27T16:32:17.331465",
     "status": "completed"
    },
    "tags": []
   },
   "outputs": [
    {
     "name": "stdout",
     "output_type": "stream",
     "text": [
      "The shape of our dataframe is: (19665, 14791)\n",
      "Rows: 19665\n",
      "Columns: 14791\n"
     ]
    }
   ],
   "source": [
    "print('The shape of our dataframe is:', G.shape)\n",
    "print('Rows:', G.shape[0])\n",
    "print('Columns:', G.shape[1])"
   ]
  },
  {
   "cell_type": "markdown",
   "id": "8c0cf8a1",
   "metadata": {
    "papermill": {
     "duration": 0.025491,
     "end_time": "2022-04-27T16:32:17.419770",
     "exception": false,
     "start_time": "2022-04-27T16:32:17.394279",
     "status": "completed"
    },
    "tags": []
   },
   "source": [
    "## Preprocessing"
   ]
  },
  {
   "cell_type": "markdown",
   "id": "6f78542d",
   "metadata": {
    "papermill": {
     "duration": 0.025454,
     "end_time": "2022-04-27T16:32:17.470946",
     "exception": false,
     "start_time": "2022-04-27T16:32:17.445492",
     "status": "completed"
    },
    "tags": []
   },
   "source": [
    "### Encoding target variables"
   ]
  },
  {
   "cell_type": "code",
   "execution_count": 8,
   "id": "b39eb03a",
   "metadata": {
    "execution": {
     "iopub.execute_input": "2022-04-27T16:32:17.525188Z",
     "iopub.status.busy": "2022-04-27T16:32:17.524427Z",
     "iopub.status.idle": "2022-04-27T16:32:17.530165Z",
     "shell.execute_reply": "2022-04-27T16:32:17.529277Z"
    },
    "papermill": {
     "duration": 0.035925,
     "end_time": "2022-04-27T16:32:17.532496",
     "exception": false,
     "start_time": "2022-04-27T16:32:17.496571",
     "status": "completed"
    },
    "tags": []
   },
   "outputs": [],
   "source": [
    "def encode_feature(array):\n",
    "    \"\"\" Encode a categorical array into a number array\n",
    "    \n",
    "    :param array: array to be encoded\n",
    "    :return: numerical array\n",
    "    \"\"\"\n",
    "  \n",
    "    encoder = preprocessing.LabelEncoder()\n",
    "    encoder.fit(array)\n",
    "    return encoder.transform(array)"
   ]
  },
  {
   "cell_type": "code",
   "execution_count": 9,
   "id": "5296e3bf",
   "metadata": {
    "execution": {
     "iopub.execute_input": "2022-04-27T16:32:17.586617Z",
     "iopub.status.busy": "2022-04-27T16:32:17.585948Z",
     "iopub.status.idle": "2022-04-27T16:32:17.596332Z",
     "shell.execute_reply": "2022-04-27T16:32:17.595095Z"
    },
    "papermill": {
     "duration": 0.040139,
     "end_time": "2022-04-27T16:32:17.598763",
     "exception": false,
     "start_time": "2022-04-27T16:32:17.558624",
     "status": "completed"
    },
    "tags": []
   },
   "outputs": [
    {
     "name": "stdout",
     "output_type": "stream",
     "text": [
      "['LORF' 'CDS' 'LORF' ... 'CDS' 'CDS' 'LORF']\n"
     ]
    }
   ],
   "source": [
    "class_names = ['CDS', 'LORF']\n",
    "targets = G[\"Type\"].values\n",
    "print(targets)"
   ]
  },
  {
   "cell_type": "code",
   "execution_count": 10,
   "id": "72d38cb6",
   "metadata": {
    "execution": {
     "iopub.execute_input": "2022-04-27T16:32:17.652884Z",
     "iopub.status.busy": "2022-04-27T16:32:17.652500Z",
     "iopub.status.idle": "2022-04-27T16:32:17.665696Z",
     "shell.execute_reply": "2022-04-27T16:32:17.664631Z"
    },
    "papermill": {
     "duration": 0.043085,
     "end_time": "2022-04-27T16:32:17.667946",
     "exception": false,
     "start_time": "2022-04-27T16:32:17.624861",
     "status": "completed"
    },
    "tags": []
   },
   "outputs": [
    {
     "name": "stdout",
     "output_type": "stream",
     "text": [
      "[1 0 1 ... 0 0 1]\n"
     ]
    }
   ],
   "source": [
    "targets = encode_feature(targets)\n",
    "print(targets)"
   ]
  },
  {
   "cell_type": "code",
   "execution_count": 11,
   "id": "e8ba3388",
   "metadata": {
    "execution": {
     "iopub.execute_input": "2022-04-27T16:32:17.727230Z",
     "iopub.status.busy": "2022-04-27T16:32:17.726895Z",
     "iopub.status.idle": "2022-04-27T16:32:17.733140Z",
     "shell.execute_reply": "2022-04-27T16:32:17.732250Z"
    },
    "papermill": {
     "duration": 0.038829,
     "end_time": "2022-04-27T16:32:17.736192",
     "exception": false,
     "start_time": "2022-04-27T16:32:17.697363",
     "status": "completed"
    },
    "tags": []
   },
   "outputs": [
    {
     "name": "stdout",
     "output_type": "stream",
     "text": [
      "The shape of our dataframe is: (19665, 14791)\n",
      "Rows: 19665\n",
      "Columns: 14791\n"
     ]
    }
   ],
   "source": [
    "print('The shape of our dataframe is:', G.shape)\n",
    "print('Rows:', G.shape[0])\n",
    "print('Columns:', G.shape[1])"
   ]
  },
  {
   "cell_type": "markdown",
   "id": "6efa507b",
   "metadata": {
    "papermill": {
     "duration": 0.027937,
     "end_time": "2022-04-27T16:32:17.794180",
     "exception": false,
     "start_time": "2022-04-27T16:32:17.766243",
     "status": "completed"
    },
    "tags": []
   },
   "source": [
    "### Selecting features and targets and converting data to arrays"
   ]
  },
  {
   "cell_type": "code",
   "execution_count": 12,
   "id": "f743da06",
   "metadata": {
    "execution": {
     "iopub.execute_input": "2022-04-27T16:32:17.852609Z",
     "iopub.status.busy": "2022-04-27T16:32:17.851883Z",
     "iopub.status.idle": "2022-04-27T16:32:22.791054Z",
     "shell.execute_reply": "2022-04-27T16:32:22.790070Z"
    },
    "papermill": {
     "duration": 4.970043,
     "end_time": "2022-04-27T16:32:22.793626",
     "exception": false,
     "start_time": "2022-04-27T16:32:17.823583",
     "status": "completed"
    },
    "tags": []
   },
   "outputs": [],
   "source": [
    "# Labels are the values we want to predict\n",
    "labels = targets\n",
    "\n",
    "# Remove the labels from the features -> axis 1 refers to the columns\n",
    "features = G.drop(['Type','Genome', 'Dataset'], axis = 1)\n",
    "\n",
    "# Saving feature names as list for later use\n",
    "feature_names = list(features.columns)\n",
    "\n",
    "# Convert to numpy array\n",
    "features = np.array(features)"
   ]
  },
  {
   "cell_type": "code",
   "execution_count": 13,
   "id": "d45eefcd",
   "metadata": {
    "execution": {
     "iopub.execute_input": "2022-04-27T16:32:22.852117Z",
     "iopub.status.busy": "2022-04-27T16:32:22.851812Z",
     "iopub.status.idle": "2022-04-27T16:32:22.857282Z",
     "shell.execute_reply": "2022-04-27T16:32:22.856046Z"
    },
    "papermill": {
     "duration": 0.037407,
     "end_time": "2022-04-27T16:32:22.859905",
     "exception": false,
     "start_time": "2022-04-27T16:32:22.822498",
     "status": "completed"
    },
    "tags": []
   },
   "outputs": [
    {
     "name": "stdout",
     "output_type": "stream",
     "text": [
      "The shape of our features are: (19665, 14788)\n"
     ]
    }
   ],
   "source": [
    "print('The shape of our features are:', features.shape)"
   ]
  },
  {
   "cell_type": "markdown",
   "id": "abd21ebf",
   "metadata": {
    "papermill": {
     "duration": 0.028323,
     "end_time": "2022-04-27T16:32:22.915580",
     "exception": false,
     "start_time": "2022-04-27T16:32:22.887257",
     "status": "completed"
    },
    "tags": []
   },
   "source": [
    "### Split into training and testing sets"
   ]
  },
  {
   "cell_type": "code",
   "execution_count": 14,
   "id": "fd226c26",
   "metadata": {
    "execution": {
     "iopub.execute_input": "2022-04-27T16:32:22.972226Z",
     "iopub.status.busy": "2022-04-27T16:32:22.971917Z",
     "iopub.status.idle": "2022-04-27T16:32:35.121483Z",
     "shell.execute_reply": "2022-04-27T16:32:35.120559Z"
    },
    "papermill": {
     "duration": 12.180717,
     "end_time": "2022-04-27T16:32:35.124045",
     "exception": false,
     "start_time": "2022-04-27T16:32:22.943328",
     "status": "completed"
    },
    "tags": []
   },
   "outputs": [],
   "source": [
    "# Split the data into training and testing sets -> x = features and y = labels/targets\n",
    "train_x, test_x, train_y, test_y = train_test_split(features, labels, test_size = 0.25, random_state = 42)"
   ]
  },
  {
   "cell_type": "code",
   "execution_count": 15,
   "id": "1adcffc9",
   "metadata": {
    "execution": {
     "iopub.execute_input": "2022-04-27T16:32:35.179531Z",
     "iopub.status.busy": "2022-04-27T16:32:35.179229Z",
     "iopub.status.idle": "2022-04-27T16:32:35.185557Z",
     "shell.execute_reply": "2022-04-27T16:32:35.184574Z"
    },
    "papermill": {
     "duration": 0.037144,
     "end_time": "2022-04-27T16:32:35.188261",
     "exception": false,
     "start_time": "2022-04-27T16:32:35.151117",
     "status": "completed"
    },
    "tags": []
   },
   "outputs": [
    {
     "name": "stdout",
     "output_type": "stream",
     "text": [
      "Training Features Shape: (14748, 14788)\n",
      "Training Labels Shape: (14748,)\n",
      "Testing Features Shape: (4917, 14788)\n",
      "Testing Labels Shape: (4917,)\n"
     ]
    }
   ],
   "source": [
    "print('Training Features Shape:', train_x.shape)\n",
    "print('Training Labels Shape:', train_y.shape)\n",
    "print('Testing Features Shape:', test_x.shape)\n",
    "print('Testing Labels Shape:', test_y.shape)"
   ]
  },
  {
   "cell_type": "markdown",
   "id": "75161fd9",
   "metadata": {
    "papermill": {
     "duration": 0.026983,
     "end_time": "2022-04-27T16:32:35.243438",
     "exception": false,
     "start_time": "2022-04-27T16:32:35.216455",
     "status": "completed"
    },
    "tags": []
   },
   "source": [
    "## Train model - default XGBoost\n",
    "\n",
    "- **learning_rate**: step size shrinkage used to prevent overfitting. Range is [0,1]\n",
    "- **max_depth**: determines how deeply each tree is allowed to grow during any boosting round.\n",
    "- **subsample**: percentage of samples used per tree. Low value can lead to underfitting.\n",
    "- **colsample_bytree**: percentage of features used per tree. High value can lead to overfitting.\n",
    "- **n_estimators**: number of trees you want to build.\n",
    "- **objective**: determines the loss function to be used like reg:linear for regression problems, reg:logistic for classification problems with only decision, binary:logistic for classification problems with probability. XGBoost also supports regularization parameters to penalize models as they become more complex and reduce them to simple (parsimonious) models.\n",
    "\n",
    "- **gamma**: controls whether a given node will split based on the expected reduction in loss after the split. A higher value leads to fewer splits. Supported only for tree-based learners.\n",
    "- **alpha**: L1 regularization on leaf weights. A large value leads to more regularization.\n",
    "- **lambda**: L2 regularization on leaf weights and is smoother than L1 regularization."
   ]
  },
  {
   "cell_type": "code",
   "execution_count": 16,
   "id": "dd470cd0",
   "metadata": {
    "execution": {
     "iopub.execute_input": "2022-04-27T16:32:35.299495Z",
     "iopub.status.busy": "2022-04-27T16:32:35.299220Z",
     "iopub.status.idle": "2022-04-27T16:41:32.260745Z",
     "shell.execute_reply": "2022-04-27T16:41:32.259785Z"
    },
    "papermill": {
     "duration": 537.02254,
     "end_time": "2022-04-27T16:41:32.293177",
     "exception": false,
     "start_time": "2022-04-27T16:32:35.270637",
     "status": "completed"
    },
    "tags": []
   },
   "outputs": [
    {
     "data": {
      "text/plain": [
       "XGBClassifier(base_score=0.5, booster='gbtree', colsample_bylevel=1,\n",
       "              colsample_bynode=1, colsample_bytree=1, enable_categorical=False,\n",
       "              eval_metric='logloss', gamma=0, gpu_id=-1, importance_type=None,\n",
       "              interaction_constraints='', learning_rate=0.300000012,\n",
       "              max_delta_step=0, max_depth=6, min_child_weight=1, missing=nan,\n",
       "              monotone_constraints='()', n_estimators=100, n_jobs=4,\n",
       "              num_parallel_tree=1, predictor='auto', random_state=42,\n",
       "              reg_alpha=0, reg_lambda=1, scale_pos_weight=1, subsample=1,\n",
       "              tree_method='exact', use_label_encoder=False,\n",
       "              validate_parameters=1, verbosity=None)"
      ]
     },
     "execution_count": 16,
     "metadata": {},
     "output_type": "execute_result"
    }
   ],
   "source": [
    "# Create a Gaussian Classifier\n",
    "xgb = XGBClassifier(objective=\"binary:logistic\", random_state=42, eval_metric='logloss', use_label_encoder=False)\n",
    "\n",
    "# Train the model using the training sets \n",
    "xgb.fit(train_x, train_y)"
   ]
  },
  {
   "cell_type": "code",
   "execution_count": 17,
   "id": "7199b473",
   "metadata": {
    "execution": {
     "iopub.execute_input": "2022-04-27T16:41:32.351987Z",
     "iopub.status.busy": "2022-04-27T16:41:32.351649Z",
     "iopub.status.idle": "2022-04-27T16:41:32.902678Z",
     "shell.execute_reply": "2022-04-27T16:41:32.902002Z"
    },
    "papermill": {
     "duration": 0.584071,
     "end_time": "2022-04-27T16:41:32.905082",
     "exception": false,
     "start_time": "2022-04-27T16:41:32.321011",
     "status": "completed"
    },
    "tags": []
   },
   "outputs": [],
   "source": [
    "# Make predictions for test data\n",
    "y_pred = xgb.predict(test_x)"
   ]
  },
  {
   "cell_type": "code",
   "execution_count": 18,
   "id": "6cec1664",
   "metadata": {
    "execution": {
     "iopub.execute_input": "2022-04-27T16:41:32.964236Z",
     "iopub.status.busy": "2022-04-27T16:41:32.963946Z",
     "iopub.status.idle": "2022-04-27T16:41:32.978110Z",
     "shell.execute_reply": "2022-04-27T16:41:32.977252Z"
    },
    "papermill": {
     "duration": 0.045668,
     "end_time": "2022-04-27T16:41:32.980538",
     "exception": false,
     "start_time": "2022-04-27T16:41:32.934870",
     "status": "completed"
    },
    "tags": []
   },
   "outputs": [
    {
     "name": "stdout",
     "output_type": "stream",
     "text": [
      "Accuracy score: 0.8863127923530608\n",
      "Precision score: 0.8945845390657297\n",
      "Recall score: 0.8768233387358185\n"
     ]
    }
   ],
   "source": [
    "# Evaluate predictions\n",
    "print(\"Accuracy score:\", metrics.accuracy_score(test_y, y_pred))\n",
    "# Precision, Recall and Roc_AUC score\n",
    "print(\"Precision score:\", metrics.precision_score(test_y, y_pred))\n",
    "print(\"Recall score:\", metrics.recall_score(test_y, y_pred))\n",
    "#print(\"ROC_AUC score:\", metrics.roc_auc_score(test_y, y_pred))"
   ]
  },
  {
   "cell_type": "markdown",
   "id": "00867704",
   "metadata": {
    "papermill": {
     "duration": 0.028327,
     "end_time": "2022-04-27T16:41:33.037220",
     "exception": false,
     "start_time": "2022-04-27T16:41:33.008893",
     "status": "completed"
    },
    "tags": []
   },
   "source": [
    "### Confusion matrix"
   ]
  },
  {
   "cell_type": "code",
   "execution_count": 19,
   "id": "2c17c466",
   "metadata": {
    "execution": {
     "iopub.execute_input": "2022-04-27T16:41:33.097695Z",
     "iopub.status.busy": "2022-04-27T16:41:33.096732Z",
     "iopub.status.idle": "2022-04-27T16:41:33.914606Z",
     "shell.execute_reply": "2022-04-27T16:41:33.913649Z"
    },
    "papermill": {
     "duration": 0.850433,
     "end_time": "2022-04-27T16:41:33.917015",
     "exception": false,
     "start_time": "2022-04-27T16:41:33.066582",
     "status": "completed"
    },
    "tags": []
   },
   "outputs": [
    {
     "name": "stderr",
     "output_type": "stream",
     "text": [
      "/opt/conda/lib/python3.7/site-packages/sklearn/utils/deprecation.py:87: FutureWarning: Function plot_confusion_matrix is deprecated; Function `plot_confusion_matrix` is deprecated in 1.0 and will be removed in 1.2. Use one of the class methods: ConfusionMatrixDisplay.from_predictions or ConfusionMatrixDisplay.from_estimator.\n",
      "  warnings.warn(msg, category=FutureWarning)\n"
     ]
    },
    {
     "data": {
      "image/png": "[encoded data removed]",
      "text/plain": [
       "<Figure size 432x288 with 2 Axes>"
      ]
     },
     "metadata": {
      "needs_background": "light"
     },
     "output_type": "display_data"
    }
   ],
   "source": [
    "plot_confusion_matrix(xgb, test_x, test_y)  \n",
    "plt.show()\n",
    "\n",
    "#plt.savefig('confmatrix_g1_uneven.png', dpi=300, bbox_inches='tight', transparent=True)"
   ]
  }
 ],
 "metadata": {
  "kernelspec": {
   "display_name": "Python 3",
   "language": "python",
   "name": "python3"
  },
  "language_info": {
   "codemirror_mode": {
    "name": "ipython",
    "version": 3
   },
   "file_extension": ".py",
   "mimetype": "text/x-python",
   "name": "python",
   "nbconvert_exporter": "python",
   "pygments_lexer": "ipython3",
   "version": "3.7.12"
  },
  "papermill": {
   "default_parameters": {},
   "duration": 823.338447,
   "end_time": "2022-04-27T16:41:35.072773",
   "environment_variables": {},
   "exception": null,
   "input_path": "__notebook__.ipynb",
   "output_path": "__notebook__.ipynb",
   "parameters": {},
   "start_time": "2022-04-27T16:27:51.734326",
   "version": "2.3.4"
  }
 },
 "nbformat": 4,
 "nbformat_minor": 5
}
