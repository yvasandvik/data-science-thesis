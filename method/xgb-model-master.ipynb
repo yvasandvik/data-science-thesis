{
 "cells": [
  {
   "cell_type": "markdown",
   "metadata": {},
   "source": [
    "# XGBoost Model"
   ]
  },
  {
   "cell_type": "markdown",
   "metadata": {},
   "source": [
    "## Imports"
   ]
  },
  {
   "cell_type": "code",
   "execution_count": 1,
   "metadata": {
    "execution": {
     "iopub.execute_input": "2022-02-18T11:33:27.265038Z",
     "iopub.status.busy": "2022-02-18T11:33:27.264809Z",
     "iopub.status.idle": "2022-02-18T11:33:28.373212Z",
     "shell.execute_reply": "2022-02-18T11:33:28.372392Z",
     "shell.execute_reply.started": "2022-02-18T11:33:27.264976Z"
    }
   },
   "outputs": [],
   "source": [
    "# Preprocessing and encoding variables\n",
    "import pandas as pd\n",
    "import numpy as np\n",
    "from scipy.stats import uniform, randint\n",
    "\n",
    "# Using Skicit-learn to split data into training and testing sets\n",
    "\n",
    "from sklearn import preprocessing\n",
    "from sklearn.model_selection import train_test_split\n",
    "\n",
    "# Import the classifier we are using\n",
    "import xgboost as xgb\n",
    "from xgboost import XGBClassifier\n",
    "\n",
    "# Import scikit-learn metrics module for accuracy calculation\n",
    "from sklearn import metrics\n",
    "\n",
    "# Visualising feature importance and making plots\n",
    "import matplotlib.pyplot as plt\n",
    "import seaborn as sns\n",
    "\n",
    "# Hyperparameter tuning\n",
    "from sklearn.model_selection import RandomizedSearchCV\n",
    "\n",
    "# Confusion matrix\n",
    "from sklearn.metrics import accuracy_score, confusion_matrix, plot_confusion_matrix, precision_score, recall_score, roc_auc_score"
   ]
  },
  {
   "cell_type": "markdown",
   "metadata": {},
   "source": [
    "## Import multiple genomes"
   ]
  },
  {
   "cell_type": "code",
   "execution_count": 2,
   "metadata": {
    "execution": {
     "iopub.execute_input": "2022-02-18T11:33:28.375134Z",
     "iopub.status.busy": "2022-02-18T11:33:28.374849Z",
     "iopub.status.idle": "2022-02-18T11:37:00.541247Z",
     "shell.execute_reply": "2022-02-18T11:37:00.540423Z",
     "shell.execute_reply.started": "2022-02-18T11:33:28.375097Z"
    }
   },
   "outputs": [],
   "source": [
    "G1 = pd.read_csv('~/Documents/NMBU/Semester 12/Data Science Master/data-science-thesis/data_expo/G1.features.csv').iloc[:, 1:]\n",
    "G2 = pd.read_csv('~/Documents/NMBU/Semester 12/Data Science Master/data-science-thesis/data_expo/G2.features.csv').iloc[:, 1:]\n",
    "G3 = pd.read_csv('~/Documents/NMBU/Semester 12/Data Science Master/data-science-thesis/data_expo/G3.features.csv').iloc[:, 1:]\n",
    "G4 = pd.read_csv('~/Documents/NMBU/Semester 12/Data Science Master/data-science-thesis/data_expo/G4.features.csv').iloc[:, 1:]\n",
    "G5 = pd.read_csv('~/Documents/NMBU/Semester 12/Data Science Master/data-science-thesis/data_expo/G5.features.csv').iloc[:, 1:]"
   ]
  },
  {
   "cell_type": "code",
   "execution_count": 3,
   "metadata": {
    "execution": {
     "iopub.execute_input": "2022-02-18T11:37:00.542730Z",
     "iopub.status.busy": "2022-02-18T11:37:00.542478Z",
     "iopub.status.idle": "2022-02-18T11:37:01.952942Z",
     "shell.execute_reply": "2022-02-18T11:37:01.952024Z",
     "shell.execute_reply.started": "2022-02-18T11:37:00.542697Z"
    }
   },
   "outputs": [],
   "source": [
    "G1 = G1.sample(3000)\n",
    "G2 = G2.sample(3000)\n",
    "G3 = G3.sample(3000)\n",
    "G4 = G4.sample(3000)\n",
    "G5 = G5.sample(3000)"
   ]
  },
  {
   "cell_type": "code",
   "execution_count": 4,
   "metadata": {
    "execution": {
     "iopub.execute_input": "2022-02-18T11:37:01.955738Z",
     "iopub.status.busy": "2022-02-18T11:37:01.955450Z",
     "iopub.status.idle": "2022-02-18T11:37:05.749237Z",
     "shell.execute_reply": "2022-02-18T11:37:05.748524Z",
     "shell.execute_reply.started": "2022-02-18T11:37:01.955700Z"
    }
   },
   "outputs": [
    {
     "data": {
      "text/html": [
       "<div>\n",
       "<style scoped>\n",
       "    .dataframe tbody tr th:only-of-type {\n",
       "        vertical-align: middle;\n",
       "    }\n",
       "\n",
       "    .dataframe tbody tr th {\n",
       "        vertical-align: top;\n",
       "    }\n",
       "\n",
       "    .dataframe thead th {\n",
       "        text-align: right;\n",
       "    }\n",
       "</style>\n",
       "<table border=\"1\" class=\"dataframe\">\n",
       "  <thead>\n",
       "    <tr style=\"text-align: right;\">\n",
       "      <th></th>\n",
       "      <th>Type</th>\n",
       "      <th>Length</th>\n",
       "      <th>Dataset</th>\n",
       "      <th>Genome</th>\n",
       "      <th>GC_content</th>\n",
       "      <th>GC1_content</th>\n",
       "      <th>GC2_content</th>\n",
       "      <th>GC3_content</th>\n",
       "      <th>Start_ATG</th>\n",
       "      <th>Start_GTG</th>\n",
       "      <th>...</th>\n",
       "      <th>c_weight_TCG</th>\n",
       "      <th>c_weight_TCT</th>\n",
       "      <th>c_weight_TGA</th>\n",
       "      <th>c_weight_TGC</th>\n",
       "      <th>c_weight_TGG</th>\n",
       "      <th>c_weight_TGT</th>\n",
       "      <th>c_weight_TTA</th>\n",
       "      <th>c_weight_TTC</th>\n",
       "      <th>c_weight_TTG</th>\n",
       "      <th>c_weight_TTT</th>\n",
       "    </tr>\n",
       "  </thead>\n",
       "  <tbody>\n",
       "    <tr>\n",
       "      <th>2570</th>\n",
       "      <td>LORF</td>\n",
       "      <td>714</td>\n",
       "      <td>1</td>\n",
       "      <td>Campylobacter jejuni</td>\n",
       "      <td>0.508475</td>\n",
       "      <td>0.618644</td>\n",
       "      <td>0.436441</td>\n",
       "      <td>0.470339</td>\n",
       "      <td>1</td>\n",
       "      <td>0</td>\n",
       "      <td>...</td>\n",
       "      <td>0.400000</td>\n",
       "      <td>0.200000</td>\n",
       "      <td>1.0</td>\n",
       "      <td>0.75</td>\n",
       "      <td>1</td>\n",
       "      <td>0.25</td>\n",
       "      <td>0.280000</td>\n",
       "      <td>0.375000</td>\n",
       "      <td>0.080000</td>\n",
       "      <td>0.625000</td>\n",
       "    </tr>\n",
       "    <tr>\n",
       "      <th>2154</th>\n",
       "      <td>LORF</td>\n",
       "      <td>477</td>\n",
       "      <td>1</td>\n",
       "      <td>Campylobacter jejuni</td>\n",
       "      <td>0.430736</td>\n",
       "      <td>0.461039</td>\n",
       "      <td>0.376623</td>\n",
       "      <td>0.454545</td>\n",
       "      <td>0</td>\n",
       "      <td>0</td>\n",
       "      <td>...</td>\n",
       "      <td>0.272727</td>\n",
       "      <td>0.181818</td>\n",
       "      <td>0.0</td>\n",
       "      <td>0.00</td>\n",
       "      <td>1</td>\n",
       "      <td>0.00</td>\n",
       "      <td>0.392857</td>\n",
       "      <td>0.363636</td>\n",
       "      <td>0.142857</td>\n",
       "      <td>0.636364</td>\n",
       "    </tr>\n",
       "    <tr>\n",
       "      <th>786</th>\n",
       "      <td>LORF</td>\n",
       "      <td>108</td>\n",
       "      <td>1</td>\n",
       "      <td>Campylobacter jejuni</td>\n",
       "      <td>0.419048</td>\n",
       "      <td>0.400000</td>\n",
       "      <td>0.457143</td>\n",
       "      <td>0.400000</td>\n",
       "      <td>0</td>\n",
       "      <td>0</td>\n",
       "      <td>...</td>\n",
       "      <td>0.000000</td>\n",
       "      <td>0.400000</td>\n",
       "      <td>1.0</td>\n",
       "      <td>0.00</td>\n",
       "      <td>0</td>\n",
       "      <td>0.00</td>\n",
       "      <td>0.500000</td>\n",
       "      <td>0.666667</td>\n",
       "      <td>0.000000</td>\n",
       "      <td>0.333333</td>\n",
       "    </tr>\n",
       "    <tr>\n",
       "      <th>3388</th>\n",
       "      <td>CDS</td>\n",
       "      <td>1434</td>\n",
       "      <td>1</td>\n",
       "      <td>Campylobacter jejuni</td>\n",
       "      <td>0.437238</td>\n",
       "      <td>0.548117</td>\n",
       "      <td>0.357741</td>\n",
       "      <td>0.405858</td>\n",
       "      <td>1</td>\n",
       "      <td>0</td>\n",
       "      <td>...</td>\n",
       "      <td>0.130435</td>\n",
       "      <td>0.173913</td>\n",
       "      <td>0.0</td>\n",
       "      <td>0.00</td>\n",
       "      <td>1</td>\n",
       "      <td>1.00</td>\n",
       "      <td>0.390244</td>\n",
       "      <td>0.350000</td>\n",
       "      <td>0.121951</td>\n",
       "      <td>0.650000</td>\n",
       "    </tr>\n",
       "    <tr>\n",
       "      <th>1142</th>\n",
       "      <td>LORF</td>\n",
       "      <td>147</td>\n",
       "      <td>1</td>\n",
       "      <td>Campylobacter jejuni</td>\n",
       "      <td>0.387755</td>\n",
       "      <td>0.346939</td>\n",
       "      <td>0.367347</td>\n",
       "      <td>0.448980</td>\n",
       "      <td>0</td>\n",
       "      <td>1</td>\n",
       "      <td>...</td>\n",
       "      <td>0.000000</td>\n",
       "      <td>0.000000</td>\n",
       "      <td>0.0</td>\n",
       "      <td>0.00</td>\n",
       "      <td>1</td>\n",
       "      <td>0.00</td>\n",
       "      <td>0.000000</td>\n",
       "      <td>0.750000</td>\n",
       "      <td>0.500000</td>\n",
       "      <td>0.250000</td>\n",
       "    </tr>\n",
       "    <tr>\n",
       "      <th>1395</th>\n",
       "      <td>LORF</td>\n",
       "      <td>213</td>\n",
       "      <td>1</td>\n",
       "      <td>Campylobacter jejuni</td>\n",
       "      <td>0.371429</td>\n",
       "      <td>0.371429</td>\n",
       "      <td>0.285714</td>\n",
       "      <td>0.457143</td>\n",
       "      <td>1</td>\n",
       "      <td>0</td>\n",
       "      <td>...</td>\n",
       "      <td>0.000000</td>\n",
       "      <td>0.000000</td>\n",
       "      <td>0.0</td>\n",
       "      <td>0.00</td>\n",
       "      <td>1</td>\n",
       "      <td>0.00</td>\n",
       "      <td>0.176471</td>\n",
       "      <td>0.333333</td>\n",
       "      <td>0.294118</td>\n",
       "      <td>0.666667</td>\n",
       "    </tr>\n",
       "    <tr>\n",
       "      <th>55</th>\n",
       "      <td>LORF</td>\n",
       "      <td>45</td>\n",
       "      <td>2</td>\n",
       "      <td>Campylobacter jejuni</td>\n",
       "      <td>0.421053</td>\n",
       "      <td>0.315789</td>\n",
       "      <td>0.421053</td>\n",
       "      <td>0.526316</td>\n",
       "      <td>1</td>\n",
       "      <td>0</td>\n",
       "      <td>...</td>\n",
       "      <td>0.000000</td>\n",
       "      <td>0.000000</td>\n",
       "      <td>0.0</td>\n",
       "      <td>0.00</td>\n",
       "      <td>1</td>\n",
       "      <td>0.00</td>\n",
       "      <td>0.000000</td>\n",
       "      <td>0.000000</td>\n",
       "      <td>0.000000</td>\n",
       "      <td>1.000000</td>\n",
       "    </tr>\n",
       "    <tr>\n",
       "      <th>2585</th>\n",
       "      <td>CDS</td>\n",
       "      <td>720</td>\n",
       "      <td>1</td>\n",
       "      <td>Campylobacter jejuni</td>\n",
       "      <td>0.459722</td>\n",
       "      <td>0.466667</td>\n",
       "      <td>0.400000</td>\n",
       "      <td>0.512500</td>\n",
       "      <td>1</td>\n",
       "      <td>0</td>\n",
       "      <td>...</td>\n",
       "      <td>0.176471</td>\n",
       "      <td>0.117647</td>\n",
       "      <td>0.0</td>\n",
       "      <td>1.00</td>\n",
       "      <td>1</td>\n",
       "      <td>0.00</td>\n",
       "      <td>0.300000</td>\n",
       "      <td>0.411765</td>\n",
       "      <td>0.250000</td>\n",
       "      <td>0.588235</td>\n",
       "    </tr>\n",
       "    <tr>\n",
       "      <th>2372</th>\n",
       "      <td>CDS</td>\n",
       "      <td>594</td>\n",
       "      <td>1</td>\n",
       "      <td>Campylobacter jejuni</td>\n",
       "      <td>0.407407</td>\n",
       "      <td>0.449495</td>\n",
       "      <td>0.348485</td>\n",
       "      <td>0.424242</td>\n",
       "      <td>1</td>\n",
       "      <td>0</td>\n",
       "      <td>...</td>\n",
       "      <td>0.000000</td>\n",
       "      <td>0.000000</td>\n",
       "      <td>0.0</td>\n",
       "      <td>0.00</td>\n",
       "      <td>1</td>\n",
       "      <td>0.00</td>\n",
       "      <td>0.545455</td>\n",
       "      <td>0.428571</td>\n",
       "      <td>0.151515</td>\n",
       "      <td>0.571429</td>\n",
       "    </tr>\n",
       "    <tr>\n",
       "      <th>1304</th>\n",
       "      <td>LORF</td>\n",
       "      <td>186</td>\n",
       "      <td>2</td>\n",
       "      <td>Campylobacter jejuni</td>\n",
       "      <td>0.469945</td>\n",
       "      <td>0.590164</td>\n",
       "      <td>0.377049</td>\n",
       "      <td>0.442623</td>\n",
       "      <td>1</td>\n",
       "      <td>0</td>\n",
       "      <td>...</td>\n",
       "      <td>0.000000</td>\n",
       "      <td>0.000000</td>\n",
       "      <td>0.0</td>\n",
       "      <td>0.00</td>\n",
       "      <td>0</td>\n",
       "      <td>0.00</td>\n",
       "      <td>0.400000</td>\n",
       "      <td>0.000000</td>\n",
       "      <td>0.000000</td>\n",
       "      <td>1.000000</td>\n",
       "    </tr>\n",
       "  </tbody>\n",
       "</table>\n",
       "<p>10 rows × 14791 columns</p>\n",
       "</div>"
      ],
      "text/plain": [
       "      Type  Length  Dataset                Genome  GC_content  GC1_content  \\\n",
       "2570  LORF     714        1  Campylobacter jejuni    0.508475     0.618644   \n",
       "2154  LORF     477        1  Campylobacter jejuni    0.430736     0.461039   \n",
       "786   LORF     108        1  Campylobacter jejuni    0.419048     0.400000   \n",
       "3388   CDS    1434        1  Campylobacter jejuni    0.437238     0.548117   \n",
       "1142  LORF     147        1  Campylobacter jejuni    0.387755     0.346939   \n",
       "1395  LORF     213        1  Campylobacter jejuni    0.371429     0.371429   \n",
       "55    LORF      45        2  Campylobacter jejuni    0.421053     0.315789   \n",
       "2585   CDS     720        1  Campylobacter jejuni    0.459722     0.466667   \n",
       "2372   CDS     594        1  Campylobacter jejuni    0.407407     0.449495   \n",
       "1304  LORF     186        2  Campylobacter jejuni    0.469945     0.590164   \n",
       "\n",
       "      GC2_content  GC3_content  Start_ATG  Start_GTG  ...  c_weight_TCG  \\\n",
       "2570     0.436441     0.470339          1          0  ...      0.400000   \n",
       "2154     0.376623     0.454545          0          0  ...      0.272727   \n",
       "786      0.457143     0.400000          0          0  ...      0.000000   \n",
       "3388     0.357741     0.405858          1          0  ...      0.130435   \n",
       "1142     0.367347     0.448980          0          1  ...      0.000000   \n",
       "1395     0.285714     0.457143          1          0  ...      0.000000   \n",
       "55       0.421053     0.526316          1          0  ...      0.000000   \n",
       "2585     0.400000     0.512500          1          0  ...      0.176471   \n",
       "2372     0.348485     0.424242          1          0  ...      0.000000   \n",
       "1304     0.377049     0.442623          1          0  ...      0.000000   \n",
       "\n",
       "      c_weight_TCT  c_weight_TGA  c_weight_TGC  c_weight_TGG  c_weight_TGT  \\\n",
       "2570      0.200000           1.0          0.75             1          0.25   \n",
       "2154      0.181818           0.0          0.00             1          0.00   \n",
       "786       0.400000           1.0          0.00             0          0.00   \n",
       "3388      0.173913           0.0          0.00             1          1.00   \n",
       "1142      0.000000           0.0          0.00             1          0.00   \n",
       "1395      0.000000           0.0          0.00             1          0.00   \n",
       "55        0.000000           0.0          0.00             1          0.00   \n",
       "2585      0.117647           0.0          1.00             1          0.00   \n",
       "2372      0.000000           0.0          0.00             1          0.00   \n",
       "1304      0.000000           0.0          0.00             0          0.00   \n",
       "\n",
       "      c_weight_TTA  c_weight_TTC  c_weight_TTG  c_weight_TTT  \n",
       "2570      0.280000      0.375000      0.080000      0.625000  \n",
       "2154      0.392857      0.363636      0.142857      0.636364  \n",
       "786       0.500000      0.666667      0.000000      0.333333  \n",
       "3388      0.390244      0.350000      0.121951      0.650000  \n",
       "1142      0.000000      0.750000      0.500000      0.250000  \n",
       "1395      0.176471      0.333333      0.294118      0.666667  \n",
       "55        0.000000      0.000000      0.000000      1.000000  \n",
       "2585      0.300000      0.411765      0.250000      0.588235  \n",
       "2372      0.545455      0.428571      0.151515      0.571429  \n",
       "1304      0.400000      0.000000      0.000000      1.000000  \n",
       "\n",
       "[10 rows x 14791 columns]"
      ]
     },
     "execution_count": 4,
     "metadata": {},
     "output_type": "execute_result"
    }
   ],
   "source": [
    "frames = [G1, G2, G3, G4, G5]\n",
    "df = pd.concat(frames)\n",
    "df.tail(10)"
   ]
  },
  {
   "cell_type": "code",
   "execution_count": 5,
   "metadata": {
    "execution": {
     "iopub.execute_input": "2022-02-18T11:37:05.751414Z",
     "iopub.status.busy": "2022-02-18T11:37:05.750344Z",
     "iopub.status.idle": "2022-02-18T11:37:05.756807Z",
     "shell.execute_reply": "2022-02-18T11:37:05.755947Z",
     "shell.execute_reply.started": "2022-02-18T11:37:05.751373Z"
    }
   },
   "outputs": [
    {
     "name": "stdout",
     "output_type": "stream",
     "text": [
      "The shape of our dataframe is: (15000, 14791)\n"
     ]
    }
   ],
   "source": [
    "G = df\n",
    "print('The shape of our dataframe is:', G.shape)"
   ]
  },
  {
   "cell_type": "code",
   "execution_count": 6,
   "metadata": {
    "execution": {
     "iopub.execute_input": "2022-02-18T11:37:05.758659Z",
     "iopub.status.busy": "2022-02-18T11:37:05.758394Z",
     "iopub.status.idle": "2022-02-18T11:37:08.121363Z",
     "shell.execute_reply": "2022-02-18T11:37:08.120537Z",
     "shell.execute_reply.started": "2022-02-18T11:37:05.758624Z"
    }
   },
   "outputs": [],
   "source": [
    "G = G.dropna()"
   ]
  },
  {
   "cell_type": "code",
   "execution_count": 7,
   "metadata": {},
   "outputs": [
    {
     "name": "stdout",
     "output_type": "stream",
     "text": [
      "The shape of our dataframe is: (15000, 14791)\n"
     ]
    }
   ],
   "source": [
    "print('The shape of our dataframe is:', G.shape)"
   ]
  },
  {
   "cell_type": "markdown",
   "metadata": {},
   "source": [
    "## Import single genome"
   ]
  },
  {
   "cell_type": "code",
   "execution_count": null,
   "metadata": {},
   "outputs": [],
   "source": [
    "G = pd.read_csv('../input/genomespart2/G15.features.csv').iloc[:, 1:]"
   ]
  },
  {
   "cell_type": "code",
   "execution_count": null,
   "metadata": {},
   "outputs": [],
   "source": [
    "print(G[[\"Length\"]].mean())"
   ]
  },
  {
   "cell_type": "code",
   "execution_count": null,
   "metadata": {},
   "outputs": [],
   "source": [
    "G.tail(5)"
   ]
  },
  {
   "cell_type": "code",
   "execution_count": null,
   "metadata": {},
   "outputs": [],
   "source": [
    "print('The shape of our dataframe is:', G.shape)"
   ]
  },
  {
   "cell_type": "code",
   "execution_count": null,
   "metadata": {},
   "outputs": [],
   "source": [
    "G = G.dropna()\n",
    "print('The shape of our dataframe is:', G.shape)"
   ]
  },
  {
   "cell_type": "markdown",
   "metadata": {},
   "source": [
    "## Preprocessing"
   ]
  },
  {
   "cell_type": "markdown",
   "metadata": {},
   "source": [
    "### Encoding target variables"
   ]
  },
  {
   "cell_type": "code",
   "execution_count": 8,
   "metadata": {
    "execution": {
     "iopub.execute_input": "2022-02-18T11:39:53.318504Z",
     "iopub.status.busy": "2022-02-18T11:39:53.317666Z",
     "iopub.status.idle": "2022-02-18T11:39:53.323618Z",
     "shell.execute_reply": "2022-02-18T11:39:53.322607Z",
     "shell.execute_reply.started": "2022-02-18T11:39:53.318458Z"
    }
   },
   "outputs": [],
   "source": [
    "def encode_feature(array):\n",
    "    \"\"\" Encode a categorical array into a number array\n",
    "    \n",
    "    :param array: array to be encoded\n",
    "    :return: numerical array\n",
    "    \"\"\"\n",
    "  \n",
    "    encoder = preprocessing.LabelEncoder()\n",
    "    encoder.fit(array)\n",
    "    return encoder.transform(array)"
   ]
  },
  {
   "cell_type": "code",
   "execution_count": 9,
   "metadata": {
    "execution": {
     "iopub.execute_input": "2022-02-18T11:39:54.444919Z",
     "iopub.status.busy": "2022-02-18T11:39:54.444650Z",
     "iopub.status.idle": "2022-02-18T11:39:54.454964Z",
     "shell.execute_reply": "2022-02-18T11:39:54.454180Z",
     "shell.execute_reply.started": "2022-02-18T11:39:54.444889Z"
    }
   },
   "outputs": [
    {
     "name": "stdout",
     "output_type": "stream",
     "text": [
      "['CDS' 'LORF' 'CDS' ... 'CDS' 'CDS' 'LORF']\n"
     ]
    }
   ],
   "source": [
    "class_names = ['CDS', 'LORF']\n",
    "targets = G[\"Type\"].values\n",
    "print(targets)"
   ]
  },
  {
   "cell_type": "code",
   "execution_count": 10,
   "metadata": {
    "execution": {
     "iopub.execute_input": "2022-02-18T11:39:55.404684Z",
     "iopub.status.busy": "2022-02-18T11:39:55.404068Z",
     "iopub.status.idle": "2022-02-18T11:39:55.413946Z",
     "shell.execute_reply": "2022-02-18T11:39:55.412883Z",
     "shell.execute_reply.started": "2022-02-18T11:39:55.404642Z"
    }
   },
   "outputs": [
    {
     "name": "stdout",
     "output_type": "stream",
     "text": [
      "[0 1 0 ... 0 0 1]\n"
     ]
    }
   ],
   "source": [
    "targets = encode_feature(targets)\n",
    "print(targets)"
   ]
  },
  {
   "cell_type": "code",
   "execution_count": 11,
   "metadata": {
    "execution": {
     "iopub.execute_input": "2022-02-18T11:39:56.482590Z",
     "iopub.status.busy": "2022-02-18T11:39:56.482011Z",
     "iopub.status.idle": "2022-02-18T11:39:56.488616Z",
     "shell.execute_reply": "2022-02-18T11:39:56.487772Z",
     "shell.execute_reply.started": "2022-02-18T11:39:56.482549Z"
    }
   },
   "outputs": [
    {
     "name": "stdout",
     "output_type": "stream",
     "text": [
      "The shape of our dataframe is: (15000, 14791)\n",
      "Rows: 15000\n",
      "Columns: 14791\n"
     ]
    }
   ],
   "source": [
    "print('The shape of our dataframe is:', G.shape)\n",
    "print('Rows:', G.shape[0])\n",
    "print('Columns:', G.shape[1])"
   ]
  },
  {
   "cell_type": "markdown",
   "metadata": {},
   "source": [
    "### Selecting features and targets and converting data to arrays"
   ]
  },
  {
   "cell_type": "code",
   "execution_count": 12,
   "metadata": {
    "execution": {
     "iopub.execute_input": "2022-02-18T11:39:59.323230Z",
     "iopub.status.busy": "2022-02-18T11:39:59.322939Z",
     "iopub.status.idle": "2022-02-18T11:40:02.336828Z",
     "shell.execute_reply": "2022-02-18T11:40:02.335937Z",
     "shell.execute_reply.started": "2022-02-18T11:39:59.323197Z"
    }
   },
   "outputs": [],
   "source": [
    "# Labels are the values we want to predict\n",
    "labels = targets\n",
    "\n",
    "# Remove the labels from the features -> axis 1 refers to the columns\n",
    "features = G.drop(['Type','Genome', 'Dataset'], axis = 1)\n",
    "\n",
    "# Saving feature names as list for later use\n",
    "feature_names = list(features.columns)\n",
    "\n",
    "# Convert to numpy array\n",
    "features = np.array(features)"
   ]
  },
  {
   "cell_type": "code",
   "execution_count": 13,
   "metadata": {
    "execution": {
     "iopub.execute_input": "2022-02-18T11:40:04.378132Z",
     "iopub.status.busy": "2022-02-18T11:40:04.377562Z",
     "iopub.status.idle": "2022-02-18T11:40:04.382931Z",
     "shell.execute_reply": "2022-02-18T11:40:04.381894Z",
     "shell.execute_reply.started": "2022-02-18T11:40:04.378090Z"
    }
   },
   "outputs": [
    {
     "name": "stdout",
     "output_type": "stream",
     "text": [
      "The shape of our features are: (15000, 14788)\n"
     ]
    }
   ],
   "source": [
    "print('The shape of our features are:', features.shape)"
   ]
  },
  {
   "cell_type": "markdown",
   "metadata": {},
   "source": [
    "### Split into training and testing sets"
   ]
  },
  {
   "cell_type": "code",
   "execution_count": 14,
   "metadata": {
    "execution": {
     "iopub.execute_input": "2022-02-18T11:40:07.987221Z",
     "iopub.status.busy": "2022-02-18T11:40:07.986667Z",
     "iopub.status.idle": "2022-02-18T11:40:15.936710Z",
     "shell.execute_reply": "2022-02-18T11:40:15.935827Z",
     "shell.execute_reply.started": "2022-02-18T11:40:07.987173Z"
    }
   },
   "outputs": [],
   "source": [
    "# Split the data into training and testing sets -> x = features and y = labels/targets\n",
    "train_x, test_x, train_y, test_y = train_test_split(features, labels, test_size = 0.25, random_state = 42)"
   ]
  },
  {
   "cell_type": "code",
   "execution_count": 15,
   "metadata": {
    "execution": {
     "iopub.execute_input": "2022-02-18T11:40:17.875440Z",
     "iopub.status.busy": "2022-02-18T11:40:17.874848Z",
     "iopub.status.idle": "2022-02-18T11:40:17.886289Z",
     "shell.execute_reply": "2022-02-18T11:40:17.885407Z",
     "shell.execute_reply.started": "2022-02-18T11:40:17.875396Z"
    }
   },
   "outputs": [
    {
     "name": "stdout",
     "output_type": "stream",
     "text": [
      "Training Features Shape: (11250, 14788)\n",
      "Training Labels Shape: (11250,)\n",
      "Testing Features Shape: (3750, 14788)\n",
      "Testing Labels Shape: (3750,)\n"
     ]
    }
   ],
   "source": [
    "print('Training Features Shape:', train_x.shape)\n",
    "print('Training Labels Shape:', train_y.shape)\n",
    "print('Testing Features Shape:', test_x.shape)\n",
    "print('Testing Labels Shape:', test_y.shape)"
   ]
  },
  {
   "cell_type": "markdown",
   "metadata": {},
   "source": [
    "## Train model - default XGBoost\n",
    "\n",
    "- **learning_rate**: step size shrinkage used to prevent overfitting. Range is [0,1]\n",
    "- **max_depth**: determines how deeply each tree is allowed to grow during any boosting round.\n",
    "- **subsample**: percentage of samples used per tree. Low value can lead to underfitting.\n",
    "- **colsample_bytree**: percentage of features used per tree. High value can lead to overfitting.\n",
    "- **n_estimators**: number of trees you want to build.\n",
    "- **objective**: determines the loss function to be used like reg:linear for regression problems, reg:logistic for classification problems with only decision, binary:logistic for classification problems with probability. XGBoost also supports regularization parameters to penalize models as they become more complex and reduce them to simple (parsimonious) models.\n",
    "\n",
    "- **gamma**: controls whether a given node will split based on the expected reduction in loss after the split. A higher value leads to fewer splits. Supported only for tree-based learners.\n",
    "- **alpha**: L1 regularization on leaf weights. A large value leads to more regularization.\n",
    "- **lambda**: L2 regularization on leaf weights and is smoother than L1 regularization."
   ]
  },
  {
   "cell_type": "code",
   "execution_count": 16,
   "metadata": {
    "execution": {
     "iopub.execute_input": "2022-02-18T11:40:24.416153Z",
     "iopub.status.busy": "2022-02-18T11:40:24.415397Z"
    }
   },
   "outputs": [
    {
     "name": "stdout",
     "output_type": "stream",
     "text": [
      "[14:24:17] WARNING: /Users/runner/miniforge3/conda-bld/xgboost_1593723618214/work/src/learner.cc:480: \n",
      "Parameters: { use_label_encoder } might not be used.\n",
      "\n",
      "  This may not be accurate due to some parameters are only used in language bindings but\n",
      "  passed down to XGBoost core.  Or some parameters are not used but slip through this\n",
      "  verification. Please open an issue if you find above cases.\n",
      "\n",
      "\n"
     ]
    },
    {
     "data": {
      "text/plain": [
       "XGBClassifier(base_score=0.5, booster='gbtree', colsample_bylevel=1,\n",
       "              colsample_bynode=1, colsample_bytree=1, eval_metric='logloss',\n",
       "              gamma=0, gpu_id=-1, importance_type='gain',\n",
       "              interaction_constraints='', learning_rate=0.300000012,\n",
       "              max_delta_step=0, max_depth=6, min_child_weight=1, missing=nan,\n",
       "              monotone_constraints='()', n_estimators=100, n_jobs=0,\n",
       "              num_parallel_tree=1, random_state=42, reg_alpha=0, reg_lambda=1,\n",
       "              scale_pos_weight=1, subsample=1, tree_method='exact',\n",
       "              use_label_encoder=False, validate_parameters=1, verbosity=None)"
      ]
     },
     "execution_count": 16,
     "metadata": {},
     "output_type": "execute_result"
    }
   ],
   "source": [
    "# Create a Gaussian Classifier\n",
    "xgb = XGBClassifier(objective=\"binary:logistic\", random_state=42, eval_metric='logloss', use_label_encoder=False)\n",
    "\n",
    "# Train the model using the training sets \n",
    "xgb.fit(train_x, train_y)"
   ]
  },
  {
   "cell_type": "code",
   "execution_count": 17,
   "metadata": {},
   "outputs": [],
   "source": [
    "# Make predictions for test data\n",
    "y_pred = xgb.predict(test_x)"
   ]
  },
  {
   "cell_type": "code",
   "execution_count": 18,
   "metadata": {},
   "outputs": [
    {
     "name": "stdout",
     "output_type": "stream",
     "text": [
      "Accuracy score: 0.896\n"
     ]
    }
   ],
   "source": [
    "# Evaluate predictions\n",
    "print(\"Accuracy score:\", metrics.accuracy_score(test_y, y_pred))\n",
    "# Precision, Recall and Roc_AUC score\n",
    "#print(\"Precision score:\", metrics.precision_score(test_y, y_pred))\n",
    "#print(\"Recall score:\", metrics.recall_score(test_y, y_pred))\n",
    "#print(\"ROC_AUC score:\", metrics.roc_auc_score(test_y, y_pred))"
   ]
  },
  {
   "cell_type": "markdown",
   "metadata": {},
   "source": [
    "### Confusion matrix"
   ]
  },
  {
   "cell_type": "code",
   "execution_count": 19,
   "metadata": {},
   "outputs": [
    {
     "data": {
      "image/png": "[encoded data removed]",
      "text/plain": [
       "<Figure size 432x288 with 2 Axes>"
      ]
     },
     "metadata": {
      "needs_background": "light"
     },
     "output_type": "display_data"
    }
   ],
   "source": [
    "plot_confusion_matrix(xgb, test_x, test_y)  \n",
    "plt.show()\n",
    "\n",
    "#plt.savefig('confmatrix_g1_uneven.png', dpi=300, bbox_inches='tight', transparent=True)"
   ]
  },
  {
   "cell_type": "markdown",
   "metadata": {},
   "source": [
    "## Selected features"
   ]
  },
  {
   "cell_type": "code",
   "execution_count": 20,
   "metadata": {},
   "outputs": [],
   "source": [
    "feature_imp = pd.Series(xgb.feature_importances_, index = feature_names).sort_values(ascending=False)"
   ]
  },
  {
   "cell_type": "code",
   "execution_count": 21,
   "metadata": {},
   "outputs": [],
   "source": [
    "selected = feature_imp.iloc[0:200]"
   ]
  },
  {
   "cell_type": "code",
   "execution_count": 22,
   "metadata": {},
   "outputs": [],
   "source": [
    "selected_feat = list(selected.index)"
   ]
  },
  {
   "cell_type": "code",
   "execution_count": 23,
   "metadata": {},
   "outputs": [],
   "source": [
    "important_indices = [feature_names.index(x) for x in selected_feat]"
   ]
  },
  {
   "cell_type": "code",
   "execution_count": 24,
   "metadata": {},
   "outputs": [],
   "source": [
    "# Create a Gaussian Classifier\n",
    "xgb_select = XGBClassifier(n_estimators=30, objective=\"binary:logistic\", random_state=42, eval_metric='logloss', use_label_encoder=False)\n",
    "\n",
    "# Select most important features\n",
    "important_indices = [feature_names.index(x) for x in selected_feat]\n",
    "\n",
    "train_important = train_x[:, important_indices]\n",
    "test_important = test_x[:, important_indices]"
   ]
  },
  {
   "cell_type": "code",
   "execution_count": 25,
   "metadata": {},
   "outputs": [
    {
     "name": "stdout",
     "output_type": "stream",
     "text": [
      "[19:20:01] WARNING: /Users/runner/miniforge3/conda-bld/xgboost_1593723618214/work/src/learner.cc:480: \n",
      "Parameters: { use_label_encoder } might not be used.\n",
      "\n",
      "  This may not be accurate due to some parameters are only used in language bindings but\n",
      "  passed down to XGBoost core.  Or some parameters are not used but slip through this\n",
      "  verification. Please open an issue if you find above cases.\n",
      "\n",
      "\n"
     ]
    },
    {
     "data": {
      "text/plain": [
       "XGBClassifier(base_score=0.5, booster='gbtree', colsample_bylevel=1,\n",
       "              colsample_bynode=1, colsample_bytree=1, eval_metric='logloss',\n",
       "              gamma=0, gpu_id=-1, importance_type='gain',\n",
       "              interaction_constraints='', learning_rate=0.300000012,\n",
       "              max_delta_step=0, max_depth=6, min_child_weight=1, missing=nan,\n",
       "              monotone_constraints='()', n_estimators=30, n_jobs=0,\n",
       "              num_parallel_tree=1, random_state=42, reg_alpha=0, reg_lambda=1,\n",
       "              scale_pos_weight=1, subsample=1, tree_method='exact',\n",
       "              use_label_encoder=False, validate_parameters=1, verbosity=None)"
      ]
     },
     "execution_count": 25,
     "metadata": {},
     "output_type": "execute_result"
    }
   ],
   "source": [
    "# Train the model using the training sets \n",
    "xgb_select.fit(train_important, train_y)"
   ]
  },
  {
   "cell_type": "code",
   "execution_count": 26,
   "metadata": {},
   "outputs": [
    {
     "name": "stdout",
     "output_type": "stream",
     "text": [
      "Accuracy score: 0.8976\n",
      "Precision score: 0.9121432568550644\n",
      "Recall score: 0.8777598276790523\n",
      "ROC_AUC score: 0.8974113454295947\n"
     ]
    }
   ],
   "source": [
    "# Make predictions and determine the error\n",
    "pred_y = xgb_select.predict(test_important)\n",
    "\n",
    "# Model Accuracy, how often is the classifier correct?\n",
    "print(\"Accuracy score:\", metrics.accuracy_score(test_y, pred_y))\n",
    "# Precision, Recall and Roc_AUC score\n",
    "print(\"Precision score:\", metrics.precision_score(test_y, pred_y))\n",
    "print(\"Recall score:\", metrics.recall_score(test_y, pred_y))\n",
    "print(\"ROC_AUC score:\", metrics.roc_auc_score(test_y, pred_y))"
   ]
  },
  {
   "cell_type": "code",
   "execution_count": null,
   "metadata": {},
   "outputs": [],
   "source": []
  }
 ],
 "metadata": {
  "kernelspec": {
   "display_name": "Python 3",
   "language": "python",
   "name": "python3"
  },
  "language_info": {
   "codemirror_mode": {
    "name": "ipython",
    "version": 3
   },
   "file_extension": ".py",
   "mimetype": "text/x-python",
   "name": "python",
   "nbconvert_exporter": "python",
   "pygments_lexer": "ipython3",
   "version": "3.8.8"
  }
 },
 "nbformat": 4,
 "nbformat_minor": 4
}
